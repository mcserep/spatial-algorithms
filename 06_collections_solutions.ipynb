{
 "cells": [
  {
   "cell_type": "markdown",
   "metadata": {},
   "source": [
    "# Chapter 6: Collection data structures in Python"
   ]
  },
  {
   "cell_type": "markdown",
   "metadata": {},
   "source": [
    "In Python we have the following built-in data structures:\n",
    "* Lists\n",
    "* Dictionaries\n",
    "* Tuples\n",
    "* Sets\n",
    "\n",
    "We have already introducued the **list** data structure in [Chapter 3](03_iterations_lists_solutions.ipynb). Lists are *heterogeneous* containers for multiple items in Python."
   ]
  },
  {
   "cell_type": "markdown",
   "metadata": {},
   "source": [
    "## Dictionaries"
   ]
  },
  {
   "cell_type": "markdown",
   "metadata": {},
   "source": [
    "Unlike sequences (like *lists* in Python), which are indexed by a range of numbers, dictionaries are indexed by *keys*. It is best to think of a dictionary as a set of *key: value* pairs, with the requirement that the keys are unique (within one dictionary). A pair of braces creates an empty dictionary: `{}`. Placing a comma-separated list of *key: value* pairs within the braces adds initial *key: value* pairs to the dictionary; this is also the way dictionaries are written on output.\n",
    "\n",
    "Dictionaries are sometimes found in other languages as *associative arrays*."
   ]
  },
  {
   "cell_type": "markdown",
   "metadata": {},
   "source": [
    "**Example:** let's create a shopping list with the name of products as keys and quantities as values:"
   ]
  },
  {
   "cell_type": "code",
   "execution_count": null,
   "metadata": {},
   "outputs": [],
   "source": [
    "shopping_list = {'apple': 6, 'bread': 2, 'milk': 6, 'butter': 1}\n",
    "print(shopping_list)"
   ]
  },
  {
   "cell_type": "markdown",
   "metadata": {},
   "source": [
    "**Example:** let's create a dictionary with the name of countries as keys and their capital cities as values:"
   ]
  },
  {
   "cell_type": "code",
   "execution_count": null,
   "metadata": {},
   "outputs": [],
   "source": [
    "capitals = {\n",
    "    'Aland Islands': 'Mariehamn',\n",
    "    'Albania': 'Tirana',\n",
    "    'Andorra': 'Andorra la Vella',\n",
    "    'Armenia': 'Yerevan',\n",
    "    'Austria': 'Vienna',\n",
    "    'Azerbaijan': 'Baku',\n",
    "    'Belarus': 'Minsk',\n",
    "    'Belgium': 'Brussels',\n",
    "    'Bosnia and Herzegovina': 'Sarajevo',\n",
    "    'Bulgaria': 'Sofia',\n",
    "    'Croatia': 'Zagreb',\n",
    "    'Cyprus': 'Nicosia',\n",
    "    'Czech Republic': 'Prague',\n",
    "    'Denmark': 'Copenhagen',\n",
    "    'Estonia': 'Tallinn',\n",
    "    'Faroe Islands': 'Torshavn',\n",
    "    'Finland': 'Helsinki',\n",
    "    'France': 'Paris',\n",
    "    'Georgia': 'Tbilisi',\n",
    "    'Germany': 'Berlin',\n",
    "    'Gibraltar': 'Gibraltar',\n",
    "    'Greece': 'Athens',\n",
    "    'Guernsey': 'Saint Peter Port',\n",
    "    'Vatican City': 'Vatican City',\n",
    "    'Hungary': 'Budapest',\n",
    "    'Iceland': 'Reykjavik',\n",
    "    'Ireland': 'Dublin',\n",
    "    'Isle of Man': 'Douglas',\n",
    "    'Italy': 'Rome',\n",
    "    'Jersey': 'Saint Helier',\n",
    "    'Kosovo': 'Pristina',\n",
    "    'Latvia': 'Riga',\n",
    "    'Liechtenstein': 'Vaduz',\n",
    "    'Lithuania': 'Vilnius',\n",
    "    'Luxembourg': 'Luxembourg',\n",
    "    'Macedonia': 'Skopje',\n",
    "    'Malta': 'Valletta',\n",
    "    'Moldova': 'Chisinau',\n",
    "    'Monaco': 'Monaco',\n",
    "    'Montenegro': 'Podgorica',\n",
    "    'Netherlands': 'Amsterdam',\n",
    "    'Norway': 'Oslo',\n",
    "    'Poland': 'Warsaw',\n",
    "    'Portugal': 'Lisbon',\n",
    "    'Romania': 'Bucharest',\n",
    "    'Russia': 'Moscow',\n",
    "    'San Marino': 'San Marino',\n",
    "    'Serbia': 'Belgrade',\n",
    "    'Slovakia': 'Bratislava',\n",
    "    'Slovenia': 'Ljubljana',\n",
    "    'Spain': 'Madrid',\n",
    "    'Svalbard': 'Longyearbyen',\n",
    "    'Sweden': 'Stockholm',\n",
    "    'Switzerland': 'Bern',\n",
    "    'Turkey': 'Ankara',\n",
    "    'Ukraine': 'Kyiv',\n",
    "    'United Kingdom': 'London',\n",
    "    'Northern Cyprus': 'North Nicosia'\n",
    "}\n",
    "print(capitals)"
   ]
  },
  {
   "cell_type": "markdown",
   "metadata": {},
   "source": [
    "Elements of a dictionary can be accessed through their key:"
   ]
  },
  {
   "cell_type": "code",
   "execution_count": null,
   "metadata": {},
   "outputs": [],
   "source": [
    "print(capitals['Hungary'])"
   ]
  },
  {
   "cell_type": "markdown",
   "metadata": {},
   "source": [
    "Dictionaries are mutable, so the values can be modified:"
   ]
  },
  {
   "cell_type": "code",
   "execution_count": null,
   "metadata": {},
   "outputs": [],
   "source": [
    "capitals['Hungary'] = 'Esztergom' # old capital city of Hungary between the 11-13th century\n",
    "print(capitals['Hungary'])\n",
    "\n",
    "capitals['Hungary'] = 'Budapest'\n",
    "print(capitals['Hungary'])"
   ]
  },
  {
   "cell_type": "markdown",
   "metadata": {},
   "source": [
    "Dictionaries can also be extended with new elements (*key: value* pairs):"
   ]
  },
  {
   "cell_type": "code",
   "execution_count": null,
   "metadata": {},
   "outputs": [],
   "source": [
    "capitals['USA'] = 'Washington'\n",
    "print(capitals['USA'])"
   ]
  },
  {
   "cell_type": "markdown",
   "metadata": {},
   "source": [
    "Removing or deleting existing elements is also possible:"
   ]
  },
  {
   "cell_type": "code",
   "execution_count": null,
   "metadata": {},
   "outputs": [],
   "source": [
    "del capitals['USA'] # deleting, because not in Europe\n",
    "print(capitals['USA'])"
   ]
  },
  {
   "cell_type": "markdown",
   "metadata": {},
   "source": [
    "---"
   ]
  },
  {
   "cell_type": "markdown",
   "metadata": {},
   "source": [
    "## Tuples"
   ]
  },
  {
   "cell_type": "markdown",
   "metadata": {},
   "source": [
    "Tuples are a sequence of heterogeneous elements, similarly like *lists*. Its initial elements are defined as a comma separated list, surrounded by parentheses.\n",
    "\n",
    "**Note:** lists are surrounded by brackets!"
   ]
  },
  {
   "cell_type": "code",
   "execution_count": null,
   "metadata": {},
   "outputs": [],
   "source": [
    "neighbours = ('Austria', 'Slovakia', 'Ukraine', 'Romania', 'Serbia', 'Croatia', 'Slovenia')\n",
    "print(neighbours)"
   ]
  },
  {
   "cell_type": "markdown",
   "metadata": {},
   "source": [
    "The items of a list can be accessed by the numerical indexes. (The first item is indexed with *zero*.)"
   ]
  },
  {
   "cell_type": "code",
   "execution_count": null,
   "metadata": {},
   "outputs": [],
   "source": [
    "print(neighbours[0])\n",
    "print(neighbours[2:5])\n",
    "print(len(neighbours))"
   ]
  },
  {
   "cell_type": "markdown",
   "metadata": {},
   "source": [
    "The elements of tuple can also be fetched by *tuple unpacking*, which means that the items of a tuple are extracted into distinct variables:"
   ]
  },
  {
   "cell_type": "code",
   "execution_count": null,
   "metadata": {},
   "outputs": [],
   "source": [
    "a, b, c, d, e, f, g = neighbours\n",
    "print(a, b, c, d, e, f, g)"
   ]
  },
  {
   "cell_type": "markdown",
   "metadata": {},
   "source": [
    "Through *tuple packing*, we can create a **new** tuple with its elements defined:"
   ]
  },
  {
   "cell_type": "code",
   "execution_count": null,
   "metadata": {},
   "outputs": [],
   "source": [
    "neighbours2 = (a, b, c, d, e, f, g)\n",
    "print(neighbours == neighbours2)"
   ]
  },
  {
   "cell_type": "markdown",
   "metadata": {},
   "source": [
    "While lists are mutable, tuples are immutable, meaning that the elements cannot be modified:"
   ]
  },
  {
   "cell_type": "code",
   "execution_count": null,
   "metadata": {},
   "outputs": [],
   "source": [
    "neighbours[0] = 'Renamed country'"
   ]
  },
  {
   "cell_type": "markdown",
   "metadata": {},
   "source": [
    "New elements can neither be added to a tuple. Removing existing elements is also not possible."
   ]
  },
  {
   "cell_type": "code",
   "execution_count": null,
   "metadata": {},
   "outputs": [],
   "source": [
    "neighbours.append('New country')"
   ]
  },
  {
   "cell_type": "markdown",
   "metadata": {},
   "source": [
    "Though tuples may seem similar to lists, they are often used in different situations and for different purposes. Tuples are immutable, and usually contain a heterogeneous sequence of elements. Lists are mutable, and their elements are usually homogeneous and are accessed by iterating over the list."
   ]
  },
  {
   "cell_type": "markdown",
   "metadata": {},
   "source": [
    "We could see that lists, tuples and even strings have many common properties, such as indexing and slicing operations. They are **sequence data types**."
   ]
  },
  {
   "cell_type": "markdown",
   "metadata": {},
   "source": [
    "---"
   ]
  },
  {
   "cell_type": "markdown",
   "metadata": {},
   "source": [
    "## Dictionary as a list of tuples"
   ]
  },
  {
   "cell_type": "markdown",
   "metadata": {},
   "source": [
    "The `dict()` constructor builds dictionaries directly from sequences of key-value pairs. The dictionary in this case is build from a list tuples, each tuple containing precisely two elements: a key and a value, in this order."
   ]
  },
  {
   "cell_type": "code",
   "execution_count": null,
   "metadata": {},
   "outputs": [],
   "source": [
    "capitals = dict([\n",
    "    ('Aland Islands', 'Mariehamn'),\n",
    "    ('Albania', 'Tirana'),\n",
    "    ('Andorra', 'Andorra la Vella'),\n",
    "    ('Armenia', 'Yerevan'),\n",
    "    ('Austria', 'Vienna'),\n",
    "    ('Azerbaijan', 'Baku'),\n",
    "    ('Belarus', 'Minsk'),\n",
    "    ('Belgium', 'Brussels'),\n",
    "    ('Bosnia and Herzegovina', 'Sarajevo'),\n",
    "    ('Bulgaria', 'Sofia'),\n",
    "    ('Croatia', 'Zagreb'),\n",
    "    ('Cyprus', 'Nicosia'),\n",
    "    ('Czech Republic', 'Prague'),\n",
    "    ('Denmark', 'Copenhagen'),\n",
    "    ('Estonia', 'Tallinn'),\n",
    "    ('Faroe Islands', 'Torshavn'),\n",
    "    ('Finland', 'Helsinki'),\n",
    "    ('France', 'Paris'),\n",
    "    ('Georgia', 'Tbilisi'),\n",
    "    ('Germany', 'Berlin'),\n",
    "    ('Gibraltar', 'Gibraltar'),\n",
    "    ('Greece', 'Athens'),\n",
    "    ('Guernsey', 'Saint Peter Port'),\n",
    "    ('Vatican City', 'Vatican City'),\n",
    "    ('Hungary', 'Budapest'),\n",
    "    ('Iceland', 'Reykjavik'),\n",
    "    ('Ireland', 'Dublin'),\n",
    "    ('Isle of Man', 'Douglas'),\n",
    "    ('Italy', 'Rome'),\n",
    "    ('Jersey', 'Saint Helier'),\n",
    "    ('Kosovo', 'Pristina'),\n",
    "    ('Latvia', 'Riga'),\n",
    "    ('Liechtenstein', 'Vaduz'),\n",
    "    ('Lithuania', 'Vilnius'),\n",
    "    ('Luxembourg', 'Luxembourg'),\n",
    "    ('Macedonia', 'Skopje'),\n",
    "    ('Malta', 'Valletta'),\n",
    "    ('Moldova', 'Chisinau'),\n",
    "    ('Monaco', 'Monaco'),\n",
    "    ('Montenegro', 'Podgorica'),\n",
    "    ('Netherlands', 'Amsterdam'),\n",
    "    ('Norway', 'Oslo'),\n",
    "    ('Poland', 'Warsaw'),\n",
    "    ('Portugal', 'Lisbon'),\n",
    "    ('Romania', 'Bucharest'),\n",
    "    ('Russia', 'Moscow'),\n",
    "    ('San Marino', 'San Marino'),\n",
    "    ('Serbia', 'Belgrade'),\n",
    "    ('Slovakia', 'Bratislava'),\n",
    "    ('Slovenia', 'Ljubljana'),\n",
    "    ('Spain', 'Madrid'),\n",
    "    ('Svalbard', 'Longyearbyen'),\n",
    "    ('Sweden', 'Stockholm'),\n",
    "    ('Switzerland', 'Bern'),\n",
    "    ('Turkey', 'Ankara'),\n",
    "    ('Ukraine', 'Kyiv'),\n",
    "    ('United Kingdom', 'London'),\n",
    "    ('Northern Cyprus', 'North Nicosia')\n",
    "])\n",
    "print(capitals)"
   ]
  },
  {
   "cell_type": "markdown",
   "metadata": {},
   "source": [
    "### Tuple unpacking"
   ]
  },
  {
   "cell_type": "markdown",
   "metadata": {},
   "source": [
    "Since we know that each tuple in a list contains a key and a value, *tuple unpacking* can be very useful to extract them into separate variables, e.g.:"
   ]
  },
  {
   "cell_type": "code",
   "execution_count": null,
   "metadata": {
    "scrolled": true
   },
   "outputs": [],
   "source": [
    "pair = ('Hungary', 'Budapest')\n",
    "key, value = pair\n",
    "print(\"Key is {0}, value is {1}\".format(key, value))"
   ]
  },
  {
   "cell_type": "markdown",
   "metadata": {},
   "source": [
    "### Iterating through a dictionary"
   ]
  },
  {
   "cell_type": "markdown",
   "metadata": {},
   "source": [
    "Accessing the list of *key-value* tuples can be done with the `items()` function of the dictionary:"
   ]
  },
  {
   "cell_type": "code",
   "execution_count": null,
   "metadata": {},
   "outputs": [],
   "source": [
    "print(\"List of key-value pairs:\")\n",
    "print(capitals.items())"
   ]
  },
  {
   "cell_type": "markdown",
   "metadata": {},
   "source": [
    "Accessing ONLY the list of *keys* or *values* is also possible with the `keys()` and `values()` functions of the dictionary:"
   ]
  },
  {
   "cell_type": "code",
   "execution_count": null,
   "metadata": {},
   "outputs": [],
   "source": [
    "print(\"List of keys:\")\n",
    "print(capitals.keys())"
   ]
  },
  {
   "cell_type": "code",
   "execution_count": null,
   "metadata": {},
   "outputs": [],
   "source": [
    "print(\"List of values:\")\n",
    "print(capitals.values())"
   ]
  },
  {
   "cell_type": "markdown",
   "metadata": {},
   "source": [
    "We can also use a *for* loop to iterate through the items of a dictionary:"
   ]
  },
  {
   "cell_type": "code",
   "execution_count": null,
   "metadata": {},
   "outputs": [],
   "source": [
    "for item in capitals.items():\n",
    "    print(item)"
   ]
  },
  {
   "cell_type": "markdown",
   "metadata": {},
   "source": [
    "Here we iterate through the *key: value* tuples of a dictionary with the `item` variable.  \n",
    "The *key* is the element with the index 0, the *value* is the element with the index 1 in `item`:"
   ]
  },
  {
   "cell_type": "code",
   "execution_count": null,
   "metadata": {},
   "outputs": [],
   "source": [
    "for item in capitals.items():\n",
    "    key = item[0]\n",
    "    value = item[1]\n",
    "    print(\"{0}: {1}\".format(key, value))"
   ]
  },
  {
   "cell_type": "markdown",
   "metadata": {},
   "source": [
    "By creating a list of tuples from the dictionary, we can fetch a single tuple by its numerical index and then extract the *key* and the *value* into separate variables with *tuple unpacking*:"
   ]
  },
  {
   "cell_type": "code",
   "execution_count": null,
   "metadata": {},
   "outputs": [],
   "source": [
    "item_10 = list(capitals.items())[10]\n",
    "print(item_10)\n",
    "key, value = item_10\n",
    "print(\"Key is {0}, value is {1}\".format(key, value))"
   ]
  },
  {
   "cell_type": "markdown",
   "metadata": {},
   "source": [
    "We can also use a *for* loop to iterate through the *key: value* pairs in a dictionary with *tuple unpacking*:"
   ]
  },
  {
   "cell_type": "code",
   "execution_count": null,
   "metadata": {},
   "outputs": [],
   "source": [
    "for key, value in capitals.items():\n",
    "    print(\"{0}: {1}\".format(key, value))"
   ]
  },
  {
   "cell_type": "markdown",
   "metadata": {},
   "source": [
    "Now compare the 2 versions of iterating through the items of a dictionary and observe how *tuple unpacking* makes accessing the key and the value easier:\n",
    "\n",
    "```python\n",
    "for item in capitals.items():\n",
    "    key = item[0]\n",
    "    value = item[1]\n",
    "    print(\"{0}: {1}\".format(key, value))\n",
    "```\n",
    "\n",
    "```python\n",
    "for key, value in capitals.items():\n",
    "    print(\"{0}: {1}\".format(key, value))\n",
    "```"
   ]
  },
  {
   "cell_type": "markdown",
   "metadata": {},
   "source": [
    "**Note:** keys in a dictionary can be any immutable type; strings and numbers can always be keys. Tuples can be used as keys if they contain only strings, numbers, or tuples; if a tuple contains any mutable object either directly or indirectly, it cannot be used as a key. You can’t use lists as keys, since lists can be modified."
   ]
  },
  {
   "cell_type": "markdown",
   "metadata": {},
   "source": [
    "**Note:** the same tuple unpacking were utilized when using the `enumerate()` function introduced in [Chapter 5](05_basic_algorithms_solutions.ipynb#Maximum-search):\n",
    "```python\n",
    "data = [ ... ]\n",
    "for idx, value in enumerate(data):\n",
    "    ...\n",
    "```"
   ]
  },
  {
   "cell_type": "markdown",
   "metadata": {},
   "source": [
    "---"
   ]
  },
  {
   "cell_type": "markdown",
   "metadata": {},
   "source": [
    "## Summary exercise on dictionaries"
   ]
  },
  {
   "cell_type": "markdown",
   "metadata": {},
   "source": [
    "The dictionaries `population_2008` and `population_2018` store the population of some European countries in the according years (2008 and 2010):"
   ]
  },
  {
   "cell_type": "code",
   "execution_count": null,
   "metadata": {},
   "outputs": [],
   "source": [
    "population_2008 = { 'Belgium': 10666866, 'Bulgaria': 7518002, 'Czechia': 10343422, 'Denmark': 5475791, 'Germany': 82217837, 'Estonia': 1338440, 'Ireland': 4457765, 'Greece': 11060937, 'Spain': 45668939, 'France': 64007193, 'Croatia': 4311967, 'Italy': 58652875, 'Cyprus': 776333, 'Latvia': 2191810, 'Lithuania': 3212605, 'Luxembourg': 483799, 'Hungary': 10045401, 'Malta': 407832, 'Netherlands': 16405399, 'Austria': 8307989, 'Poland': 38115641, 'Portugal': 10553339, 'Romania': 20635460, 'Slovenia': 2010269, 'Slovakia': 5376064, 'Finland': 5300484, 'Sweden': 9182927, 'United Kingdom': 61571647, 'Iceland': 315459, 'Liechtenstein': 35356, 'Norway': 4737171, 'Switzerland': 7593494, 'Montenegro': 615543, 'North Macedonia': 2045177, 'Albania': 2958266, 'Serbia': 7365507, 'Turkey': 70586256, 'Andorra': 83137, 'Belarus': 9689770, 'Bosnia and Herzegovina': 3843846, 'Kosovo': 2153139, 'Moldova': 3572703, 'San Marino': 32054, 'Ukraine': 46192309, 'Armenia': 3230086, 'Azerbaijan': 8629900, 'Georgia': 4382070 }\n",
    "population_2018 = { 'Belgium': 11398589, 'Bulgaria': 7050034, 'Czechia': 10610055, 'Denmark': 5781190, 'Germany': 82792351, 'Estonia': 1319133, 'Ireland': 4830392, 'Greece': 10741165, 'Spain': 46658447, 'France': 66926166, 'Croatia': 4105493, 'Italy': 60483973, 'Cyprus': 864236, 'Latvia': 1934379, 'Lithuania': 2808901, 'Luxembourg': 602005, 'Hungary': 9778371, 'Malta': 475701, 'Netherlands': 17181084, 'Austria': 8822267, 'Poland': 37976687, 'Portugal': 10291027, 'Romania': 19530631, 'Slovenia': 2066880, 'Slovakia': 5443120, 'Finland': 5513130, 'Sweden': 10120242, 'United Kingdom': 66273576, 'Iceland': 348450, 'Liechtenstein': 38114, 'Norway': 5295619, 'Switzerland': 8484130, 'Montenegro': 622359, 'North Macedonia': 2075301, 'Albania': 2870324, 'Serbia': 7001444, 'Turkey': 80810525, 'Andorra': 74794, 'Belarus': 9491823, 'Bosnia and Herzegovina': 3502550, 'Kosovo': 1798506, 'Moldova': 3547539, 'San Marino': 34453, 'Ukraine': 42386403, 'Armenia': 2972732, 'Azerbaijan': 9898085, 'Georgia': 3729633 }\n",
    "\n",
    "print(\"Population of European countries in 2008:\")\n",
    "print(population_2008)\n",
    "\n",
    "print()\n",
    "print(\"Population of European countries in 2018:\")\n",
    "print(population_2018)"
   ]
  },
  {
   "cell_type": "markdown",
   "metadata": {},
   "source": [
    "*Data source: [EuroStat](https://ec.europa.eu/eurostat/)*"
   ]
  },
  {
   "cell_type": "markdown",
   "metadata": {},
   "source": [
    "### Exercise 1"
   ]
  },
  {
   "cell_type": "markdown",
   "metadata": {},
   "source": [
    "**Task:** What was the population of Hungary in 2008 and in 2018?"
   ]
  },
  {
   "cell_type": "code",
   "execution_count": null,
   "metadata": {},
   "outputs": [],
   "source": [
    "print(\"Population of Hungary in 2008: {0}\".format(population_2008[\"Hungary\"]))\n",
    "print(\"Population of Hungary in 2018: {0}\".format(population_2018[\"Hungary\"]))"
   ]
  },
  {
   "cell_type": "markdown",
   "metadata": {},
   "source": [
    "### Exercise 2"
   ]
  },
  {
   "cell_type": "markdown",
   "metadata": {},
   "source": [
    "**Task:** What was the population change between 2008 and 2018 in Hungary? What is the average change per year?"
   ]
  },
  {
   "cell_type": "code",
   "execution_count": null,
   "metadata": {},
   "outputs": [],
   "source": [
    "diff = population_2018[\"Hungary\"] - population_2008[\"Hungary\"]\n",
    "print(\"Population difference for Hungary: {0}\".format(diff))"
   ]
  },
  {
   "cell_type": "markdown",
   "metadata": {},
   "source": [
    "### Exercise 3"
   ]
  },
  {
   "cell_type": "markdown",
   "metadata": {},
   "source": [
    "**Task:** Display for all countries the population change between 2008 and 2018!"
   ]
  },
  {
   "cell_type": "code",
   "execution_count": null,
   "metadata": {},
   "outputs": [],
   "source": [
    "for key in population_2008.keys():\n",
    "    diff = population_2018[key] - population_2008[key]\n",
    "    print(\"{0}: {1}\".format(key, diff))"
   ]
  },
  {
   "cell_type": "markdown",
   "metadata": {},
   "source": [
    "### Exercise 4"
   ]
  },
  {
   "cell_type": "markdown",
   "metadata": {},
   "source": [
    "**Task:** Which country had the largest population growth in the given timespan? Which one had the largest population decline?"
   ]
  },
  {
   "cell_type": "code",
   "execution_count": null,
   "metadata": {},
   "outputs": [],
   "source": [
    "max_country = \"Hungary\"\n",
    "max_diff = population_2018[max_country] - population_2008[max_country]\n",
    "min_country = \"Hungary\"\n",
    "min_diff = population_2018[min_country] - population_2008[min_country]\n",
    "\n",
    "for key in population_2008.keys():\n",
    "    diff = population_2018[key] - population_2008[key]\n",
    "    if diff > max_diff:\n",
    "        max_diff = diff\n",
    "        max_country = key\n",
    "    if diff < min_diff:\n",
    "        min_diff = diff\n",
    "        min_country = key\n",
    "        \n",
    "print(\"Largest growth: {0} ({1})\".format(max_country, max_diff))\n",
    "print(\"Largest decline: {0} ({1})\".format(min_country, min_diff))"
   ]
  },
  {
   "cell_type": "markdown",
   "metadata": {},
   "source": [
    "---"
   ]
  },
  {
   "cell_type": "markdown",
   "metadata": {},
   "source": [
    "## Sets"
   ]
  },
  {
   "cell_type": "markdown",
   "metadata": {},
   "source": [
    "Python also includes a data type for *sets*. A set is an unordered collection with no duplicate elements. Basic usage include membership testing and eliminating duplicate entries. Set objects also support mathematical operations like union, intersection, difference, and symmetric difference.\n",
    "\n",
    "Curly braces or the `set()` function can be used to create sets.  \n",
    "*Note:* to create an empty set you have to use `set()`, not `{}`; the latter creates an empty dictionary and not a set."
   ]
  },
  {
   "cell_type": "code",
   "execution_count": null,
   "metadata": {},
   "outputs": [],
   "source": [
    "neighbours = {'Austria', 'Slovakia', 'Ukraine', 'Romania', 'Serbia', 'Croatia', 'Slovenia'}\n",
    "print(neighbours)"
   ]
  },
  {
   "cell_type": "markdown",
   "metadata": {},
   "source": [
    "Since sets are unordered theoretically, Python does not support indexing for sets, meaning we cannot access an item with a numerical index:"
   ]
  },
  {
   "cell_type": "code",
   "execution_count": null,
   "metadata": {},
   "outputs": [],
   "source": [
    "print(neighbours[0])"
   ]
  },
  {
   "cell_type": "markdown",
   "metadata": {},
   "source": [
    "However we can perform membership testing, evaluating whether an item is in the list or not:"
   ]
  },
  {
   "cell_type": "code",
   "execution_count": null,
   "metadata": {},
   "outputs": [],
   "source": [
    "print('Serbia' in neighbours)\n",
    "print('Germany' in neighbours)"
   ]
  },
  {
   "cell_type": "markdown",
   "metadata": {},
   "source": [
    "New element can be added with the `add()` method to a set, existing element can be removed with the `remove()` method from a set. Sets also guarantee to contain no duplicate entries:"
   ]
  },
  {
   "cell_type": "code",
   "execution_count": null,
   "metadata": {},
   "outputs": [],
   "source": [
    "neighbours.add('Ukraine') # already in the set\n",
    "print(neighbours)"
   ]
  },
  {
   "cell_type": "markdown",
   "metadata": {},
   "source": [
    "Demonstration of basic set operations:"
   ]
  },
  {
   "cell_type": "code",
   "execution_count": null,
   "metadata": {},
   "outputs": [],
   "source": [
    "german_speakers = {'Germany', 'Austria', 'Switzerland'}"
   ]
  },
  {
   "cell_type": "code",
   "execution_count": null,
   "metadata": {},
   "outputs": [],
   "source": [
    "print(\"Union: {0}\".format(neighbours | german_speakers))\n",
    "print(\"Intersection: {0}\".format(neighbours & german_speakers))\n",
    "print(\"Difference: {0}\".format(neighbours - german_speakers))\n",
    "print(\"Symmetric difference: {0}\".format(neighbours ^ german_speakers))"
   ]
  },
  {
   "cell_type": "markdown",
   "metadata": {},
   "source": [
    "---"
   ]
  },
  {
   "cell_type": "markdown",
   "metadata": {},
   "source": [
    "### Exercise 5"
   ]
  },
  {
   "cell_type": "markdown",
   "metadata": {},
   "source": [
    "**Task:** Verify whether the dictionaries `population_2008` and `population_2018` contain the exactly same countries as keys."
   ]
  },
  {
   "cell_type": "code",
   "execution_count": null,
   "metadata": {},
   "outputs": [],
   "source": [
    "keyset_2008 = set(population_2008.keys())\n",
    "keyset_2018 = set(population_2018.keys())\n",
    "nomatch = keyset_2008 ^ keyset_2018\n",
    "\n",
    "if len(nomatch) == 0:\n",
    "    print(\"The 2 dictionaries contains the same countries.\")\n",
    "else:\n",
    "    print(\"There are some countries only present in one of the dictionaries: {0}\".format(nomatch))"
   ]
  },
  {
   "cell_type": "markdown",
   "metadata": {},
   "source": [
    "---"
   ]
  },
  {
   "cell_type": "markdown",
   "metadata": {},
   "source": [
    "## Stacks"
   ]
  },
  {
   "cell_type": "markdown",
   "metadata": {},
   "source": [
    "A stack is an abstract data structure that follows the \"*last-in-first-out*\" or *LIFO* model: elements are added to the top of the stack and only the top element of a stack can be removed.  \n",
    "Some well-known real world examples for usage of stacks:\n",
    " - undoing the operations in a text editor;\n",
    " - going back to the previous web page in a browser.\n",
    "\n",
    "![Stack data structure](images/06_stack.jpg)"
   ]
  },
  {
   "cell_type": "markdown",
   "metadata": {},
   "source": [
    "The list methods make it very easy to use a list as a stack, where the last element added is the first element retrieved (*last-in, first-out*). To add an item to the top of the stack, use `append()`. To retrieve an item from the top of the stack, use `pop()` without an explicit index."
   ]
  },
  {
   "cell_type": "code",
   "execution_count": null,
   "metadata": {},
   "outputs": [],
   "source": [
    "stack = [1, 2, 3, 4, 5]\n",
    "stack.append(6)\n",
    "stack.append(7)\n",
    "print(stack)\n",
    "print(stack.pop())\n",
    "print(stack.pop())\n",
    "print(stack)\n",
    "stack.append(8)\n",
    "stack.append(9)\n",
    "print(stack)\n",
    "\n",
    "print(\"Process all the elements of the stack:\")\n",
    "while len(stack) > 0:\n",
    "    print(stack.pop())"
   ]
  },
  {
   "cell_type": "markdown",
   "metadata": {},
   "source": [
    "---"
   ]
  },
  {
   "cell_type": "markdown",
   "metadata": {},
   "source": [
    "## Queues"
   ]
  },
  {
   "cell_type": "markdown",
   "metadata": {},
   "source": [
    "A queue is an abstract data structure that follows \"*first-in-first-out*\" or *FIFO model*: new elements are added to the back of queue and only the front element of the queue can be removed.  \n",
    "Some well-known real world examples for usage of stacks:\n",
    " - waiting in a line (in a polite way);\n",
    " - a printer machine's queue of files to be printed.\n",
    "\n",
    "![Queue data structure](images/06_queue.png)"
   ]
  },
  {
   "cell_type": "markdown",
   "metadata": {},
   "source": [
    "It is also possible to use a list as a queue, where the first element added is the first element retrieved (*first-in, first-out*); however, **lists are not efficient for this purpose**. While appends and pops from the end of list are fast, doing inserts or pops from the beginning of a list is slow (because all of the other elements have to be shifted by one)."
   ]
  },
  {
   "cell_type": "markdown",
   "metadata": {},
   "source": [
    "To implement a queue, use `collections.deque` which was designed to have fast appends and pops from both ends."
   ]
  },
  {
   "cell_type": "code",
   "execution_count": null,
   "metadata": {},
   "outputs": [],
   "source": [
    "from collections import deque\n",
    "\n",
    "queue = deque([1, 2, 3, 4, 5])\n",
    "queue.append(6)\n",
    "queue.append(7)\n",
    "print(queue)\n",
    "print(queue.popleft())\n",
    "print(queue.popleft())\n",
    "print(queue)\n",
    "queue.append(8)\n",
    "queue.append(9)\n",
    "print(queue)\n",
    "\n",
    "print(\"Process all the elements of the stack:\")\n",
    "while len(queue) > 0:\n",
    "    print(queue.popleft())"
   ]
  },
  {
   "cell_type": "markdown",
   "metadata": {},
   "source": [
    "*Note:* `deque` is short for *double ended queue*, because we can manage both ends of the data structure (add or remove elements)."
   ]
  }
 ],
 "metadata": {
  "kernelspec": {
   "display_name": "Python 3",
   "language": "python",
   "name": "python3"
  },
  "language_info": {
   "codemirror_mode": {
    "name": "ipython",
    "version": 3
   },
   "file_extension": ".py",
   "mimetype": "text/x-python",
   "name": "python",
   "nbconvert_exporter": "python",
   "pygments_lexer": "ipython3",
   "version": "3.8.3"
  }
 },
 "nbformat": 4,
 "nbformat_minor": 4
}
