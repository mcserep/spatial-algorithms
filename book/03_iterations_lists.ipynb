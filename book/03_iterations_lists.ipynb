{
 "cells": [
  {
   "cell_type": "markdown",
   "metadata": {},
   "source": [
    "# Chapter 3: Iterations and lists"
   ]
  },
  {
   "cell_type": "markdown",
   "metadata": {},
   "source": [
    "## Data structure: List"
   ]
  },
  {
   "cell_type": "markdown",
   "metadata": {},
   "source": [
    "A **list** in Python is a *heterogeneous* container for multiple items.\n",
    " * Container means the list can store multiple values. In case of a list the items are also stored in an ordered way.\n",
    " * Heterogeneous mean that the elements of a list can be of different types: numbers, strings, etc.\n",
    "\n",
    "A list is a similar data structure like an array in many other languages (like C++, Java or C#), but since Python does not support arrays, we have lists."
   ]
  },
  {
   "cell_type": "markdown",
   "metadata": {},
   "source": [
    "Let's define a list of neighbouring countries for Hungary. The initial items of a list are defined between brackets."
   ]
  },
  {
   "cell_type": "code",
   "execution_count": 1,
   "metadata": {},
   "outputs": [
    {
     "name": "stdout",
     "output_type": "stream",
     "text": [
      "['Austria', 'Slovakia', 'Ukraine', 'Romania', 'Serbia', 'Croatia', 'Slovenia']\n"
     ]
    }
   ],
   "source": [
    "neighbours = ['Austria', 'Slovakia', 'Ukraine', 'Romania', 'Serbia', 'Croatia', 'Slovenia']\n",
    "print(neighbours)"
   ]
  },
  {
   "cell_type": "markdown",
   "metadata": {},
   "source": [
    "Let's check the type of the `neighbours` variable."
   ]
  },
  {
   "cell_type": "code",
   "execution_count": 2,
   "metadata": {},
   "outputs": [
    {
     "name": "stdout",
     "output_type": "stream",
     "text": [
      "<class 'list'>\n"
     ]
    }
   ],
   "source": [
    "print(type(neighbours))"
   ]
  },
  {
   "cell_type": "markdown",
   "metadata": {},
   "source": [
    "### Reading lists"
   ]
  },
  {
   "cell_type": "markdown",
   "metadata": {},
   "source": [
    "The items of a list can be accessed by the numerical indexes. (The first item is indexed with *zero*.)"
   ]
  },
  {
   "cell_type": "code",
   "execution_count": 3,
   "metadata": {},
   "outputs": [
    {
     "name": "stdout",
     "output_type": "stream",
     "text": [
      "Austria\n",
      "Slovakia\n"
     ]
    }
   ],
   "source": [
    "print(neighbours[0])\n",
    "print(neighbours[1])"
   ]
  },
  {
   "cell_type": "markdown",
   "metadata": {},
   "source": [
    "We can also access a range of elements:"
   ]
  },
  {
   "cell_type": "code",
   "execution_count": 4,
   "metadata": {},
   "outputs": [
    {
     "name": "stdout",
     "output_type": "stream",
     "text": [
      "['Ukraine', 'Romania', 'Serbia']\n"
     ]
    }
   ],
   "source": [
    "print(neighbours[2:5])"
   ]
  },
  {
   "cell_type": "markdown",
   "metadata": {},
   "source": [
    "The end index is *exclusive*, which means that only the countries with index 2-4 was included in the result above."
   ]
  },
  {
   "cell_type": "markdown",
   "metadata": {},
   "source": [
    "By leaving out the *end* index, the range will go on to the end of the list:"
   ]
  },
  {
   "cell_type": "code",
   "execution_count": 5,
   "metadata": {},
   "outputs": [
    {
     "name": "stdout",
     "output_type": "stream",
     "text": [
      "['Ukraine', 'Romania', 'Serbia', 'Croatia', 'Slovenia']\n"
     ]
    }
   ],
   "source": [
    "print(neighbours[2:])"
   ]
  },
  {
   "cell_type": "markdown",
   "metadata": {},
   "source": [
    "By leaving out the *start* index, the range will start at the first item:"
   ]
  },
  {
   "cell_type": "code",
   "execution_count": 6,
   "metadata": {},
   "outputs": [
    {
     "name": "stdout",
     "output_type": "stream",
     "text": [
      "['Austria', 'Slovakia', 'Ukraine', 'Romania', 'Serbia']\n"
     ]
    }
   ],
   "source": [
    "print(neighbours[:5])"
   ]
  },
  {
   "cell_type": "markdown",
   "metadata": {},
   "source": [
    "By omitting both the *start* and the *end* index, the range will cover all elements:"
   ]
  },
  {
   "cell_type": "code",
   "execution_count": 7,
   "metadata": {},
   "outputs": [
    {
     "name": "stdout",
     "output_type": "stream",
     "text": [
      "['Austria', 'Slovakia', 'Ukraine', 'Romania', 'Serbia', 'Croatia', 'Slovenia']\n"
     ]
    }
   ],
   "source": [
    "print(neighbours[:])"
   ]
  },
  {
   "cell_type": "markdown",
   "metadata": {},
   "source": [
    "*Note: this is very similar like how we worked with strings, since strings can be treated like list of characters.*"
   ]
  },
  {
   "cell_type": "markdown",
   "metadata": {},
   "source": [
    "The number of items in a list (its length) can also be easily fetched:"
   ]
  },
  {
   "cell_type": "code",
   "execution_count": 8,
   "metadata": {},
   "outputs": [
    {
     "name": "stdout",
     "output_type": "stream",
     "text": [
      "7\n"
     ]
    }
   ],
   "source": [
    "print(len(neighbours))"
   ]
  },
  {
   "cell_type": "markdown",
   "metadata": {},
   "source": [
    "### Manipulating lists"
   ]
  },
  {
   "cell_type": "markdown",
   "metadata": {},
   "source": [
    "Lists are mutable, meaning the items themselves and the number of items it contains can change dynamically after its initial definition. We can remove elements:"
   ]
  },
  {
   "cell_type": "code",
   "execution_count": 9,
   "metadata": {},
   "outputs": [
    {
     "name": "stdout",
     "output_type": "stream",
     "text": [
      "['Austria', 'Ukraine', 'Romania', 'Serbia', 'Croatia', 'Slovenia']\n"
     ]
    }
   ],
   "source": [
    "neighbours.remove('Slovakia')\n",
    "print(neighbours)"
   ]
  },
  {
   "cell_type": "markdown",
   "metadata": {},
   "source": [
    "Add new ones:"
   ]
  },
  {
   "cell_type": "code",
   "execution_count": 10,
   "metadata": {},
   "outputs": [
    {
     "name": "stdout",
     "output_type": "stream",
     "text": [
      "['Austria', 'Ukraine', 'Romania', 'Serbia', 'Croatia', 'Slovenia', 'Czechoslovakia']\n"
     ]
    }
   ],
   "source": [
    "neighbours.append('Czechoslovakia')\n",
    "print(neighbours)"
   ]
  },
  {
   "cell_type": "markdown",
   "metadata": {},
   "source": [
    "The elements can also be removed from or inserted to a specific location:"
   ]
  },
  {
   "cell_type": "code",
   "execution_count": 11,
   "metadata": {},
   "outputs": [
    {
     "name": "stdout",
     "output_type": "stream",
     "text": [
      "['Austria', 'Ukraine', 'Romania', 'Yugoslavia', 'Slovenia', 'Czechoslovakia']\n"
     ]
    }
   ],
   "source": [
    "neighbours.pop(3) # removes Serbia, as its index is 3\n",
    "del neighbours[3] # removes Croatia, as its index is 3, after we removed Serbia\n",
    "neighbours.insert(3, 'Yugoslavia') # adds Yugoslavia on the 3rd index\n",
    "print(neighbours)"
   ]
  },
  {
   "cell_type": "markdown",
   "metadata": {},
   "source": [
    "Copying a list can be a bit tricky, because assigning a list to a new variable does not make a copy of a list, instead the new variable will just be an alias to the original list.\n",
    "\n",
    "To make a real copy of a list, we can either use the `copy()` method of the list or use the range accessor to select and copy all elements to a new list."
   ]
  },
  {
   "cell_type": "code",
   "execution_count": 12,
   "metadata": {},
   "outputs": [
    {
     "name": "stdout",
     "output_type": "stream",
     "text": [
      "[]\n",
      "[]\n",
      "['Austria', 'Ukraine', 'Romania', 'Yugoslavia', 'Slovenia', 'Czechoslovakia']\n",
      "['Austria', 'Ukraine', 'Romania', 'Yugoslavia', 'Slovenia', 'Czechoslovakia']\n",
      "['Austria', 'Ukraine', 'Romania', 'Yugoslavia', 'Slovenia', 'Czechoslovakia']\n"
     ]
    }
   ],
   "source": [
    "alias_list = neighbours # this is just an alias\n",
    "copied_list_1 = neighbours.copy() # this is a real copy\n",
    "copied_list_2 = neighbours[0:len(neighbours)] # this is also real copy\n",
    "copied_list_3 = neighbours[:] # this also copies all elements\n",
    "\n",
    "# Clear all elements from the original list\n",
    "neighbours.clear()\n",
    "\n",
    "print(neighbours) # this shall be empty\n",
    "print(alias_list) # this shall also be empty\n",
    "print(copied_list_1) # this shall contain the elements\n",
    "print(copied_list_2) # this too\n",
    "print(copied_list_3) # this too"
   ]
  },
  {
   "cell_type": "markdown",
   "metadata": {},
   "source": [
    "Lists have further useful methods, we can e.g. *sort* or *reverse* the elements of a list:"
   ]
  },
  {
   "cell_type": "code",
   "execution_count": 13,
   "metadata": {},
   "outputs": [
    {
     "name": "stdout",
     "output_type": "stream",
     "text": [
      "Original list: ['Austria', 'Slovakia', 'Ukraine', 'Romania', 'Serbia', 'Croatia', 'Slovenia']\n",
      "Sorted list: ['Austria', 'Croatia', 'Romania', 'Serbia', 'Slovakia', 'Slovenia', 'Ukraine']\n",
      "Reversed list: ['Ukraine', 'Slovenia', 'Slovakia', 'Serbia', 'Romania', 'Croatia', 'Austria']\n"
     ]
    }
   ],
   "source": [
    "neighbours = ['Austria', 'Slovakia', 'Ukraine', 'Romania', 'Serbia', 'Croatia', 'Slovenia']\n",
    "print('Original list: {0}'.format(neighbours))\n",
    "neighbours.sort()\n",
    "print('Sorted list: {0}'.format(neighbours))\n",
    "neighbours.reverse()\n",
    "print('Reversed list: {0}'.format(neighbours))"
   ]
  },
  {
   "cell_type": "markdown",
   "metadata": {},
   "source": [
    "[See the documentation](https://docs.python.org/3/tutorial/datastructures.html) for a complete overview."
   ]
  },
  {
   "cell_type": "markdown",
   "metadata": {},
   "source": [
    "---"
   ]
  },
  {
   "cell_type": "markdown",
   "metadata": {},
   "source": [
    "## Control structure: Loops"
   ]
  },
  {
   "cell_type": "markdown",
   "metadata": {},
   "source": [
    "The loop control flow is also called *iteration* or *repetition statement* and provides a way to execute the same code block (call the *core* of the iteration) until a condition is meet."
   ]
  },
  {
   "cell_type": "markdown",
   "metadata": {},
   "source": [
    "### `for` loop: Iterating through a sequence"
   ]
  },
  {
   "cell_type": "markdown",
   "metadata": {},
   "source": [
    "When using a `for` loop we introduce a new variable which will iterate over all elements of a list (or later other data structures containing multiple items) and take the value of the next item in each iteration."
   ]
  },
  {
   "cell_type": "markdown",
   "metadata": {},
   "source": [
    "Let's iterate over the values of the `europe` list with a variable `country`:"
   ]
  },
  {
   "cell_type": "code",
   "execution_count": 14,
   "metadata": {
    "ExecuteTime": {
     "end_time": "2018-10-09T01:39:07.309307Z",
     "start_time": "2018-10-09T01:39:07.305696Z"
    }
   },
   "outputs": [
    {
     "name": "stdout",
     "output_type": "stream",
     "text": [
      "Albania\n",
      "Andorra\n",
      "Austria\n",
      "Belgium\n",
      "Bosnia and Herzegovina\n",
      "Bulgaria\n",
      "Czech Republic\n",
      "Denmark\n",
      "United Kingdom\n",
      "Estonia\n",
      "Belarus\n",
      "Finland\n",
      "France\n",
      "Greece\n",
      "Netherlands\n",
      "Croatia\n",
      "Ireland\n",
      "Iceland\n",
      "Kosovo\n",
      "Poland\n",
      "Latvia\n",
      "Liechtenstein\n",
      "Lithuania\n",
      "Luxembourg\n",
      "Macedonia\n",
      "Hungary\n",
      "Malta\n",
      "Moldova\n",
      "Monaco\n",
      "Montenegro\n",
      "Germany\n",
      "Norway\n",
      "Italy\n",
      "Portugal\n",
      "Romania\n",
      "San Marino\n",
      "Spain\n",
      "Switzerland\n",
      "Sweden\n",
      "Serbia\n",
      "Slovakia\n",
      "Slovenia\n",
      "Ukraine\n"
     ]
    }
   ],
   "source": [
    "europe = ['Albania', 'Andorra', 'Austria', 'Belgium', 'Bosnia and Herzegovina', 'Bulgaria', 'Czech Republic', 'Denmark', 'United Kingdom', 'Estonia', 'Belarus', 'Finland', 'France', 'Greece', 'Netherlands', 'Croatia', 'Ireland', 'Iceland', 'Kosovo', 'Poland', 'Latvia', 'Liechtenstein', 'Lithuania', 'Luxembourg', 'Macedonia', 'Hungary', 'Malta', 'Moldova', 'Monaco', 'Montenegro', 'Germany', 'Norway', 'Italy', 'Portugal', 'Romania', 'San Marino', 'Spain', 'Switzerland', 'Sweden', 'Serbia', 'Slovakia', 'Slovenia', 'Ukraine']\n",
    "\n",
    "for country in europe:\n",
    "    print(country)"
   ]
  },
  {
   "cell_type": "markdown",
   "metadata": {},
   "source": [
    "This new variable introduced for iterating over the elements can be named anything. (Applying the same rules of course for naming variables discussed in [Chapter 1](01_python_intro.ipynb).)"
   ]
  },
  {
   "cell_type": "code",
   "execution_count": 15,
   "metadata": {},
   "outputs": [
    {
     "name": "stdout",
     "output_type": "stream",
     "text": [
      "Albania\n",
      "Andorra\n",
      "Austria\n",
      "Belgium\n",
      "Bosnia and Herzegovina\n",
      "Bulgaria\n",
      "Czech Republic\n",
      "Denmark\n",
      "United Kingdom\n",
      "Estonia\n",
      "Belarus\n",
      "Finland\n",
      "France\n",
      "Greece\n",
      "Netherlands\n",
      "Croatia\n",
      "Ireland\n",
      "Iceland\n",
      "Kosovo\n",
      "Poland\n",
      "Latvia\n",
      "Liechtenstein\n",
      "Lithuania\n",
      "Luxembourg\n",
      "Macedonia\n",
      "Hungary\n",
      "Malta\n",
      "Moldova\n",
      "Monaco\n",
      "Montenegro\n",
      "Germany\n",
      "Norway\n",
      "Italy\n",
      "Portugal\n",
      "Romania\n",
      "San Marino\n",
      "Spain\n",
      "Switzerland\n",
      "Sweden\n",
      "Serbia\n",
      "Slovakia\n",
      "Slovenia\n",
      "Ukraine\n"
     ]
    }
   ],
   "source": [
    "for anything in europe:\n",
    "    print(anything)"
   ]
  },
  {
   "cell_type": "markdown",
   "metadata": {},
   "source": [
    "Note the identation of the `print` statement, which means that the `print` statement is _\"inside\"_ the `for` loop and will be executed on each iteration."
   ]
  },
  {
   "cell_type": "code",
   "execution_count": 16,
   "metadata": {},
   "outputs": [
    {
     "name": "stdout",
     "output_type": "stream",
     "text": [
      "Albania\n",
      "This will be printed after each country\n",
      "Andorra\n",
      "This will be printed after each country\n",
      "Austria\n",
      "This will be printed after each country\n",
      "Belgium\n",
      "This will be printed after each country\n",
      "Bosnia and Herzegovina\n",
      "This will be printed after each country\n",
      "Bulgaria\n",
      "This will be printed after each country\n",
      "Czech Republic\n",
      "This will be printed after each country\n",
      "Denmark\n",
      "This will be printed after each country\n",
      "United Kingdom\n",
      "This will be printed after each country\n",
      "Estonia\n",
      "This will be printed after each country\n",
      "Belarus\n",
      "This will be printed after each country\n",
      "Finland\n",
      "This will be printed after each country\n",
      "France\n",
      "This will be printed after each country\n",
      "Greece\n",
      "This will be printed after each country\n",
      "Netherlands\n",
      "This will be printed after each country\n",
      "Croatia\n",
      "This will be printed after each country\n",
      "Ireland\n",
      "This will be printed after each country\n",
      "Iceland\n",
      "This will be printed after each country\n",
      "Kosovo\n",
      "This will be printed after each country\n",
      "Poland\n",
      "This will be printed after each country\n",
      "Latvia\n",
      "This will be printed after each country\n",
      "Liechtenstein\n",
      "This will be printed after each country\n",
      "Lithuania\n",
      "This will be printed after each country\n",
      "Luxembourg\n",
      "This will be printed after each country\n",
      "Macedonia\n",
      "This will be printed after each country\n",
      "Hungary\n",
      "This will be printed after each country\n",
      "Malta\n",
      "This will be printed after each country\n",
      "Moldova\n",
      "This will be printed after each country\n",
      "Monaco\n",
      "This will be printed after each country\n",
      "Montenegro\n",
      "This will be printed after each country\n",
      "Germany\n",
      "This will be printed after each country\n",
      "Norway\n",
      "This will be printed after each country\n",
      "Italy\n",
      "This will be printed after each country\n",
      "Portugal\n",
      "This will be printed after each country\n",
      "Romania\n",
      "This will be printed after each country\n",
      "San Marino\n",
      "This will be printed after each country\n",
      "Spain\n",
      "This will be printed after each country\n",
      "Switzerland\n",
      "This will be printed after each country\n",
      "Sweden\n",
      "This will be printed after each country\n",
      "Serbia\n",
      "This will be printed after each country\n",
      "Slovakia\n",
      "This will be printed after each country\n",
      "Slovenia\n",
      "This will be printed after each country\n",
      "Ukraine\n",
      "This will be printed after each country\n",
      "This will be printed only once after all countries are printed\n"
     ]
    }
   ],
   "source": [
    "for country in europe:\n",
    "    print(country)\n",
    "    print(\"This will be printed after each country\")\n",
    "print(\"This will be printed only once after all countries are printed\")"
   ]
  },
  {
   "cell_type": "markdown",
   "metadata": {},
   "source": [
    "The workflow diagram of the **for** loop:"
   ]
  },
  {
   "cell_type": "markdown",
   "metadata": {},
   "source": [
    "![The for loop](../images/03_for.png)"
   ]
  },
  {
   "cell_type": "markdown",
   "metadata": {},
   "source": [
    "#### The `range` function"
   ]
  },
  {
   "cell_type": "markdown",
   "metadata": {
    "ExecuteTime": {
     "end_time": "2017-10-04T18:38:51.792543Z",
     "start_time": "2017-10-04T18:38:51.786228Z"
    }
   },
   "source": [
    "`range()` is a function to create integer sequences, which can be converted to lists. We give the start and end value as arguments to the function. The end value is *exclusive*."
   ]
  },
  {
   "cell_type": "code",
   "execution_count": 17,
   "metadata": {
    "ExecuteTime": {
     "end_time": "2018-10-09T01:41:05.935416Z",
     "start_time": "2018-10-09T01:41:05.930030Z"
    }
   },
   "outputs": [
    {
     "name": "stdout",
     "output_type": "stream",
     "text": [
      "[1, 2, 3, 4, 5, 6, 7, 8, 9]\n"
     ]
    }
   ],
   "source": [
    "print(list(range(1, 10)))"
   ]
  },
  {
   "cell_type": "markdown",
   "metadata": {},
   "source": [
    "We may only give one argument to the function, which will be the end value. The start value will be 0 in such a case."
   ]
  },
  {
   "cell_type": "code",
   "execution_count": 18,
   "metadata": {},
   "outputs": [
    {
     "name": "stdout",
     "output_type": "stream",
     "text": [
      "[0, 1, 2, 3, 4, 5, 6, 7]\n"
     ]
    }
   ],
   "source": [
    "print(list(range(8)))"
   ]
  },
  {
   "cell_type": "markdown",
   "metadata": {},
   "source": [
    "As an optional, third argument, the step value can be passed, which defines the incrementation between the values of the resulted list."
   ]
  },
  {
   "cell_type": "code",
   "execution_count": 19,
   "metadata": {},
   "outputs": [
    {
     "name": "stdout",
     "output_type": "stream",
     "text": [
      "[1, 3, 5, 7, 9, 11, 13, 15, 17, 19]\n"
     ]
    }
   ],
   "source": [
    "print(list(range(1, 20, 2)))"
   ]
  },
  {
   "cell_type": "markdown",
   "metadata": {},
   "source": [
    "We can use the `range()` function to print both the index and the name of each country:"
   ]
  },
  {
   "cell_type": "code",
   "execution_count": 20,
   "metadata": {},
   "outputs": [
    {
     "name": "stdout",
     "output_type": "stream",
     "text": [
      "Number of European countries: 43\n",
      "The 0th country in the list is: Albania\n",
      "The 1th country in the list is: Andorra\n",
      "The 2th country in the list is: Austria\n",
      "The 3th country in the list is: Belgium\n",
      "The 4th country in the list is: Bosnia and Herzegovina\n",
      "The 5th country in the list is: Bulgaria\n",
      "The 6th country in the list is: Czech Republic\n",
      "The 7th country in the list is: Denmark\n",
      "The 8th country in the list is: United Kingdom\n",
      "The 9th country in the list is: Estonia\n",
      "The 10th country in the list is: Belarus\n",
      "The 11th country in the list is: Finland\n",
      "The 12th country in the list is: France\n",
      "The 13th country in the list is: Greece\n",
      "The 14th country in the list is: Netherlands\n",
      "The 15th country in the list is: Croatia\n",
      "The 16th country in the list is: Ireland\n",
      "The 17th country in the list is: Iceland\n",
      "The 18th country in the list is: Kosovo\n",
      "The 19th country in the list is: Poland\n",
      "The 20th country in the list is: Latvia\n",
      "The 21th country in the list is: Liechtenstein\n",
      "The 22th country in the list is: Lithuania\n",
      "The 23th country in the list is: Luxembourg\n",
      "The 24th country in the list is: Macedonia\n",
      "The 25th country in the list is: Hungary\n",
      "The 26th country in the list is: Malta\n",
      "The 27th country in the list is: Moldova\n",
      "The 28th country in the list is: Monaco\n",
      "The 29th country in the list is: Montenegro\n",
      "The 30th country in the list is: Germany\n",
      "The 31th country in the list is: Norway\n",
      "The 32th country in the list is: Italy\n",
      "The 33th country in the list is: Portugal\n",
      "The 34th country in the list is: Romania\n",
      "The 35th country in the list is: San Marino\n",
      "The 36th country in the list is: Spain\n",
      "The 37th country in the list is: Switzerland\n",
      "The 38th country in the list is: Sweden\n",
      "The 39th country in the list is: Serbia\n",
      "The 40th country in the list is: Slovakia\n",
      "The 41th country in the list is: Slovenia\n",
      "The 42th country in the list is: Ukraine\n"
     ]
    }
   ],
   "source": [
    "print(\"Number of European countries: {0}\".format(len(europe)))\n",
    "for index in range(len(europe)): # length of a sequence\n",
    "    print(\"The {0}th country in the list is: {1}\".format(index, europe[index]))"
   ]
  },
  {
   "cell_type": "markdown",
   "metadata": {},
   "source": [
    "*Remark:* ranges are so called \"lazy\" objects, because they do not generate every number they contain when we create them. Instead they only produce the contained numbers as we need them when looping over them; or when we convert them to lists."
   ]
  },
  {
   "cell_type": "markdown",
   "metadata": {},
   "source": [
    "---"
   ]
  },
  {
   "cell_type": "markdown",
   "metadata": {},
   "source": [
    "#### Exercise"
   ]
  },
  {
   "cell_type": "markdown",
   "metadata": {},
   "source": [
    "**Task:** Print all the countries in the `europe` list, which start with letter `C`:"
   ]
  },
  {
   "cell_type": "code",
   "execution_count": 21,
   "metadata": {},
   "outputs": [
    {
     "name": "stdout",
     "output_type": "stream",
     "text": [
      "Czech Republic\n",
      "Croatia\n"
     ]
    }
   ],
   "source": [
    "for country in europe:\n",
    "    if country[0] == 'C':\n",
    "        print(country)"
   ]
  },
  {
   "cell_type": "markdown",
   "metadata": {},
   "source": [
    "*Help: you have to place a conditional statement (`if`) inside an iterative statement (`for`) and combine them.*"
   ]
  },
  {
   "cell_type": "markdown",
   "metadata": {},
   "source": [
    "---"
   ]
  },
  {
   "cell_type": "markdown",
   "metadata": {},
   "source": [
    "### `while` loop: Keep doing until condition no longer holds"
   ]
  },
  {
   "cell_type": "markdown",
   "metadata": {},
   "source": [
    "Use `for` when you know __the exact number of iterations__; use `while` when you __do not (e.g., checking convergence)__."
   ]
  },
  {
   "cell_type": "code",
   "execution_count": 22,
   "metadata": {
    "ExecuteTime": {
     "end_time": "2018-10-09T01:41:12.294825Z",
     "start_time": "2018-10-09T01:41:12.290846Z"
    }
   },
   "outputs": [
    {
     "name": "stdout",
     "output_type": "stream",
     "text": [
      "123.0\n",
      "61.5\n",
      "30.75\n",
      "15.375\n",
      "7.6875\n",
      "3.84375\n",
      "1.921875\n"
     ]
    }
   ],
   "source": [
    "x = 123.0\n",
    "while x > 1:\n",
    "    print(x)\n",
    "    x = x / 2\n",
    "    #x /= 2"
   ]
  },
  {
   "cell_type": "markdown",
   "metadata": {},
   "source": [
    "The workflow diagram of the **while** loop:"
   ]
  },
  {
   "cell_type": "markdown",
   "metadata": {},
   "source": [
    "![The while loop](../images/03_while.png)"
   ]
  },
  {
   "cell_type": "markdown",
   "metadata": {},
   "source": [
    "#### Exercise"
   ]
  },
  {
   "cell_type": "markdown",
   "metadata": {},
   "source": [
    "**Task:** write a program that requests some input from the user until the user types in: *enough*. Then the execution of the program shall stop."
   ]
  },
  {
   "cell_type": "code",
   "execution_count": 23,
   "metadata": {},
   "outputs": [
    {
     "name": "stdin",
     "output_type": "stream",
     "text": [
      "Type in something:  apple\n",
      "Type in something:  pear\n",
      "Type in something:  peach\n",
      "Type in something:  strawberry\n",
      "Type in something:  walnut\n",
      "Type in something:  enough\n"
     ]
    }
   ],
   "source": [
    "user_input = input('Type in something: ')\n",
    "while user_input != 'enough':\n",
    "    user_input = input('Type in something: ')"
   ]
  },
  {
   "cell_type": "markdown",
   "metadata": {},
   "source": [
    "**Task:** write a program that requests number from the user until the user types in: *enough*.\n",
    "Then the program shall list all the previously inputted numbers in the same order.\n",
    "Invalid (not numeric) inputs shall be skipped, also displaying a warning message that an incorrect value was typed in.\n",
    "Sample input and output:\n",
    "\n",
    "```\n",
    "Next number: 10\n",
    "Next number: 8\n",
    "Next number: apple tree\n",
    "It is not a number, skipped!\n",
    "Next number: 42\n",
    "Next number: -4\n",
    "Next number: enough\n",
    "Given numbers: [10, 8, 42, -4]\n",
    "```"
   ]
  },
  {
   "cell_type": "code",
   "execution_count": 24,
   "metadata": {},
   "outputs": [
    {
     "name": "stdin",
     "output_type": "stream",
     "text": [
      "Next number:  10\n",
      "Next number:  8\n",
      "Next number:  apple tree\n"
     ]
    },
    {
     "name": "stdout",
     "output_type": "stream",
     "text": [
      "It is not a number, skipped!\n"
     ]
    },
    {
     "name": "stdin",
     "output_type": "stream",
     "text": [
      "Next number:  42\n",
      "Next number:  -4\n",
      "Next number:  enough\n"
     ]
    },
    {
     "name": "stdout",
     "output_type": "stream",
     "text": [
      "Given numbers: [10, 8, 42, -4]\n"
     ]
    }
   ],
   "source": [
    "numbers = []\n",
    "user_input = input('Next number: ')\n",
    "\n",
    "while user_input != 'enough':\n",
    "    try:\n",
    "        num = int(user_input)\n",
    "        numbers.append(num)\n",
    "    except:\n",
    "        print('It is not a number, skipped!')\n",
    "    \n",
    "    user_input = input('Next number: ')\n",
    "    \n",
    "print('Given numbers: {0}'.format(numbers))"
   ]
  },
  {
   "cell_type": "markdown",
   "metadata": {},
   "source": [
    "*Help: define an empty list before requesting user input iteratively. Add the user given numbers to the list (`append`). Then in the end you only need to display the items of the list.*"
   ]
  },
  {
   "cell_type": "markdown",
   "metadata": {},
   "source": [
    "---"
   ]
  },
  {
   "cell_type": "markdown",
   "metadata": {},
   "source": [
    "### `break` and `continue`"
   ]
  },
  {
   "cell_type": "markdown",
   "metadata": {},
   "source": [
    "`break` means get out of the loop immediately. Any code after the `break` will NOT be executed.\n",
    "\n",
    "Compare the following 2 solutions for listing *all divisors* versus *only the first divisor* of a number:"
   ]
  },
  {
   "cell_type": "code",
   "execution_count": 25,
   "metadata": {},
   "outputs": [
    {
     "name": "stdin",
     "output_type": "stream",
     "text": [
      "Input an integer number:  15\n"
     ]
    },
    {
     "name": "stdout",
     "output_type": "stream",
     "text": [
      "2 is NOT a divisor of 15\n",
      "3 is a divisor of 15\n",
      "4 is NOT a divisor of 15\n",
      "5 is a divisor of 15\n",
      "6 is NOT a divisor of 15\n",
      "7 is NOT a divisor of 15\n",
      "8 is NOT a divisor of 15\n",
      "9 is NOT a divisor of 15\n",
      "10 is NOT a divisor of 15\n",
      "11 is NOT a divisor of 15\n",
      "12 is NOT a divisor of 15\n",
      "13 is NOT a divisor of 15\n",
      "14 is NOT a divisor of 15\n",
      "15 is a divisor of 15\n"
     ]
    }
   ],
   "source": [
    "number = int(input(\"Input an integer number: \"))\n",
    "for i in range(2, number+1):\n",
    "    if number % i == 0:\n",
    "        print(\"{0} is a divisor of {1}\".format(i, number))\n",
    "    else:\n",
    "        print(\"{0} is NOT a divisor of {1}\".format(i, number))"
   ]
  },
  {
   "cell_type": "code",
   "execution_count": 26,
   "metadata": {
    "ExecuteTime": {
     "end_time": "2018-10-09T01:41:22.084338Z",
     "start_time": "2018-10-09T01:41:22.076857Z"
    }
   },
   "outputs": [
    {
     "name": "stdin",
     "output_type": "stream",
     "text": [
      "Input an integer number:  15\n"
     ]
    },
    {
     "name": "stdout",
     "output_type": "stream",
     "text": [
      "2 is NOT a divisor of 15\n",
      "The first divisor of 15 is 3\n"
     ]
    }
   ],
   "source": [
    "number = int(input(\"Input an integer number: \"))\n",
    "for i in range(2, number+1):\n",
    "    if number % i == 0:\n",
    "        print(\"The first divisor of {0} is {1}\".format(number, i))\n",
    "        break # NOTE the break statement here!\n",
    "    else:\n",
    "        print(\"{0} is NOT a divisor of {1}\".format(i, number))"
   ]
  },
  {
   "cell_type": "markdown",
   "metadata": {},
   "source": [
    "`continue` means get to the next iteration of loop. It will _stop_ the current iteration and __continue__ to the next.\n",
    "\n",
    "Compare the following 2 solutions for listing *all divisors* of a number:"
   ]
  },
  {
   "cell_type": "code",
   "execution_count": 27,
   "metadata": {
    "ExecuteTime": {
     "end_time": "2018-10-09T01:41:23.822603Z",
     "start_time": "2018-10-09T01:41:23.818257Z"
    }
   },
   "outputs": [
    {
     "name": "stdin",
     "output_type": "stream",
     "text": [
      "Input an integer number:  15\n"
     ]
    },
    {
     "name": "stdout",
     "output_type": "stream",
     "text": [
      "1 is a divisor of 15\n",
      "3 is a divisor of 15\n",
      "5 is a divisor of 15\n",
      "15 is a divisor of 15\n"
     ]
    }
   ],
   "source": [
    "number = int(input(\"Input an integer number: \"))\n",
    "for i in range(1, number+1):\n",
    "    if number % i == 0:\n",
    "        print(\"{0} is a divisor of {1}\".format(i, number))"
   ]
  },
  {
   "cell_type": "code",
   "execution_count": 28,
   "metadata": {
    "ExecuteTime": {
     "end_time": "2018-10-09T01:41:24.791324Z",
     "start_time": "2018-10-09T01:41:24.780078Z"
    }
   },
   "outputs": [
    {
     "name": "stdin",
     "output_type": "stream",
     "text": [
      "Input an integer number:  15\n"
     ]
    },
    {
     "name": "stdout",
     "output_type": "stream",
     "text": [
      "1 is a divisor of 15\n",
      "3 is a divisor of 15\n",
      "5 is a divisor of 15\n",
      "15 is a divisor of 15\n"
     ]
    }
   ],
   "source": [
    "number = int(input(\"Input an integer number: \"))\n",
    "for i in range(1, number+1):\n",
    "    if number % i != 0:\n",
    "        continue # if i NOT a divisor of number, then we continue the iteration with the next number\n",
    "    print(\"{0} is a divisor of {1}\".format(i, number))"
   ]
  },
  {
   "cell_type": "markdown",
   "metadata": {},
   "source": [
    "NOTE: `break` and `continue` can also be used within `while` loops."
   ]
  },
  {
   "cell_type": "markdown",
   "metadata": {},
   "source": [
    "---"
   ]
  },
  {
   "cell_type": "markdown",
   "metadata": {},
   "source": [
    "### Summary exercise on iterations and loops"
   ]
  },
  {
   "cell_type": "markdown",
   "metadata": {},
   "source": [
    "**Task: Test whether a number is a prime**\n",
    "\n",
    "Request an integer number from the user.\n",
    "\n",
    "Decide whether the number is a prime number or not and display your answer."
   ]
  },
  {
   "cell_type": "code",
   "execution_count": 29,
   "metadata": {},
   "outputs": [
    {
     "name": "stdin",
     "output_type": "stream",
     "text": [
      "Number to check:  37\n"
     ]
    },
    {
     "name": "stdout",
     "output_type": "stream",
     "text": [
      "Testing divisor 2\n",
      "Testing divisor 3\n",
      "Testing divisor 4\n",
      "Testing divisor 5\n",
      "Testing divisor 6\n",
      "37 is a prime\n"
     ]
    }
   ],
   "source": [
    "import math\n",
    "\n",
    "number = int(input(\"Number to check: \"))\n",
    "is_prime = True\n",
    "\n",
    "if number < 2:\n",
    "    # Handle 0 and 1 as a special case\n",
    "    is_prime = False\n",
    "else:\n",
    "    # Numbers >= 2 are tested whether they have any divisors\n",
    "    for i in range(2, int(math.sqrt(number) + 1)):\n",
    "        print(\"Testing divisor {0}\".format(i))\n",
    "        if number % i == 0:\n",
    "            # If we found a divisor, we can stop checking, because the number is NOT a prime\n",
    "            is_prime = False\n",
    "            break\n",
    "        \n",
    "if is_prime:\n",
    "    print(\"{0} is a prime\".format(number))\n",
    "else:\n",
    "    print(\"{0} is NOT a prime\".format(number))"
   ]
  },
  {
   "cell_type": "markdown",
   "metadata": {},
   "source": [
    "---"
   ]
  },
  {
   "cell_type": "markdown",
   "metadata": {},
   "source": [
    "## Random generation"
   ]
  },
  {
   "cell_type": "markdown",
   "metadata": {},
   "source": [
    "Random numbers can be generated with the `random` module.\n",
    "\n",
    "Execute the code cell below multiple times to get different results:"
   ]
  },
  {
   "cell_type": "code",
   "execution_count": 30,
   "metadata": {},
   "outputs": [
    {
     "name": "stdout",
     "output_type": "stream",
     "text": [
      "10\n"
     ]
    }
   ],
   "source": [
    "import random\n",
    "number = random.randint(1, 10)\n",
    "print(number)"
   ]
  },
  {
   "cell_type": "markdown",
   "metadata": {},
   "source": [
    "Generate 10 numbers between 1 and 100:"
   ]
  },
  {
   "cell_type": "code",
   "execution_count": 31,
   "metadata": {},
   "outputs": [
    {
     "name": "stdout",
     "output_type": "stream",
     "text": [
      "[15, 38, 98, 22, 11, 56, 71, 31, 55, 54]\n"
     ]
    }
   ],
   "source": [
    "numbers = []\n",
    "for i in range(10):\n",
    "    numbers.append(random.randint(1, 100))\n",
    "print(numbers)"
   ]
  },
  {
   "cell_type": "markdown",
   "metadata": {},
   "source": [
    "### Advanced:  pseudo-random numbers (optional)\n",
    "*This is advanced level remark, which is interesting, but not mandatory on this introductory course.*"
   ]
  },
  {
   "cell_type": "markdown",
   "metadata": {},
   "source": [
    "There is no real randomicity in computer science (unless you build a device which measures e.g. cosmic radiation). These numbers generated are so called pseudo-random numbers. They are generated by a deterministic mathematical algorithm along a uniform distribution.\n",
    "\n",
    "The following algorithm will always generate the same numbers regardless how many times you execute it, because we seed the algorithm a fix initial value before each random generation:"
   ]
  },
  {
   "cell_type": "code",
   "execution_count": 32,
   "metadata": {},
   "outputs": [
    {
     "name": "stdout",
     "output_type": "stream",
     "text": [
      "[82, 15, 4, 95, 36, 32, 29, 18, 95, 14]\n"
     ]
    }
   ],
   "source": [
    "random.seed(42)\n",
    "numbers = []\n",
    "for i in range(10):\n",
    "    numbers.append(random.randint(1, 100))\n",
    "print(numbers)"
   ]
  },
  {
   "cell_type": "markdown",
   "metadata": {},
   "source": [
    "By default the algorithm is only seeded once, with a value related to the milliseconds passed since the start of the computer. Hence it will look like real \"random\" numbers."
   ]
  },
  {
   "cell_type": "markdown",
   "metadata": {},
   "source": [
    "---"
   ]
  },
  {
   "cell_type": "markdown",
   "metadata": {},
   "source": [
    "### Exercise"
   ]
  },
  {
   "cell_type": "markdown",
   "metadata": {},
   "source": [
    "**Task: Dice roll** \n",
    "\n",
    "Write a loop which generates a dice roll (1-6) in every iteration. Run the loop 100 times and calculate the average value of the dice rolls! What is the difference against the expected value?\n",
    "\n",
    "How does it change if you execute the dice roll 1000 times?"
   ]
  },
  {
   "cell_type": "code",
   "execution_count": 33,
   "metadata": {},
   "outputs": [
    {
     "name": "stdout",
     "output_type": "stream",
     "text": [
      "Average value: 3.519\n",
      "Expected value: 3.5\n"
     ]
    }
   ],
   "source": [
    "import random\n",
    "\n",
    "numbers = []\n",
    "for i in range(0, 1000):\n",
    "    dice_roll = random.randint(1, 6)\n",
    "    numbers.append(dice_roll)\n",
    "    \n",
    "avg = sum(numbers) / len(numbers)\n",
    "print('Average value: {0}'.format(avg))\n",
    "print('Expected value: 3.5')"
   ]
  }
 ],
 "metadata": {
  "kernelspec": {
   "display_name": "Python 3",
   "language": "python",
   "name": "python3"
  },
  "language_info": {
   "codemirror_mode": {
    "name": "ipython",
    "version": 3
   },
   "file_extension": ".py",
   "mimetype": "text/x-python",
   "name": "python",
   "nbconvert_exporter": "python",
   "pygments_lexer": "ipython3",
   "version": "3.8.5"
  }
 },
 "nbformat": 4,
 "nbformat_minor": 4
}