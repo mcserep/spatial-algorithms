{
 "cells": [
  {
   "cell_type": "markdown",
   "metadata": {},
   "source": [
    "# Chapter 16: Spatial indexing"
   ]
  },
  {
   "cell_type": "markdown",
   "metadata": {},
   "source": [
    "## Package installation\n",
    "\n",
    "This chapter covers spatial indexing with *KD-trees*, *Quadtrees* and *R-trees*.\n",
    "The package requirement for these spatial indexes are the `scipy.spatial`, `pyqtree` and `rtree` modules respectively.\n",
    "\n",
    "### Anaconda\n",
    "\n",
    "If you have Anaconda installed, the `scipy` package was installed together with, you only need to install `pyqtree` and `rtree`.\n",
    "Open the *Anaconda Prompt* and type in:\n",
    "```\n",
    "conda install -c conda-forge pyqtree rtree\n",
    "```\n",
    "\n",
    "### Python Package Installer (pip)\n",
    "\n",
    "If you have standalone Python3 and Jupyter Notebook install, open a command prompt / terminal and type in:\n",
    "```\n",
    "pip3 install scipy pyqtree rtree\n",
    "```\n",
    "\n",
    "*You most likely have already installed `rtree`, as it was an optional dependency for `geopandas` in [Chapter 11](11_spatial_vector.ipynb).*"
   ]
  },
  {
   "cell_type": "markdown",
   "metadata": {},
   "source": [
    "---"
   ]
  },
  {
   "cell_type": "markdown",
   "metadata": {},
   "source": [
    "## Process the dataset"
   ]
  },
  {
   "cell_type": "markdown",
   "metadata": {},
   "source": [
    "Read the `hungary_cities.shp` shapefile located in the `data` folder.\n",
    "This dataset contains both scalar and spatial data of the Hungarian cities, and should be familiar from [Chapter 15](15_graph_spanning_tree.ipynb)."
   ]
  },
  {
   "cell_type": "code",
   "execution_count": 1,
   "metadata": {},
   "outputs": [
    {
     "data": {
      "text/html": [
       "<div>\n",
       "<style scoped>\n",
       "    .dataframe tbody tr th:only-of-type {\n",
       "        vertical-align: middle;\n",
       "    }\n",
       "\n",
       "    .dataframe tbody tr th {\n",
       "        vertical-align: top;\n",
       "    }\n",
       "\n",
       "    .dataframe thead th {\n",
       "        text-align: right;\n",
       "    }\n",
       "</style>\n",
       "<table border=\"1\" class=\"dataframe\">\n",
       "  <thead>\n",
       "    <tr style=\"text-align: right;\">\n",
       "      <th></th>\n",
       "      <th>Id</th>\n",
       "      <th>County</th>\n",
       "      <th>City</th>\n",
       "      <th>Status</th>\n",
       "      <th>KSH</th>\n",
       "      <th>geometry</th>\n",
       "    </tr>\n",
       "  </thead>\n",
       "  <tbody>\n",
       "    <tr>\n",
       "      <th>0</th>\n",
       "      <td>1</td>\n",
       "      <td>FEJÉR</td>\n",
       "      <td>Aba</td>\n",
       "      <td>town</td>\n",
       "      <td>17376</td>\n",
       "      <td>POINT (610046.800 187639.000)</td>\n",
       "    </tr>\n",
       "    <tr>\n",
       "      <th>1</th>\n",
       "      <td>2</td>\n",
       "      <td>BARANYA</td>\n",
       "      <td>Abaliget</td>\n",
       "      <td>town</td>\n",
       "      <td>12548</td>\n",
       "      <td>POINT (577946.100 89280.800)</td>\n",
       "    </tr>\n",
       "    <tr>\n",
       "      <th>2</th>\n",
       "      <td>3</td>\n",
       "      <td>HEVES</td>\n",
       "      <td>Abasár</td>\n",
       "      <td>town</td>\n",
       "      <td>24554</td>\n",
       "      <td>POINT (721963.700 273880.300)</td>\n",
       "    </tr>\n",
       "    <tr>\n",
       "      <th>3</th>\n",
       "      <td>4</td>\n",
       "      <td>BORSOD-ABAUJ-ZEMPLÉN</td>\n",
       "      <td>Abaújalpár</td>\n",
       "      <td>town</td>\n",
       "      <td>15662</td>\n",
       "      <td>POINT (812129.200 331508.200)</td>\n",
       "    </tr>\n",
       "    <tr>\n",
       "      <th>4</th>\n",
       "      <td>5</td>\n",
       "      <td>BORSOD-ABAUJ-ZEMPLÉN</td>\n",
       "      <td>Abaújkér</td>\n",
       "      <td>town</td>\n",
       "      <td>26718</td>\n",
       "      <td>POINT (809795.600 331138.300)</td>\n",
       "    </tr>\n",
       "    <tr>\n",
       "      <th>...</th>\n",
       "      <td>...</td>\n",
       "      <td>...</td>\n",
       "      <td>...</td>\n",
       "      <td>...</td>\n",
       "      <td>...</td>\n",
       "      <td>...</td>\n",
       "    </tr>\n",
       "    <tr>\n",
       "      <th>3142</th>\n",
       "      <td>3143</td>\n",
       "      <td>GYÕR-MOSON-SOPRON</td>\n",
       "      <td>Zsira</td>\n",
       "      <td>town</td>\n",
       "      <td>04622</td>\n",
       "      <td>POINT (471324.200 237577.200)</td>\n",
       "    </tr>\n",
       "    <tr>\n",
       "      <th>3143</th>\n",
       "      <td>3144</td>\n",
       "      <td>CSONGRÁD</td>\n",
       "      <td>Zsombó</td>\n",
       "      <td>town</td>\n",
       "      <td>17765</td>\n",
       "      <td>POINT (721098.100 109690.000)</td>\n",
       "    </tr>\n",
       "    <tr>\n",
       "      <th>3144</th>\n",
       "      <td>3145</td>\n",
       "      <td>BORSOD-ABAUJ-ZEMPLÉN</td>\n",
       "      <td>Zsujta</td>\n",
       "      <td>town</td>\n",
       "      <td>11022</td>\n",
       "      <td>POINT (815027.400 353143.100)</td>\n",
       "    </tr>\n",
       "    <tr>\n",
       "      <th>3145</th>\n",
       "      <td>3146</td>\n",
       "      <td>SZABOLCS-SZATMÁR-BEREG</td>\n",
       "      <td>Zsurk</td>\n",
       "      <td>town</td>\n",
       "      <td>13037</td>\n",
       "      <td>POINT (884847.700 344952.800)</td>\n",
       "    </tr>\n",
       "    <tr>\n",
       "      <th>3146</th>\n",
       "      <td>3147</td>\n",
       "      <td>BORSOD-ABAUJ-ZEMPLÉN</td>\n",
       "      <td>Zubogy</td>\n",
       "      <td>town</td>\n",
       "      <td>19105</td>\n",
       "      <td>POINT (763123.300 338338.600)</td>\n",
       "    </tr>\n",
       "  </tbody>\n",
       "</table>\n",
       "<p>3147 rows × 6 columns</p>\n",
       "</div>"
      ],
      "text/plain": [
       "        Id                  County        City Status    KSH  \\\n",
       "0        1                   FEJÉR         Aba   town  17376   \n",
       "1        2                 BARANYA    Abaliget   town  12548   \n",
       "2        3                   HEVES      Abasár   town  24554   \n",
       "3        4    BORSOD-ABAUJ-ZEMPLÉN  Abaújalpár   town  15662   \n",
       "4        5    BORSOD-ABAUJ-ZEMPLÉN    Abaújkér   town  26718   \n",
       "...    ...                     ...         ...    ...    ...   \n",
       "3142  3143       GYÕR-MOSON-SOPRON       Zsira   town  04622   \n",
       "3143  3144                CSONGRÁD      Zsombó   town  17765   \n",
       "3144  3145    BORSOD-ABAUJ-ZEMPLÉN      Zsujta   town  11022   \n",
       "3145  3146  SZABOLCS-SZATMÁR-BEREG       Zsurk   town  13037   \n",
       "3146  3147    BORSOD-ABAUJ-ZEMPLÉN      Zubogy   town  19105   \n",
       "\n",
       "                           geometry  \n",
       "0     POINT (610046.800 187639.000)  \n",
       "1      POINT (577946.100 89280.800)  \n",
       "2     POINT (721963.700 273880.300)  \n",
       "3     POINT (812129.200 331508.200)  \n",
       "4     POINT (809795.600 331138.300)  \n",
       "...                             ...  \n",
       "3142  POINT (471324.200 237577.200)  \n",
       "3143  POINT (721098.100 109690.000)  \n",
       "3144  POINT (815027.400 353143.100)  \n",
       "3145  POINT (884847.700 344952.800)  \n",
       "3146  POINT (763123.300 338338.600)  \n",
       "\n",
       "[3147 rows x 6 columns]"
      ]
     },
     "metadata": {},
     "output_type": "display_data"
    }
   ],
   "source": [
    "import geopandas as gpd\n",
    "\n",
    "cities = gpd.read_file('../data/hungary_cities.shp')\n",
    "display(cities)"
   ]
  },
  {
   "cell_type": "markdown",
   "metadata": {},
   "source": [
    "### Minimal bounding box"
   ]
  },
  {
   "cell_type": "markdown",
   "metadata": {},
   "source": [
    "Calculate the minimal bounding box for all the points! (We will use it later.)"
   ]
  },
  {
   "cell_type": "code",
   "execution_count": 2,
   "metadata": {},
   "outputs": [
    {
     "name": "stdout",
     "output_type": "stream",
     "text": [
      "Bounding box: (431339.2, 48431.5) - (934944.4, 359044.9)\n"
     ]
    }
   ],
   "source": [
    "def get_x(point):\n",
    "    return point.x\n",
    "\n",
    "def get_y(point):\n",
    "    return point.y\n",
    "\n",
    "# Calculating the minimal bounding box\n",
    "min_x = min(cities['geometry'], key = get_x).x # or cities.geometry\n",
    "max_x = max(cities['geometry'], key = get_x).x\n",
    "min_y = min(cities['geometry'], key = get_y).y\n",
    "max_y = max(cities['geometry'], key = get_y).y\n",
    "\n",
    "print(\"Bounding box: ({0:.1f}, {1:.1f}) - ({2:.1f}, {3:.1f})\".format(min_x, min_y, max_x, max_y))"
   ]
  },
  {
   "cell_type": "markdown",
   "metadata": {},
   "source": [
    "### Lambda functions *(optional)*"
   ]
  },
  {
   "cell_type": "markdown",
   "metadata": {},
   "source": [
    "Python lambdas are little, anonymous functions, subject to a more restrictive but more concise syntax than regular Python functions.\n",
    "\n",
    "Lambda functions can have any number of arguments but only one expression.\n",
    "The evaluated expression is the return value of the function.\n",
    "\n",
    "A lambda function in python has the following syntax:\n",
    "```python\n",
    "lambda arguments: expression\n",
    "```\n",
    "\n",
    "**Lambda functions can be used wherever function objects are required.**"
   ]
  },
  {
   "cell_type": "code",
   "execution_count": 3,
   "metadata": {},
   "outputs": [
    {
     "name": "stdout",
     "output_type": "stream",
     "text": [
      "Bounding box: (431339.2, 48431.5) - (934944.4, 359044.9)\n"
     ]
    }
   ],
   "source": [
    "# Calculating the minimal bounding box\n",
    "min_x = min(cities['geometry'], key = lambda p: p.x).x\n",
    "max_x = max(cities['geometry'], key = lambda p: p.x).x\n",
    "min_y = min(cities['geometry'], key = lambda p: p.y).y\n",
    "max_y = max(cities['geometry'], key = lambda p: p.y).y\n",
    "\n",
    "print(\"Bounding box: ({0:.1f}, {1:.1f}) - ({2:.1f}, {3:.1f})\".format(min_x, min_y, max_x, max_y))"
   ]
  },
  {
   "cell_type": "markdown",
   "metadata": {},
   "source": [
    "---"
   ]
  },
  {
   "cell_type": "markdown",
   "metadata": {},
   "source": [
    "## KdTree\n",
    "\n",
    "A [kdTree](https://en.wikipedia.org/wiki/K-d_tree) (short for *k-dimensional tree*) is a space-partitioning data structure for organizing points in a k-dimensional space. KdTrees are especially useful for searches involving a multidimensional search key, e.g. nearest neighbor searches and range searches.\n",
    "\n",
    "Example KdTree:  \n",
    "![Sample KdTree](../images/16_kdtree_adaptive.png \"Source: MSc thesis of Krisztina Orgován, ELTE FI\")\n",
    "\n",
    "Representation:  \n",
    "![Sample KdTree](../images/16_kdtree_representation.png \"Source: MSc thesis of Krisztina Orgován, ELTE FI\")"
   ]
  },
  {
   "cell_type": "markdown",
   "metadata": {},
   "source": [
    "Select a random city and create a point which we will query later."
   ]
  },
  {
   "cell_type": "code",
   "execution_count": 4,
   "metadata": {},
   "outputs": [
    {
     "name": "stdout",
     "output_type": "stream",
     "text": [
      "Id                               2620\n",
      "County                           PEST\n",
      "City                      Szigethalom\n",
      "Status                           town\n",
      "KSH                             13277\n",
      "geometry    POINT (646998.8 219076.5)\n",
      "Name: 2619, dtype: object\n"
     ]
    }
   ],
   "source": [
    "import random\n",
    "random.seed(42) # for reproducibility\n",
    "\n",
    "idx = random.randint(0, len(cities) - 1)\n",
    "city = cities.iloc[idx]\n",
    "print(city)"
   ]
  },
  {
   "cell_type": "markdown",
   "metadata": {},
   "source": [
    "Create the *query point*, by slightly distorting the location of the selected city."
   ]
  },
  {
   "cell_type": "code",
   "execution_count": 5,
   "metadata": {},
   "outputs": [
    {
     "name": "stdout",
     "output_type": "stream",
     "text": [
      "City location: POINT (646998.8 219076.5)\n",
      "Query location: POINT (646999.8 219078.5)\n"
     ]
    }
   ],
   "source": [
    "from shapely.geometry import Point\n",
    "\n",
    "city_point = city.geometry\n",
    "query_point = Point(city_point.x + 1, city_point.y + 2)\n",
    "\n",
    "print(\"City location: {0}\".format(city_point))\n",
    "print(\"Query location: {0}\".format(query_point))"
   ]
  },
  {
   "cell_type": "markdown",
   "metadata": {},
   "source": [
    "### Construct the KD-Tree"
   ]
  },
  {
   "cell_type": "markdown",
   "metadata": {},
   "source": [
    "The `scipy` module can construct KD-Tree from a list of points, where each point is represented by a 2 element list or tuple."
   ]
  },
  {
   "cell_type": "code",
   "execution_count": 6,
   "metadata": {},
   "outputs": [
    {
     "name": "stdout",
     "output_type": "stream",
     "text": [
      "[(610046.8, 187639.0), (577946.1, 89280.8), (721963.7, 273880.3), (812129.2, 331508.2), (809795.6, 331138.3), (791113.0, 341953.5), (808664.6, 328230.8), (792853.4, 338292.6), (817486.0, 356056.1), (767214.3, 237868.5)]\n"
     ]
    }
   ],
   "source": [
    "points = [(p.x, p.y) for p in cities['geometry']]\n",
    "print(points[:10])"
   ]
  },
  {
   "cell_type": "markdown",
   "metadata": {},
   "source": [
    "Now the *KD-Tree* can be constructed."
   ]
  },
  {
   "cell_type": "code",
   "execution_count": 7,
   "metadata": {},
   "outputs": [],
   "source": [
    "import scipy.spatial\n",
    "kdtree = scipy.spatial.KDTree(points)"
   ]
  },
  {
   "cell_type": "markdown",
   "metadata": {},
   "source": [
    "### Pointwise query"
   ]
  },
  {
   "cell_type": "markdown",
   "metadata": {},
   "source": [
    "Query the closest neighbor to the query point."
   ]
  },
  {
   "cell_type": "code",
   "execution_count": 8,
   "metadata": {},
   "outputs": [
    {
     "name": "stdout",
     "output_type": "stream",
     "text": [
      "City location: POINT (646998.8 219076.5)\n",
      "Query location: POINT (646999.8 219078.5)\n",
      "Closest neighbor: distance = 2.2361, index = 2619, point = (646998.8, 219076.5)\n",
      "Closest neighbor city: Szigethalom\n"
     ]
    }
   ],
   "source": [
    "print(\"City location: {0}\".format(city_point))\n",
    "print(\"Query location: {0}\".format(query_point))\n",
    "\n",
    "dist, idx = kdtree.query(query_point)\n",
    "\n",
    "print(\"Closest neighbor: distance = {0:.4f}, index = {1}, point = {2}\".format(dist, idx, points[idx]))\n",
    "print(\"Closest neighbor city: {0}\".format(cities.iloc[idx]['City']))"
   ]
  },
  {
   "cell_type": "markdown",
   "metadata": {},
   "source": [
    "Query the 3 closest neighbors to the query point."
   ]
  },
  {
   "cell_type": "code",
   "execution_count": 9,
   "metadata": {},
   "outputs": [
    {
     "name": "stdout",
     "output_type": "stream",
     "text": [
      "Query location: POINT (646999.8 219078.5)\n",
      "3 closest neighbors:\n",
      "1. neighbor: distance = 2.2361, index = 2619, point = (646998.8, 219076.5), city = Szigethalom\n",
      "2. neighbor: distance = 3087.9825, index = 2864, point = (643968.9, 219669.5), city = Tököl\n",
      "3. neighbor: distance = 3250.9858, index = 2622, point = (649095.2, 221564.1), city = Szigetszentmiklós\n"
     ]
    }
   ],
   "source": [
    "distances, indices = kdtree.query(query_point, k = 3)\n",
    "\n",
    "print(\"Query location: {0}\".format(query_point))\n",
    "print(\"3 closest neighbors:\")\n",
    "for i in range(len(indices)):    \n",
    "    idx = indices[i]\n",
    "    dist = distances[i]\n",
    "    print(\"{0}. neighbor: distance = {1:.4f}, index = {2}, point = {3}, city = {4}\".format(i+1, dist, idx, points[idx], cities.iloc[idx]['City']))"
   ]
  },
  {
   "cell_type": "markdown",
   "metadata": {},
   "source": [
    "Query the 50 closest neighbors to the query point within 10km."
   ]
  },
  {
   "cell_type": "code",
   "execution_count": 10,
   "metadata": {},
   "outputs": [
    {
     "name": "stdout",
     "output_type": "stream",
     "text": [
      "Distance list: [2.23606798e+00 3.08798248e+03 3.25098578e+03 4.37588711e+03\n",
      " 5.82197378e+03 5.82989477e+03 6.07146723e+03 6.09635922e+03\n",
      " 6.88039701e+03 7.86611138e+03 8.30077594e+03 8.36841190e+03\n",
      " 9.92969764e+03            inf            inf            inf\n",
      "            inf            inf            inf            inf\n",
      "            inf            inf            inf            inf\n",
      "            inf            inf            inf            inf\n",
      "            inf            inf            inf            inf\n",
      "            inf            inf            inf            inf\n",
      "            inf            inf            inf            inf\n",
      "            inf            inf            inf            inf\n",
      "            inf            inf            inf            inf\n",
      "            inf            inf]\n",
      "Index list: [2619 2864 2622 2678 1619  971  660 2618 2547  646  733  586   95 3147\n",
      " 3147 3147 3147 3147 3147 3147 3147 3147 3147 3147 3147 3147 3147 3147\n",
      " 3147 3147 3147 3147 3147 3147 3147 3147 3147 3147 3147 3147 3147 3147\n",
      " 3147 3147 3147 3147 3147 3147 3147 3147]\n"
     ]
    }
   ],
   "source": [
    "distances, indices = kdtree.query(query_point, k = 50, distance_upper_bound = 10000)\n",
    "print(\"Distance list: %s\" % distances)\n",
    "print(\"Index list: %s\" % indices)"
   ]
  },
  {
   "cell_type": "markdown",
   "metadata": {},
   "source": [
    "Most likely will only find less than 50 neighbors in a 10km range, but the index list has still 50 elements.\n",
    "For the invalid elements the `indices[i]` is not a valid index, but instead equals to `len(cities)`.\n",
    "So with a simple check we can detect the end of the valid results."
   ]
  },
  {
   "cell_type": "code",
   "execution_count": 11,
   "metadata": {},
   "outputs": [
    {
     "name": "stdout",
     "output_type": "stream",
     "text": [
      "[2619, 2864, 2622, 2678, 1619, 971, 660, 2618, 2547, 646, 733, 586, 95]\n"
     ]
    }
   ],
   "source": [
    "valid_indices = [idx for idx in indices if idx < len(cities)]\n",
    "print(valid_indices)"
   ]
  },
  {
   "cell_type": "code",
   "execution_count": 12,
   "metadata": {},
   "outputs": [
    {
     "name": "stdout",
     "output_type": "stream",
     "text": [
      "50 closest neighbors within 10km:\n",
      "1. neighbor: distance = 2.2, index = 2619, location = (646998.8, 219076.5), city = Szigethalom\n",
      "2. neighbor: distance = 3088.0, index = 2864, location = (643968.9, 219669.5), city = Tököl\n",
      "3. neighbor: distance = 3251.0, index = 2622, location = (649095.2, 221564.1), city = Szigetszentmiklós\n",
      "4. neighbor: distance = 4375.9, index = 2678, location = (651262.9, 220065.6), city = Taksony\n",
      "5. neighbor: distance = 5822.0, index = 1619, location = (646007.0, 213341.8), city = Majosháza\n",
      "6. neighbor: distance = 5829.9, index = 971, location = (644860.0, 224501.5), city = Halásztelek\n",
      "7. neighbor: distance = 6071.5, index = 660, location = (651533.1, 215039.7), city = Dunavarsány\n",
      "8. neighbor: distance = 6096.4, index = 2618, location = (643902.1, 213827.8), city = Szigetcsép\n",
      "9. neighbor: distance = 6880.4, index = 2547, location = (640127.5, 218744.8), city = Százhalombatta\n",
      "10. neighbor: distance = 7866.1, index = 646, location = (653626.9, 223316.1), city = Dunaharaszti\n",
      "11. neighbor: distance = 8300.8, index = 733, location = (640833.1, 224635.0), city = Érd\n",
      "12. neighbor: distance = 8368.4, index = 586, location = (651301.4, 211900.3), city = Délegyháza\n",
      "13. neighbor: distance = 9929.7, index = 95, location = (647222.5, 209151.3), city = Áporka\n"
     ]
    }
   ],
   "source": [
    "print(\"50 closest neighbors within 10km:\")\n",
    "for i in range(len(valid_indices)):\n",
    "    idx = valid_indices[i]\n",
    "    dist = distances[i]\n",
    "    print(\"{0}. neighbor: distance = {1:.1f}, index = {2}, location = {3}, city = {4}\".format(i+1, dist, idx, points[idx], cities.iloc[idx]['City']))"
   ]
  },
  {
   "cell_type": "markdown",
   "metadata": {},
   "source": [
    "### Exercise"
   ]
  },
  {
   "cell_type": "markdown",
   "metadata": {},
   "source": [
    "**Task 1:** Implement a linear search for the closest point instead of using a *KD-Tree*!"
   ]
  },
  {
   "cell_type": "code",
   "execution_count": 13,
   "metadata": {},
   "outputs": [
    {
     "name": "stdout",
     "output_type": "stream",
     "text": [
      "City location: POINT (646998.8 219076.5)\n",
      "Query location: POINT (646999.8 219078.5)\n",
      "Closest location: POINT (646998.8 219076.5)\n"
     ]
    }
   ],
   "source": [
    "def find_closest(points, query):\n",
    "    min_dist = None\n",
    "    min_point = None\n",
    "    for point in points:\n",
    "        dist = point.distance(query)\n",
    "        if min_dist is None or dist < min_dist:\n",
    "            min_dist = dist\n",
    "            min_point = point\n",
    "    return min_point\n",
    "            \n",
    "print(\"City location: {0}\".format(city_point))\n",
    "print(\"Query location: {0}\".format(query_point))\n",
    "closest_point = find_closest(cities['geometry'], query_point)\n",
    "print(\"Closest location: {0}\".format(closest_point))"
   ]
  },
  {
   "cell_type": "markdown",
   "metadata": {},
   "source": [
    "**Task 2:** Compare the execution time of the linear search and the spatial index query (logarithmic asymptotic complexity) approach!\n",
    "\n",
    "*Hint:* import the `time` module to record the timestamp before and after the execution of the desired algorithm:\n",
    "```python\n",
    "start = time.time()\n",
    "# ... measured code ...\n",
    "end = time.time()\n",
    "print(\"Execution time: {0:.6f}s\".format(end-start))\n",
    "```"
   ]
  },
  {
   "cell_type": "code",
   "execution_count": 14,
   "metadata": {},
   "outputs": [
    {
     "name": "stdout",
     "output_type": "stream",
     "text": [
      "Linear search execution time: 0.018702s\n",
      "KD-tree search execution time: 0.000258s\n"
     ]
    }
   ],
   "source": [
    "import time\n",
    "\n",
    "start = time.time()\n",
    "find_closest(cities['geometry'], query_point)\n",
    "end = time.time()\n",
    "print(\"Linear search execution time: {0:.6f}s\".format(end-start))\n",
    "\n",
    "start = time.time()\n",
    "kdtree.query(query_point)\n",
    "end = time.time()\n",
    "print(\"KD-tree search execution time: {0:.6f}s\".format(end-start))"
   ]
  },
  {
   "cell_type": "markdown",
   "metadata": {},
   "source": [
    "---"
   ]
  },
  {
   "cell_type": "markdown",
   "metadata": {},
   "source": [
    "## Quadtree\n",
    "\n",
    "A [quadtree](https://en.wikipedia.org/wiki/Quadtree) is a tree data structure in which each internal node has exactly four children. The 3 dimensional analog of quadtree is the [octree](https://en.wikipedia.org/wiki/Octree).\n",
    "\n",
    "Quadtree example:  \n",
    "<img alt=\"Quadtree\" src=\"../images/16_quadtree.png\" title=\"Source: MSc thesis of Krisztina Orgován, ELTE FI\" style=\"width: 600px; margin: auto;\"/>"
   ]
  },
  {
   "cell_type": "markdown",
   "metadata": {},
   "source": [
    "Create a 10x10km query area around a point."
   ]
  },
  {
   "cell_type": "code",
   "execution_count": 15,
   "metadata": {},
   "outputs": [
    {
     "name": "stdout",
     "output_type": "stream",
     "text": [
      "Query area: (641999.8, 214078.5, 651999.8, 224078.5), side length = 10.0 km\n"
     ]
    }
   ],
   "source": [
    "query_area_size = 10000\n",
    "query_area = (\n",
    "    query_point.x - query_area_size/2,\n",
    "    query_point.y - query_area_size/2,\n",
    "    query_point.x + query_area_size/2,\n",
    "    query_point.y + query_area_size/2\n",
    ")\n",
    "print(\"Query area: {0}, side length = {1:.1f} km\".format(query_area, query_area_size / 1000))"
   ]
  },
  {
   "cell_type": "markdown",
   "metadata": {},
   "source": [
    "### Construct the Quad-tree"
   ]
  },
  {
   "cell_type": "code",
   "execution_count": 16,
   "metadata": {},
   "outputs": [],
   "source": [
    "import pyqtree\n",
    "\n",
    "quadtree = pyqtree.Index(bbox=(min_x, min_y, max_x, max_y))\n",
    "for i in range(len(points)):\n",
    "    obj = { \"id\": i, \"point\": points[i] }\n",
    "    quadtree.insert(obj, points[i]) # object, bbox"
   ]
  },
  {
   "cell_type": "markdown",
   "metadata": {},
   "source": [
    "*Note:* for a polygon, the first argument should be the indexed object (e.g. the polygon itself), and the second argument should be the bounding box of the polygon."
   ]
  },
  {
   "cell_type": "markdown",
   "metadata": {},
   "source": [
    "### Areawise query"
   ]
  },
  {
   "cell_type": "code",
   "execution_count": 17,
   "metadata": {},
   "outputs": [
    {
     "name": "stdout",
     "output_type": "stream",
     "text": [
      "Matches: [{'id': 660, 'point': (651533.1, 215039.7)}, {'id': 2619, 'point': (646998.8, 219076.5)}, {'id': 2622, 'point': (649095.2, 221564.1)}, {'id': 2678, 'point': (651262.9, 220065.6)}, {'id': 2864, 'point': (643968.9, 219669.5)}]\n"
     ]
    }
   ],
   "source": [
    "matches = quadtree.intersect(query_area)\n",
    "print(\"Matches: {0}\".format(matches))"
   ]
  },
  {
   "cell_type": "code",
   "execution_count": 18,
   "metadata": {},
   "outputs": [
    {
     "name": "stdout",
     "output_type": "stream",
     "text": [
      "Index: 660, Location: (651533.1, 215039.7), City: Dunavarsány\n",
      "Index: 2619, Location: (646998.8, 219076.5), City: Szigethalom\n",
      "Index: 2622, Location: (649095.2, 221564.1), City: Szigetszentmiklós\n",
      "Index: 2678, Location: (651262.9, 220065.6), City: Taksony\n",
      "Index: 2864, Location: (643968.9, 219669.5), City: Tököl\n"
     ]
    }
   ],
   "source": [
    "for obj in matches:\n",
    "    print(\"Index: {0}, Location: {1}, City: {2}\".format(obj['id'], obj['point'], cities.iloc[obj['id']]['City']))"
   ]
  },
  {
   "cell_type": "markdown",
   "metadata": {},
   "source": [
    "---"
   ]
  },
  {
   "cell_type": "markdown",
   "metadata": {},
   "source": [
    "## R-Tree\n",
    "\n",
    "Inspired by the [B-tree](https://en.wikipedia.org/wiki/B-tree) for scalara data, he key idea of the [R-tree](https://en.wikipedia.org/wiki/R-tree) index structure is to group nearby objects and represent them with their minimum bounding rectangle in the next higher level of the tree, The *\"R\"* in R-tree stands for rectangle.\n",
    "\n",
    "R-tree for 2 dimensional data:  \n",
    "<img alt=\"R-tree for 2 dimensional data\" src=\"../images/16_rtree_2d.png\" title=\"Source: Wikipedia\" style=\"width: 600px; margin: auto;\"/>"
   ]
  },
  {
   "cell_type": "markdown",
   "metadata": {},
   "source": [
    "We will use the same `query_area` for demonstration, as before with the *Quadtree*."
   ]
  },
  {
   "cell_type": "markdown",
   "metadata": {},
   "source": [
    "### Construct the R-Tree"
   ]
  },
  {
   "cell_type": "code",
   "execution_count": 19,
   "metadata": {},
   "outputs": [],
   "source": [
    "from rtree import index as rtree_index\n",
    "\n",
    "rtree = rtree_index.Index()\n",
    "for i in range(len(points)):\n",
    "    rtree.insert(i, points[i]) # index, bbox"
   ]
  },
  {
   "cell_type": "markdown",
   "metadata": {},
   "source": [
    "### Areawise query"
   ]
  },
  {
   "cell_type": "code",
   "execution_count": 20,
   "metadata": {},
   "outputs": [
    {
     "name": "stdout",
     "output_type": "stream",
     "text": [
      "Matches: [2622, 2678, 2619, 2864, 660]\n"
     ]
    }
   ],
   "source": [
    "matches = rtree.intersection(query_area)\n",
    "print(\"Matches: {0}\".format(list(matches)))"
   ]
  },
  {
   "cell_type": "code",
   "execution_count": 21,
   "metadata": {},
   "outputs": [
    {
     "name": "stdout",
     "output_type": "stream",
     "text": [
      "Index: 2622, Location: POINT (649095.2 221564.1), City: Szigetszentmiklós\n",
      "Index: 2678, Location: POINT (651262.9 220065.6), City: Taksony\n",
      "Index: 2619, Location: POINT (646998.8 219076.5), City: Szigethalom\n",
      "Index: 2864, Location: POINT (643968.9 219669.5), City: Tököl\n",
      "Index: 660, Location: POINT (651533.1 215039.7), City: Dunavarsány\n"
     ]
    }
   ],
   "source": [
    "matches = rtree.intersection(query_area)\n",
    "for idx in matches:\n",
    "    city = cities.iloc[idx]\n",
    "    print(\"Index: {0}, Location: {1}, City: {2}\".format(idx, city['geometry'], city['City']))"
   ]
  },
  {
   "cell_type": "markdown",
   "metadata": {},
   "source": [
    "### GeoPandas integration"
   ]
  },
  {
   "cell_type": "markdown",
   "metadata": {},
   "source": [
    "If the `rtree` module is installed, the `geopandas` module utilizes an *R-tree* in the background to spatially index the spatial objects in a *GeoDataFrame*.\n",
    "\n",
    "This spatial index can be accessed directly as the `sindex` property of the *GeoDataFrame*:"
   ]
  },
  {
   "cell_type": "code",
   "execution_count": 22,
   "metadata": {},
   "outputs": [
    {
     "name": "stdout",
     "output_type": "stream",
     "text": [
      "rtree.index.Index(bounds=[431339.156, 48431.5, 934944.4, 359044.9], size=3147)\n",
      "Matches: [660, 2619, 2864, 2678, 2622]\n"
     ]
    }
   ],
   "source": [
    "print(cities.sindex)\n",
    "matches = cities.sindex.intersection(query_area)\n",
    "print(\"Matches: {0}\".format(list(matches)))"
   ]
  },
  {
   "cell_type": "markdown",
   "metadata": {},
   "source": [
    "The *R-Tree* spatial index is also used by the `sjoin()` and `clip()` function of *geopandas*."
   ]
  }
 ],
 "metadata": {
  "kernelspec": {
   "display_name": "Python 3",
   "language": "python",
   "name": "python3"
  },
  "language_info": {
   "codemirror_mode": {
    "name": "ipython",
    "version": 3
   },
   "file_extension": ".py",
   "mimetype": "text/x-python",
   "name": "python",
   "nbconvert_exporter": "python",
   "pygments_lexer": "ipython3",
   "version": "3.8.5"
  }
 },
 "nbformat": 4,
 "nbformat_minor": 4
}
