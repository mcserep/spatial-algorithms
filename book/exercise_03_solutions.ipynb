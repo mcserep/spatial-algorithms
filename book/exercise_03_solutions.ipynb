{
 "cells": [
  {
   "cell_type": "markdown",
   "metadata": {},
   "source": [
    "# Exercise Book 3\n",
    "\n",
    "**Covering the materials of Chapters 9-10.**  \n",
    "Topics: tabular data, plotting and diagram visualization"
   ]
  },
  {
   "cell_type": "markdown",
   "metadata": {},
   "source": [
    "Open and read the attached `data/airports.csv` file, containing information about (larger) airports all over the world:\n",
    " 1. IATA code (International Air Transport Association code, e.g. *BUD* for the Budapest Airport)\n",
    " 2. ICAO code (International Civil Aviation Organization code, e.g. *LHBP* for the Budapest Airport)\n",
    " 3. Name\n",
    " 4. Number of runways\n",
    " 5. Longest runway length (in foots)\n",
    " 6. Elevation (in foots)\n",
    " 7. Country\n",
    " 8. Country region\n",
    " 9. City\n",
    " 10. Latitude\n",
    " 11. Longitude"
   ]
  },
  {
   "cell_type": "markdown",
   "metadata": {},
   "source": [
    "The columns in each row are delimited with `;` characters (instead of the default `,`)."
   ]
  },
  {
   "cell_type": "code",
   "execution_count": 1,
   "metadata": {},
   "outputs": [
    {
     "data": {
      "text/html": [
       "<div>\n",
       "<style scoped>\n",
       "    .dataframe tbody tr th:only-of-type {\n",
       "        vertical-align: middle;\n",
       "    }\n",
       "\n",
       "    .dataframe tbody tr th {\n",
       "        vertical-align: top;\n",
       "    }\n",
       "\n",
       "    .dataframe thead th {\n",
       "        text-align: right;\n",
       "    }\n",
       "</style>\n",
       "<table border=\"1\" class=\"dataframe\">\n",
       "  <thead>\n",
       "    <tr style=\"text-align: right;\">\n",
       "      <th></th>\n",
       "      <th>iata</th>\n",
       "      <th>icao</th>\n",
       "      <th>name</th>\n",
       "      <th>runways</th>\n",
       "      <th>longest</th>\n",
       "      <th>elevation</th>\n",
       "      <th>country</th>\n",
       "      <th>region</th>\n",
       "      <th>city</th>\n",
       "      <th>lat</th>\n",
       "      <th>lon</th>\n",
       "    </tr>\n",
       "  </thead>\n",
       "  <tbody>\n",
       "    <tr>\n",
       "      <th>0</th>\n",
       "      <td>ATL</td>\n",
       "      <td>KATL</td>\n",
       "      <td>Hartsfield - Jackson Atlanta International Air...</td>\n",
       "      <td>5</td>\n",
       "      <td>12390</td>\n",
       "      <td>1026</td>\n",
       "      <td>US</td>\n",
       "      <td>US-GA</td>\n",
       "      <td>Atlanta</td>\n",
       "      <td>33.636700</td>\n",
       "      <td>-84.428101</td>\n",
       "    </tr>\n",
       "    <tr>\n",
       "      <th>1</th>\n",
       "      <td>ANC</td>\n",
       "      <td>PANC</td>\n",
       "      <td>Anchorage Ted Stevens</td>\n",
       "      <td>3</td>\n",
       "      <td>12400</td>\n",
       "      <td>151</td>\n",
       "      <td>US</td>\n",
       "      <td>US-AK</td>\n",
       "      <td>Anchorage</td>\n",
       "      <td>61.174400</td>\n",
       "      <td>-149.996002</td>\n",
       "    </tr>\n",
       "    <tr>\n",
       "      <th>2</th>\n",
       "      <td>AUS</td>\n",
       "      <td>KAUS</td>\n",
       "      <td>Austin Bergstrom International Airport</td>\n",
       "      <td>2</td>\n",
       "      <td>12250</td>\n",
       "      <td>542</td>\n",
       "      <td>US</td>\n",
       "      <td>US-TX</td>\n",
       "      <td>Austin</td>\n",
       "      <td>30.194500</td>\n",
       "      <td>-97.669899</td>\n",
       "    </tr>\n",
       "    <tr>\n",
       "      <th>3</th>\n",
       "      <td>BNA</td>\n",
       "      <td>KBNA</td>\n",
       "      <td>Nashville International Airport</td>\n",
       "      <td>4</td>\n",
       "      <td>11030</td>\n",
       "      <td>599</td>\n",
       "      <td>US</td>\n",
       "      <td>US-TN</td>\n",
       "      <td>Nashville</td>\n",
       "      <td>36.124500</td>\n",
       "      <td>-86.678200</td>\n",
       "    </tr>\n",
       "    <tr>\n",
       "      <th>4</th>\n",
       "      <td>BOS</td>\n",
       "      <td>KBOS</td>\n",
       "      <td>Boston Logan</td>\n",
       "      <td>6</td>\n",
       "      <td>10083</td>\n",
       "      <td>19</td>\n",
       "      <td>US</td>\n",
       "      <td>US-MA</td>\n",
       "      <td>Boston</td>\n",
       "      <td>42.364300</td>\n",
       "      <td>-71.005203</td>\n",
       "    </tr>\n",
       "    <tr>\n",
       "      <th>...</th>\n",
       "      <td>...</td>\n",
       "      <td>...</td>\n",
       "      <td>...</td>\n",
       "      <td>...</td>\n",
       "      <td>...</td>\n",
       "      <td>...</td>\n",
       "      <td>...</td>\n",
       "      <td>...</td>\n",
       "      <td>...</td>\n",
       "      <td>...</td>\n",
       "      <td>...</td>\n",
       "    </tr>\n",
       "    <tr>\n",
       "      <th>3459</th>\n",
       "      <td>LNL</td>\n",
       "      <td>ZLLN</td>\n",
       "      <td>Cheng Xian Airport</td>\n",
       "      <td>1</td>\n",
       "      <td>9186</td>\n",
       "      <td>3707</td>\n",
       "      <td>CN</td>\n",
       "      <td>CN-62</td>\n",
       "      <td>Longnan</td>\n",
       "      <td>33.789722</td>\n",
       "      <td>105.788611</td>\n",
       "    </tr>\n",
       "    <tr>\n",
       "      <th>3460</th>\n",
       "      <td>XAI</td>\n",
       "      <td>ZHXY</td>\n",
       "      <td>Xinyang Minggang Airport</td>\n",
       "      <td>1</td>\n",
       "      <td>8858</td>\n",
       "      <td>4528</td>\n",
       "      <td>CN</td>\n",
       "      <td>CN-41</td>\n",
       "      <td>Xinyang</td>\n",
       "      <td>32.540556</td>\n",
       "      <td>114.078889</td>\n",
       "    </tr>\n",
       "    <tr>\n",
       "      <th>3461</th>\n",
       "      <td>YYA</td>\n",
       "      <td>ZGYY</td>\n",
       "      <td>Sanhe Airport</td>\n",
       "      <td>1</td>\n",
       "      <td>8530</td>\n",
       "      <td>230</td>\n",
       "      <td>CN</td>\n",
       "      <td>CN-43</td>\n",
       "      <td>Yueyang</td>\n",
       "      <td>29.312500</td>\n",
       "      <td>113.281667</td>\n",
       "    </tr>\n",
       "    <tr>\n",
       "      <th>3462</th>\n",
       "      <td>BQJ</td>\n",
       "      <td>UEBB</td>\n",
       "      <td>Batagay Airport</td>\n",
       "      <td>2</td>\n",
       "      <td>6562</td>\n",
       "      <td>699</td>\n",
       "      <td>RU</td>\n",
       "      <td>RU-SA</td>\n",
       "      <td>Batagay</td>\n",
       "      <td>67.647778</td>\n",
       "      <td>134.693611</td>\n",
       "    </tr>\n",
       "    <tr>\n",
       "      <th>3463</th>\n",
       "      <td>DPT</td>\n",
       "      <td>UEBD</td>\n",
       "      <td>Deputatskij Airport</td>\n",
       "      <td>1</td>\n",
       "      <td>7021</td>\n",
       "      <td>920</td>\n",
       "      <td>RU</td>\n",
       "      <td>RU-SA</td>\n",
       "      <td>Deputatskij</td>\n",
       "      <td>69.392500</td>\n",
       "      <td>139.889444</td>\n",
       "    </tr>\n",
       "  </tbody>\n",
       "</table>\n",
       "<p>3464 rows × 11 columns</p>\n",
       "</div>"
      ],
      "text/plain": [
       "     iata  icao                                               name  runways  \\\n",
       "0     ATL  KATL  Hartsfield - Jackson Atlanta International Air...        5   \n",
       "1     ANC  PANC                              Anchorage Ted Stevens        3   \n",
       "2     AUS  KAUS             Austin Bergstrom International Airport        2   \n",
       "3     BNA  KBNA                    Nashville International Airport        4   \n",
       "4     BOS  KBOS                                       Boston Logan        6   \n",
       "...   ...   ...                                                ...      ...   \n",
       "3459  LNL  ZLLN                                 Cheng Xian Airport        1   \n",
       "3460  XAI  ZHXY                           Xinyang Minggang Airport        1   \n",
       "3461  YYA  ZGYY                                      Sanhe Airport        1   \n",
       "3462  BQJ  UEBB                                    Batagay Airport        2   \n",
       "3463  DPT  UEBD                                Deputatskij Airport        1   \n",
       "\n",
       "      longest  elevation country region         city        lat         lon  \n",
       "0       12390       1026      US  US-GA      Atlanta  33.636700  -84.428101  \n",
       "1       12400        151      US  US-AK    Anchorage  61.174400 -149.996002  \n",
       "2       12250        542      US  US-TX       Austin  30.194500  -97.669899  \n",
       "3       11030        599      US  US-TN    Nashville  36.124500  -86.678200  \n",
       "4       10083         19      US  US-MA       Boston  42.364300  -71.005203  \n",
       "...       ...        ...     ...    ...          ...        ...         ...  \n",
       "3459     9186       3707      CN  CN-62      Longnan  33.789722  105.788611  \n",
       "3460     8858       4528      CN  CN-41      Xinyang  32.540556  114.078889  \n",
       "3461     8530        230      CN  CN-43      Yueyang  29.312500  113.281667  \n",
       "3462     6562        699      RU  RU-SA      Batagay  67.647778  134.693611  \n",
       "3463     7021        920      RU  RU-SA  Deputatskij  69.392500  139.889444  \n",
       "\n",
       "[3464 rows x 11 columns]"
      ]
     },
     "metadata": {},
     "output_type": "display_data"
    }
   ],
   "source": [
    "import pandas as pd\n",
    "\n",
    "airports = pd.read_csv('../data/airports.csv', delimiter=';')\n",
    "display(airports)"
   ]
  },
  {
   "cell_type": "markdown",
   "metadata": {},
   "source": [
    "---"
   ]
  },
  {
   "cell_type": "markdown",
   "metadata": {},
   "source": [
    "## Task 1"
   ]
  },
  {
   "cell_type": "markdown",
   "metadata": {},
   "source": [
    "Write a program that calculates and prints for each country the number of airports in that country. Sort the list by the number of airports."
   ]
  },
  {
   "cell_type": "code",
   "execution_count": 2,
   "metadata": {},
   "outputs": [
    {
     "data": {
      "text/plain": [
       "country\n",
       "US    583\n",
       "CN    217\n",
       "CA    205\n",
       "AU    130\n",
       "RU    126\n",
       "     ... \n",
       "GM      1\n",
       "NR      1\n",
       "GN      1\n",
       "GP      1\n",
       "KW      1\n",
       "Name: iata, Length: 231, dtype: int64"
      ]
     },
     "metadata": {},
     "output_type": "display_data"
    }
   ],
   "source": [
    "display(airports.groupby('country').count()['iata'].sort_values(ascending=False))"
   ]
  },
  {
   "cell_type": "markdown",
   "metadata": {},
   "source": [
    "## Task 2"
   ]
  },
  {
   "cell_type": "markdown",
   "metadata": {},
   "source": [
    "Write a program that calculates and prints which city has the highest elevation. If a city has multiple airports, calculate the average (mean)  elevation of the airports in that city."
   ]
  },
  {
   "cell_type": "code",
   "execution_count": 3,
   "metadata": {},
   "outputs": [
    {
     "data": {
      "text/plain": [
       "'Daocheng'"
      ]
     },
     "metadata": {},
     "output_type": "display_data"
    }
   ],
   "source": [
    "display(airports.groupby('city').mean()['elevation'].idxmax())"
   ]
  },
  {
   "cell_type": "markdown",
   "metadata": {},
   "source": [
    "## Task 3"
   ]
  },
  {
   "cell_type": "markdown",
   "metadata": {},
   "source": [
    "Write a program that displays the city names which has at least 5 runways accumulated. Sort the city list by the number of runways decreasing and also display the number of runway in each city.\n",
    "\n",
    "*Note: keep in mind that a city might have multiple airports!*"
   ]
  },
  {
   "cell_type": "code",
   "execution_count": 4,
   "metadata": {},
   "outputs": [
    {
     "data": {
      "text/plain": [
       "city\n",
       "Chicago            12\n",
       "Dallas             10\n",
       "Houston             9\n",
       "London              9\n",
       "Denver              9\n",
       "Hamilton            8\n",
       "Orlando             8\n",
       "Melbourne           8\n",
       "Sydney              8\n",
       "Istanbul            8\n",
       "Toronto             8\n",
       "Beijing             8\n",
       "Paris               7\n",
       "Columbus            7\n",
       "Moscow              7\n",
       "Victoria            7\n",
       "Portland            7\n",
       "Washington D.C.     7\n",
       "Cincinnati          7\n",
       "Phoenix             6\n",
       "New York            6\n",
       "Albany              6\n",
       "Aberdeen            6\n",
       "San Jose            6\n",
       "Greenville          6\n",
       "Glasgow             6\n",
       "Detroit             6\n",
       "Tokyo               6\n",
       "Boston              6\n",
       "Amsterdam           6\n",
       "Tauranga            5\n",
       "Springfield         5\n",
       "Tehran              5\n",
       "Shannon             5\n",
       "Seoul               5\n",
       "Santiago            5\n",
       "Ufa                 5\n",
       "Santa Rosa          5\n",
       "Milwaukee           5\n",
       "Rochester           5\n",
       "Reykjavik           5\n",
       "Paraparaumu         5\n",
       "Nelson              5\n",
       "Napier              5\n",
       "Karup               5\n",
       "Jamestown           5\n",
       "Jackson             5\n",
       "Gisborne            5\n",
       "Charleston          5\n",
       "Carlsbad            5\n",
       "Barcelona           5\n",
       "Atlanta             5\n",
       "Alexandria          5\n",
       "Wilmington          5\n",
       "Name: runways, dtype: int64"
      ]
     },
     "metadata": {},
     "output_type": "display_data"
    }
   ],
   "source": [
    "airports_city = airports.groupby('city').sum()\n",
    "display(airports_city[airports_city['runways'] >= 5].sort_values(by='runways', ascending=False)['runways'])"
   ]
  },
  {
   "cell_type": "markdown",
   "metadata": {},
   "source": [
    "## Task 4"
   ]
  },
  {
   "cell_type": "markdown",
   "metadata": {},
   "source": [
    "Create a *bar plot*, displaying length of the longest runway for each airport. The aiports shall be sorted by the longest runway length (ascending). Visualize only the top 100 aiports, so the diagram will be readable. Set an appropriate figure size, so all bars and labels are readable."
   ]
  },
  {
   "cell_type": "code",
   "execution_count": 5,
   "metadata": {},
   "outputs": [
    {
     "data": {
      "image/png": "[encoded data removed]",
      "text/plain": [
       "<Figure size 1440x288 with 1 Axes>"
      ]
     },
     "metadata": {
      "needs_background": "light"
     },
     "output_type": "display_data"
    }
   ],
   "source": [
    "import matplotlib.pyplot as plt\n",
    "%matplotlib inline\n",
    "\n",
    "airports.sort_values(by='longest').tail(100).plot(kind='bar', x='iata', y='longest', figsize=[20,4], width=0.7, label='longest runway')\n",
    "plt.show()"
   ]
  },
  {
   "cell_type": "markdown",
   "metadata": {},
   "source": [
    "## Task 5"
   ]
  },
  {
   "cell_type": "markdown",
   "metadata": {},
   "source": [
    "Create a *bar plot*, displaying length of the longest runway for each **city**. The cities shall be sorted by the longest runway length (ascending). Visualize only the top 100 cities, so the diagram will be readable. Set an appropriate figure size, so all bars and labels are readable."
   ]
  },
  {
   "cell_type": "code",
   "execution_count": 6,
   "metadata": {},
   "outputs": [
    {
     "data": {
      "image/png": "[encoded data removed]",
      "text/plain": [
       "<Figure size 1440x288 with 1 Axes>"
      ]
     },
     "metadata": {
      "needs_background": "light"
     },
     "output_type": "display_data"
    }
   ],
   "source": [
    "airports.groupby('city').max()['longest'].sort_values().tail(100).plot(kind='bar', figsize=[20,4], width=0.7, label='longest runway')\n",
    "plt.show()"
   ]
  }
 ],
 "metadata": {
  "kernelspec": {
   "display_name": "Python 3",
   "language": "python",
   "name": "python3"
  },
  "language_info": {
   "codemirror_mode": {
    "name": "ipython",
    "version": 3
   },
   "file_extension": ".py",
   "mimetype": "text/x-python",
   "name": "python",
   "nbconvert_exporter": "python",
   "pygments_lexer": "ipython3",
   "version": "3.8.5"
  }
 },
 "nbformat": 4,
 "nbformat_minor": 4
}
