{
 "cells": [
  {
   "cell_type": "markdown",
   "metadata": {},
   "source": [
    "# Chapter 4: Functions"
   ]
  },
  {
   "cell_type": "markdown",
   "metadata": {},
   "source": [
    "We have already used (*called*) functions multiple times, like `print()`, `int()`, `len()` or `randint()`."
   ]
  },
  {
   "cell_type": "code",
   "execution_count": 1,
   "metadata": {},
   "outputs": [
    {
     "name": "stdout",
     "output_type": "stream",
     "text": [
      "James Bond\n",
      "10\n",
      "7\n",
      "39\n"
     ]
    }
   ],
   "source": [
    "import random\n",
    "\n",
    "name = \"James Bond\"\n",
    "number = int(\"007\")\n",
    "print(name)\n",
    "print(len(name))\n",
    "print(number)\n",
    "print(random.randint(1, 100))"
   ]
  },
  {
   "cell_type": "markdown",
   "metadata": {},
   "source": [
    "The concept of a function in programming is very close to the mathematical definition of a function. These functions can:\n",
    " * accept 0, 1 or multiple parameters;\n",
    " * return a value or not;\n",
    " * meanwhile causing *side-effects*, like printing a message on the console output."
   ]
  },
  {
   "cell_type": "markdown",
   "metadata": {},
   "source": [
    "## Defining custom functions"
   ]
  },
  {
   "cell_type": "markdown",
   "metadata": {},
   "source": [
    "By defining custom functions, the redundancy in the code can be reduced. A custom function can be defined with the `def` keyword:\n",
    "```\n",
    "def function_name ( <parameter_list> ):\n",
    "    function_statement\n",
    "```"
   ]
  },
  {
   "cell_type": "markdown",
   "metadata": {},
   "source": [
    "By *defining* a function we are just \"storing\" it, be we are not executing it yet. For example:"
   ]
  },
  {
   "cell_type": "code",
   "execution_count": 2,
   "metadata": {},
   "outputs": [],
   "source": [
    "def hello():\n",
    "    print(\"Hello World!\")"
   ]
  },
  {
   "cell_type": "markdown",
   "metadata": {},
   "source": [
    "Now we may *call* the function even multiple types to execute it:"
   ]
  },
  {
   "cell_type": "code",
   "execution_count": 3,
   "metadata": {},
   "outputs": [
    {
     "name": "stdout",
     "output_type": "stream",
     "text": [
      "First line\n",
      "Hello World!\n",
      "Second line\n",
      "Hello World!\n"
     ]
    }
   ],
   "source": [
    "print(\"First line\")\n",
    "hello()\n",
    "print(\"Second line\")\n",
    "hello()"
   ]
  },
  {
   "cell_type": "markdown",
   "metadata": {},
   "source": [
    "What will be the type of a function?"
   ]
  },
  {
   "cell_type": "code",
   "execution_count": 4,
   "metadata": {},
   "outputs": [
    {
     "name": "stdout",
     "output_type": "stream",
     "text": [
      "<class 'function'>\n"
     ]
    }
   ],
   "source": [
    "print(type(hello))"
   ]
  },
  {
   "cell_type": "markdown",
   "metadata": {},
   "source": [
    "## Parameters"
   ]
  },
  {
   "cell_type": "markdown",
   "metadata": {},
   "source": [
    "Functions may have zero, one or multiple parameters, which are given between parentheses as *variables* to the function:"
   ]
  },
  {
   "cell_type": "code",
   "execution_count": 5,
   "metadata": {},
   "outputs": [],
   "source": [
    "def greet(name):\n",
    "    print(\"Hello \" + name + \"!\")"
   ]
  },
  {
   "cell_type": "code",
   "execution_count": 6,
   "metadata": {},
   "outputs": [
    {
     "name": "stdout",
     "output_type": "stream",
     "text": [
      "Hello John!\n",
      "Hello Jane!\n"
     ]
    }
   ],
   "source": [
    "greet(\"John\")\n",
    "someName = \"Jane\"\n",
    "greet(someName)"
   ]
  },
  {
   "cell_type": "markdown",
   "metadata": {},
   "source": [
    "In the above example the variable `name` is a **parameter**. The literal value `John` and the variable `someName` are the **arguments** of the function call. So parameters are the generalized variables in the function definitions, while arguments are the actual, concrete values in a function call."
   ]
  },
  {
   "cell_type": "markdown",
   "metadata": {},
   "source": [
    "## Return values"
   ]
  },
  {
   "cell_type": "markdown",
   "metadata": {},
   "source": [
    "Functions can return a value with the `return` statement. When a function reaches a return statement, the execution of the function is stopped and the given value is returned. (A function can contain multiple return statements when using conditions or iterations.)"
   ]
  },
  {
   "cell_type": "markdown",
   "metadata": {},
   "source": [
    "Let's write the `sum_list` function, which receives a list of numerical values as a parameter and returns the sum of the numbers!"
   ]
  },
  {
   "cell_type": "code",
   "execution_count": 7,
   "metadata": {},
   "outputs": [],
   "source": [
    "def sum_list(numbers): # numbers is assumed to be a list of numerical values\n",
    "    sum_value = 0\n",
    "    for num in numbers:\n",
    "        sum_value += num\n",
    "    return sum_value\n",
    "    print(\"This line will never get printed\")"
   ]
  },
  {
   "cell_type": "markdown",
   "metadata": {},
   "source": [
    "Until now, we have only defined the function, now we can call it:"
   ]
  },
  {
   "cell_type": "code",
   "execution_count": 8,
   "metadata": {},
   "outputs": [
    {
     "name": "stdout",
     "output_type": "stream",
     "text": [
      "212\n"
     ]
    }
   ],
   "source": [
    "nums = [12, 8, 37, 21, 67, 42, 25]\n",
    "print(sum_list(nums))"
   ]
  },
  {
   "cell_type": "markdown",
   "metadata": {},
   "source": [
    "A function can contain multiple `return` statements. After the first `return` statement reached, the execution of the function is stopped."
   ]
  },
  {
   "cell_type": "markdown",
   "metadata": {},
   "source": [
    "Let's write the `average` function, which receives a list of numerical values as a parameter and returns the average of the numbers. If the list is empty, the returned value shall be `None`. Reuse the previous `sum_list` function to produce the sum of the values."
   ]
  },
  {
   "cell_type": "code",
   "execution_count": 9,
   "metadata": {},
   "outputs": [],
   "source": [
    "def average(numbers): # numbers is assumed to be a list of numerical values\n",
    "    if len(numbers) == 0:\n",
    "        return None\n",
    "    else:\n",
    "        return sum_list(numbers) / len(numbers)\n",
    "    print(\"This line will never get printed\")"
   ]
  },
  {
   "cell_type": "code",
   "execution_count": 10,
   "metadata": {},
   "outputs": [
    {
     "name": "stdout",
     "output_type": "stream",
     "text": [
      "30.285714285714285\n"
     ]
    }
   ],
   "source": [
    "nums = [12, 8, 37, 21, 67, 42, 25]\n",
    "print(average(nums))"
   ]
  },
  {
   "cell_type": "markdown",
   "metadata": {},
   "source": [
    "*Remark*: the `None` keyword is used to define a no value at all (also called *null value*).  \n",
    "`None` is not the same as `0`, `False`, or an empty string. `None` has a data type of its own (`NoneType`) and only `None` can be `None`."
   ]
  },
  {
   "cell_type": "markdown",
   "metadata": {},
   "source": [
    "Functions returning a value are called *fruitful* functions. Functions without a return value are called *void* functions. In that case the returned value is *None*."
   ]
  },
  {
   "cell_type": "code",
   "execution_count": 11,
   "metadata": {},
   "outputs": [
    {
     "name": "stdout",
     "output_type": "stream",
     "text": [
      "Hello Matthew!\n",
      "Hello Andrew!\n",
      "None\n"
     ]
    }
   ],
   "source": [
    "greet(\"Matthew\")\n",
    "result = greet(\"Andrew\")\n",
    "print(result)"
   ]
  },
  {
   "cell_type": "markdown",
   "metadata": {},
   "source": [
    "## Multiple parameters"
   ]
  },
  {
   "cell_type": "markdown",
   "metadata": {},
   "source": [
    "Functions may have multiple parameters. In such a case the arguments are matched to the parameters in the same order as they are listed."
   ]
  },
  {
   "cell_type": "code",
   "execution_count": 12,
   "metadata": {},
   "outputs": [
    {
     "name": "stdout",
     "output_type": "stream",
     "text": [
      "Adding 10 and 32\n",
      "42\n",
      "Adding -5 and 8\n",
      "3\n"
     ]
    }
   ],
   "source": [
    "def add(a, b):\n",
    "    print(\"Adding {0} and {1}\".format(a,b))\n",
    "    c = a + b\n",
    "    return c\n",
    "\n",
    "result = add(10, 32)\n",
    "print(result)\n",
    "result = add(-5, 8)\n",
    "print(result)"
   ]
  },
  {
   "cell_type": "markdown",
   "metadata": {},
   "source": [
    "## Default arguments"
   ]
  },
  {
   "cell_type": "markdown",
   "metadata": {},
   "source": [
    "Python allows function parameters to have default values. If the function is called without the argument, the parameter gets its default value."
   ]
  },
  {
   "cell_type": "code",
   "execution_count": 13,
   "metadata": {},
   "outputs": [
    {
     "name": "stdout",
     "output_type": "stream",
     "text": [
      "64\n",
      "1024\n",
      "1024\n"
     ]
    }
   ],
   "source": [
    "def power(base, exp = 10):\n",
    "    return base ** exp\n",
    "\n",
    "print(power(2, 6))\n",
    "print(power(2, 10))\n",
    "print(power(2))"
   ]
  },
  {
   "cell_type": "markdown",
   "metadata": {},
   "source": [
    "**IMPORTANT:** if a parameter has a default value, all other parameters following it must have a default value too! E.g. this is **invalid**:\n",
    "```python\n",
    "def power(base = 2, exp):\n",
    "    return base ** exp\n",
    "```"
   ]
  },
  {
   "cell_type": "markdown",
   "metadata": {},
   "source": [
    "## Passing arguments by their position or name"
   ]
  },
  {
   "cell_type": "markdown",
   "metadata": {},
   "source": [
    "In Python, we can either pass the arguments by their *position* - as we have seen it so far:"
   ]
  },
  {
   "cell_type": "code",
   "execution_count": 14,
   "metadata": {},
   "outputs": [
    {
     "name": "stdout",
     "output_type": "stream",
     "text": [
      "64\n",
      "36\n"
     ]
    }
   ],
   "source": [
    "print(power(2, 6))\n",
    "print(power(6, 2))"
   ]
  },
  {
   "cell_type": "markdown",
   "metadata": {},
   "source": [
    "Alternatively arguments can be passed by the respective *parameter name*:"
   ]
  },
  {
   "cell_type": "code",
   "execution_count": 15,
   "metadata": {},
   "outputs": [
    {
     "name": "stdout",
     "output_type": "stream",
     "text": [
      "64\n",
      "64\n",
      "64\n"
     ]
    }
   ],
   "source": [
    "print(power(base = 2, exp = 6))\n",
    "print(power(exp = 6, base = 2))\n",
    "print(power(2, exp = 6))"
   ]
  },
  {
   "cell_type": "markdown",
   "metadata": {},
   "source": [
    "*Note:* passing arguments by their name is especially useful when:\n",
    " - a function has many parameters and the function call is much more *readable* when the parameters are passed by their name;\n",
    " - a function has many parameters with default values and we would like to override the default value for only a few of them."
   ]
  },
  {
   "cell_type": "markdown",
   "metadata": {},
   "source": [
    "## Built-in functions"
   ]
  },
  {
   "cell_type": "markdown",
   "metadata": {},
   "source": [
    "There are many built-in functions in Python for common use cases, e.g. for looking up the maximum/minimum value in a list, or to calculate the sum of a list:"
   ]
  },
  {
   "cell_type": "code",
   "execution_count": 16,
   "metadata": {},
   "outputs": [
    {
     "name": "stdout",
     "output_type": "stream",
     "text": [
      "Maximum value in nums: 67\n",
      "Minimum value in nums: 8\n",
      "Sum of the values in nums: 212\n"
     ]
    }
   ],
   "source": [
    "print(\"Maximum value in nums: {0}\".format(max(nums)))\n",
    "print(\"Minimum value in nums: {0}\".format(min(nums)))\n",
    "print(\"Sum of the values in nums: {0}\".format(sum(nums)))"
   ]
  },
  {
   "cell_type": "markdown",
   "metadata": {},
   "source": [
    "A comprehensive list can be found in the documentation:  \n",
    "https://docs.python.org/3/library/functions.html"
   ]
  },
  {
   "cell_type": "markdown",
   "metadata": {},
   "source": [
    "**Note:** defining a variable or function with the same of an existing (even builtin) function will hide it."
   ]
  },
  {
   "cell_type": "code",
   "execution_count": 17,
   "metadata": {},
   "outputs": [
    {
     "name": "stdout",
     "output_type": "stream",
     "text": [
      "Maximum value in nums: 67\n"
     ]
    },
    {
     "ename": "TypeError",
     "evalue": "'int' object is not callable",
     "output_type": "error",
     "traceback": [
      "\u001b[0;31m---------------------------------------------------------------------------\u001b[0m",
      "\u001b[0;31mTypeError\u001b[0m                                 Traceback (most recent call last)",
      "\u001b[0;32m<ipython-input-17-582e3602d77e>\u001b[0m in \u001b[0;36m<module>\u001b[0;34m\u001b[0m\n\u001b[1;32m      1\u001b[0m \u001b[0mprint\u001b[0m\u001b[0;34m(\u001b[0m\u001b[0;34m\"Maximum value in nums: {0}\"\u001b[0m\u001b[0;34m.\u001b[0m\u001b[0mformat\u001b[0m\u001b[0;34m(\u001b[0m\u001b[0mmax\u001b[0m\u001b[0;34m(\u001b[0m\u001b[0mnums\u001b[0m\u001b[0;34m)\u001b[0m\u001b[0;34m)\u001b[0m\u001b[0;34m)\u001b[0m\u001b[0;34m\u001b[0m\u001b[0;34m\u001b[0m\u001b[0m\n\u001b[1;32m      2\u001b[0m \u001b[0mmax\u001b[0m \u001b[0;34m=\u001b[0m \u001b[0;36m42\u001b[0m\u001b[0;34m\u001b[0m\u001b[0;34m\u001b[0m\u001b[0m\n\u001b[0;32m----> 3\u001b[0;31m \u001b[0mprint\u001b[0m\u001b[0;34m(\u001b[0m\u001b[0;34m\"Maximum value in nums: {0}\"\u001b[0m\u001b[0;34m.\u001b[0m\u001b[0mformat\u001b[0m\u001b[0;34m(\u001b[0m\u001b[0mmax\u001b[0m\u001b[0;34m(\u001b[0m\u001b[0mnums\u001b[0m\u001b[0;34m)\u001b[0m\u001b[0;34m)\u001b[0m\u001b[0;34m)\u001b[0m \u001b[0;31m# yields error ,as max in an integer now, not a function\u001b[0m\u001b[0;34m\u001b[0m\u001b[0;34m\u001b[0m\u001b[0m\n\u001b[0m",
      "\u001b[0;31mTypeError\u001b[0m: 'int' object is not callable"
     ]
    }
   ],
   "source": [
    "print(\"Maximum value in nums: {0}\".format(max(nums)))\n",
    "max = 42\n",
    "print(\"Maximum value in nums: {0}\".format(max(nums))) # yields error ,as max in an integer now, not a function"
   ]
  },
  {
   "cell_type": "markdown",
   "metadata": {},
   "source": [
    "### Modules"
   ]
  },
  {
   "cell_type": "markdown",
   "metadata": {},
   "source": [
    "In Python a logical unit of definitions (*variables, functions, classes*) shall be put in a standalone file to support the easy reuse of the code. Such a file is called a *module*; definitions from a module can be *imported* into other modules or into the *main* module.\n",
    "\n",
    "There are many built-in modules, we have already used the `math` and the `random` module for example.\n",
    "By using modules we can access preinstalled libraries and use them, so our code will be shorter and more compact."
   ]
  },
  {
   "cell_type": "code",
   "execution_count": 18,
   "metadata": {},
   "outputs": [
    {
     "name": "stdout",
     "output_type": "stream",
     "text": [
      "3.141592653589793\n",
      "3628800\n"
     ]
    }
   ],
   "source": [
    "import math\n",
    "print(math.pi) # using a variable definition from module math\n",
    "print(math.factorial(10)) # using a function definition from module math"
   ]
  },
  {
   "cell_type": "markdown",
   "metadata": {},
   "source": [
    "You can easily get a documentation for a module, by either looking it up in the reference:  \n",
    "https://docs.python.org/3/library/math.html\n",
    "\n",
    "Or fetching it dynamically with the `help` function:"
   ]
  },
  {
   "cell_type": "code",
   "execution_count": 19,
   "metadata": {},
   "outputs": [
    {
     "name": "stdout",
     "output_type": "stream",
     "text": [
      "Help on built-in module math:\n",
      "\n",
      "NAME\n",
      "    math\n",
      "\n",
      "DESCRIPTION\n",
      "    This module provides access to the mathematical functions\n",
      "    defined by the C standard.\n",
      "\n",
      "FUNCTIONS\n",
      "    acos(x, /)\n",
      "        Return the arc cosine (measured in radians) of x.\n",
      "    \n",
      "    acosh(x, /)\n",
      "        Return the inverse hyperbolic cosine of x.\n",
      "    \n",
      "    asin(x, /)\n",
      "        Return the arc sine (measured in radians) of x.\n",
      "    \n",
      "    asinh(x, /)\n",
      "        Return the inverse hyperbolic sine of x.\n",
      "    \n",
      "    atan(x, /)\n",
      "        Return the arc tangent (measured in radians) of x.\n",
      "    \n",
      "    atan2(y, x, /)\n",
      "        Return the arc tangent (measured in radians) of y/x.\n",
      "        \n",
      "        Unlike atan(y/x), the signs of both x and y are considered.\n",
      "    \n",
      "    atanh(x, /)\n",
      "        Return the inverse hyperbolic tangent of x.\n",
      "    \n",
      "    ceil(x, /)\n",
      "        Return the ceiling of x as an Integral.\n",
      "        \n",
      "        This is the smallest integer >= x.\n",
      "    \n",
      "    comb(n, k, /)\n",
      "        Number of ways to choose k items from n items without repetition and without order.\n",
      "        \n",
      "        Evaluates to n! / (k! * (n - k)!) when k <= n and evaluates\n",
      "        to zero when k > n.\n",
      "        \n",
      "        Also called the binomial coefficient because it is equivalent\n",
      "        to the coefficient of k-th term in polynomial expansion of the\n",
      "        expression (1 + x)**n.\n",
      "        \n",
      "        Raises TypeError if either of the arguments are not integers.\n",
      "        Raises ValueError if either of the arguments are negative.\n",
      "    \n",
      "    copysign(x, y, /)\n",
      "        Return a float with the magnitude (absolute value) of x but the sign of y.\n",
      "        \n",
      "        On platforms that support signed zeros, copysign(1.0, -0.0)\n",
      "        returns -1.0.\n",
      "    \n",
      "    cos(x, /)\n",
      "        Return the cosine of x (measured in radians).\n",
      "    \n",
      "    cosh(x, /)\n",
      "        Return the hyperbolic cosine of x.\n",
      "    \n",
      "    degrees(x, /)\n",
      "        Convert angle x from radians to degrees.\n",
      "    \n",
      "    dist(p, q, /)\n",
      "        Return the Euclidean distance between two points p and q.\n",
      "        \n",
      "        The points should be specified as sequences (or iterables) of\n",
      "        coordinates.  Both inputs must have the same dimension.\n",
      "        \n",
      "        Roughly equivalent to:\n",
      "            sqrt(sum((px - qx) ** 2.0 for px, qx in zip(p, q)))\n",
      "    \n",
      "    erf(x, /)\n",
      "        Error function at x.\n",
      "    \n",
      "    erfc(x, /)\n",
      "        Complementary error function at x.\n",
      "    \n",
      "    exp(x, /)\n",
      "        Return e raised to the power of x.\n",
      "    \n",
      "    expm1(x, /)\n",
      "        Return exp(x)-1.\n",
      "        \n",
      "        This function avoids the loss of precision involved in the direct evaluation of exp(x)-1 for small x.\n",
      "    \n",
      "    fabs(x, /)\n",
      "        Return the absolute value of the float x.\n",
      "    \n",
      "    factorial(x, /)\n",
      "        Find x!.\n",
      "        \n",
      "        Raise a ValueError if x is negative or non-integral.\n",
      "    \n",
      "    floor(x, /)\n",
      "        Return the floor of x as an Integral.\n",
      "        \n",
      "        This is the largest integer <= x.\n",
      "    \n",
      "    fmod(x, y, /)\n",
      "        Return fmod(x, y), according to platform C.\n",
      "        \n",
      "        x % y may differ.\n",
      "    \n",
      "    frexp(x, /)\n",
      "        Return the mantissa and exponent of x, as pair (m, e).\n",
      "        \n",
      "        m is a float and e is an int, such that x = m * 2.**e.\n",
      "        If x is 0, m and e are both 0.  Else 0.5 <= abs(m) < 1.0.\n",
      "    \n",
      "    fsum(seq, /)\n",
      "        Return an accurate floating point sum of values in the iterable seq.\n",
      "        \n",
      "        Assumes IEEE-754 floating point arithmetic.\n",
      "    \n",
      "    gamma(x, /)\n",
      "        Gamma function at x.\n",
      "    \n",
      "    gcd(x, y, /)\n",
      "        greatest common divisor of x and y\n",
      "    \n",
      "    hypot(...)\n",
      "        hypot(*coordinates) -> value\n",
      "        \n",
      "        Multidimensional Euclidean distance from the origin to a point.\n",
      "        \n",
      "        Roughly equivalent to:\n",
      "            sqrt(sum(x**2 for x in coordinates))\n",
      "        \n",
      "        For a two dimensional point (x, y), gives the hypotenuse\n",
      "        using the Pythagorean theorem:  sqrt(x*x + y*y).\n",
      "        \n",
      "        For example, the hypotenuse of a 3/4/5 right triangle is:\n",
      "        \n",
      "            >>> hypot(3.0, 4.0)\n",
      "            5.0\n",
      "    \n",
      "    isclose(a, b, *, rel_tol=1e-09, abs_tol=0.0)\n",
      "        Determine whether two floating point numbers are close in value.\n",
      "        \n",
      "          rel_tol\n",
      "            maximum difference for being considered \"close\", relative to the\n",
      "            magnitude of the input values\n",
      "          abs_tol\n",
      "            maximum difference for being considered \"close\", regardless of the\n",
      "            magnitude of the input values\n",
      "        \n",
      "        Return True if a is close in value to b, and False otherwise.\n",
      "        \n",
      "        For the values to be considered close, the difference between them\n",
      "        must be smaller than at least one of the tolerances.\n",
      "        \n",
      "        -inf, inf and NaN behave similarly to the IEEE 754 Standard.  That\n",
      "        is, NaN is not close to anything, even itself.  inf and -inf are\n",
      "        only close to themselves.\n",
      "    \n",
      "    isfinite(x, /)\n",
      "        Return True if x is neither an infinity nor a NaN, and False otherwise.\n",
      "    \n",
      "    isinf(x, /)\n",
      "        Return True if x is a positive or negative infinity, and False otherwise.\n",
      "    \n",
      "    isnan(x, /)\n",
      "        Return True if x is a NaN (not a number), and False otherwise.\n",
      "    \n",
      "    isqrt(n, /)\n",
      "        Return the integer part of the square root of the input.\n",
      "    \n",
      "    ldexp(x, i, /)\n",
      "        Return x * (2**i).\n",
      "        \n",
      "        This is essentially the inverse of frexp().\n",
      "    \n",
      "    lgamma(x, /)\n",
      "        Natural logarithm of absolute value of Gamma function at x.\n",
      "    \n",
      "    log(...)\n",
      "        log(x, [base=math.e])\n",
      "        Return the logarithm of x to the given base.\n",
      "        \n",
      "        If the base not specified, returns the natural logarithm (base e) of x.\n",
      "    \n",
      "    log10(x, /)\n",
      "        Return the base 10 logarithm of x.\n",
      "    \n",
      "    log1p(x, /)\n",
      "        Return the natural logarithm of 1+x (base e).\n",
      "        \n",
      "        The result is computed in a way which is accurate for x near zero.\n",
      "    \n",
      "    log2(x, /)\n",
      "        Return the base 2 logarithm of x.\n",
      "    \n",
      "    modf(x, /)\n",
      "        Return the fractional and integer parts of x.\n",
      "        \n",
      "        Both results carry the sign of x and are floats.\n",
      "    \n",
      "    perm(n, k=None, /)\n",
      "        Number of ways to choose k items from n items without repetition and with order.\n",
      "        \n",
      "        Evaluates to n! / (n - k)! when k <= n and evaluates\n",
      "        to zero when k > n.\n",
      "        \n",
      "        If k is not specified or is None, then k defaults to n\n",
      "        and the function returns n!.\n",
      "        \n",
      "        Raises TypeError if either of the arguments are not integers.\n",
      "        Raises ValueError if either of the arguments are negative.\n",
      "    \n",
      "    pow(x, y, /)\n",
      "        Return x**y (x to the power of y).\n",
      "    \n",
      "    prod(iterable, /, *, start=1)\n",
      "        Calculate the product of all the elements in the input iterable.\n",
      "        \n",
      "        The default start value for the product is 1.\n",
      "        \n",
      "        When the iterable is empty, return the start value.  This function is\n",
      "        intended specifically for use with numeric values and may reject\n",
      "        non-numeric types.\n",
      "    \n",
      "    radians(x, /)\n",
      "        Convert angle x from degrees to radians.\n",
      "    \n",
      "    remainder(x, y, /)\n",
      "        Difference between x and the closest integer multiple of y.\n",
      "        \n",
      "        Return x - n*y where n*y is the closest integer multiple of y.\n",
      "        In the case where x is exactly halfway between two multiples of\n",
      "        y, the nearest even value of n is used. The result is always exact.\n",
      "    \n",
      "    sin(x, /)\n",
      "        Return the sine of x (measured in radians).\n",
      "    \n",
      "    sinh(x, /)\n",
      "        Return the hyperbolic sine of x.\n",
      "    \n",
      "    sqrt(x, /)\n",
      "        Return the square root of x.\n",
      "    \n",
      "    tan(x, /)\n",
      "        Return the tangent of x (measured in radians).\n",
      "    \n",
      "    tanh(x, /)\n",
      "        Return the hyperbolic tangent of x.\n",
      "    \n",
      "    trunc(x, /)\n",
      "        Truncates the Real x to the nearest Integral toward 0.\n",
      "        \n",
      "        Uses the __trunc__ magic method.\n",
      "\n",
      "DATA\n",
      "    e = 2.718281828459045\n",
      "    inf = inf\n",
      "    nan = nan\n",
      "    pi = 3.141592653589793\n",
      "    tau = 6.283185307179586\n",
      "\n",
      "FILE\n",
      "    (built-in)\n",
      "\n",
      "\n"
     ]
    }
   ],
   "source": [
    "help(math)"
   ]
  },
  {
   "cell_type": "markdown",
   "metadata": {},
   "source": [
    "---"
   ]
  },
  {
   "cell_type": "markdown",
   "metadata": {},
   "source": [
    "## Summary exercises on functions"
   ]
  },
  {
   "cell_type": "markdown",
   "metadata": {},
   "source": [
    "### Task 1: Fahrenheit to Celsius"
   ]
  },
  {
   "cell_type": "markdown",
   "metadata": {},
   "source": [
    "Write a function `fahr2cels`, which computes the temperature in Celcius from Fahrenheit. The formula is the following:\n",
    "$$ C = \\frac{5}{9} * (F - 32)$$\n",
    "\n",
    "Where $C$ is the degree in Celsius and $F$ is the degree in Fahrenheit.\n",
    "\n",
    "Write a program which prints out the appropriate Celsius values for each degree in Fahrenheit between 0 and 100, using an incremental step of 10."
   ]
  },
  {
   "cell_type": "code",
   "execution_count": 20,
   "metadata": {},
   "outputs": [
    {
     "name": "stdout",
     "output_type": "stream",
     "text": [
      "Fahr = 0, Cels = -17.7778\n",
      "Fahr = 10, Cels = -12.2222\n",
      "Fahr = 20, Cels = -6.6667\n",
      "Fahr = 30, Cels = -1.1111\n",
      "Fahr = 40, Cels = 4.4444\n",
      "Fahr = 50, Cels = 10.0000\n",
      "Fahr = 60, Cels = 15.5556\n",
      "Fahr = 70, Cels = 21.1111\n",
      "Fahr = 80, Cels = 26.6667\n",
      "Fahr = 90, Cels = 32.2222\n",
      "Fahr = 100, Cels = 37.7778\n"
     ]
    }
   ],
   "source": [
    "def fahr2cels(f):\n",
    "    c = 5 / 9 * (f - 32)\n",
    "    return c\n",
    "\n",
    "for fahr in range(0, 101, 10):\n",
    "    cels = fahr2cels(fahr)\n",
    "    print(\"Fahr = {0}, Cels = {1:.4f}\".format(fahr, cels))"
   ]
  },
  {
   "cell_type": "markdown",
   "metadata": {},
   "source": [
    "---"
   ]
  },
  {
   "cell_type": "markdown",
   "metadata": {},
   "source": [
    "### Task 2: Prime check"
   ]
  },
  {
   "cell_type": "markdown",
   "metadata": {},
   "source": [
    "Write a function `isPrime` which determines whether a number received as a parameter is a prime or not.  \n",
    "(You may reuse your algorithm from the previous lecture.)\n",
    "\n",
    "Wrtite a program which request a number from the user and tests whether it is a prime or not. Check whether the user input is really an integer number or not."
   ]
  },
  {
   "cell_type": "code",
   "execution_count": 21,
   "metadata": {},
   "outputs": [
    {
     "name": "stdin",
     "output_type": "stream",
     "text": [
      "Number to check:  37\n"
     ]
    },
    {
     "name": "stdout",
     "output_type": "stream",
     "text": [
      "37 is a prime\n"
     ]
    }
   ],
   "source": [
    "import math\n",
    "\n",
    "def isPrime(number):\n",
    "    # Handle 0 and 1 as a special case\n",
    "    if number < 2:\n",
    "        return False\n",
    "    \n",
    "    # Numbers >= 2 are tested whether they have any divisors\n",
    "    for i in range(2, int(math.sqrt(number) + 1)):\n",
    "        #print(\"Testing divisor %d\" % i)\n",
    "        if number % i == 0:\n",
    "            # If we found a divisor, we can stop checking, because the number is NOT a prime\n",
    "            return False\n",
    "    \n",
    "    # If no divisors were found, then the number is a prime\n",
    "    return True\n",
    "\n",
    "try:\n",
    "    num = int(input(\"Number to check: \"))\n",
    "    if isPrime(num):\n",
    "        print(\"{0} is a prime\".format(num))\n",
    "    else:\n",
    "        print(\"{0} is NOT a prime\".format(num))\n",
    "except:\n",
    "    print(\"That was not a number!\")\n"
   ]
  },
  {
   "cell_type": "markdown",
   "metadata": {},
   "source": [
    "---"
   ]
  },
  {
   "cell_type": "markdown",
   "metadata": {},
   "source": [
    "### Task 3: Word count"
   ]
  },
  {
   "cell_type": "markdown",
   "metadata": {},
   "source": [
    "Request a string input from the user (a sentence). Write a function `wordCount` which count the words in the sentence!"
   ]
  },
  {
   "cell_type": "code",
   "execution_count": 22,
   "metadata": {},
   "outputs": [
    {
     "name": "stdin",
     "output_type": "stream",
     "text": [
      "Say a sentence:  The quick brown fox jumps over the lazy dog\n"
     ]
    },
    {
     "name": "stdout",
     "output_type": "stream",
     "text": [
      "Your sentence consisted of 9 words.\n"
     ]
    }
   ],
   "source": [
    "def wordCount(sentence):\n",
    "    spaceCount = 0\n",
    "    for char in sentence:\n",
    "        if char == ' ':\n",
    "            spaceCount += 1\n",
    "    return spaceCount + 1\n",
    "\n",
    "userInput = input('Say a sentence: ')\n",
    "print('Your sentence consisted of {0} words.'.format(wordCount(userInput)))"
   ]
  },
  {
   "cell_type": "markdown",
   "metadata": {},
   "source": [
    "*Hint: count the spaces in the input string.*"
   ]
  },
  {
   "cell_type": "markdown",
   "metadata": {},
   "source": [
    "---"
   ]
  },
  {
   "cell_type": "markdown",
   "metadata": {},
   "source": [
    "### Task 4: Monotonity"
   ]
  },
  {
   "cell_type": "markdown",
   "metadata": {},
   "source": [
    "**A)** Given a list a numbers, write a function `isMonotonous` which decides whether the sequence is monotically increasing or not?\n",
    "\n",
    "Sample input:"
   ]
  },
  {
   "cell_type": "code",
   "execution_count": 23,
   "metadata": {},
   "outputs": [],
   "source": [
    "list1 = [10, 20, 50, 400, 600]\n",
    "list2 = [10, 20, 50, 40, 600]\n",
    "list3 = [1000, 500, 200, 50, 10]\n",
    "list4 = [10, 20, 50, 50, 300]"
   ]
  },
  {
   "cell_type": "code",
   "execution_count": 24,
   "metadata": {},
   "outputs": [
    {
     "name": "stdout",
     "output_type": "stream",
     "text": [
      "List 1: True\n",
      "List 2: False\n",
      "List 3: False\n",
      "List 4: True\n"
     ]
    }
   ],
   "source": [
    "def isMonotonous(numbers):\n",
    "    # Assume that the list is monotically increasing and search for an index pair where it is not true!\n",
    "    for i in range(1, len(numbers)):\n",
    "        if numbers[i - 1] > numbers[i]:\n",
    "            return False\n",
    "    # If no such errornous index pair was found, then the list was really monotically increasing.\n",
    "    return True\n",
    "\n",
    "print(\"List 1: {0}\".format(isMonotonous(list1)))\n",
    "print(\"List 2: {0}\".format(isMonotonous(list2)))\n",
    "print(\"List 3: {0}\".format(isMonotonous(list3)))\n",
    "print(\"List 4: {0}\".format(isMonotonous(list4)))"
   ]
  },
  {
   "cell_type": "markdown",
   "metadata": {},
   "source": [
    "**B)** Modify the previous function, so it decides whether the sequence is monotonous or not. (It can be either increasing or decreasing.)"
   ]
  },
  {
   "cell_type": "code",
   "execution_count": 25,
   "metadata": {},
   "outputs": [
    {
     "name": "stdout",
     "output_type": "stream",
     "text": [
      "List 1: True\n",
      "List 2: False\n",
      "List 3: True\n",
      "List 4: True\n"
     ]
    }
   ],
   "source": [
    "def isMonotonous(numbers):\n",
    "    # Check for monotically increasing\n",
    "    isIncreasing = True\n",
    "    for i in range(1, len(numbers)):\n",
    "        if numbers[i - 1] > numbers[i]:\n",
    "            isIncreasing = False\n",
    "            break\n",
    "    \n",
    "    # Check for monotically decreasing\n",
    "    isDecreasing = True\n",
    "    for i in range(1, len(numbers)):\n",
    "        if numbers[i - 1] < numbers[i]:\n",
    "            isDecreasing = False\n",
    "            break\n",
    "    \n",
    "    # Return whether either one of the 2 conditions were true!\n",
    "    return isIncreasing or isDecreasing\n",
    "\n",
    "print(\"List 1: {0}\".format(isMonotonous(list1)))\n",
    "print(\"List 2: {0}\".format(isMonotonous(list2)))\n",
    "print(\"List 3: {0}\".format(isMonotonous(list3)))\n",
    "print(\"List 4: {0}\".format(isMonotonous(list4)))"
   ]
  }
 ],
 "metadata": {
  "kernelspec": {
   "display_name": "Python 3",
   "language": "python",
   "name": "python3"
  },
  "language_info": {
   "codemirror_mode": {
    "name": "ipython",
    "version": 3
   },
   "file_extension": ".py",
   "mimetype": "text/x-python",
   "name": "python",
   "nbconvert_exporter": "python",
   "pygments_lexer": "ipython3",
   "version": "3.8.5"
  }
 },
 "nbformat": 4,
 "nbformat_minor": 4
}
