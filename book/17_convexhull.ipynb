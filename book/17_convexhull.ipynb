{
 "cells": [
  {
   "cell_type": "markdown",
   "metadata": {},
   "source": [
    "# Chapter 17: Geometric algorithms - Convex Hull\n",
    "\n",
    "The convex hull of a set of points, is the smallest convex polygon for which each point in the set is either on the boundary of the polygon or in its interior.\n",
    "\n",
    "We can visualize what the convex hull looks like by imagining that the points are nails sticking out of the plane.\n",
    "Take an elastic rubber band, stretch it around the nails and let it go.\n",
    "It will snap around the nails and assume a shape that minimizes its length.\n",
    "The area enclosed by the rubber band is called the convex hull of the points.\n",
    "This leads to an alternative definition of the convex hull of a finite set of points in the plane: it is the unique convex polygon whose vertices are points from and which contains all points.\n",
    "\n",
    "![Convex hull](../images/17_convexhull.gif \"Source: Université de Montréal\")"
   ]
  },
  {
   "cell_type": "markdown",
   "metadata": {},
   "source": [
    "---"
   ]
  },
  {
   "cell_type": "markdown",
   "metadata": {},
   "source": [
    "## Jarvis's march\n",
    "\n",
    "*Jarvis’s march* computes the convex hull of a set Q of points by a technique also known as the *gift wrapping algorithm*.\n",
    "The algorithm was named after R. A. Jarvis, who published it in 1973.\n",
    "\n",
    "The algorithm simulates wrapping a piece of paper around the set of points.\n",
    "We start by taping the end of the paper to the lowest point in the set, that is, the point with the lowest Y-coordinate, picking the leftmost such point in case of a tie.\n",
    "We know that this point must be a vertex of the convex hull.\n",
    "We pull the paper to the right to make it wrapping \"tight\"\n",
    "and then we pull it higher until it touches a point.\n",
    "This point must also be a vertex of the convex hull.\n",
    "Keeping the paper \"tight\", we continue in this way around the set of vertices until we come back to our original starting point.\n",
    "\n",
    "![Jarvis march](../images/17_jarvis_march.gif \"Source: Wikipedia\")\n",
    "\n",
    "The algoirhtm has an $O(n * h)$ asymptotic complexity, where $n$ is the number of points and $h$ is the number of points on the convex hull."
   ]
  },
  {
   "cell_type": "markdown",
   "metadata": {},
   "source": [
    "### Orientation\n",
    "\n",
    "Given line *(A, B)* and point *M*, check whether M is left or right from the line, \n",
    "more precisely  whether *A -> B -> M* is a closckwise or counter-clockwise turn?\n",
    "\n",
    "$$det := (Bx - Ax) * (My - Ay) - (By - Ay) * (Mx - Ax)$$\n",
    "\n",
    "- if $det >  0$: counter-clockwise\n",
    "- if $det <  0$: clockwise\n",
    "- if $det = 0$: collinear"
   ]
  },
  {
   "cell_type": "markdown",
   "metadata": {},
   "source": [
    "---"
   ]
  },
  {
   "cell_type": "markdown",
   "metadata": {},
   "source": [
    "## Graham's scan\n",
    "\n",
    "Graham’s scan solves the convex-hull problem by maintaining a stack of candidate points.\n",
    "It pushes each point of the input set onto the stack one time, and it eventually pops from the stack each point that is not a vertex of the convex hull.\n",
    "When the algorithm terminates, the stack contains exactly the vertices of the convex hull, in counter-clockwise order of their appearance on the boundary.\n",
    "The algorithm is named after Ronald Graham, who published the original version in 1972.\n",
    "\n",
    "The algorithm consists of 3 steps:\n",
    " 1. Find the point with the lowest Y-coordinate, picking the leftmost such point in case of a tie.\n",
    "Call this point $P$.\n",
    " 2. The set of points must be sorted in increasing order of the angle they and the point $P$ make with the X-axis. (Sorting algorithm were discussed in [Chapter 6](06_sorting.ipynb).)\n",
    " 3. Initiate an empty stack. Then consider each points in the sorted list in sequence iteratively. For each point, it is first determined whether traveling from the two points immediately preceding this point constitutes making a left turn or a right turn in orientation.\n",
    "    - If a left turn, push the point onto the stack.\n",
    "    - If a right turn, the second-to-last point is not part of the convex hull (lies inside it), and is therefore removed from the stack. The same determination is then made for the set of the latest point, and the two points that immediately precede the point found to have been inside the hull, and is repeated until a left turn set is encountered, at which point the algorithm moves on to the next point in the set of points in the sorted list.\n",
    "\n",
    "![Graham's scan](../images/17_graham_scan.gif \"Source: Wikipedia\")\n",
    "\n",
    "The algorithm has an $O(n * log(n)$ asymptotic complexity. Thus, this algorithm is not *output-sensitive* (compare to Jarvis's march)."
   ]
  },
  {
   "cell_type": "markdown",
   "metadata": {},
   "source": [
    "---"
   ]
  },
  {
   "cell_type": "markdown",
   "metadata": {},
   "source": [
    "## Quickhull\n",
    "\n",
    "The *Quickhull* method uses the *divide and conquer* approach similar to that of [Quicksort](06_sorting.ipynb#Quicksort), from which its name derives.\n",
    "The original algorithm was described by Scott Greenfield in 1990. The algorithm was later extended to work in n-dimensional space.\n",
    "\n",
    "The algorithm contains the following steps:\n",
    " 1. Find the points with minimum and maximum X-coordinates, as these will always be part of the convex hull. If case of a tie, pick the ones with minimum/maximum Y-coordinates correspondingly.\n",
    " 2. Use the line formed by these two points to divide the set in two subsets of points, which will be processed recursively (*\"divide and conquer\"*).\n",
    " 3. For both sides, determine the point with the maximum distance from the line. This point forms a triangle with those of the line. The points lying inside of that triangle cannot be part of the convex hull and can therefore be ignored in the next steps.\n",
    " 4. Repeat the previous step on the two lines formed by the triangle.\n",
    " 5. Continue the recursion until no more points are left. In the end, all points selected constitute the convex hull.\n",
    "\n",
    "![Quickhull](../images/17_quickhull.gif \"Source: Wikipedia\")\n",
    "\n",
    "The asymptotic complexity of the algorithm is $O(n * log(r))$, where $r$ is the number of processed points."
   ]
  },
  {
   "cell_type": "markdown",
   "metadata": {},
   "source": [
    "---"
   ]
  },
  {
   "cell_type": "markdown",
   "metadata": {},
   "source": [
    "## Chan's algorithm\n",
    "\n",
    "Chan's algorithm is an optimal *output-sensitive algorithm* to compute the convex hull. It was named after Timothy M. Chan, who published the algorithm in 1996.\n",
    "\n",
    "The algorithm combines Graham's scan (or other algorithm with $O(n * log(n))$ complexity) with Jarvis's march ($O(n*h)$), in order to obtain an optimal $O(n * log(h))$ complexity, where $n$ is the number of points and $h$ is the number of vertices of the output (the convex hull).\n",
    "\n",
    "![Chan's algorithm](../images/17_chan_algorithm.gif \"Source: Wikipedia\")"
   ]
  },
  {
   "cell_type": "markdown",
   "metadata": {},
   "source": [
    "---"
   ]
  },
  {
   "cell_type": "markdown",
   "metadata": {},
   "source": [
    "## Quickhull with Python\n",
    "\n",
    "*SciPy* (pronounced \"Sigh Pie\") is library used for scientific computing and technical computing for mathematics, science, and engineering. \n",
    "*SciPy* is built on top of *NumPy*, *Matplotlib* and *Pandas* and are tightly integrated with them. It is one of the most widely used Python package in the scientific community.\n",
    "\n",
    "### How to install *SciPy*?\n",
    "\n",
    "If you have Anaconda installed, then `scipy` was already installed together with it.\n",
    "\n",
    "If you have a standalone Python3 and Jupyter Notebook installation, open a command prompt / terminal and type in:\n",
    "```\n",
    "pip3 install scipy\n",
    "```\n",
    "\n",
    "### How to use *SciPy*?\n",
    "\n",
    "*SciPy* consists of sub-packages for various scientific areas. For us the `spatial` package is in focus, which contains spatial algorithms, like the *QuickHull* or the *KdTree* (see [Chapter 16](16_spatial_indexing.ipynb)).\n",
    "\n",
    "```python\n",
    "import scipy.spatial\n",
    "```"
   ]
  },
  {
   "cell_type": "markdown",
   "metadata": {},
   "source": [
    "---"
   ]
  },
  {
   "cell_type": "markdown",
   "metadata": {},
   "source": [
    "Read the `hungary_cities.shp` shapefile located in the `data` folder.\n",
    "This dataset contains both scalar and spatial data of the Hungarian cities, and should be familiar from [Chapter 15](15_graph_spanning_tree.ipynb)."
   ]
  },
  {
   "cell_type": "code",
   "execution_count": 1,
   "metadata": {},
   "outputs": [
    {
     "data": {
      "text/html": [
       "<div>\n",
       "<style scoped>\n",
       "    .dataframe tbody tr th:only-of-type {\n",
       "        vertical-align: middle;\n",
       "    }\n",
       "\n",
       "    .dataframe tbody tr th {\n",
       "        vertical-align: top;\n",
       "    }\n",
       "\n",
       "    .dataframe thead th {\n",
       "        text-align: right;\n",
       "    }\n",
       "</style>\n",
       "<table border=\"1\" class=\"dataframe\">\n",
       "  <thead>\n",
       "    <tr style=\"text-align: right;\">\n",
       "      <th></th>\n",
       "      <th>Id</th>\n",
       "      <th>County</th>\n",
       "      <th>City</th>\n",
       "      <th>Status</th>\n",
       "      <th>KSH</th>\n",
       "      <th>geometry</th>\n",
       "    </tr>\n",
       "  </thead>\n",
       "  <tbody>\n",
       "    <tr>\n",
       "      <th>0</th>\n",
       "      <td>1</td>\n",
       "      <td>FEJÉR</td>\n",
       "      <td>Aba</td>\n",
       "      <td>town</td>\n",
       "      <td>17376</td>\n",
       "      <td>POINT (610046.800 187639.000)</td>\n",
       "    </tr>\n",
       "    <tr>\n",
       "      <th>1</th>\n",
       "      <td>2</td>\n",
       "      <td>BARANYA</td>\n",
       "      <td>Abaliget</td>\n",
       "      <td>town</td>\n",
       "      <td>12548</td>\n",
       "      <td>POINT (577946.100 89280.800)</td>\n",
       "    </tr>\n",
       "    <tr>\n",
       "      <th>2</th>\n",
       "      <td>3</td>\n",
       "      <td>HEVES</td>\n",
       "      <td>Abasár</td>\n",
       "      <td>town</td>\n",
       "      <td>24554</td>\n",
       "      <td>POINT (721963.700 273880.300)</td>\n",
       "    </tr>\n",
       "    <tr>\n",
       "      <th>3</th>\n",
       "      <td>4</td>\n",
       "      <td>BORSOD-ABAUJ-ZEMPLÉN</td>\n",
       "      <td>Abaújalpár</td>\n",
       "      <td>town</td>\n",
       "      <td>15662</td>\n",
       "      <td>POINT (812129.200 331508.200)</td>\n",
       "    </tr>\n",
       "    <tr>\n",
       "      <th>4</th>\n",
       "      <td>5</td>\n",
       "      <td>BORSOD-ABAUJ-ZEMPLÉN</td>\n",
       "      <td>Abaújkér</td>\n",
       "      <td>town</td>\n",
       "      <td>26718</td>\n",
       "      <td>POINT (809795.600 331138.300)</td>\n",
       "    </tr>\n",
       "    <tr>\n",
       "      <th>...</th>\n",
       "      <td>...</td>\n",
       "      <td>...</td>\n",
       "      <td>...</td>\n",
       "      <td>...</td>\n",
       "      <td>...</td>\n",
       "      <td>...</td>\n",
       "    </tr>\n",
       "    <tr>\n",
       "      <th>3142</th>\n",
       "      <td>3143</td>\n",
       "      <td>GYÕR-MOSON-SOPRON</td>\n",
       "      <td>Zsira</td>\n",
       "      <td>town</td>\n",
       "      <td>04622</td>\n",
       "      <td>POINT (471324.200 237577.200)</td>\n",
       "    </tr>\n",
       "    <tr>\n",
       "      <th>3143</th>\n",
       "      <td>3144</td>\n",
       "      <td>CSONGRÁD</td>\n",
       "      <td>Zsombó</td>\n",
       "      <td>town</td>\n",
       "      <td>17765</td>\n",
       "      <td>POINT (721098.100 109690.000)</td>\n",
       "    </tr>\n",
       "    <tr>\n",
       "      <th>3144</th>\n",
       "      <td>3145</td>\n",
       "      <td>BORSOD-ABAUJ-ZEMPLÉN</td>\n",
       "      <td>Zsujta</td>\n",
       "      <td>town</td>\n",
       "      <td>11022</td>\n",
       "      <td>POINT (815027.400 353143.100)</td>\n",
       "    </tr>\n",
       "    <tr>\n",
       "      <th>3145</th>\n",
       "      <td>3146</td>\n",
       "      <td>SZABOLCS-SZATMÁR-BEREG</td>\n",
       "      <td>Zsurk</td>\n",
       "      <td>town</td>\n",
       "      <td>13037</td>\n",
       "      <td>POINT (884847.700 344952.800)</td>\n",
       "    </tr>\n",
       "    <tr>\n",
       "      <th>3146</th>\n",
       "      <td>3147</td>\n",
       "      <td>BORSOD-ABAUJ-ZEMPLÉN</td>\n",
       "      <td>Zubogy</td>\n",
       "      <td>town</td>\n",
       "      <td>19105</td>\n",
       "      <td>POINT (763123.300 338338.600)</td>\n",
       "    </tr>\n",
       "  </tbody>\n",
       "</table>\n",
       "<p>3147 rows × 6 columns</p>\n",
       "</div>"
      ],
      "text/plain": [
       "        Id                  County        City Status    KSH  \\\n",
       "0        1                   FEJÉR         Aba   town  17376   \n",
       "1        2                 BARANYA    Abaliget   town  12548   \n",
       "2        3                   HEVES      Abasár   town  24554   \n",
       "3        4    BORSOD-ABAUJ-ZEMPLÉN  Abaújalpár   town  15662   \n",
       "4        5    BORSOD-ABAUJ-ZEMPLÉN    Abaújkér   town  26718   \n",
       "...    ...                     ...         ...    ...    ...   \n",
       "3142  3143       GYÕR-MOSON-SOPRON       Zsira   town  04622   \n",
       "3143  3144                CSONGRÁD      Zsombó   town  17765   \n",
       "3144  3145    BORSOD-ABAUJ-ZEMPLÉN      Zsujta   town  11022   \n",
       "3145  3146  SZABOLCS-SZATMÁR-BEREG       Zsurk   town  13037   \n",
       "3146  3147    BORSOD-ABAUJ-ZEMPLÉN      Zubogy   town  19105   \n",
       "\n",
       "                           geometry  \n",
       "0     POINT (610046.800 187639.000)  \n",
       "1      POINT (577946.100 89280.800)  \n",
       "2     POINT (721963.700 273880.300)  \n",
       "3     POINT (812129.200 331508.200)  \n",
       "4     POINT (809795.600 331138.300)  \n",
       "...                             ...  \n",
       "3142  POINT (471324.200 237577.200)  \n",
       "3143  POINT (721098.100 109690.000)  \n",
       "3144  POINT (815027.400 353143.100)  \n",
       "3145  POINT (884847.700 344952.800)  \n",
       "3146  POINT (763123.300 338338.600)  \n",
       "\n",
       "[3147 rows x 6 columns]"
      ]
     },
     "metadata": {},
     "output_type": "display_data"
    }
   ],
   "source": [
    "import geopandas as gpd\n",
    "from scipy.spatial import ConvexHull\n",
    "\n",
    "cities_gdf = gpd.read_file('../data/hungary_cities.shp')\n",
    "display(cities_gdf)"
   ]
  },
  {
   "cell_type": "markdown",
   "metadata": {},
   "source": [
    "Fetch points for cities:"
   ]
  },
  {
   "cell_type": "code",
   "execution_count": 2,
   "metadata": {},
   "outputs": [
    {
     "name": "stdout",
     "output_type": "stream",
     "text": [
      "Number of points: 3147\n"
     ]
    }
   ],
   "source": [
    "points = [(geom.x, geom.y) for geom in cities_gdf.geometry]\n",
    "print(\"Number of points: {0}\".format(len(points)))"
   ]
  },
  {
   "cell_type": "markdown",
   "metadata": {},
   "source": [
    "Calculate convex hull:"
   ]
  },
  {
   "cell_type": "code",
   "execution_count": 3,
   "metadata": {},
   "outputs": [
    {
     "name": "stdout",
     "output_type": "stream",
     "text": [
      "Number of vertices on hull: 25\n",
      "Hull vertices: [  93  783  853 2847 1289 3115  334  198  782  635 3108 1245  257 1845\n",
      "  204  601 1575  849 1589 2892 2769 3145 2222 2844 2247]\n"
     ]
    }
   ],
   "source": [
    "hull = ConvexHull(points)\n",
    "print(\"Number of vertices on hull: {0}\".format(len(hull.vertices)))\n",
    "print(\"Hull vertices: {0}\".format(hull.vertices))"
   ]
  },
  {
   "cell_type": "markdown",
   "metadata": {},
   "source": [
    "Plot figure:"
   ]
  },
  {
   "cell_type": "code",
   "execution_count": 4,
   "metadata": {},
   "outputs": [
    {
     "data": {
      "image/png": "[encoded data removed]",
      "text/plain": [
       "<Figure size 1080x720 with 1 Axes>"
      ]
     },
     "metadata": {
      "needs_background": "light"
     },
     "output_type": "display_data"
    }
   ],
   "source": [
    "import matplotlib.pyplot as plt\n",
    "%matplotlib inline\n",
    "\n",
    "plt.figure(figsize=[15, 10])\n",
    "\n",
    "# Add all points to plot\n",
    "for point in points:\n",
    "    plt.plot(point[0], point[1], color='black', marker='o', markersize=1)\n",
    "\n",
    "# Calculate convex hull linestring\n",
    "line_x = [points[idx][0] for idx in hull.vertices]\n",
    "line_y = [points[idx][1] for idx in hull.vertices]\n",
    "# Add first point of hull to the end, so the linestring will be closed.\n",
    "line_x.append(points[hull.vertices[0]][0]) \n",
    "line_y.append(points[hull.vertices[0]][1]) \n",
    "# Plot linestring\n",
    "plt.plot(line_x, line_y, color='red')\n",
    "  \n",
    "# Display plot\n",
    "plt.show()"
   ]
  }
 ],
 "metadata": {
  "kernelspec": {
   "display_name": "Python 3",
   "language": "python",
   "name": "python3"
  },
  "language_info": {
   "codemirror_mode": {
    "name": "ipython",
    "version": 3
   },
   "file_extension": ".py",
   "mimetype": "text/x-python",
   "name": "python",
   "nbconvert_exporter": "python",
   "pygments_lexer": "ipython3",
   "version": "3.8.5"
  }
 },
 "nbformat": 4,
 "nbformat_minor": 4
}
