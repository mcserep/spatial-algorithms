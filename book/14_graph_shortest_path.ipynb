{
 "cells": [
  {
   "cell_type": "markdown",
   "metadata": {},
   "source": [
    "# Chapter 14: Graph algorithms I. - shortest path"
   ]
  },
  {
   "cell_type": "markdown",
   "metadata": {},
   "source": [
    "The sample dataset for this lecture is given in the `airports.csv` and `airroutes.csv` files in the `data` folder. (The column separator is the `;` character.)\n",
    "\n",
    "* The `airports.csv` file contains information about (larger) airports all over the world:\n",
    "  1. IATA code (International Air Transport Association code, e.g. *BUD* for the Budapest Airport)\n",
    "  2. ICAO code (International Civil Aviation Organization code, e.g. *LHBP* for the Budapest Airport)\n",
    "  3. Name\n",
    "  4. Number of runways\n",
    "  5. Longest runway length (in foots)\n",
    "  6. Elevation (in foots)\n",
    "  7. Country\n",
    "  8. Country region\n",
    "  9. City\n",
    "  10. Latitude\n",
    "  11. Longitude\n",
    "* The `airroutes.csv` consists of the direct flight relations between the airports, identifying them with their IATA code. The distance of the airports / length of the flight route is also given (in miles). The flights are directed, if there is a flight between both directions of two airports, then there will be two records in the file, with opposite direction."
   ]
  },
  {
   "cell_type": "markdown",
   "metadata": {},
   "source": [
    "---"
   ]
  },
  {
   "cell_type": "markdown",
   "metadata": {},
   "source": [
    "## Reading the dataset"
   ]
  },
  {
   "cell_type": "markdown",
   "metadata": {},
   "source": [
    "### Read the airport data"
   ]
  },
  {
   "cell_type": "markdown",
   "metadata": {},
   "source": [
    "First read the airports data into a pandas *DataFrame*."
   ]
  },
  {
   "cell_type": "code",
   "execution_count": 1,
   "metadata": {},
   "outputs": [
    {
     "data": {
      "text/html": [
       "<div>\n",
       "<style scoped>\n",
       "    .dataframe tbody tr th:only-of-type {\n",
       "        vertical-align: middle;\n",
       "    }\n",
       "\n",
       "    .dataframe tbody tr th {\n",
       "        vertical-align: top;\n",
       "    }\n",
       "\n",
       "    .dataframe thead th {\n",
       "        text-align: right;\n",
       "    }\n",
       "</style>\n",
       "<table border=\"1\" class=\"dataframe\">\n",
       "  <thead>\n",
       "    <tr style=\"text-align: right;\">\n",
       "      <th></th>\n",
       "      <th>iata</th>\n",
       "      <th>icao</th>\n",
       "      <th>name</th>\n",
       "      <th>runways</th>\n",
       "      <th>longest</th>\n",
       "      <th>elevation</th>\n",
       "      <th>country</th>\n",
       "      <th>region</th>\n",
       "      <th>city</th>\n",
       "      <th>lat</th>\n",
       "      <th>lon</th>\n",
       "    </tr>\n",
       "  </thead>\n",
       "  <tbody>\n",
       "    <tr>\n",
       "      <th>0</th>\n",
       "      <td>ATL</td>\n",
       "      <td>KATL</td>\n",
       "      <td>Hartsfield - Jackson Atlanta International Air...</td>\n",
       "      <td>5</td>\n",
       "      <td>12390</td>\n",
       "      <td>1026</td>\n",
       "      <td>US</td>\n",
       "      <td>US-GA</td>\n",
       "      <td>Atlanta</td>\n",
       "      <td>33.636700</td>\n",
       "      <td>-84.428101</td>\n",
       "    </tr>\n",
       "    <tr>\n",
       "      <th>1</th>\n",
       "      <td>ANC</td>\n",
       "      <td>PANC</td>\n",
       "      <td>Anchorage Ted Stevens</td>\n",
       "      <td>3</td>\n",
       "      <td>12400</td>\n",
       "      <td>151</td>\n",
       "      <td>US</td>\n",
       "      <td>US-AK</td>\n",
       "      <td>Anchorage</td>\n",
       "      <td>61.174400</td>\n",
       "      <td>-149.996002</td>\n",
       "    </tr>\n",
       "    <tr>\n",
       "      <th>2</th>\n",
       "      <td>AUS</td>\n",
       "      <td>KAUS</td>\n",
       "      <td>Austin Bergstrom International Airport</td>\n",
       "      <td>2</td>\n",
       "      <td>12250</td>\n",
       "      <td>542</td>\n",
       "      <td>US</td>\n",
       "      <td>US-TX</td>\n",
       "      <td>Austin</td>\n",
       "      <td>30.194500</td>\n",
       "      <td>-97.669899</td>\n",
       "    </tr>\n",
       "    <tr>\n",
       "      <th>3</th>\n",
       "      <td>BNA</td>\n",
       "      <td>KBNA</td>\n",
       "      <td>Nashville International Airport</td>\n",
       "      <td>4</td>\n",
       "      <td>11030</td>\n",
       "      <td>599</td>\n",
       "      <td>US</td>\n",
       "      <td>US-TN</td>\n",
       "      <td>Nashville</td>\n",
       "      <td>36.124500</td>\n",
       "      <td>-86.678200</td>\n",
       "    </tr>\n",
       "    <tr>\n",
       "      <th>4</th>\n",
       "      <td>BOS</td>\n",
       "      <td>KBOS</td>\n",
       "      <td>Boston Logan</td>\n",
       "      <td>6</td>\n",
       "      <td>10083</td>\n",
       "      <td>19</td>\n",
       "      <td>US</td>\n",
       "      <td>US-MA</td>\n",
       "      <td>Boston</td>\n",
       "      <td>42.364300</td>\n",
       "      <td>-71.005203</td>\n",
       "    </tr>\n",
       "    <tr>\n",
       "      <th>...</th>\n",
       "      <td>...</td>\n",
       "      <td>...</td>\n",
       "      <td>...</td>\n",
       "      <td>...</td>\n",
       "      <td>...</td>\n",
       "      <td>...</td>\n",
       "      <td>...</td>\n",
       "      <td>...</td>\n",
       "      <td>...</td>\n",
       "      <td>...</td>\n",
       "      <td>...</td>\n",
       "    </tr>\n",
       "    <tr>\n",
       "      <th>3459</th>\n",
       "      <td>LNL</td>\n",
       "      <td>ZLLN</td>\n",
       "      <td>Cheng Xian Airport</td>\n",
       "      <td>1</td>\n",
       "      <td>9186</td>\n",
       "      <td>3707</td>\n",
       "      <td>CN</td>\n",
       "      <td>CN-62</td>\n",
       "      <td>Longnan</td>\n",
       "      <td>33.789722</td>\n",
       "      <td>105.788611</td>\n",
       "    </tr>\n",
       "    <tr>\n",
       "      <th>3460</th>\n",
       "      <td>XAI</td>\n",
       "      <td>ZHXY</td>\n",
       "      <td>Xinyang Minggang Airport</td>\n",
       "      <td>1</td>\n",
       "      <td>8858</td>\n",
       "      <td>4528</td>\n",
       "      <td>CN</td>\n",
       "      <td>CN-41</td>\n",
       "      <td>Xinyang</td>\n",
       "      <td>32.540556</td>\n",
       "      <td>114.078889</td>\n",
       "    </tr>\n",
       "    <tr>\n",
       "      <th>3461</th>\n",
       "      <td>YYA</td>\n",
       "      <td>ZGYY</td>\n",
       "      <td>Sanhe Airport</td>\n",
       "      <td>1</td>\n",
       "      <td>8530</td>\n",
       "      <td>230</td>\n",
       "      <td>CN</td>\n",
       "      <td>CN-43</td>\n",
       "      <td>Yueyang</td>\n",
       "      <td>29.312500</td>\n",
       "      <td>113.281667</td>\n",
       "    </tr>\n",
       "    <tr>\n",
       "      <th>3462</th>\n",
       "      <td>BQJ</td>\n",
       "      <td>UEBB</td>\n",
       "      <td>Batagay Airport</td>\n",
       "      <td>2</td>\n",
       "      <td>6562</td>\n",
       "      <td>699</td>\n",
       "      <td>RU</td>\n",
       "      <td>RU-SA</td>\n",
       "      <td>Batagay</td>\n",
       "      <td>67.647778</td>\n",
       "      <td>134.693611</td>\n",
       "    </tr>\n",
       "    <tr>\n",
       "      <th>3463</th>\n",
       "      <td>DPT</td>\n",
       "      <td>UEBD</td>\n",
       "      <td>Deputatskij Airport</td>\n",
       "      <td>1</td>\n",
       "      <td>7021</td>\n",
       "      <td>920</td>\n",
       "      <td>RU</td>\n",
       "      <td>RU-SA</td>\n",
       "      <td>Deputatskij</td>\n",
       "      <td>69.392500</td>\n",
       "      <td>139.889444</td>\n",
       "    </tr>\n",
       "  </tbody>\n",
       "</table>\n",
       "<p>3464 rows × 11 columns</p>\n",
       "</div>"
      ],
      "text/plain": [
       "     iata  icao                                               name  runways  \\\n",
       "0     ATL  KATL  Hartsfield - Jackson Atlanta International Air...        5   \n",
       "1     ANC  PANC                              Anchorage Ted Stevens        3   \n",
       "2     AUS  KAUS             Austin Bergstrom International Airport        2   \n",
       "3     BNA  KBNA                    Nashville International Airport        4   \n",
       "4     BOS  KBOS                                       Boston Logan        6   \n",
       "...   ...   ...                                                ...      ...   \n",
       "3459  LNL  ZLLN                                 Cheng Xian Airport        1   \n",
       "3460  XAI  ZHXY                           Xinyang Minggang Airport        1   \n",
       "3461  YYA  ZGYY                                      Sanhe Airport        1   \n",
       "3462  BQJ  UEBB                                    Batagay Airport        2   \n",
       "3463  DPT  UEBD                                Deputatskij Airport        1   \n",
       "\n",
       "      longest  elevation country region         city        lat         lon  \n",
       "0       12390       1026      US  US-GA      Atlanta  33.636700  -84.428101  \n",
       "1       12400        151      US  US-AK    Anchorage  61.174400 -149.996002  \n",
       "2       12250        542      US  US-TX       Austin  30.194500  -97.669899  \n",
       "3       11030        599      US  US-TN    Nashville  36.124500  -86.678200  \n",
       "4       10083         19      US  US-MA       Boston  42.364300  -71.005203  \n",
       "...       ...        ...     ...    ...          ...        ...         ...  \n",
       "3459     9186       3707      CN  CN-62      Longnan  33.789722  105.788611  \n",
       "3460     8858       4528      CN  CN-41      Xinyang  32.540556  114.078889  \n",
       "3461     8530        230      CN  CN-43      Yueyang  29.312500  113.281667  \n",
       "3462     6562        699      RU  RU-SA      Batagay  67.647778  134.693611  \n",
       "3463     7021        920      RU  RU-SA  Deputatskij  69.392500  139.889444  \n",
       "\n",
       "[3464 rows x 11 columns]"
      ]
     },
     "metadata": {},
     "output_type": "display_data"
    }
   ],
   "source": [
    "import pandas as pd\n",
    "\n",
    "airports = pd.read_csv('../data/airports.csv', delimiter = ';')\n",
    "display(airports)"
   ]
  },
  {
   "cell_type": "markdown",
   "metadata": {},
   "source": [
    "*Note:* the length of the longest runway and the elevation is given in foots."
   ]
  },
  {
   "cell_type": "markdown",
   "metadata": {},
   "source": [
    "Lets set the column `iata` as the index column, so each row of data will be accessible later by indexing the airports with their IATA code."
   ]
  },
  {
   "cell_type": "code",
   "execution_count": 2,
   "metadata": {},
   "outputs": [
    {
     "data": {
      "text/html": [
       "<div>\n",
       "<style scoped>\n",
       "    .dataframe tbody tr th:only-of-type {\n",
       "        vertical-align: middle;\n",
       "    }\n",
       "\n",
       "    .dataframe tbody tr th {\n",
       "        vertical-align: top;\n",
       "    }\n",
       "\n",
       "    .dataframe thead th {\n",
       "        text-align: right;\n",
       "    }\n",
       "</style>\n",
       "<table border=\"1\" class=\"dataframe\">\n",
       "  <thead>\n",
       "    <tr style=\"text-align: right;\">\n",
       "      <th></th>\n",
       "      <th>icao</th>\n",
       "      <th>name</th>\n",
       "      <th>runways</th>\n",
       "      <th>longest</th>\n",
       "      <th>elevation</th>\n",
       "      <th>country</th>\n",
       "      <th>region</th>\n",
       "      <th>city</th>\n",
       "      <th>lat</th>\n",
       "      <th>lon</th>\n",
       "    </tr>\n",
       "    <tr>\n",
       "      <th>iata</th>\n",
       "      <th></th>\n",
       "      <th></th>\n",
       "      <th></th>\n",
       "      <th></th>\n",
       "      <th></th>\n",
       "      <th></th>\n",
       "      <th></th>\n",
       "      <th></th>\n",
       "      <th></th>\n",
       "      <th></th>\n",
       "    </tr>\n",
       "  </thead>\n",
       "  <tbody>\n",
       "    <tr>\n",
       "      <th>ATL</th>\n",
       "      <td>KATL</td>\n",
       "      <td>Hartsfield - Jackson Atlanta International Air...</td>\n",
       "      <td>5</td>\n",
       "      <td>12390</td>\n",
       "      <td>1026</td>\n",
       "      <td>US</td>\n",
       "      <td>US-GA</td>\n",
       "      <td>Atlanta</td>\n",
       "      <td>33.636700</td>\n",
       "      <td>-84.428101</td>\n",
       "    </tr>\n",
       "    <tr>\n",
       "      <th>ANC</th>\n",
       "      <td>PANC</td>\n",
       "      <td>Anchorage Ted Stevens</td>\n",
       "      <td>3</td>\n",
       "      <td>12400</td>\n",
       "      <td>151</td>\n",
       "      <td>US</td>\n",
       "      <td>US-AK</td>\n",
       "      <td>Anchorage</td>\n",
       "      <td>61.174400</td>\n",
       "      <td>-149.996002</td>\n",
       "    </tr>\n",
       "    <tr>\n",
       "      <th>AUS</th>\n",
       "      <td>KAUS</td>\n",
       "      <td>Austin Bergstrom International Airport</td>\n",
       "      <td>2</td>\n",
       "      <td>12250</td>\n",
       "      <td>542</td>\n",
       "      <td>US</td>\n",
       "      <td>US-TX</td>\n",
       "      <td>Austin</td>\n",
       "      <td>30.194500</td>\n",
       "      <td>-97.669899</td>\n",
       "    </tr>\n",
       "    <tr>\n",
       "      <th>BNA</th>\n",
       "      <td>KBNA</td>\n",
       "      <td>Nashville International Airport</td>\n",
       "      <td>4</td>\n",
       "      <td>11030</td>\n",
       "      <td>599</td>\n",
       "      <td>US</td>\n",
       "      <td>US-TN</td>\n",
       "      <td>Nashville</td>\n",
       "      <td>36.124500</td>\n",
       "      <td>-86.678200</td>\n",
       "    </tr>\n",
       "    <tr>\n",
       "      <th>BOS</th>\n",
       "      <td>KBOS</td>\n",
       "      <td>Boston Logan</td>\n",
       "      <td>6</td>\n",
       "      <td>10083</td>\n",
       "      <td>19</td>\n",
       "      <td>US</td>\n",
       "      <td>US-MA</td>\n",
       "      <td>Boston</td>\n",
       "      <td>42.364300</td>\n",
       "      <td>-71.005203</td>\n",
       "    </tr>\n",
       "    <tr>\n",
       "      <th>...</th>\n",
       "      <td>...</td>\n",
       "      <td>...</td>\n",
       "      <td>...</td>\n",
       "      <td>...</td>\n",
       "      <td>...</td>\n",
       "      <td>...</td>\n",
       "      <td>...</td>\n",
       "      <td>...</td>\n",
       "      <td>...</td>\n",
       "      <td>...</td>\n",
       "    </tr>\n",
       "    <tr>\n",
       "      <th>LNL</th>\n",
       "      <td>ZLLN</td>\n",
       "      <td>Cheng Xian Airport</td>\n",
       "      <td>1</td>\n",
       "      <td>9186</td>\n",
       "      <td>3707</td>\n",
       "      <td>CN</td>\n",
       "      <td>CN-62</td>\n",
       "      <td>Longnan</td>\n",
       "      <td>33.789722</td>\n",
       "      <td>105.788611</td>\n",
       "    </tr>\n",
       "    <tr>\n",
       "      <th>XAI</th>\n",
       "      <td>ZHXY</td>\n",
       "      <td>Xinyang Minggang Airport</td>\n",
       "      <td>1</td>\n",
       "      <td>8858</td>\n",
       "      <td>4528</td>\n",
       "      <td>CN</td>\n",
       "      <td>CN-41</td>\n",
       "      <td>Xinyang</td>\n",
       "      <td>32.540556</td>\n",
       "      <td>114.078889</td>\n",
       "    </tr>\n",
       "    <tr>\n",
       "      <th>YYA</th>\n",
       "      <td>ZGYY</td>\n",
       "      <td>Sanhe Airport</td>\n",
       "      <td>1</td>\n",
       "      <td>8530</td>\n",
       "      <td>230</td>\n",
       "      <td>CN</td>\n",
       "      <td>CN-43</td>\n",
       "      <td>Yueyang</td>\n",
       "      <td>29.312500</td>\n",
       "      <td>113.281667</td>\n",
       "    </tr>\n",
       "    <tr>\n",
       "      <th>BQJ</th>\n",
       "      <td>UEBB</td>\n",
       "      <td>Batagay Airport</td>\n",
       "      <td>2</td>\n",
       "      <td>6562</td>\n",
       "      <td>699</td>\n",
       "      <td>RU</td>\n",
       "      <td>RU-SA</td>\n",
       "      <td>Batagay</td>\n",
       "      <td>67.647778</td>\n",
       "      <td>134.693611</td>\n",
       "    </tr>\n",
       "    <tr>\n",
       "      <th>DPT</th>\n",
       "      <td>UEBD</td>\n",
       "      <td>Deputatskij Airport</td>\n",
       "      <td>1</td>\n",
       "      <td>7021</td>\n",
       "      <td>920</td>\n",
       "      <td>RU</td>\n",
       "      <td>RU-SA</td>\n",
       "      <td>Deputatskij</td>\n",
       "      <td>69.392500</td>\n",
       "      <td>139.889444</td>\n",
       "    </tr>\n",
       "  </tbody>\n",
       "</table>\n",
       "<p>3464 rows × 10 columns</p>\n",
       "</div>"
      ],
      "text/plain": [
       "      icao                                               name  runways  \\\n",
       "iata                                                                     \n",
       "ATL   KATL  Hartsfield - Jackson Atlanta International Air...        5   \n",
       "ANC   PANC                              Anchorage Ted Stevens        3   \n",
       "AUS   KAUS             Austin Bergstrom International Airport        2   \n",
       "BNA   KBNA                    Nashville International Airport        4   \n",
       "BOS   KBOS                                       Boston Logan        6   \n",
       "...    ...                                                ...      ...   \n",
       "LNL   ZLLN                                 Cheng Xian Airport        1   \n",
       "XAI   ZHXY                           Xinyang Minggang Airport        1   \n",
       "YYA   ZGYY                                      Sanhe Airport        1   \n",
       "BQJ   UEBB                                    Batagay Airport        2   \n",
       "DPT   UEBD                                Deputatskij Airport        1   \n",
       "\n",
       "      longest  elevation country region         city        lat         lon  \n",
       "iata                                                                         \n",
       "ATL     12390       1026      US  US-GA      Atlanta  33.636700  -84.428101  \n",
       "ANC     12400        151      US  US-AK    Anchorage  61.174400 -149.996002  \n",
       "AUS     12250        542      US  US-TX       Austin  30.194500  -97.669899  \n",
       "BNA     11030        599      US  US-TN    Nashville  36.124500  -86.678200  \n",
       "BOS     10083         19      US  US-MA       Boston  42.364300  -71.005203  \n",
       "...       ...        ...     ...    ...          ...        ...         ...  \n",
       "LNL      9186       3707      CN  CN-62      Longnan  33.789722  105.788611  \n",
       "XAI      8858       4528      CN  CN-41      Xinyang  32.540556  114.078889  \n",
       "YYA      8530        230      CN  CN-43      Yueyang  29.312500  113.281667  \n",
       "BQJ      6562        699      RU  RU-SA      Batagay  67.647778  134.693611  \n",
       "DPT      7021        920      RU  RU-SA  Deputatskij  69.392500  139.889444  \n",
       "\n",
       "[3464 rows x 10 columns]"
      ]
     },
     "metadata": {},
     "output_type": "display_data"
    }
   ],
   "source": [
    "airports.set_index('iata', inplace=True)\n",
    "display(airports)"
   ]
  },
  {
   "cell_type": "markdown",
   "metadata": {},
   "source": [
    "*Reminder:* the `set_index` function can be configured to modify the index in place or return a new *Dataframe* with the `inplace` parameter (defaults to `False`).\n",
    "It can also be configured to drop or keep the index column with the `drop` parameter (defaults to `True`)."
   ]
  },
  {
   "cell_type": "markdown",
   "metadata": {},
   "source": [
    "The information of the Budapest Airport can now be accessed both by numerical and associative (string) indexing:"
   ]
  },
  {
   "cell_type": "code",
   "execution_count": 3,
   "metadata": {},
   "outputs": [
    {
     "name": "stdout",
     "output_type": "stream",
     "text": [
      "The Budapest airport by the numerical index:\n",
      "icao                                                LHBP\n",
      "name         Budapest Ferenc Liszt International Airport\n",
      "runways                                                2\n",
      "longest                                            12162\n",
      "elevation                                            495\n",
      "country                                               HU\n",
      "region                                             HU-PE\n",
      "city                                            Budapest\n",
      "lat                                            47.436901\n",
      "lon                                              19.2556\n",
      "Name: BUD, dtype: object\n",
      "\n",
      "The Budapest airport by the associative index:\n",
      "icao                                                LHBP\n",
      "name         Budapest Ferenc Liszt International Airport\n",
      "runways                                                2\n",
      "longest                                            12162\n",
      "elevation                                            495\n",
      "country                                               HU\n",
      "region                                             HU-PE\n",
      "city                                            Budapest\n",
      "lat                                            47.436901\n",
      "lon                                              19.2556\n",
      "Name: BUD, dtype: object\n"
     ]
    }
   ],
   "source": [
    "print('The Budapest airport by the numerical index:')\n",
    "print(airports.iloc[111])\n",
    "print()\n",
    "print('The Budapest airport by the associative index:')\n",
    "print(airports.loc['BUD'])\n"
   ]
  },
  {
   "cell_type": "markdown",
   "metadata": {},
   "source": [
    "The number of runways the Budapest Airport can be fetched (or modified) now 4 possible ways:"
   ]
  },
  {
   "cell_type": "code",
   "execution_count": 4,
   "metadata": {},
   "outputs": [
    {
     "name": "stdout",
     "output_type": "stream",
     "text": [
      "2\n",
      "2\n",
      "2\n",
      "2\n"
     ]
    }
   ],
   "source": [
    "print(airports.iloc[111]['runways'])\n",
    "print(airports.loc['BUD']['runways'])\n",
    "print(airports['runways'][111])\n",
    "print(airports['runways']['BUD'])"
   ]
  },
  {
   "cell_type": "markdown",
   "metadata": {},
   "source": [
    "### Read the airroutes data"
   ]
  },
  {
   "cell_type": "code",
   "execution_count": 5,
   "metadata": {},
   "outputs": [
    {
     "data": {
      "text/html": [
       "<div>\n",
       "<style scoped>\n",
       "    .dataframe tbody tr th:only-of-type {\n",
       "        vertical-align: middle;\n",
       "    }\n",
       "\n",
       "    .dataframe tbody tr th {\n",
       "        vertical-align: top;\n",
       "    }\n",
       "\n",
       "    .dataframe thead th {\n",
       "        text-align: right;\n",
       "    }\n",
       "</style>\n",
       "<table border=\"1\" class=\"dataframe\">\n",
       "  <thead>\n",
       "    <tr style=\"text-align: right;\">\n",
       "      <th></th>\n",
       "      <th>from</th>\n",
       "      <th>to</th>\n",
       "      <th>distance</th>\n",
       "    </tr>\n",
       "  </thead>\n",
       "  <tbody>\n",
       "    <tr>\n",
       "      <th>0</th>\n",
       "      <td>ATL</td>\n",
       "      <td>AUS</td>\n",
       "      <td>811</td>\n",
       "    </tr>\n",
       "    <tr>\n",
       "      <th>1</th>\n",
       "      <td>ATL</td>\n",
       "      <td>BNA</td>\n",
       "      <td>214</td>\n",
       "    </tr>\n",
       "    <tr>\n",
       "      <th>2</th>\n",
       "      <td>ATL</td>\n",
       "      <td>BOS</td>\n",
       "      <td>945</td>\n",
       "    </tr>\n",
       "    <tr>\n",
       "      <th>3</th>\n",
       "      <td>ATL</td>\n",
       "      <td>BWI</td>\n",
       "      <td>576</td>\n",
       "    </tr>\n",
       "    <tr>\n",
       "      <th>4</th>\n",
       "      <td>ATL</td>\n",
       "      <td>DCA</td>\n",
       "      <td>546</td>\n",
       "    </tr>\n",
       "    <tr>\n",
       "      <th>...</th>\n",
       "      <td>...</td>\n",
       "      <td>...</td>\n",
       "      <td>...</td>\n",
       "    </tr>\n",
       "    <tr>\n",
       "      <th>50225</th>\n",
       "      <td>NRR</td>\n",
       "      <td>CPX</td>\n",
       "      <td>23</td>\n",
       "    </tr>\n",
       "    <tr>\n",
       "      <th>50226</th>\n",
       "      <td>LNL</td>\n",
       "      <td>PKX</td>\n",
       "      <td>708</td>\n",
       "    </tr>\n",
       "    <tr>\n",
       "      <th>50227</th>\n",
       "      <td>XAI</td>\n",
       "      <td>PKX</td>\n",
       "      <td>498</td>\n",
       "    </tr>\n",
       "    <tr>\n",
       "      <th>50228</th>\n",
       "      <td>YYA</td>\n",
       "      <td>PKX</td>\n",
       "      <td>726</td>\n",
       "    </tr>\n",
       "    <tr>\n",
       "      <th>50229</th>\n",
       "      <td>BQJ</td>\n",
       "      <td>DPT</td>\n",
       "      <td>178</td>\n",
       "    </tr>\n",
       "  </tbody>\n",
       "</table>\n",
       "<p>50230 rows × 3 columns</p>\n",
       "</div>"
      ],
      "text/plain": [
       "      from   to  distance\n",
       "0      ATL  AUS       811\n",
       "1      ATL  BNA       214\n",
       "2      ATL  BOS       945\n",
       "3      ATL  BWI       576\n",
       "4      ATL  DCA       546\n",
       "...    ...  ...       ...\n",
       "50225  NRR  CPX        23\n",
       "50226  LNL  PKX       708\n",
       "50227  XAI  PKX       498\n",
       "50228  YYA  PKX       726\n",
       "50229  BQJ  DPT       178\n",
       "\n",
       "[50230 rows x 3 columns]"
      ]
     },
     "metadata": {},
     "output_type": "display_data"
    }
   ],
   "source": [
    "airroutes = pd.read_csv('../data/airroutes.csv', delimiter = ';')\n",
    "display(airroutes)"
   ]
  },
  {
   "cell_type": "markdown",
   "metadata": {},
   "source": [
    "*Note:* the distance is given in miles."
   ]
  },
  {
   "cell_type": "markdown",
   "metadata": {},
   "source": [
    "### Build a graph"
   ]
  },
  {
   "cell_type": "markdown",
   "metadata": {},
   "source": [
    "*NetworkX* has an integrated conversion for *pandas* DataFrames which can be used.  \n",
    "Lets create a directed graph (`networkx.DiGraph`) from the flights. The edges shall be weighted with the distance of the routes."
   ]
  },
  {
   "cell_type": "code",
   "execution_count": 6,
   "metadata": {},
   "outputs": [
    {
     "name": "stdout",
     "output_type": "stream",
     "text": [
      "Metadata for the BUD -> JFK edge: {'distance': 4356}\n"
     ]
    }
   ],
   "source": [
    "import networkx as nx\n",
    "\n",
    "flight_graph = nx.from_pandas_edgelist(airroutes, 'from', 'to', ['distance'], create_using = nx.DiGraph)\n",
    "\n",
    "print('Metadata for the BUD -> JFK edge: {0}'.format(flight_graph['BUD']['JFK']))"
   ]
  },
  {
   "cell_type": "markdown",
   "metadata": {},
   "source": [
    "*Reminder*: The 4<sup>th</sup> parameter defines which *Series* (columns) of the *DataFrame* shall be added to the edges as attributes. If `True`, all of the remaining columns will be added. If `None`, no edge attributes are added to the graph. Its default value is `None`."
   ]
  },
  {
   "cell_type": "markdown",
   "metadata": {},
   "source": [
    "---"
   ]
  },
  {
   "cell_type": "markdown",
   "metadata": {},
   "source": [
    "## Calculating the shortest path"
   ]
  },
  {
   "cell_type": "markdown",
   "metadata": {},
   "source": [
    "*NetworkX* supports various [shortest path algorithms](https://networkx.org/documentation/stable/reference/algorithms/shortest_paths.html):\n",
    "- *Dijkstra* and *Bellman-Ford* algorithm to compute shortest path between source and all other reachable nodes;\n",
    "- *Floyd-Warshall* algorithm to find the shortest path between all node pairs.\n",
    "\n",
    "Beside the algorithm-specific functions, NetworkX also provides a uniform interface to calculate the shortest paths from a starting point to a target (or to all):\n",
    "```python\n",
    "nx.shortest_path(graph, source, target, weight, method)\n",
    "```\n",
    "\n",
    "The default algorithm is *Dijsktra*."
   ]
  },
  {
   "cell_type": "markdown",
   "metadata": {},
   "source": [
    "### Example"
   ]
  },
  {
   "cell_type": "markdown",
   "metadata": {},
   "source": [
    "Calculate the path between 2 user given airports with the minimal number of transfers."
   ]
  },
  {
   "cell_type": "code",
   "execution_count": 7,
   "metadata": {},
   "outputs": [
    {
     "name": "stdin",
     "output_type": "stream",
     "text": [
      "From airport:  BUD\n",
      "To airport:  YYA\n"
     ]
    },
    {
     "name": "stdout",
     "output_type": "stream",
     "text": [
      "Route: ['BUD', 'JFK', 'CAN', 'PKX', 'YYA']\n",
      "Length: 14194 mi\n"
     ]
    }
   ],
   "source": [
    "from_airport = input(\"From airport: \")\n",
    "to_airport = input(\"To airport: \")\n",
    "\n",
    "if flight_graph.has_node(from_airport) and flight_graph.has_node(to_airport):\n",
    "    route = nx.shortest_path(flight_graph, from_airport, to_airport)\n",
    "    print(\"Route: {0}\".format(route))\n",
    "    \n",
    "    length = 0\n",
    "    for i in range(1, len(route)):\n",
    "        length += flight_graph[route[i-1]][route[i]]['distance']\n",
    "    print(\"Length: {0} mi\".format(length))\n",
    "else:\n",
    "    print(\"Source or destination airport was not found.\")"
   ]
  },
  {
   "cell_type": "markdown",
   "metadata": {},
   "source": [
    "Calculate the shortest path by distance between 2 user given airports."
   ]
  },
  {
   "cell_type": "code",
   "execution_count": 8,
   "metadata": {},
   "outputs": [
    {
     "name": "stdin",
     "output_type": "stream",
     "text": [
      "From airport:  BUD\n",
      "To airport:  YYA\n"
     ]
    },
    {
     "name": "stdout",
     "output_type": "stream",
     "text": [
      "Route: ['BUD', 'SVO', 'HET', 'PKX', 'YYA'] (5339 mi)\n"
     ]
    }
   ],
   "source": [
    "from_airport = input(\"From airport: \")\n",
    "to_airport = input(\"To airport: \")\n",
    "\n",
    "if flight_graph.has_node(from_airport) and flight_graph.has_node(to_airport):\n",
    "    route = nx.dijkstra_path(flight_graph, from_airport, to_airport, 'distance')\n",
    "    length = nx.dijkstra_path_length(flight_graph, from_airport, to_airport, 'distance')\n",
    "    print(\"Route: {0} ({1} mi)\".format(route, length))\n",
    "else:\n",
    "    print(\"Source or destination airport was not found.\")"
   ]
  },
  {
   "cell_type": "markdown",
   "metadata": {},
   "source": [
    "Calculate the shortest between 2 user given airports by distance, but with the following additional conditions:\n",
    "* airports with no longer runway than 8000 feets cannot be used;\n",
    "* airports with only 1 runway has a 50% penalty of the distance."
   ]
  },
  {
   "cell_type": "code",
   "execution_count": 9,
   "metadata": {},
   "outputs": [
    {
     "name": "stdin",
     "output_type": "stream",
     "text": [
      "From airport:  BUD\n",
      "To airport:  YYA\n"
     ]
    },
    {
     "name": "stdout",
     "output_type": "stream",
     "text": [
      "Route: ['BUD', 'SVO', 'HET', 'PKX', 'YYA'] (5702.0 mi)\n"
     ]
    }
   ],
   "source": [
    "def custom_distance(from_node, to_node, edge_attr):\n",
    "    if airports.loc[to_node]['longest'] < 8000:\n",
    "        return None\n",
    "    if airports.loc[to_node]['runways'] == 1:\n",
    "        return edge_attr['distance'] * 1.5\n",
    "    return edge_attr['distance']\n",
    "\n",
    "from_airport = input(\"From airport: \")\n",
    "to_airport = input(\"To airport: \")\n",
    "\n",
    "if flight_graph.has_node(from_airport) and flight_graph.has_node(to_airport):\n",
    "    route = nx.dijkstra_path(flight_graph, from_airport, to_airport, custom_distance)\n",
    "    length = nx.dijkstra_path_length(flight_graph, from_airport, to_airport, custom_distance)\n",
    "    print(\"Route: {0} ({1} mi)\".format(route, length))\n",
    "else:\n",
    "    print(\"Source airport was not found.\")"
   ]
  },
  {
   "cell_type": "markdown",
   "metadata": {},
   "source": [
    "Calculate which airports can be reached from a starting, user given airport within a reach of also user given distance (in miles). Also compute the shorthest path by distance to each of them."
   ]
  },
  {
   "cell_type": "code",
   "execution_count": 12,
   "metadata": {},
   "outputs": [
    {
     "name": "stdin",
     "output_type": "stream",
     "text": [
      "From airport:  JFK\n",
      "Max distance:  300\n"
     ]
    },
    {
     "name": "stdout",
     "output_type": "stream",
     "text": [
      "JFK -> JFK: ['JFK'] (0 mi)\n",
      "JFK -> BOS: ['JFK', 'BOS'] (186 mi)\n",
      "JFK -> BWI: ['JFK', 'BWI'] (184 mi)\n",
      "JFK -> DCA: ['JFK', 'DCA'] (213 mi)\n",
      "JFK -> IAD: ['JFK', 'IAD'] (227 mi)\n",
      "JFK -> PHL: ['JFK', 'PHL'] (93 mi)\n",
      "JFK -> PWM: ['JFK', 'PWM'] (273 mi)\n",
      "JFK -> ROC: ['JFK', 'ROC'] (263 mi)\n",
      "JFK -> ORF: ['JFK', 'ORF'] (290 mi)\n",
      "JFK -> BUF: ['JFK', 'BUF'] (300 mi)\n",
      "JFK -> RIC: ['JFK', 'RIC'] (288 mi)\n",
      "JFK -> SYR: ['JFK', 'SYR'] (208 mi)\n",
      "JFK -> BTV: ['JFK', 'BTV'] (266 mi)\n",
      "JFK -> ORH: ['JFK', 'ORH'] (149 mi)\n",
      "JFK -> ACK: ['JFK', 'ACK'] (198 mi)\n",
      "JFK -> HYA: ['JFK', 'HYA'] (195 mi)\n",
      "JFK -> LGA: ['JFK', 'PHL', 'LGA'] (187 mi)\n",
      "JFK -> HPN: ['JFK', 'PHL', 'HPN'] (207 mi)\n",
      "JFK -> EWR: ['JFK', 'PHL', 'EWR'] (172 mi)\n",
      "JFK -> MDT: ['JFK', 'PHL', 'MDT'] (176 mi)\n",
      "JFK -> BDL: ['JFK', 'PHL', 'EWR', 'BDL'] (287 mi)\n",
      "JFK -> ISP: ['JFK', 'PHL', 'ISP'] (222 mi)\n",
      "JFK -> SWF: ['JFK', 'PHL', 'SWF'] (220 mi)\n",
      "JFK -> ABE: ['JFK', 'PHL', 'ABE'] (148 mi)\n",
      "JFK -> AVP: ['JFK', 'PHL', 'AVP'] (197 mi)\n",
      "JFK -> PHF: ['JFK', 'PHL', 'PHF'] (294 mi)\n",
      "JFK -> ELM: ['JFK', 'PHL', 'ELM'] (273 mi)\n",
      "JFK -> SCE: ['JFK', 'PHL', 'SCE'] (246 mi)\n",
      "JFK -> BGM: ['JFK', 'PHL', 'BGM'] (259 mi)\n",
      "JFK -> ITH: ['JFK', 'PHL', 'ITH'] (285 mi)\n",
      "JFK -> HVN: ['JFK', 'PHL', 'HVN'] (249 mi)\n",
      "JFK -> IPT: ['JFK', 'PHL', 'IPT'] (222 mi)\n",
      "JFK -> SBY: ['JFK', 'PHL', 'SBY'] (200 mi)\n",
      "JFK -> LEB: ['JFK', 'BOS', 'LEB'] (295 mi)\n",
      "JFK -> MVY: ['JFK', 'ACK', 'MVY'] (228 mi)\n",
      "JFK -> PVC: ['JFK', 'BOS', 'PVC'] (231 mi)\n",
      "JFK -> EWB: ['JFK', 'ACK', 'EWB'] (253 mi)\n",
      "JFK -> HGR: ['JFK', 'IAD', 'HGR'] (282 mi)\n"
     ]
    }
   ],
   "source": [
    "from_airport = input(\"From airport: \")\n",
    "max_distance = int(input(\"Max distance: \"))\n",
    "\n",
    "if flight_graph.has_node(from_airport):\n",
    "    lengths, routes = nx.single_source_dijkstra(flight_graph, from_airport, None, max_distance, 'distance')\n",
    "    for to_airport in routes.keys():\n",
    "        print(\"{0} -> {1}: {2} ({3} mi)\".format(from_airport, to_airport, routes[to_airport], lengths[to_airport]))\n",
    "else:\n",
    "    print(\"Source airport was not found.\")"
   ]
  },
  {
   "cell_type": "markdown",
   "metadata": {},
   "source": [
    "Calculate which cities can be reached from a starting, user given city within a reach of also user given distance (in miles)."
   ]
  },
  {
   "cell_type": "code",
   "execution_count": 13,
   "metadata": {},
   "outputs": [
    {
     "name": "stdin",
     "output_type": "stream",
     "text": [
      "From city:  New York\n",
      "Max distance:  300\n"
     ]
    },
    {
     "name": "stdout",
     "output_type": "stream",
     "text": [
      "['Allentown', 'Baltimore', 'Binghamton', 'Boston', 'Buffalo', 'Burlington', 'Elmira/Corning', 'Hagerstown', 'Harrisburg', 'Hartford', 'Hyannis', 'Islip', 'Ithaca', 'Lebanon', 'Manchester', \"Martha's Vineyard\", 'Nantucket', 'New Bedford', 'New Haven', 'New York', 'Newark', 'Newburgh', 'Newport News', 'Norfolk', 'Philadelphia', 'Portland', 'Provincetown', 'Richmond', 'Rochester', 'Salisbury', 'State College', 'Syracuse', 'Washington D.C.', 'White Plains', 'Wilkes-Barre/Scranton', 'Williamsport', 'Worcester']\n"
     ]
    }
   ],
   "source": [
    "from_city = input(\"From city: \")\n",
    "max_distance = int(input(\"Max distance: \"))\n",
    "\n",
    "from_airports = airports[airports['city'] == from_city].index\n",
    "result = []\n",
    "for from_airport in from_airports:\n",
    "    routes = nx.single_source_dijkstra_path(flight_graph, from_airport, max_distance, 'distance')\n",
    "    to_airports = routes.keys()\n",
    "    to_cities = [airports.loc[ap]['city'] for ap in to_airports]\n",
    "    result += to_cities\n",
    "\n",
    "result_unique = set(result) # remove duplicates\n",
    "print(sorted(result_unique)) # sort the printed result"
   ]
  }
 ],
 "metadata": {
  "kernelspec": {
   "display_name": "Python 3",
   "language": "python",
   "name": "python3"
  },
  "language_info": {
   "codemirror_mode": {
    "name": "ipython",
    "version": 3
   },
   "file_extension": ".py",
   "mimetype": "text/x-python",
   "name": "python",
   "nbconvert_exporter": "python",
   "pygments_lexer": "ipython3",
   "version": "3.8.5"
  }
 },
 "nbformat": 4,
 "nbformat_minor": 4
}
