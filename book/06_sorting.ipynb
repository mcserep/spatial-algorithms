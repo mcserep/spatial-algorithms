{
 "cells": [
  {
   "cell_type": "markdown",
   "metadata": {},
   "source": [
    "# Chapter 6: Sorting algorithms and complexity"
   ]
  },
  {
   "cell_type": "markdown",
   "metadata": {},
   "source": [
    "Sorting is one of the most thoroughly studied algorithms in computer science. There are dozens of different sorting implementations, some applicable in general, others efficient in specific circumstances only.\n",
    "\n",
    "Sorting can be used to solve a variety of problems, to mention a few basic ones:\n",
    " - **Searching** for an item on a list works much faster if the list is sorted.\n",
    " - **Selecting** items from a list based on their relationship to the rest of the items is easier with sorted data. For example, finding the k<sup>th</sup>-largest or smallest value, or finding the median value of the list, is much easier when the values are in ascending or descending order.\n",
    " - **Finding duplicate** values in a list can be done very quickly when the list is sorted.\n",
    " - Analyzing the frequency **distribution** of items on a list is very fast if the list is sorted. For example, finding the element that appears most or least often is relatively straightforward with a sorted list.\n",
    "\n"
   ]
  },
  {
   "cell_type": "markdown",
   "metadata": {},
   "source": [
    "Generate a list of random numbers to sort:"
   ]
  },
  {
   "cell_type": "code",
   "execution_count": 1,
   "metadata": {},
   "outputs": [
    {
     "name": "stdout",
     "output_type": "stream",
     "text": [
      "[26, 4, 52, 74, 88, 51, 32, 21, 98, 3, 18, 52, 62, 80, 16, 52, 43, 71, 90, 17]\n"
     ]
    }
   ],
   "source": [
    "import random\n",
    "\n",
    "originalNumbers = [random.randint(1, 100) for _ in range(20)]\n",
    "print(originalNumbers)"
   ]
  },
  {
   "cell_type": "markdown",
   "metadata": {},
   "source": [
    "## Bubble sort\n",
    "\n",
    "*Bubble sort* is a simple sorting algorithms that works by repeatedly swapping the adjacent elements if they are in wrong order. In one iteration the largest element will be moved to the end of the array, thus reducting the problem to a shorter array.\n",
    "\n",
    "<img alt=\"Bubble sort example\" src=\"../images/06_bubble_sort.png\" title=\"Source: http://tamop412.elte.hu/tananyagok/algoritmusok/\" style=\"width: 250px;\" />"
   ]
  },
  {
   "cell_type": "code",
   "execution_count": 2,
   "metadata": {},
   "outputs": [],
   "source": [
    "def swap(array, i, j):\n",
    "    temp = array[i]\n",
    "    array[i] = array[j]\n",
    "    array[j] = temp"
   ]
  },
  {
   "cell_type": "code",
   "execution_count": 3,
   "metadata": {},
   "outputs": [
    {
     "name": "stdout",
     "output_type": "stream",
     "text": [
      "Unsorted: [26, 4, 52, 74, 88, 51, 32, 21, 98, 3, 18, 52, 62, 80, 16, 52, 43, 71, 90, 17]\n",
      "Sorted: [3, 4, 16, 17, 18, 21, 26, 32, 43, 51, 52, 52, 52, 62, 71, 74, 80, 88, 90, 98]\n"
     ]
    }
   ],
   "source": [
    "def bubbleSort(array):\n",
    "    for end in range(len(array), 1, -1):\n",
    "        for i in range(1, end):\n",
    "            if array[i-1] > array[i]:\n",
    "                swap(array, i-1, i)\n",
    "        \n",
    "numbers = originalNumbers.copy()\n",
    "print(\"Unsorted: {0}\".format(numbers))\n",
    "bubbleSort(numbers)\n",
    "print(\"Sorted: {0}\".format(numbers))"
   ]
  },
  {
   "cell_type": "markdown",
   "metadata": {},
   "source": [
    "## Insertion sort\n",
    "\n",
    "*Insertion sort* is a simple sorting algorithm that maintains a sorted and an unsorted part of the array. Values from the unsorted part are picked and placed at the correct position in the sorted part.\n",
    "\n",
    "<img alt=\"Insertion sort example\" src=\"../images/06_insertion_sort.png\" title=\"Source: http://tamop412.elte.hu/tananyagok/algoritmusok/\" style=\"width: 250px;\" />"
   ]
  },
  {
   "cell_type": "code",
   "execution_count": 4,
   "metadata": {},
   "outputs": [
    {
     "name": "stdout",
     "output_type": "stream",
     "text": [
      "Unsorted: [26, 4, 52, 74, 88, 51, 32, 21, 98, 3, 18, 52, 62, 80, 16, 52, 43, 71, 90, 17]\n",
      "Sorted: [3, 4, 16, 17, 18, 21, 26, 32, 43, 51, 52, 52, 52, 62, 71, 74, 80, 88, 90, 98]\n"
     ]
    }
   ],
   "source": [
    "def insertionSort(array):\n",
    "    for i in range(1, len(array)):\n",
    "        value = array[i]\n",
    "        j = i - 1\n",
    "        while j >= 0 and array[j] > value:\n",
    "            array[j + 1] = array[j]\n",
    "            j -= 1\n",
    "        array[j + 1] = value\n",
    "        \n",
    "numbers = originalNumbers.copy()\n",
    "print(\"Unsorted: {0}\".format(numbers))\n",
    "insertionSort(numbers)\n",
    "print(\"Sorted: {0}\".format(numbers))"
   ]
  },
  {
   "cell_type": "markdown",
   "metadata": {},
   "source": [
    "## Maximum sort (a.k.a. Selection sort)"
   ]
  },
  {
   "cell_type": "markdown",
   "metadata": {},
   "source": [
    "*Maximum sort* algorithm sorts an array of elements by repeatedly finding the maximum element (considering ascending order) from an unsorted part and putting it at the end of it. Then the length of the unsorted part is reduced by 1.  \n",
    "The algorithm can also formulated as a *Minimum sort* and combined they often they named *Selection sort*.\n",
    "\n",
    "<img alt=\"Maxium sort example\" src=\"../images/06_maximum_sort.png\" title=\"Source: http://tamop412.elte.hu/tananyagok/algoritmusok/\" style=\"width: 250px;\" />"
   ]
  },
  {
   "cell_type": "code",
   "execution_count": 5,
   "metadata": {},
   "outputs": [
    {
     "name": "stdout",
     "output_type": "stream",
     "text": [
      "Unsorted: [26, 4, 52, 74, 88, 51, 32, 21, 98, 3, 18, 52, 62, 80, 16, 52, 43, 71, 90, 17]\n",
      "Sorted: [3, 4, 16, 17, 18, 21, 26, 32, 43, 51, 52, 52, 52, 62, 71, 74, 80, 88, 90, 98]\n"
     ]
    }
   ],
   "source": [
    "def maximumSort(array):\n",
    "    for end in range(len(array), 1, -1):\n",
    "        maxIdx = end - 1\n",
    "        # maximum search algorithm\n",
    "        for i in range(end):\n",
    "            if array[i] > array[maxIdx]:\n",
    "                maxIdx = i\n",
    "        swap(array, end - 1, maxIdx)\n",
    "            \n",
    "\n",
    "numbers = originalNumbers.copy()\n",
    "print(\"Unsorted: {0}\".format(numbers))\n",
    "maximumSort(numbers)\n",
    "print(\"Sorted: {0}\".format(numbers))"
   ]
  },
  {
   "cell_type": "markdown",
   "metadata": {},
   "source": [
    "---"
   ]
  },
  {
   "cell_type": "markdown",
   "metadata": {},
   "source": [
    "## Quicksort"
   ]
  },
  {
   "cell_type": "markdown",
   "metadata": {},
   "source": [
    "*Quicksort* is a *Divide and Conquer* algorithm. It picks an element as *pivot* and partitions the given array around the picked pivot. The partitioning is executed that the algorithm puts the smaller element to the left of the pivot and the larger elements to the right of the pivot. Then the algorithm is executed recursively on the partitions.\n",
    "\n",
    "There are many different versions on how to pick a \"good\" pivot element, the simplest solution is to always pick the first element.\n",
    "\n",
    "<img alt=\"Quicksort example\" src=\"../images/06_quicksort.png\" title=\"Source: http://tamop412.elte.hu/tananyagok/algoritmusok/\" style=\"width: 380px;\" />"
   ]
  },
  {
   "cell_type": "markdown",
   "metadata": {},
   "source": [
    "*Divide And Conquer* algorithms in general works as follows:\n",
    " - *Divide*: Divide the problem into more sub problems.\n",
    " - *Conquer*: Solve the sub problems by calling recursively until sub problem solved is trivially solved."
   ]
  },
  {
   "cell_type": "code",
   "execution_count": 6,
   "metadata": {},
   "outputs": [
    {
     "name": "stdout",
     "output_type": "stream",
     "text": [
      "Unsorted: [26, 4, 52, 74, 88, 51, 32, 21, 98, 3, 18, 52, 62, 80, 16, 52, 43, 71, 90, 17]\n",
      "Sorted: [3, 4, 16, 17, 18, 21, 26, 32, 43, 51, 52, 52, 52, 62, 71, 74, 80, 88, 90, 98]\n"
     ]
    }
   ],
   "source": [
    "# Quicksorting\n",
    "def quickSort(array):\n",
    "    n = len(array)\n",
    "    _quickSort(array, 0, n - 1)\n",
    "\n",
    "# Quicksorting (partial array)\n",
    "def _quickSort(array, u, v):\n",
    "    if u >= v:\n",
    "        return;\n",
    "\n",
    "    k = _partition(array, u, v)\n",
    "    _quickSort(array, u, k - 1)\n",
    "    _quickSort(array, k + 1, v)\n",
    "\n",
    "# Partinoning algorithm: move the pivot element to its position\n",
    "def _partition(array, u, v):\n",
    "    i = u + 1;\n",
    "    j = v;\n",
    "    while i <= j:\n",
    "        while i <= v and array[i] <= array[u]:\n",
    "            i += 1\n",
    "        while j >= u + 1 and array[j] >= array[u]:\n",
    "            j -= 1\n",
    "\n",
    "        if i < j:\n",
    "            swap(array, i , j)\n",
    "            i += 1\n",
    "            j -= 1\n",
    "\n",
    "    swap(array, u, i - 1)\n",
    "    return i - 1;\n",
    "\n",
    "\n",
    "# Swap 2 items in a list\n",
    "def swap(array, i, j):\n",
    "    temp = array[i]\n",
    "    array[i] = array[j]\n",
    "    array[j] = temp\n",
    "    \n",
    "numbers = originalNumbers.copy()\n",
    "print(\"Unsorted: %s\" % numbers)\n",
    "quickSort(numbers)\n",
    "print(\"Sorted: %s\" % numbers)"
   ]
  },
  {
   "cell_type": "markdown",
   "metadata": {},
   "source": [
    "## Merge sort\n",
    "\n",
    "Two sorted lists of data can be merged together by iterating through their elements only once.\n",
    "\n",
    "<img alt=\"Merge sorted lists\" src=\"../images/06_merge_list.png\" title=\"Source: http://tamop412.elte.hu/tananyagok/algoritmusok/\" style=\"width: 350px;\" />"
   ]
  },
  {
   "cell_type": "markdown",
   "metadata": {},
   "source": [
    "The *Merge Sort* is also a *Divide and Conquer* algorithm.\n",
    "It divides input array in two halves, calls itself for the two halves and then merges the two sorted halves.\n",
    "(We assume that the sorting of 2 elements is trivial.)\n",
    "\n",
    "<img alt=\"Merge sort example\" src=\"../images/06_merge_sort.png\" title=\"Source: http://tamop412.elte.hu/tananyagok/algoritmusok/\" style=\"width: 450px;\" />\n",
    "\n",
    "*Remark:* `h` denotes the (maximum) length of the sorted part of the array."
   ]
  },
  {
   "cell_type": "code",
   "execution_count": 7,
   "metadata": {},
   "outputs": [
    {
     "name": "stdout",
     "output_type": "stream",
     "text": [
      "Unsorted: [26, 4, 52, 74, 88, 51, 32, 21, 98, 3, 18, 52, 62, 80, 16, 52, 43, 71, 90, 17]\n",
      "Sorted: [3, 4, 16, 17, 18, 21, 26, 32, 43, 51, 52, 52, 52, 62, 71, 74, 80, 88, 90, 98]\n"
     ]
    }
   ],
   "source": [
    "# Merge sort\n",
    "def mergeSort(array):\n",
    "    n = len(array)\n",
    "    _mergeSort(array, 0, n - 1)\n",
    "\n",
    "# Merge sort (partial array)\n",
    "def _mergeSort(array, left, right):\n",
    "    if left < right:\n",
    "        middle = (left + right) // 2\n",
    "  \n",
    "        # Sort first and second halves\n",
    "        _mergeSort(array, left, middle)\n",
    "        _mergeSort(array, middle + 1, right)\n",
    "        # Merge\n",
    "        _merge(array, left, right, middle)\n",
    "\n",
    "# Merges sorted partial arrays\n",
    "def _merge(array, left, right, middle):\n",
    "    nLeft = middle - left + 1\n",
    "    nRight = right - middle\n",
    "  \n",
    "    # create temp arrays\n",
    "    L = [0] * nLeft\n",
    "    R = [0] * nRight\n",
    "  \n",
    "    # Copy data to temp arrays L[] and R[]\n",
    "    for i in range(0 , nLeft):\n",
    "        L[i] = array[left + i]\n",
    "  \n",
    "    for j in range(0 , nRight):\n",
    "        R[j] = array[middle + 1 + j]\n",
    "  \n",
    "    # Initialize index positions\n",
    "    i = 0\n",
    "    j = 0\n",
    "    k = left\n",
    "  \n",
    "    # Merge the temp arrays back into array[left..right]\n",
    "    while i < nLeft and j < nRight:\n",
    "        if L[i] <= R[j]:\n",
    "            array[k] = L[i]\n",
    "            i += 1\n",
    "        else:\n",
    "            array[k] = R[j]\n",
    "            j += 1\n",
    "        k += 1\n",
    "  \n",
    "    # Copy the remaining elements of L[]\n",
    "    while i < nLeft:\n",
    "        array[k] = L[i]\n",
    "        i += 1\n",
    "        k += 1\n",
    "  \n",
    "    # Copy the remaining elements of R[]\n",
    "    while j < nRight:\n",
    "        array[k] = R[j]\n",
    "        j += 1\n",
    "        k += 1\n",
    "\n",
    "numbers = originalNumbers.copy()\n",
    "print(\"Unsorted: %s\" % numbers)\n",
    "mergeSort(numbers)\n",
    "print(\"Sorted: %s\" % numbers)"
   ]
  },
  {
   "cell_type": "markdown",
   "metadata": {},
   "source": [
    "---"
   ]
  },
  {
   "cell_type": "markdown",
   "metadata": {},
   "source": [
    "## Complexity analysis of algorithms\n",
    "\n",
    "In computer science, the analysis of algorithms is the process of finding the computational complexity of algorithms: the **amount of time, storage**, or other resources needed to execute them.\n",
    "Usually, this involves determining a function that relates the length of an algorithm's input to the number of steps it takes (its **time complexity**) or the number of storage locations it uses (its **space complexity**).\n",
    "\n",
    "Now we will focus on **time complexity**. Let $f$ and $g$ represent the time complexity of 2 algorithms and we would like to make statements on how they grow compared to each other. (E.g. the time complexity of the *bubble sort* grows no faster than the $n^2$ function.)\n",
    "\n",
    "In theoretical analysis of algorithms it is common to estimate their complexity in the *asymptotic sense*, i.e., to estimate the complexity function for arbitrarily large input. We are not concerned with small inputs or constant factors. The following notations are used to this end:\n",
    " - **Big O ($O$) notation** describes the *asympthotic upper bound*, meaning that $f(N) = O(g(N))$, if such positive constants $c$ and $N_0$ exists, that $f(N) \\leq c * g(N)$, for all $N \\ge N_0$.\n",
    " - **Big-omega ($\\Omega$) notation** describes the *asympthotic lower bound*, meaning that $f(N) = O(g(N))$, if such positive constants $c$ and $N_0$ exists, that $f(N) \\ge c * g(N)$, for all $N \\ge N_0$.\n",
    " - **Big-theta ($\\Theta$) notation** describes the *asympthotic tight bound*, meaning that $f(N) = O(g(N))$, if such positive constants $c_1$, $c_2$ and $N_0$ exists, that $c_1 * g(N) \\leq f(N) \\leq c_2 * g(N)$, for all $N \\ge N_0$.\n",
    "\n",
    "In computer science in most cases we are interested in computing the *Big O* or the *Big-theta* notation, as a lower bound alone would not state much about the complexity.\n",
    "\n",
    "For the most common complexities, well-known names have also be assigned and used:\n",
    "\n",
    "| Asympthotic complexity | Name |\n",
    "|------------------------|------|\n",
    "| $\\Theta(1)$ | Constant time | |\n",
    "| $\\Theta(n)$ | Linear time |\n",
    "| $\\Theta(n^2)$ | Quadratic time |\n",
    "| $\\Theta(n^3)$ | Cubic time |\n",
    "| $\\Theta(log(n))$ | Logarithmic time |\n",
    "| $\\Theta(n * log(n))$ | Linearithmic time |\n",
    "| $\\Theta(2 ^ n)$ | Exponential time |\n",
    "| $\\Theta(n!)$ | Factorial time |"
   ]
  },
  {
   "cell_type": "markdown",
   "metadata": {},
   "source": [
    "**Question:** what is the asymptotic computational complexity of the introduced sorting algoirhtms?"
   ]
  },
  {
   "cell_type": "markdown",
   "metadata": {},
   "source": [
    "Bubbke sort, insertsion sort, maximum sort: $\\Theta(n^2))$  \n",
    "Quicksort, merge sort: $\\Theta(n * log(n))$"
   ]
  },
  {
   "cell_type": "markdown",
   "metadata": {},
   "source": [
    "It can be proven that for a general case there is no better time complexity for sorting than $\\Theta(n * log(n))$.  \n",
    "There are further algorithms with this complexity, see e.g. [**Heap sort**](https://en.wikipedia.org/wiki/Heapsort) or [**Tournament sort**](https://en.wikipedia.org/wiki/Tournament_sort)."
   ]
  }
 ],
 "metadata": {
  "kernelspec": {
   "display_name": "Python 3",
   "language": "python",
   "name": "python3"
  },
  "language_info": {
   "codemirror_mode": {
    "name": "ipython",
    "version": 3
   },
   "file_extension": ".py",
   "mimetype": "text/x-python",
   "name": "python",
   "nbconvert_exporter": "python",
   "pygments_lexer": "ipython3",
   "version": "3.8.5"
  }
 },
 "nbformat": 4,
 "nbformat_minor": 4
}
