{
 "cells": [
  {
   "cell_type": "markdown",
   "metadata": {},
   "source": [
    "# Chapter 11: Sorting"
   ]
  },
  {
   "cell_type": "markdown",
   "metadata": {},
   "source": [
    "Generate a list of random numbers to sort:"
   ]
  },
  {
   "cell_type": "code",
   "execution_count": 2,
   "metadata": {},
   "outputs": [
    {
     "name": "stdout",
     "output_type": "stream",
     "text": [
      "[15, 77, 43, 58, 21, 78, 86, 56, 97, 3, 32, 31, 25, 92, 88, 93, 91, 31, 37, 60]\n"
     ]
    }
   ],
   "source": [
    "import random\n",
    "\n",
    "originalNumbers = [random.randint(1, 100) for _ in range(20)]\n",
    "print(originalNumbers)"
   ]
  },
  {
   "cell_type": "markdown",
   "metadata": {},
   "source": [
    "## Bubble sort"
   ]
  },
  {
   "cell_type": "markdown",
   "metadata": {},
   "source": [
    "*Bubble sort* is a simple sorting algorithms that works by repeatedly swapping the adjacent elements if they are in wrong order. In one iteration the largest element will be moved to the end of the array, thus reducting the problem to a shorter array.\n",
    "\n",
    "![Bubble sort example](images/11_bubble_sort.png \"Source: http://tamop412.elte.hu/tananyagok/algoritmusok/\")"
   ]
  },
  {
   "cell_type": "code",
   "execution_count": 3,
   "metadata": {},
   "outputs": [],
   "source": [
    "def swap(array, i, j):\n",
    "    temp = array[i]\n",
    "    array[i] = array[j]\n",
    "    array[j] = temp"
   ]
  },
  {
   "cell_type": "code",
   "execution_count": 5,
   "metadata": {},
   "outputs": [
    {
     "name": "stdout",
     "output_type": "stream",
     "text": [
      "Unsorted: [15, 77, 43, 58, 21, 78, 86, 56, 97, 3, 32, 31, 25, 92, 88, 93, 91, 31, 37, 60]\n",
      "Sorted: [3, 15, 21, 25, 31, 31, 32, 37, 43, 56, 58, 60, 77, 78, 86, 88, 91, 92, 93, 97]\n"
     ]
    }
   ],
   "source": [
    "def bubbleSort(array):\n",
    "    for end in range(len(array), 1, -1):\n",
    "        for i in range(1, end):\n",
    "            if array[i-1] > array[i]:\n",
    "                swap(array, i-1, i)\n",
    "        \n",
    "numbers = originalNumbers.copy()\n",
    "print(\"Unsorted: {0}\".format(numbers))\n",
    "bubbleSort(numbers)\n",
    "print(\"Sorted: {0}\".format(numbers))"
   ]
  },
  {
   "cell_type": "markdown",
   "metadata": {},
   "source": [
    "**Question:** what is the asymptotic computational complexity of the algorithm?"
   ]
  },
  {
   "cell_type": "markdown",
   "metadata": {},
   "source": [
    "$\\theta(n^2)$"
   ]
  },
  {
   "cell_type": "markdown",
   "metadata": {},
   "source": [
    "## Insertion sort"
   ]
  },
  {
   "cell_type": "markdown",
   "metadata": {},
   "source": [
    "*Insertion sort* is a simple sorting algorithm that maintains a sorted and an unsorted part of the array. Values from the unsorted part are picked and placed at the correct position in the sorted part.\n",
    "\n",
    "![Insertion sort example](images/11_insertion_sort.png \"Source: http://tamop412.elte.hu/tananyagok/algoritmusok/\")"
   ]
  },
  {
   "cell_type": "code",
   "execution_count": 6,
   "metadata": {},
   "outputs": [
    {
     "name": "stdout",
     "output_type": "stream",
     "text": [
      "Unsorted: [15, 77, 43, 58, 21, 78, 86, 56, 97, 3, 32, 31, 25, 92, 88, 93, 91, 31, 37, 60]\n",
      "Sorted: [3, 15, 21, 25, 31, 31, 32, 37, 43, 56, 58, 60, 77, 78, 86, 88, 91, 92, 93, 97]\n"
     ]
    }
   ],
   "source": [
    "def insertionSort(array):\n",
    "    for i in range(1, len(array)):\n",
    "        value = array[i]\n",
    "        j = i - 1\n",
    "        while j >= 0 and array[j] > value:\n",
    "            array[j + 1] = array[j]\n",
    "            j -= 1\n",
    "        array[j + 1] = value\n",
    "        \n",
    "numbers = originalNumbers.copy()\n",
    "print(\"Unsorted: {0}\".format(numbers))\n",
    "insertionSort(numbers)\n",
    "print(\"Sorted: {0}\".format(numbers))"
   ]
  },
  {
   "cell_type": "markdown",
   "metadata": {},
   "source": [
    "**Question:** what is the asymptotic computational complexity of the algorithm?"
   ]
  },
  {
   "cell_type": "markdown",
   "metadata": {},
   "source": [
    "$\\theta(n^2)$"
   ]
  },
  {
   "cell_type": "markdown",
   "metadata": {},
   "source": [
    "## Maximum sort (a.k.a. Selection sort)"
   ]
  },
  {
   "cell_type": "markdown",
   "metadata": {},
   "source": [
    "*Maximum sort* algorithm sorts an array of elements by repeatedly finding the maxiumum element (considering ascending order) from an unsorted part and putting it at the end of it. Then the length of the unsorted part is reduced by 1.  \n",
    "The algorithm can also formulated as a *Minimum sort* and combined they often they named *Selection sort*.\n",
    "\n",
    "![Maxium sort example](images/11_maximum_sort.png \"Source: http://tamop412.elte.hu/tananyagok/algoritmusok/\")"
   ]
  },
  {
   "cell_type": "code",
   "execution_count": 21,
   "metadata": {},
   "outputs": [
    {
     "name": "stdout",
     "output_type": "stream",
     "text": [
      "Unsorted: [15, 77, 43, 58, 21, 78, 86, 56, 97, 3, 32, 31, 25, 92, 88, 93, 91, 31, 37, 60]\n",
      "Sorted: [3, 15, 21, 25, 31, 31, 32, 37, 43, 56, 58, 60, 77, 78, 86, 88, 91, 92, 93, 97]\n"
     ]
    }
   ],
   "source": [
    "def maximumSort(array):\n",
    "    for end in range(len(array), 1, -1):\n",
    "        maxIdx = end - 1\n",
    "        # maximum search algorithm\n",
    "        for i in range(end):\n",
    "            if array[i] > array[maxIdx]:\n",
    "                maxIdx = i\n",
    "        swap(array, end - 1, maxIdx)\n",
    "            \n",
    "\n",
    "numbers = originalNumbers.copy()\n",
    "print(\"Unsorted: {0}\".format(numbers))\n",
    "maximumSort(numbers)\n",
    "print(\"Sorted: {0}\".format(numbers))"
   ]
  },
  {
   "cell_type": "markdown",
   "metadata": {},
   "source": [
    "**Question:** what is the asymptotic computational complexity of the algorithm?"
   ]
  },
  {
   "cell_type": "markdown",
   "metadata": {},
   "source": [
    "$\\theta(n^2)$"
   ]
  },
  {
   "cell_type": "markdown",
   "metadata": {},
   "source": [
    "## Quicksort"
   ]
  },
  {
   "cell_type": "markdown",
   "metadata": {},
   "source": [
    "*Quicksort* is a *Divide and Conquer* algorithm. It picks an element as *pivot* and partitions the given array around the picked pivot. Th partioning is executed that the algorithm puts the smaller element to the left of the piot and the larger elements to the right of the pivot. Then the algorithm is executed recursively on the partitions.\n",
    "\n",
    "There are many different versions on how to pick a \"good\" pivot element, the simplest solution is to always pick the first element.\n",
    "\n",
    "![Quicksort example](images/11_quicksort.png \"Source: http://tamop412.elte.hu/tananyagok/algoritmusok/\")"
   ]
  },
  {
   "cell_type": "markdown",
   "metadata": {},
   "source": [
    "*Divide And Conquer* algorithms in general works as follows:\n",
    " - *Divide*: Divide the problem into more sub problem.\n",
    " - *Conquer*: Solve the sub problems by calling recursively until sub problem solved is trivially solved."
   ]
  },
  {
   "cell_type": "code",
   "execution_count": 20,
   "metadata": {},
   "outputs": [
    {
     "name": "stdout",
     "output_type": "stream",
     "text": [
      "Unsorted: [49, 87, 44, 79, 92, 41, 21, 85, 51, 27, 100, 12, 10, 38, 66, 25, 93, 87, 26, 58]\n",
      "Sorted: [10, 12, 21, 25, 26, 27, 38, 41, 44, 49, 51, 58, 66, 79, 85, 87, 87, 92, 93, 100]\n"
     ]
    }
   ],
   "source": [
    "# Quicksorting\n",
    "def quickSort(array):\n",
    "    n = len(array)\n",
    "    _quickSort(array, 0, n - 1)\n",
    "\n",
    "# Quicksorting (partial arry)\n",
    "def _quickSort(array, u, v):\n",
    "    if u >= v:\n",
    "        return;\n",
    "\n",
    "    k = _partition(array, u, v)\n",
    "    _quickSort(array, u, k - 1)\n",
    "    _quickSort(array, k + 1, v)\n",
    "\n",
    "# Partinoning algorithm: move the pivot element to its position\n",
    "def _partition(array, u, v):\n",
    "    i = u + 1;\n",
    "    j = v;\n",
    "    while i <= j:\n",
    "        while i <= v and array[i] <= array[u]:\n",
    "            i += 1\n",
    "        while j >= u + 1 and array[j] >= array[u]:\n",
    "            j -= 1\n",
    "\n",
    "        if i < j:\n",
    "            swap(array, i , j)\n",
    "            i += 1\n",
    "            j -= 1\n",
    "\n",
    "    swap(array, u, i - 1)\n",
    "    return i - 1;\n",
    "\n",
    "\n",
    "# Swap 2 items in a list\n",
    "def swap(array, i, j):\n",
    "    temp = array[i]\n",
    "    array[i] = array[j]\n",
    "    array[j] = temp\n",
    "    \n",
    "numbers = originalNumbers.copy()\n",
    "print(\"Unsorted: %s\" % numbers)\n",
    "quickSort(numbers)\n",
    "print(\"Sorted: %s\" % numbers)"
   ]
  },
  {
   "cell_type": "markdown",
   "metadata": {},
   "source": [
    "**Question:** what is the asymptotic computational complexity of the algorithm?"
   ]
  },
  {
   "cell_type": "markdown",
   "metadata": {},
   "source": [
    "$\\theta(n * log(n))$"
   ]
  },
  {
   "cell_type": "markdown",
   "metadata": {},
   "source": [
    "Tournament sort"
   ]
  }
 ],
 "metadata": {
  "kernelspec": {
   "display_name": "Python 3",
   "language": "python",
   "name": "python3"
  },
  "language_info": {
   "codemirror_mode": {
    "name": "ipython",
    "version": 3
   },
   "file_extension": ".py",
   "mimetype": "text/x-python",
   "name": "python",
   "nbconvert_exporter": "python",
   "pygments_lexer": "ipython3",
   "version": "3.8.5"
  }
 },
 "nbformat": 4,
 "nbformat_minor": 4
}
