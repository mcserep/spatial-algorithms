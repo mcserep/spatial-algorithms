{
 "cells": [
  {
   "cell_type": "markdown",
   "metadata": {},
   "source": [
    "# Chapter 4: Functions"
   ]
  },
  {
   "cell_type": "markdown",
   "metadata": {},
   "source": [
    "We have already used (*called*) functions multiple times, like `print()`, `int()`, `len()` or `randint()`."
   ]
  },
  {
   "cell_type": "code",
   "execution_count": null,
   "metadata": {},
   "outputs": [],
   "source": [
    "import random\n",
    "\n",
    "name = \"James Bond\"\n",
    "number = int(\"007\")\n",
    "print(name)\n",
    "print(len(name))\n",
    "print(number)\n",
    "print(random.randint(1, 100))"
   ]
  },
  {
   "cell_type": "markdown",
   "metadata": {},
   "source": [
    "The concept of a function in programming is very close to the mathematical definition of a function. These functions can:\n",
    " * accept 0, 1 or multiple parameters;\n",
    " * return a value or not;\n",
    " * meanwhile causing *side-effects*, like printing a message on the console output."
   ]
  },
  {
   "cell_type": "markdown",
   "metadata": {},
   "source": [
    "## Defining custom functions"
   ]
  },
  {
   "cell_type": "markdown",
   "metadata": {},
   "source": [
    "By defining custom functions, the redundancy in the code can be reduced. A custom function can be defined with the `def` keyword:\n",
    "```\n",
    "def function_name ( <parameter_list> ):\n",
    "    function_statement\n",
    "```"
   ]
  },
  {
   "cell_type": "markdown",
   "metadata": {},
   "source": [
    "By *defining* a function we are just \"storing\" it, be we are not executing it yet. For example:"
   ]
  },
  {
   "cell_type": "code",
   "execution_count": null,
   "metadata": {},
   "outputs": [],
   "source": [
    "def hello():\n",
    "    print(\"Hello World!\")"
   ]
  },
  {
   "cell_type": "markdown",
   "metadata": {},
   "source": [
    "Now we may *call* the function even multiple types to execute it:"
   ]
  },
  {
   "cell_type": "code",
   "execution_count": null,
   "metadata": {},
   "outputs": [],
   "source": [
    "print(\"First line\")\n",
    "hello()\n",
    "print(\"Second line\")\n",
    "hello()"
   ]
  },
  {
   "cell_type": "markdown",
   "metadata": {},
   "source": [
    "What will be the type of a function?"
   ]
  },
  {
   "cell_type": "code",
   "execution_count": null,
   "metadata": {},
   "outputs": [],
   "source": [
    "print(type(hello))"
   ]
  },
  {
   "cell_type": "markdown",
   "metadata": {},
   "source": [
    "## Parameters"
   ]
  },
  {
   "cell_type": "markdown",
   "metadata": {},
   "source": [
    "Functions may have zero, one or multiple parameters, which are given between parentheses as *variables* to the function:"
   ]
  },
  {
   "cell_type": "code",
   "execution_count": null,
   "metadata": {},
   "outputs": [],
   "source": [
    "def greet(name):\n",
    "    print(\"Hello \" + name + \"!\")"
   ]
  },
  {
   "cell_type": "code",
   "execution_count": null,
   "metadata": {},
   "outputs": [],
   "source": [
    "greet(\"John\")\n",
    "someName = \"Jane\"\n",
    "greet(someName)"
   ]
  },
  {
   "cell_type": "markdown",
   "metadata": {},
   "source": [
    "In the above example the variable `name` is a **parameter**. The literal value `John` and the variable `someName` are the **arguments** of the function call. So parameters are the generalized variables in the function definitions, while arguments are the actual, concrete values in a function call."
   ]
  },
  {
   "cell_type": "markdown",
   "metadata": {},
   "source": [
    "## Return values"
   ]
  },
  {
   "cell_type": "markdown",
   "metadata": {},
   "source": [
    "Functions can return a value with the `return` statement. When a function reaches a return statement, the execution of the function is stopped and the given value is returned. (A function can contain multiple return statements when using conditions or iterations.)"
   ]
  },
  {
   "cell_type": "markdown",
   "metadata": {},
   "source": [
    "Let's write the `sum_list` function, which receives a list of numerical values as a parameter and returns the sum of the numbers!"
   ]
  },
  {
   "cell_type": "code",
   "execution_count": null,
   "metadata": {},
   "outputs": [],
   "source": [
    "def sum_list(numbers): # numbers is assumed to be a list of numerical values\n",
    "    sum_value = 0\n",
    "    for num in numbers:\n",
    "        sum_value += num\n",
    "    return sum_value\n",
    "    print(\"This line will never get printed\")"
   ]
  },
  {
   "cell_type": "markdown",
   "metadata": {},
   "source": [
    "Until now we have only defined the function, now we can call it:"
   ]
  },
  {
   "cell_type": "code",
   "execution_count": null,
   "metadata": {},
   "outputs": [],
   "source": [
    "nums = [12, 8, 37, 21, 67, 42, 25]\n",
    "print(sum_list(nums))"
   ]
  },
  {
   "cell_type": "markdown",
   "metadata": {},
   "source": [
    "A function can contain multiple `return` statements. After the first `return` statement reached, the execution of the function is stopped."
   ]
  },
  {
   "cell_type": "markdown",
   "metadata": {},
   "source": [
    "Let's write the `average` function, which receives a list of numerical values as a parameter and returns the average of the numbers. If the list is empty, the returned value shall be `None`. Reuse the previous `sum_list` function to produce the sum of the values."
   ]
  },
  {
   "cell_type": "code",
   "execution_count": null,
   "metadata": {},
   "outputs": [],
   "source": [
    "def average(numbers): # numbers is assumed to be a list of numerical values\n",
    "    if len(numbers) == 0:\n",
    "        return None\n",
    "    else:\n",
    "        return sum_list(numbers) / len(numbers)\n",
    "    print(\"This line will never get printed\")"
   ]
  },
  {
   "cell_type": "code",
   "execution_count": null,
   "metadata": {},
   "outputs": [],
   "source": [
    "nums = [12, 8, 37, 21, 67, 42, 25]\n",
    "print(average(nums))"
   ]
  },
  {
   "cell_type": "markdown",
   "metadata": {},
   "source": [
    "*Remark*: the `None` keyword is used to define a no value at all (also called *null value*).  \n",
    "`None` is not the same as `0`, `False`, or an empty string. `None` has a data type of its own (`NoneType`) and only `None` can be `None`."
   ]
  },
  {
   "cell_type": "markdown",
   "metadata": {},
   "source": [
    "Functions returning a value are called *fruitful* functions. Functions without a return value are called *void* functions. In that case the returned value is *None*."
   ]
  },
  {
   "cell_type": "code",
   "execution_count": null,
   "metadata": {},
   "outputs": [],
   "source": [
    "greet(\"Matthew\")\n",
    "result = greet(\"Andrew\")\n",
    "print(result)"
   ]
  },
  {
   "cell_type": "markdown",
   "metadata": {},
   "source": [
    "## Multiple parameters"
   ]
  },
  {
   "cell_type": "markdown",
   "metadata": {},
   "source": [
    "Functions may have multiple parameters. In such a case the arguments are matched to the parameters in the same order as they are listed."
   ]
  },
  {
   "cell_type": "code",
   "execution_count": null,
   "metadata": {},
   "outputs": [],
   "source": [
    "def add(a, b):\n",
    "    print(\"Adding {0} and {1}\".format(a,b))\n",
    "    c = a + b\n",
    "    return c\n",
    "\n",
    "result = add(10, 32)\n",
    "print(result)\n",
    "result = add(-5, 8)\n",
    "print(result)"
   ]
  },
  {
   "cell_type": "markdown",
   "metadata": {},
   "source": [
    "## Default arguments"
   ]
  },
  {
   "cell_type": "markdown",
   "metadata": {},
   "source": [
    "Python allows function parameters to have default values. If the function is called without the argument, the parameter gets its default value."
   ]
  },
  {
   "cell_type": "code",
   "execution_count": null,
   "metadata": {},
   "outputs": [],
   "source": [
    "def power(base, exp = 10):\n",
    "    return base ** exp\n",
    "\n",
    "print(power(2, 6))\n",
    "print(power(2, 10))\n",
    "print(power(2))"
   ]
  },
  {
   "cell_type": "markdown",
   "metadata": {},
   "source": [
    "**IMPORTANT:** if a parameter has a default value, all other parameters following it must have a default value too! E.g. this is **invalid**:\n",
    "```python\n",
    "def power(base = 2, exp):\n",
    "    return base ** exp\n",
    "```"
   ]
  },
  {
   "cell_type": "markdown",
   "metadata": {},
   "source": [
    "## Passing arguments by their position or name"
   ]
  },
  {
   "cell_type": "markdown",
   "metadata": {},
   "source": [
    "In Python we can either pass the arguments by their *position* - as we have seen it so far:"
   ]
  },
  {
   "cell_type": "code",
   "execution_count": null,
   "metadata": {},
   "outputs": [],
   "source": [
    "print(power(2, 6))\n",
    "print(power(6, 2))"
   ]
  },
  {
   "cell_type": "markdown",
   "metadata": {},
   "source": [
    "Alternatively arguments can be passed by the respective *parameter name*:"
   ]
  },
  {
   "cell_type": "code",
   "execution_count": null,
   "metadata": {},
   "outputs": [],
   "source": [
    "print(power(base = 2, exp = 6))\n",
    "print(power(exp = 6, base = 2))\n",
    "print(power(2, exp = 6))"
   ]
  },
  {
   "cell_type": "markdown",
   "metadata": {},
   "source": [
    "*Note:* passing arguments by their name is especially useful when:\n",
    " - a function has many parameters and the function call is much more *readable* when the parameters are passed by their name;\n",
    " - a function has many parameters with default values and we would like to override the default value for only a few of them."
   ]
  },
  {
   "cell_type": "markdown",
   "metadata": {},
   "source": [
    "## Built-in functions"
   ]
  },
  {
   "cell_type": "markdown",
   "metadata": {},
   "source": [
    "There are many built-in functions in Python for common use cases, e.g. for looking up the maximum/minimum value in a list, or to calculate the sum of a list:"
   ]
  },
  {
   "cell_type": "code",
   "execution_count": null,
   "metadata": {},
   "outputs": [],
   "source": [
    "print(\"Maximum value in nums: {0}\".format(max(nums)))\n",
    "print(\"Minimum value in nums: {0}\".format(min(nums)))\n",
    "print(\"Sum of the values in nums: {0}\".format(sum(nums)))"
   ]
  },
  {
   "cell_type": "markdown",
   "metadata": {},
   "source": [
    "A comprehensive list can be found in the documentation:  \n",
    "https://docs.python.org/3/library/functions.html"
   ]
  },
  {
   "cell_type": "markdown",
   "metadata": {},
   "source": [
    "**Note:** defining a variable or function with the same of an existing (even builtin) function will hide it."
   ]
  },
  {
   "cell_type": "code",
   "execution_count": null,
   "metadata": {},
   "outputs": [],
   "source": [
    "print(\"Maximum value in nums: {0}\".format(max(nums)))\n",
    "max = 42\n",
    "print(\"Maximum value in nums: {0}\".format(max(nums))) # yields error ,as max in an integer now, not a function"
   ]
  },
  {
   "cell_type": "markdown",
   "metadata": {},
   "source": [
    "### Modules"
   ]
  },
  {
   "cell_type": "markdown",
   "metadata": {},
   "source": [
    "In Python a logical unit of defintions (*variables, functions, classes*) shall be put in a standalone file to support the easy reuse of the code. Such a file is called a *module*; definitions from a module can be *imported* into other modules or into the *main* module.\n",
    "\n",
    "There are many built-in modules, we have already used the `math` and the `random` module for example.\n",
    "By using modules we can access preinstalled libraries and use them, so our code will be shorter and more compact."
   ]
  },
  {
   "cell_type": "code",
   "execution_count": null,
   "metadata": {},
   "outputs": [],
   "source": [
    "import math\n",
    "print(math.pi) # using a variable definition from module math\n",
    "print(math.factorial(10)) # using a function definition from module math"
   ]
  },
  {
   "cell_type": "markdown",
   "metadata": {},
   "source": [
    "You can easily get a documentation for a module, by either looking it up in the reference:  \n",
    "https://docs.python.org/3/library/math.html\n",
    "\n",
    "Or fetching it dynamically with the `help` function:"
   ]
  },
  {
   "cell_type": "code",
   "execution_count": null,
   "metadata": {},
   "outputs": [],
   "source": [
    "help(math)"
   ]
  },
  {
   "cell_type": "markdown",
   "metadata": {},
   "source": [
    "---"
   ]
  },
  {
   "cell_type": "markdown",
   "metadata": {},
   "source": [
    "# Summary exercises on functions"
   ]
  },
  {
   "cell_type": "markdown",
   "metadata": {},
   "source": [
    "## Task 1: Fahrenheit to Celsius"
   ]
  },
  {
   "cell_type": "markdown",
   "metadata": {},
   "source": [
    "Write a function `fahr2cels`, which computes the temperature in Celcius from Fahrenheit. The formula is the following:\n",
    "$$ C = \\frac{5}{9} * (F - 32)$$\n",
    "\n",
    "Where $C$ is the degree in Celsius and $F$ is the degree in Fahrenheit.\n",
    "\n",
    "Write a program which prints out the appropriate Celsius values for each degree in Fahrenheit between 0 and 100, using an incremental step of 10."
   ]
  },
  {
   "cell_type": "code",
   "execution_count": null,
   "metadata": {},
   "outputs": [],
   "source": [
    "def fahr2cels(f):\n",
    "    c = 5 / 9 * (f - 32)\n",
    "    return c\n",
    "\n",
    "for fahr in range(0, 101, 10):\n",
    "    cels = fahr2cels(fahr)\n",
    "    print(\"Fahr = {0}, Cels = {1:.4f}\".format(fahr, cels))"
   ]
  },
  {
   "cell_type": "markdown",
   "metadata": {},
   "source": [
    "---"
   ]
  },
  {
   "cell_type": "markdown",
   "metadata": {},
   "source": [
    "## Task 2: Prime check"
   ]
  },
  {
   "cell_type": "markdown",
   "metadata": {},
   "source": [
    "Write a function `isPrime` which determines whether a number received as a parameter is a prime or not.  \n",
    "(You may reuse your algorithm from the previous lecture.)\n",
    "\n",
    "Wrtite a program which request a number from the user and tests whether it is a prime or not. Check whether the user input is really an integer number or not."
   ]
  },
  {
   "cell_type": "code",
   "execution_count": null,
   "metadata": {},
   "outputs": [],
   "source": [
    "import math\n",
    "\n",
    "def isPrime(number):\n",
    "    # Handle 0 and 1 as a special case\n",
    "    if number < 2:\n",
    "        return False\n",
    "    \n",
    "    # Numbers >= 2 are tested whether they have any divisors\n",
    "    for i in range(2, int(math.sqrt(number) + 1)):\n",
    "        #print(\"Testing divisor %d\" % i)\n",
    "        if number % i == 0:\n",
    "            # If we found a divisor, we can stop checking, because the number is NOT a prime\n",
    "            return False\n",
    "    \n",
    "    # If no divisors were found, then the number is a prime\n",
    "    return True\n",
    "\n",
    "try:\n",
    "    num = int(input(\"Number to check: \"))\n",
    "    if isPrime(num):\n",
    "        print(\"{0} is a prime\".format(num))\n",
    "    else:\n",
    "        print(\"{0} is NOT a prime\".format(num))\n",
    "except:\n",
    "    print(\"That was not a number!\")\n"
   ]
  },
  {
   "cell_type": "markdown",
   "metadata": {},
   "source": [
    "---"
   ]
  },
  {
   "cell_type": "markdown",
   "metadata": {},
   "source": [
    "## Task 3: Word count"
   ]
  },
  {
   "cell_type": "markdown",
   "metadata": {},
   "source": [
    "Request a string input from the user (a sentence). Write a function `wordCount` which count the words in the sentence!"
   ]
  },
  {
   "cell_type": "code",
   "execution_count": null,
   "metadata": {},
   "outputs": [],
   "source": [
    "def wordCount(sentence):\n",
    "    spaceCount = 0\n",
    "    for char in sentence:\n",
    "        if char == ' ':\n",
    "            spaceCount += 1\n",
    "    return spaceCount + 1\n",
    "\n",
    "userInput = input('Say a sentence: ')\n",
    "print('Your sentence consisted of {0} words.'.format(wordCount(userInput)))"
   ]
  },
  {
   "cell_type": "markdown",
   "metadata": {},
   "source": [
    "*Hint: count the spaces in the input string.*"
   ]
  },
  {
   "cell_type": "markdown",
   "metadata": {},
   "source": [
    "---"
   ]
  },
  {
   "cell_type": "markdown",
   "metadata": {},
   "source": [
    "## Task 4: Monotonity"
   ]
  },
  {
   "cell_type": "markdown",
   "metadata": {},
   "source": [
    "**A)** Given a list a numbers, write a function `isMonotonous` which decides whether the sequence is monotically increasing or not?\n",
    "\n",
    "Sample input:"
   ]
  },
  {
   "cell_type": "code",
   "execution_count": null,
   "metadata": {},
   "outputs": [],
   "source": [
    "list1 = [10, 20, 50, 400, 600]\n",
    "list2 = [10, 20, 50, 40, 600]\n",
    "list3 = [1000, 500, 200, 50, 10]\n",
    "list4 = [10, 20, 50, 50, 300]"
   ]
  },
  {
   "cell_type": "code",
   "execution_count": null,
   "metadata": {},
   "outputs": [],
   "source": [
    "def isMonotonous(numbers):\n",
    "    # Assume that the list is monotically increasing and search for an index pair where it is not true!\n",
    "    for i in range(1, len(numbers)):\n",
    "        if numbers[i - 1] > numbers[i]:\n",
    "            return False\n",
    "    # If no such errornous index pair was found, then the list was really monotically increasing.\n",
    "    return True\n",
    "\n",
    "print(\"List 1: {0}\".format(isMonotonous(list1)))\n",
    "print(\"List 2: {0}\".format(isMonotonous(list2)))\n",
    "print(\"List 3: {0}\".format(isMonotonous(list3)))\n",
    "print(\"List 4: {0}\".format(isMonotonous(list4)))"
   ]
  },
  {
   "cell_type": "markdown",
   "metadata": {},
   "source": [
    "**B)** Modify the previous function, so it decides whether the sequence is monotonous or not. (It can be either increasing or decreasing.)"
   ]
  },
  {
   "cell_type": "code",
   "execution_count": null,
   "metadata": {},
   "outputs": [],
   "source": [
    "def isMonotonous(numbers):\n",
    "    # Check for monotically increasing\n",
    "    isIncreasing = True\n",
    "    for i in range(1, len(numbers)):\n",
    "        if numbers[i - 1] > numbers[i]:\n",
    "            isIncreasing = False\n",
    "            break\n",
    "    \n",
    "    # Check for monotically decreasing\n",
    "    isDecreasing = True\n",
    "    for i in range(1, len(numbers)):\n",
    "        if numbers[i - 1] < numbers[i]:\n",
    "            isDecreasing = False\n",
    "            break\n",
    "    \n",
    "    # Return whether either one of the 2 conditions were true!\n",
    "    return isIncreasing or isDecreasing\n",
    "\n",
    "print(\"List 1: {0}\".format(isMonotonous(list1)))\n",
    "print(\"List 2: {0}\".format(isMonotonous(list2)))\n",
    "print(\"List 3: {0}\".format(isMonotonous(list3)))\n",
    "print(\"List 4: {0}\".format(isMonotonous(list4)))"
   ]
  }
 ],
 "metadata": {
  "kernelspec": {
   "display_name": "Python 3",
   "language": "python",
   "name": "python3"
  },
  "language_info": {
   "codemirror_mode": {
    "name": "ipython",
    "version": 3
   },
   "file_extension": ".py",
   "mimetype": "text/x-python",
   "name": "python",
   "nbconvert_exporter": "python",
   "pygments_lexer": "ipython3",
   "version": "3.8.5"
  }
 },
 "nbformat": 4,
 "nbformat_minor": 4
}
