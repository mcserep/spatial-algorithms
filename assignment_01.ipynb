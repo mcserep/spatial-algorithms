{
 "cells": [
  {
   "cell_type": "markdown",
   "metadata": {},
   "source": [
    "# 1<sup>st</sup> Assignment\n",
    "\n",
    "**1<sup>st</sup> assignment notebook, covering the materials of the 1-3<sup>rd</sup> classes.**  \n",
    "Topics: control structures, user input, exception handling, random generation, lists, function definition"
   ]
  },
  {
   "cell_type": "markdown",
   "metadata": {},
   "source": [
    "## Task 1: Separation by parity"
   ]
  },
  {
   "cell_type": "markdown",
   "metadata": {},
   "source": [
    "Given a *list* of numbers, write a program, which separates the odd and even integers in separate lists. E.g.:\n",
    "\n",
    "```\n",
    "Input: [45, 83, 90, 11, 24, 98, 87, 39, 9, 6]\n",
    "Even numbers: [90, 24, 98, 6]\n",
    "Odd numbers: [45, 83, 11, 87, 39, 9]\n",
    "```"
   ]
  },
  {
   "cell_type": "markdown",
   "metadata": {},
   "source": [
    "Here is a list of 20 random numbers between 1 and 100:"
   ]
  },
  {
   "cell_type": "code",
   "execution_count": null,
   "metadata": {},
   "outputs": [],
   "source": [
    "import random\n",
    "\n",
    "numbers = []\n",
    "for i in range(20):\n",
    "    numbers.append(random.randint(1, 100))\n",
    "print(numbers)"
   ]
  },
  {
   "cell_type": "markdown",
   "metadata": {},
   "source": [
    "Now write a program which separates them:"
   ]
  },
  {
   "cell_type": "code",
   "execution_count": null,
   "metadata": {},
   "outputs": [],
   "source": []
  },
  {
   "cell_type": "markdown",
   "metadata": {},
   "source": [
    "## Task 2: Pyramid"
   ]
  },
  {
   "cell_type": "markdown",
   "metadata": {},
   "source": [
    "Write the `pyramid(height)` function, which displays a pattern like a pyramid with an asterisk. The height of the pyramid can be defined by the user.\n",
    "\n",
    "E.g. for $height = 4$, the pyramid would look like:\n",
    "```\n",
    "   *\n",
    "  ***\n",
    " *****\n",
    "*******\n",
    "```"
   ]
  },
  {
   "cell_type": "code",
   "execution_count": null,
   "metadata": {},
   "outputs": [],
   "source": []
  },
  {
   "cell_type": "markdown",
   "metadata": {},
   "source": [
    "## Task 3: Collatz sequence"
   ]
  },
  {
   "cell_type": "markdown",
   "metadata": {},
   "source": [
    "Write a function which produces the *Collatz sequence* and returns it as a list. The function receives the starting value for the sequence. Request the starting value from the user, call the function and display the generated *Collatz sequence*.\n",
    "\n",
    "The [*Collatz sequence*](https://en.wikipedia.org/wiki/Collatz_conjecture) has a starting value and the next item of the sequence is always calculated from the previous one, defined as follows:\n",
    " * if the number is even, divide it by two;\n",
    " * if the number is odd, triple it and add one.\n",
    "\n",
    "More formally:\n",
    "$f(n) = \\left\\{\n",
    "\\begin{array}{ll}\n",
    "      n/2 & n \\equiv 0\\ (\\textrm{mod}\\ 2) \\\\\n",
    "      3n + 1 & n \\equiv 1\\ (\\textrm{mod}\\ 2) \\\\\n",
    "\\end{array}\n",
    "\\right.$\n",
    "\n",
    "\n",
    " \n",
    "The sequence stops upon reaching 1.\n",
    "For instance, starting with $n = 12$, one gets the sequence 12, 6, 3, 10, 5, 16, 8, 4, 2, 1."
   ]
  },
  {
   "cell_type": "code",
   "execution_count": null,
   "metadata": {},
   "outputs": [],
   "source": []
  },
  {
   "cell_type": "markdown",
   "metadata": {},
   "source": [
    "## Task 4: Anagram"
   ]
  },
  {
   "cell_type": "markdown",
   "metadata": {},
   "source": [
    "An anagram is a word or phrase formed by rearranging the letters of a different word or phrase.\n",
    "For example the words *spear* and *pears* are anagrams.\n",
    "Write a function, which decides whether two words are anagrams or not and returns a boolean value accordingly (*True* or *False*).\n",
    "\n",
    "**Grading:**\n",
    " - 1 point: works for words, where no letter occurs multiple times in a word;\n",
    " - 2 point: works for all words."
   ]
  },
  {
   "cell_type": "code",
   "execution_count": null,
   "metadata": {},
   "outputs": [],
   "source": []
  }
 ],
 "metadata": {
  "kernelspec": {
   "display_name": "Python 3",
   "language": "python",
   "name": "python3"
  },
  "language_info": {
   "codemirror_mode": {
    "name": "ipython",
    "version": 3
   },
   "file_extension": ".py",
   "mimetype": "text/x-python",
   "name": "python",
   "nbconvert_exporter": "python",
   "pygments_lexer": "ipython3",
   "version": "3.8.3"
  }
 },
 "nbformat": 4,
 "nbformat_minor": 4
}
