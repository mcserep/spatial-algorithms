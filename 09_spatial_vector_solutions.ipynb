{
 "cells": [
  {
   "cell_type": "markdown",
   "metadata": {},
   "source": [
    "# Chapter 9: Spatial data management - vector formats"
   ]
  },
  {
   "cell_type": "markdown",
   "metadata": {},
   "source": [
    "GeoPandas is an open source project to make working with geospatial data in Python easier. GeoPandas extends the datatypes used by *pandas* to allow spatial operations on geometric types."
   ]
  },
  {
   "cell_type": "markdown",
   "metadata": {},
   "source": [
    "## Install *geopandas*\n",
    "\n",
    "The following Python packages are required to be installed:\n",
    " - geopandas\n",
    " - descartes (for visualization)\n",
    " - mapclassify (for classification of data)\n",
    " - rtree (spatial indexing of data)\n",
    "\n",
    "### Anaconda - Platform independent\n",
    "\n",
    "If you have Anaconda installed, open the *Anaconda Prompt* and type in:\n",
    "```\n",
    "conda update --all\n",
    "conda install -c conda forge geopandas descartes mapclassify rtree\n",
    "```\n",
    "\n",
    "*Note:* updating the currently installed packages to their most recent version can be required to avoid dependency issues.  \n",
    "*Note:* we install from the *conda-forge* channel, as it contains more recent versions of these packages compared to the *default* channel of Anaconda.\n",
    "\n",
    "### Python Package Installer (pip) - Linux\n",
    "\n",
    "If you have standalone Python3 and Jupyter Notebook install on Linux, open a command prompt / terminal and type in:\n",
    "```\n",
    "pip3 install geopandas descartes mapclassify rtree\n",
    "```\n",
    "For the *rtree* Python package you must also install the *libspatialindex-dev* system package, which will require administrative priviliges:\n",
    "```\n",
    "sudo apt-get install libspatialindex-dev\n",
    "```\n",
    "\n",
    "### Python Package Installer (pip) - Windows\n",
    "\n",
    "The installation of these packages is much more complicated with *pip* on Windows, because several library binaries must be installed separately or compiled from source. (E.g. the *geopandas* package highly depends on the *GDAL* library.)  \n",
    "An easier approach is to install these packages from [Python binary wheel files](https://www.lfd.uci.edu/~gohlke/pythonlibs/).\n",
    "\n",
    "Due to its complexity these options are only recommended for advanced Python users and it is **strongly advised to use Anaconda on Windows**."
   ]
  },
  {
   "cell_type": "markdown",
   "metadata": {},
   "source": [
    "## How to use *geopandas*?\n",
    "\n",
    "The geopandas package is also a module which you can simply import. It is usually aliased with the `gpd` abbreviation.\n",
    "```python\n",
    "import geopandas as gpd\n",
    "```"
   ]
  },
  {
   "cell_type": "markdown",
   "metadata": {},
   "source": [
    "## Read spatial data"
   ]
  },
  {
   "cell_type": "markdown",
   "metadata": {},
   "source": [
    "Geopandas can read many vector-based spatial data format including Shapefiles, GeoJSON files and much more. Only the `read_file()` function has to be called.\n",
    "The result is a geopandas dataframe, a *GeoDataFrame*.\n",
    "\n",
    "Read the `data/ne_10m_admin_0_countries.shp` shapefile located in the `data` folder. This dataset contains both scalar and spatial data of the countries all over the world.  \n",
    "Source: [Natural Earth](https://www.naturalearthdata.com/downloads/10m-cultural-vectors/)"
   ]
  },
  {
   "cell_type": "code",
   "execution_count": null,
   "metadata": {},
   "outputs": [],
   "source": [
    "import geopandas as gpd\n",
    "import matplotlib.pyplot as plt\n",
    "%matplotlib inline\n",
    "\n",
    "countries_gdf = gpd.read_file('data/ne_10m_admin_0_countries.shp')\n",
    "display(countries_gdf)"
   ]
  },
  {
   "cell_type": "markdown",
   "metadata": {},
   "source": [
    "*Note:* observe the `geometry` column (the last one), which contains the geometry of the row in a [*well-known text* (WKT)](https://en.wikipedia.org/wiki/Well-known_text_representation_of_geometry) format."
   ]
  },
  {
   "cell_type": "markdown",
   "metadata": {},
   "source": [
    "## Basic usage of *GeoDataFrames*"
   ]
  },
  {
   "cell_type": "markdown",
   "metadata": {},
   "source": [
    "Since this *GeoDataFrame* has quite a number of columns, some of them are hidden by the display. Let's list all the columns:"
   ]
  },
  {
   "cell_type": "code",
   "execution_count": null,
   "metadata": {},
   "outputs": [],
   "source": [
    "print(countries_gdf.columns)"
   ]
  },
  {
   "cell_type": "markdown",
   "metadata": {},
   "source": [
    "With a lot of columns it can be useful to select only a few columns to make the displayed results more human-readable.\n",
    "This can be done by in a similar way when selecting a single *Series* from a *DataFrame*, but now we shall define a list of *Series* to select.  \n",
    "*Remark:* this makes a copy of the dataframe."
   ]
  },
  {
   "cell_type": "code",
   "execution_count": null,
   "metadata": {},
   "outputs": [],
   "source": [
    "countries_gdf = countries_gdf[['NAME', 'POP_EST', 'POP_YEAR', 'GDP_MD_EST', 'GDP_YEAR', 'REGION_UN', 'geometry']]\n",
    "display(countries_gdf)"
   ]
  },
  {
   "cell_type": "markdown",
   "metadata": {},
   "source": [
    "Geopandas extends the capabilties of the pandas library, which means we can use all what we have learned with pandas.\n",
    "\n",
    "Let's sort the *GeoDataFrame* by the name of the countries:"
   ]
  },
  {
   "cell_type": "code",
   "execution_count": null,
   "metadata": {},
   "outputs": [],
   "source": [
    "display(countries_gdf.sort_values(by='NAME'))"
   ]
  },
  {
   "cell_type": "markdown",
   "metadata": {},
   "source": [
    "Filter the dataframe to contain only the European countries:"
   ]
  },
  {
   "cell_type": "code",
   "execution_count": null,
   "metadata": {},
   "outputs": [],
   "source": [
    "condition = countries_gdf['REGION_UN'] == 'Europe'\n",
    "europe_gdf = countries_gdf[condition]\n",
    "display(europe_gdf)"
   ]
  },
  {
   "cell_type": "markdown",
   "metadata": {},
   "source": [
    "Sort the European countries by their population in a descending order:"
   ]
  },
  {
   "cell_type": "code",
   "execution_count": null,
   "metadata": {},
   "outputs": [],
   "source": [
    "display(europe_gdf.sort_values(by = 'POP_EST', ascending = False))"
   ]
  },
  {
   "cell_type": "markdown",
   "metadata": {},
   "source": [
    "## Map making"
   ]
  },
  {
   "cell_type": "markdown",
   "metadata": {},
   "source": [
    "Geopandas provides a high-level interface to the *matplotlib* library for making maps. Mapping shapes is as easy as using the `plot()` method on a *GeoDataFrame* (or *GeoSeries*)."
   ]
  },
  {
   "cell_type": "code",
   "execution_count": null,
   "metadata": {},
   "outputs": [],
   "source": [
    "countries_gdf.plot(figsize=[20,10])\n",
    "plt.show()"
   ]
  },
  {
   "cell_type": "markdown",
   "metadata": {},
   "source": [
    "The `plot()` function call on a *GeoDataFrame* (or a regular pandas *DataFrame*) will return an axis configuration object, which we can use to further customize our plot (map in this case). E.g. we can hide the axes with the `set_axis_off()` function:"
   ]
  },
  {
   "cell_type": "code",
   "execution_count": null,
   "metadata": {},
   "outputs": [],
   "source": [
    "ax = countries_gdf.plot(figsize=[20,10])\n",
    "ax.set_axis_off()\n",
    "plt.show()"
   ]
  },
  {
   "cell_type": "markdown",
   "metadata": {},
   "source": [
    "### Choropleth maps"
   ]
  },
  {
   "cell_type": "markdown",
   "metadata": {},
   "source": [
    "Geopandas makes it easy to create so called *choropleth maps* (maps where the color of each shape is based on the value of an associated variable). Simply use the `plot()` method with the `column` argument set to the column whose values you want used to assign colors."
   ]
  },
  {
   "cell_type": "code",
   "execution_count": null,
   "metadata": {},
   "outputs": [],
   "source": [
    "countries_gdf.plot(column='POP_EST', figsize=[20,10])\n",
    "plt.show()"
   ]
  },
  {
   "cell_type": "markdown",
   "metadata": {},
   "source": [
    "Add a legend to the map."
   ]
  },
  {
   "cell_type": "code",
   "execution_count": null,
   "metadata": {},
   "outputs": [],
   "source": [
    "countries_gdf.plot(column='POP_EST', legend=True, figsize=[20,10])\n",
    "plt.show()"
   ]
  },
  {
   "cell_type": "markdown",
   "metadata": {},
   "source": [
    "We can choose from various available color maps. A complete list can be found on the [matplotlib website](https://matplotlib.org/tutorials/colors/colormaps.html)."
   ]
  },
  {
   "cell_type": "code",
   "execution_count": null,
   "metadata": {},
   "outputs": [],
   "source": [
    "countries_gdf.plot(column='GDP_MD_EST', legend=True, cmap='YlOrRd', figsize=[20,10])\n",
    "plt.show()"
   ]
  },
  {
   "cell_type": "markdown",
   "metadata": {},
   "source": [
    "The way color maps are scaled can also be manipulated with the `scheme` option (the *mapclassify* Python library must be installed).\n",
    "\n",
    "A full list of schemes are available on the project's [GitHub page](https://github.com/pysal/mapclassify) and some examples of result on the [package's website](\n",
    "https://pysal.org/mapclassify/index.html).\n"
   ]
  },
  {
   "cell_type": "code",
   "execution_count": null,
   "metadata": {},
   "outputs": [],
   "source": [
    "countries_gdf.plot(column='GDP_MD_EST', legend=True, cmap='YlOrRd', figsize=[20,10], scheme='quantiles')\n",
    "plt.show()"
   ]
  },
  {
   "cell_type": "markdown",
   "metadata": {},
   "source": [
    "## Multiple layers"
   ]
  },
  {
   "cell_type": "markdown",
   "metadata": {},
   "source": [
    "We can easily combine the data of multiple *GeoDataFrames* and even visualize them as multiple layers with geopandas.\n",
    "\n",
    "Open and read a second data source defined in the `data/World_Cities.shp` shapefile, containing scalar and spatial data about major cities all around the world.  \n",
    "Source: [ArcGIS](https://hub.arcgis.com/datasets/6996f03a1b364dbab4008d99380370ed_0)"
   ]
  },
  {
   "cell_type": "code",
   "execution_count": null,
   "metadata": {},
   "outputs": [],
   "source": [
    "cities_gdf = gpd.read_file('data/World_Cities.shp')\n",
    "display(cities_gdf)"
   ]
  },
  {
   "cell_type": "markdown",
   "metadata": {},
   "source": [
    "Reduce the number of columns, by selecting only the now important ones:"
   ]
  },
  {
   "cell_type": "code",
   "execution_count": null,
   "metadata": {},
   "outputs": [],
   "source": [
    "cities_gdf = cities_gdf[['CITY_NAME', 'CNTRY_NAME', 'STATUS', 'POP', 'geometry']]\n",
    "display(cities_gdf)"
   ]
  },
  {
   "cell_type": "markdown",
   "metadata": {},
   "source": [
    "Plot the cities:"
   ]
  },
  {
   "cell_type": "code",
   "execution_count": null,
   "metadata": {},
   "outputs": [],
   "source": [
    "cities_gdf.plot(color='red', markersize=3, figsize=[20,10])\n",
    "plt.show()"
   ]
  },
  {
   "cell_type": "markdown",
   "metadata": {},
   "source": [
    "Verify whether both datasets use the same coordinate reference system:"
   ]
  },
  {
   "cell_type": "code",
   "execution_count": null,
   "metadata": {},
   "outputs": [],
   "source": [
    "print(cities_gdf.crs)\n",
    "print(countries_gdf.crs)"
   ]
  },
  {
   "cell_type": "markdown",
   "metadata": {},
   "source": [
    "Would be they different, geopandas would also be capable to transform one of the dataframes to the other CRS:\n",
    "```python\n",
    "cities_gdf = cities_gdf.to_crs(countries_gdf.crs)\n",
    "```"
   ]
  },
  {
   "cell_type": "markdown",
   "metadata": {},
   "source": [
    "Create a combined visualization of multiple layers, by simply calling the `plot()` method on all *GeoDataFrames*, but drawing them on the same axis object."
   ]
  },
  {
   "cell_type": "code",
   "execution_count": null,
   "metadata": {},
   "outputs": [],
   "source": [
    "base = countries_gdf.plot(color='white', edgecolor='black', figsize=[20, 10])\n",
    "cities_gdf.plot(ax=base, color='red', markersize=3)\n",
    "plt.show()"
   ]
  },
  {
   "cell_type": "markdown",
   "metadata": {},
   "source": [
    "## Clipping operation"
   ]
  },
  {
   "cell_type": "markdown",
   "metadata": {},
   "source": [
    "Geopandas offers a coordinate indexer (`cx`), which can be used to select only the records which geomtry overlaps with the selected region.\n",
    "\n",
    "Let's select and plot the countries in the northern hemisphere."
   ]
  },
  {
   "cell_type": "code",
   "execution_count": null,
   "metadata": {},
   "outputs": [],
   "source": [
    "northern_gdf = countries_gdf.cx[:, 0:]\n",
    "northern_gdf.plot(figsize=[20, 10])\n",
    "plt.show()"
   ]
  },
  {
   "cell_type": "markdown",
   "metadata": {},
   "source": [
    "*Note:* with this approach countries overlapping both the northern and southern hemispheres are not clipped."
   ]
  },
  {
   "cell_type": "markdown",
   "metadata": {},
   "source": [
    "We can perform real clipping with the `clip()` function of geopandas. As a showcase let's clip the countries and country parts inside the bounding box of Europe; defined with the following polygon (given in WKT format):  \n",
    "`POLYGON ((-10 35, 40 35, 40 70, -10, 70, -10, 35))`."
   ]
  },
  {
   "cell_type": "markdown",
   "metadata": {},
   "source": [
    "Geopandas uses the [Shapely](https://shapely.readthedocs.io/en/stable/manual.html) library in the background to represent and manipulate vector data. Therefore first define a regular pandas *DataFrame* named `europe_df`, where the *Coordinates* column will contain a polygon defined with *Shapely*."
   ]
  },
  {
   "cell_type": "code",
   "execution_count": null,
   "metadata": {},
   "outputs": [],
   "source": [
    "import pandas as pd\n",
    "from shapely.geometry import Polygon\n",
    "\n",
    "europe_df = pd.DataFrame({\n",
    "    'Name': ['Europe'],\n",
    "    'Coordinates': [Polygon([(-10, 35), (40, 35), (40, 70), (-10, 70), (-10, 35)])]\n",
    "    # the polygon is defined as a closed line\n",
    "})\n",
    "display(europe_df)"
   ]
  },
  {
   "cell_type": "markdown",
   "metadata": {},
   "source": [
    "Now our *GeoDataFrame* can be constructed from the *DataFrame* stored in `europe_df`, by defining which *Series* (column) contains the geometries and the CRS. (Use the CRS of the countries dataset.)"
   ]
  },
  {
   "cell_type": "code",
   "execution_count": null,
   "metadata": {},
   "outputs": [],
   "source": [
    "europe_gdf = gpd.GeoDataFrame(europe_df, geometry='Coordinates', crs=countries_gdf.crs)\n",
    "display(gdf)"
   ]
  },
  {
   "cell_type": "markdown",
   "metadata": {},
   "source": [
    "Finally, we can perform the clipping operation between the *GeoDataFrames*:"
   ]
  },
  {
   "cell_type": "code",
   "execution_count": null,
   "metadata": {},
   "outputs": [],
   "source": [
    "clipped_gdf = gpd.clip(countries_gdf, europe_gdf)\n",
    "clipped_gdf.plot(figsize=[10, 10])\n",
    "plt.show()"
   ]
  },
  {
   "cell_type": "markdown",
   "metadata": {},
   "source": [
    "## Spatial operations"
   ]
  },
  {
   "cell_type": "markdown",
   "metadata": {},
   "source": [
    "The spatial join (`sjoin()`) function of *geopandas* performs a spatial intersection check between the records of one or two *GeoDataFrames*. (The *rtree* package must be installed for spatial indexing support.)\n",
    "\n",
    "Let's match the countries and cities based on their spatial location:"
   ]
  },
  {
   "cell_type": "code",
   "execution_count": null,
   "metadata": {},
   "outputs": [],
   "source": [
    "display(gpd.sjoin(countries_gdf, cities_gdf))"
   ]
  },
  {
   "cell_type": "markdown",
   "metadata": {},
   "source": [
    "Limit the number of columns displayed to get an output easier to interpret:"
   ]
  },
  {
   "cell_type": "code",
   "execution_count": null,
   "metadata": {},
   "outputs": [],
   "source": [
    "display(gpd.sjoin(countries_gdf, cities_gdf)[['NAME', 'CITY_NAME']])"
   ]
  },
  {
   "cell_type": "markdown",
   "metadata": {},
   "source": [
    "Select the cities inside Hungary for a quick verification of the results:"
   ]
  },
  {
   "cell_type": "code",
   "execution_count": null,
   "metadata": {},
   "outputs": [],
   "source": [
    "condition = countries_gdf['NAME'] == 'Hungary'\n",
    "hungary_gdf = countries_gdf[condition]\n",
    "display(gpd.sjoin(hungary_gdf, cities_gdf)[['NAME', 'CITY_NAME']])"
   ]
  },
  {
   "cell_type": "markdown",
   "metadata": {},
   "source": [
    "Perform a spatial intersection check between the dataframe containing only Hungary (`hungary_gdf`) and the dataframe containing all countries (`countries_gdf`). The result shall be the neighbouring countries of Hungary."
   ]
  },
  {
   "cell_type": "code",
   "execution_count": null,
   "metadata": {},
   "outputs": [],
   "source": [
    "display(gpd.sjoin(hungary_gdf, countries_gdf)[['NAME_left', 'NAME_right']])"
   ]
  },
  {
   "cell_type": "markdown",
   "metadata": {},
   "source": [
    "*Remark:* the `NAME` column was renamed to `NAME_left` and `NAME_right` automatically, since column names must be unique."
   ]
  },
  {
   "cell_type": "markdown",
   "metadata": {},
   "source": [
    "## Writing spatial data"
   ]
  },
  {
   "cell_type": "markdown",
   "metadata": {},
   "source": [
    "*GeoDataFrames* can be easily persisted with the `to_file()` function. As when reading files, various file formats are supported again."
   ]
  },
  {
   "cell_type": "code",
   "execution_count": null,
   "metadata": {},
   "outputs": [],
   "source": [
    "clipped_gdf.to_file('09_clipped.shp')\n",
    "#clipped_gdf.to_file('09_clipped2.geojson', driver='GeoJSON')"
   ]
  },
  {
   "cell_type": "markdown",
   "metadata": {},
   "source": [
    "---"
   ]
  },
  {
   "cell_type": "markdown",
   "metadata": {},
   "source": [
    "## Summary exercises on vector data management"
   ]
  },
  {
   "cell_type": "markdown",
   "metadata": {},
   "source": [
    "Beside the `countries_gdf` *GeoDataFrame*, read the `data/ne_10m_rivers_lake_centerlines.shp` shapefile located in the `data` folder. This dataset contains both scalar and spatial data of the larger rivers and lakes around the world.  \n",
    "Source: [Natural Earth](https://www.naturalearthdata.com/downloads/10m-physical-vectors/)"
   ]
  },
  {
   "cell_type": "code",
   "execution_count": null,
   "metadata": {},
   "outputs": [],
   "source": [
    "rivers_gdf = gpd.read_file('data/ne_10m_rivers_lake_centerlines.shp')\n",
    "display(rivers_gdf)"
   ]
  },
  {
   "cell_type": "markdown",
   "metadata": {},
   "source": [
    "## Exercise 1"
   ]
  },
  {
   "cell_type": "markdown",
   "metadata": {},
   "source": [
    "Viualize the country boundaries and the river/lake layers on the same map. (Rivers and lakes shall be blue.)"
   ]
  },
  {
   "cell_type": "code",
   "execution_count": null,
   "metadata": {},
   "outputs": [],
   "source": [
    "base = countries_gdf.plot(color='white', edgecolor='black', figsize=[20, 10])\n",
    "rivers_gdf.plot(ax=base, color='blue')\n",
    "plt.show()"
   ]
  },
  {
   "cell_type": "markdown",
   "metadata": {},
   "source": [
    "## Exercise 2"
   ]
  },
  {
   "cell_type": "markdown",
   "metadata": {},
   "source": [
    "Visualize only Hungary (on any preferred country) and the rivers flowing through it."
   ]
  },
  {
   "cell_type": "code",
   "execution_count": null,
   "metadata": {},
   "outputs": [],
   "source": [
    "hungary_gdf = countries_gdf[countries_gdf['NAME'] == 'Hungary']\n",
    "hungary_rivers = gpd.sjoin(rivers_gdf, hungary_gdf)\n",
    "\n",
    "base = hungary_gdf.plot(color='white', edgecolor='black', figsize=[20, 10])\n",
    "hungary_rivers.plot(ax=base, color='blue')\n",
    "plt.show()"
   ]
  },
  {
   "cell_type": "markdown",
   "metadata": {},
   "source": [
    "With clipping to country boundaries:"
   ]
  },
  {
   "cell_type": "code",
   "execution_count": null,
   "metadata": {},
   "outputs": [],
   "source": [
    "hungary_rivers = gpd.clip(hungary_rivers, hungary_gdf)\n",
    "\n",
    "base = hungary_gdf.plot(color='white', edgecolor='black', figsize=[20, 10])\n",
    "hungary_rivers.plot(ax=base, color='blue')\n",
    "plt.show()"
   ]
  },
  {
   "cell_type": "markdown",
   "metadata": {},
   "source": [
    "## Exercise 3"
   ]
  },
  {
   "cell_type": "markdown",
   "metadata": {},
   "source": [
    "Determine for the river *Danube* (on any major river) that which countries it flows through.\n",
    "\n",
    "*Hint: the river might consist of multiple line segments in the river dataset, but you can filter all of them by e.g. the `name_en` field.*"
   ]
  },
  {
   "cell_type": "code",
   "execution_count": null,
   "metadata": {},
   "outputs": [],
   "source": [
    "danube_gdf = rivers_gdf[rivers_gdf['name_en'] == 'Danube']\n",
    "display(danube_gdf)\n",
    "\n",
    "danube_countries = gpd.sjoin(danube_gdf, countries_gdf)\n",
    "display(danube_countries[['NAME']])"
   ]
  }
 ],
 "metadata": {
  "kernelspec": {
   "display_name": "Python 3",
   "language": "python",
   "name": "python3"
  },
  "language_info": {
   "codemirror_mode": {
    "name": "ipython",
    "version": 3
   },
   "file_extension": ".py",
   "mimetype": "text/x-python",
   "name": "python",
   "nbconvert_exporter": "python",
   "pygments_lexer": "ipython3",
   "version": "3.8.5"
  }
 },
 "nbformat": 4,
 "nbformat_minor": 4
}
