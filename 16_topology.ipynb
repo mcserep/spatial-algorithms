{
 "cells": [
  {
   "cell_type": "markdown",
   "metadata": {},
   "source": [
    "# Chapter 16: Topology"
   ]
  },
  {
   "cell_type": "markdown",
   "metadata": {},
   "source": [
    "**Install the *shapely* Python package!**\n",
    "\n",
    "*You most likely have already installed `shapely`, as it was an optional dependency for `geopandas` in [Chapter 9](09_spatial_vector_solutions.ipynb).*\n",
    "\n",
    "### Anaconda\n",
    "\n",
    "If you have Anaconda installed, open the *Anaconda Prompt* and type in:\n",
    "```\n",
    "conda install -c conda-forge shapely\n",
    "```\n",
    "\n",
    "### Python Package Installer (pip)\n",
    "\n",
    "If you have standalone Python3 and Jupyter Notebook install, open a command prompt / terminal and type in:\n",
    "```\n",
    "pip3 install shapely\n",
    "```"
   ]
  },
  {
   "cell_type": "markdown",
   "metadata": {},
   "source": [
    "---"
   ]
  },
  {
   "cell_type": "markdown",
   "metadata": {},
   "source": [
    "## Basic usage of shapely"
   ]
  },
  {
   "cell_type": "code",
   "execution_count": null,
   "metadata": {},
   "outputs": [],
   "source": [
    "from shapely import geometry\n",
    "\n",
    "point = geometry.Point(5,5)\n",
    "print(point)"
   ]
  },
  {
   "cell_type": "code",
   "execution_count": null,
   "metadata": {},
   "outputs": [],
   "source": [
    "rectangle1 = geometry.Polygon([[0,0], [10,0], [10,10], [0,10]])\n",
    "print(rectangle1)"
   ]
  },
  {
   "cell_type": "code",
   "execution_count": null,
   "metadata": {},
   "outputs": [],
   "source": [
    "from shapely import wkt\n",
    "\n",
    "rectangle2 = wkt.loads('POLYGON ((-4 -4, 4 -4, 4 4, -4 4, -4 -4))')\n",
    "print(rectangle2)"
   ]
  },
  {
   "cell_type": "code",
   "execution_count": null,
   "metadata": {},
   "outputs": [],
   "source": [
    "print('Rectangle1 contains Point: {0}'.format(rectangle1.contains(point)))\n",
    "print('Rectangle2 contains Point: {0}'.format(rectangle2.contains(point)))\n",
    "print('Rectangle1 contains Rectangle2: {0}'.format(rectangle1.contains(rectangle2)))\n",
    "print('Rectangle1 intersects Rectangle2: {0}'.format(rectangle1.intersects(rectangle2)))"
   ]
  },
  {
   "cell_type": "markdown",
   "metadata": {},
   "source": [
    "---"
   ]
  },
  {
   "cell_type": "markdown",
   "metadata": {},
   "source": [
    "## Read Shapefile into Shapely objects"
   ]
  },
  {
   "cell_type": "markdown",
   "metadata": {},
   "source": [
    "The `data/hungary_admin_8.shp` shapefile contains the city level administrative boundaries of Hungary.  \n",
    "*Data source: [OpenStreetMap](https://data2.openstreetmap.hu/hatarok/)*"
   ]
  },
  {
   "cell_type": "code",
   "execution_count": null,
   "metadata": {},
   "outputs": [],
   "source": [
    "import geopandas as gpd\n",
    "\n",
    "cities_admin = gpd.read_file('data/hungary_admin_8.shp')\n",
    "cities_admin.set_index('NAME', inplace=True)\n",
    "cities_admin.to_crs('epsg:23700', inplace=True) # EOV\n",
    "display(cities_admin)"
   ]
  },
  {
   "cell_type": "code",
   "execution_count": null,
   "metadata": {},
   "outputs": [],
   "source": [
    "for name, row in cities_admin.iterrows():\n",
    "    geom = row['geometry']\n",
    "    if geom.area / 1e6 >= 200:\n",
    "        print('{0}, Area: {1:.1f} km2, Centroid: {2}'.format(name, geom.area / 1e6, geom.centroid))"
   ]
  },
  {
   "cell_type": "code",
   "execution_count": null,
   "metadata": {},
   "outputs": [],
   "source": [
    "pos_budapest = geometry.Point(653812, 239106)\n",
    "for name, row in cities_admin.iterrows():\n",
    "    geom = row['geometry']\n",
    "    \n",
    "    if geom.contains(pos_budapest):\n",
    "        print(name)"
   ]
  },
  {
   "cell_type": "markdown",
   "metadata": {},
   "source": [
    "---"
   ]
  },
  {
   "cell_type": "markdown",
   "metadata": {},
   "source": [
    "## Summary exercises on topology"
   ]
  },
  {
   "cell_type": "markdown",
   "metadata": {},
   "source": [
    "### Exercise 1\n",
    "Verify that neither of the administrative boundary polygons in `data/hungary_admin_8.shp` intersect with each other."
   ]
  },
  {
   "cell_type": "code",
   "execution_count": null,
   "metadata": {},
   "outputs": [],
   "source": []
  },
  {
   "cell_type": "markdown",
   "metadata": {},
   "source": [
    "### Exercise 2\n",
    "Verify that all city administrative boundaries in `data/hungary_admin_8.shp` contains a city (and only one) from the `data/hungary_cities.shp` files.  \n",
    "List the administrative boundaries which do not fulfill this criteria."
   ]
  },
  {
   "cell_type": "code",
   "execution_count": null,
   "metadata": {},
   "outputs": [],
   "source": []
  }
 ],
 "metadata": {
  "kernelspec": {
   "display_name": "Python 3",
   "language": "python",
   "name": "python3"
  },
  "language_info": {
   "codemirror_mode": {
    "name": "ipython",
    "version": 3
   },
   "file_extension": ".py",
   "mimetype": "text/x-python",
   "name": "python",
   "nbconvert_exporter": "python",
   "pygments_lexer": "ipython3",
   "version": "3.6.9"
  }
 },
 "nbformat": 4,
 "nbformat_minor": 4
}
