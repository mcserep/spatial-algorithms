{
 "cells": [
  {
   "cell_type": "markdown",
   "metadata": {},
   "source": [
    "# 4<sup>th</sup> Assignment\n",
    "\n",
    "**4<sup>th</sup> assignment notebook, covering the materials of the 9-11<sup>th</sup> class.**  \n",
    "Topics: graph algorithms and spatial indexing"
   ]
  },
  {
   "cell_type": "markdown",
   "metadata": {},
   "source": [
    "In the attached `data` folder the following shapefiles are available for this assignment\n",
    " - `osm_roads_hungary.shp`, containing the road network of Hungary as linestrings. (Data source: [*OpenStreetMap*](https://download.geofabrik.de/europe/hungary.html))\n",
    " - `hungary_cities.shp`, containing the Hungarian cities as points. (Data source: *ELTE FI, Department of Cartography and Geoinformatics*)\n",
    " \n",
    "The `osm_roads_hungary.shp` file is in *WGS 84 (EPSG:4326)* coordinate reference system. The projection of the `hungary_cities.shp` file is not defined, but the data is in *EOV (EPSG:23700)*, which you have to set it manually."
   ]
  },
  {
   "cell_type": "markdown",
   "metadata": {},
   "source": [
    "---"
   ]
  },
  {
   "cell_type": "markdown",
   "metadata": {},
   "source": [
    "## Task 1\n",
    "Read the input data from the Shapefiles.  \n",
    "Display the cities and the road network on a map using the *matplotlib* library. (Roads shall be colored black and cities shall be red dots.)\n",
    "\n",
    "Among the roads filter only the more significant types. **In all the following tasks you will only have to work with these type of roads.**  \n",
    "More significant type of roads are where the `fclass` column of the *GeoDataFrame* is among the following values:  \n",
    "`motorway`, `primary`, `secondary`, `tertiary`, `motorway_link`, `primary_link`, `secondary_link`, `tertiary_link`.\n",
    "\n",
    "*Hint: reproject the roads to EOV before displaying the GeoDataFrame*."
   ]
  },
  {
   "cell_type": "code",
   "execution_count": null,
   "metadata": {},
   "outputs": [],
   "source": []
  },
  {
   "cell_type": "markdown",
   "metadata": {},
   "source": [
    "## Task 2\n",
    "Display the road network of Hungary, but with a different coloring based on their class:\n",
    " - motorways should be red;\n",
    " - primary roads should be black;\n",
    " - secondary roads should be gray;\n",
    " - tertiary roads should be green."
   ]
  },
  {
   "cell_type": "code",
   "execution_count": null,
   "metadata": {},
   "outputs": [],
   "source": []
  },
  {
   "cell_type": "markdown",
   "metadata": {},
   "source": [
    "## Task 3\n",
    "*(2 points)*\n",
    "\n",
    "Build a graph of the road network and compute the shorthest path (based on distance) between Győr and Debrecen.  \n",
    "Display the complete road network (with black color) on a map and overlay the found shorthest path wirh red color.\n",
    "\n",
    "Pairs of EOV X and Y coordinates of the cities are given below, which shall be precisely on the roads.\n",
    "(Feel free to use different coordinates if these are not found in your graph.)  \n",
    "* Győr: (261414.51778597923, 544944.4764306903)\n",
    "* Debrecen: (247370.13702113688, 842839.3118560591)\n",
    "\n",
    "\n",
    "*Hint: the coordinates in the Shapefiles are in a switched (Y, X) order.*"
   ]
  },
  {
   "cell_type": "code",
   "execution_count": null,
   "metadata": {},
   "outputs": [],
   "source": []
  },
  {
   "cell_type": "markdown",
   "metadata": {},
   "source": [
    "## Task 4\n",
    "*(2 points)*\n",
    "\n",
    "Let the user define the start and target coordinates for the shorthest path search. (Input validation is not required.)  \n",
    "Since the user given coordinates are not necessarily on any of the roads, it is required to find the nearest vertices in the graph (both for the start and the goal).\n",
    "\n",
    "Test data:\n",
    "* Győr: (261473, 545052)\n",
    "* Debrecen: (247367, 842842)\n",
    "\n",
    "*Hint:* build a Kd-tree form the vertices of the graph."
   ]
  },
  {
   "cell_type": "code",
   "execution_count": null,
   "metadata": {},
   "outputs": [],
   "source": []
  },
  {
   "cell_type": "markdown",
   "metadata": {},
   "source": [
    "## Task 5\n",
    "*(2 points)*\n",
    "\n",
    "Let the user define the name of the start and the target city instead of coordinates.  \n",
    "The Hungarian cities and their location is given in the `hungary_cities.shp` Shapefile. (These locations marks the centorid of the cities are not necessarily on any of the roads.)\n",
    "\n",
    "Validate the user input whether the given cities exist. Show an error message if not."
   ]
  },
  {
   "cell_type": "code",
   "execution_count": null,
   "metadata": {},
   "outputs": [],
   "source": []
  },
  {
   "cell_type": "markdown",
   "metadata": {},
   "source": [
    "## Task 6\n",
    "*(2 points)*\n",
    "\n",
    "Instead of calculating the shortest path based on geographical distance between two user given cities, calculate the shorthest path based on the travel time!\n",
    "Let's define the following speed limits for the various classes of roads:\n",
    " - motorway: 130 km/h\n",
    " - primary road: 90 km/h\n",
    " - secondary road: 70 km/h (since their condition is degraded)\n",
    " - tertiary road: 50 km/h\n",
    "\n",
    "We assume the that user an drive with the speed limit on all roads.\n",
    "\n",
    "Test data: the Budapest - Békéscsaba path should be different when the shortest path based on geographical distance between and shortest path based on travel time is calculated."
   ]
  },
  {
   "cell_type": "code",
   "execution_count": null,
   "metadata": {},
   "outputs": [],
   "source": []
  }
 ],
 "metadata": {
  "kernelspec": {
   "display_name": "Python 3",
   "language": "python",
   "name": "python3"
  },
  "language_info": {
   "codemirror_mode": {
    "name": "ipython",
    "version": 3
   },
   "file_extension": ".py",
   "mimetype": "text/x-python",
   "name": "python",
   "nbconvert_exporter": "python",
   "pygments_lexer": "ipython3",
   "version": "3.6.9"
  }
 },
 "nbformat": 4,
 "nbformat_minor": 4
}
