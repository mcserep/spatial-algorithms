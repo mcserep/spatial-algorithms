{
 "cells": [
  {
   "cell_type": "markdown",
   "metadata": {},
   "source": [
    "# Chapter 9: Tabular data"
   ]
  },
  {
   "cell_type": "markdown",
   "metadata": {},
   "source": [
    "The **pandas** package is a high-level data manipulation tool for Python. \n",
    "\n",
    "The name *pandas* is derived from the term \"panel data\", an econometrics term for data sets that include observations over multiple time periods for the same individuals."
   ]
  },
  {
   "cell_type": "markdown",
   "metadata": {},
   "source": [
    "## How to install pandas?"
   ]
  },
  {
   "cell_type": "markdown",
   "metadata": {},
   "source": [
    "If you have Anaconda installed, then pandas was already installed together with it.\n",
    "\n",
    "If you have a standalone Python3 and Jupyter Notebook installation, open a command prompt / terminal and type in:\n",
    "```\n",
    "pip3 install pandas xlrd openpyxl\n",
    "```\n",
    "\n",
    "The `xlrd` and `openpyxl` packages are required for managing Microsoft Excel files.  \n",
    "If you have Anaconda installed, these packages were also included in the default installation."
   ]
  },
  {
   "cell_type": "markdown",
   "metadata": {},
   "source": [
    "### Support OpenDocument format\n",
    "\n",
    "The `xlrd` package is used for older format MS Excel files (`.xls`), while `openpyxl` is used for newer format MS Excel files (`.xlsx`).\n",
    "\n",
    "In case support for *OpenDocument* format is required (`.ods` files), e.g. for compatibility with OpenOffice or LibreOffice, the `odf` package can be used:\n",
    " - Install with Anaconda Command Prompt: `conda install odf`\n",
    " - Install with Python Package Installer: `pip3 install odf`"
   ]
  },
  {
   "cell_type": "markdown",
   "metadata": {},
   "source": [
    "## How to use pandas?"
   ]
  },
  {
   "cell_type": "markdown",
   "metadata": {},
   "source": [
    "The pandas package is a module which you can simply import. It is usually aliased with the `pd` abbreviation:\n",
    "```python\n",
    "import pandas as pd\n",
    "```"
   ]
  },
  {
   "cell_type": "markdown",
   "metadata": {},
   "source": [
    "---"
   ]
  },
  {
   "cell_type": "markdown",
   "metadata": {},
   "source": [
    "## Series and Dataframes"
   ]
  },
  {
   "cell_type": "markdown",
   "metadata": {},
   "source": [
    "The primary two components of pandas are the **Series** and **DataFrame**.\n",
    "\n",
    "A *Series* is essentially a column, and a *DataFrame* is a multi-dimensional table made up of a collection of *Series*.\n",
    "\n",
    "<img alt=\"Series and Dataframes\" src=\"../images/09_series_dataframe.png\" title=\"Source: https://www.learndatasci.com/\" style=\"width: 600px; margin: auto;\"/>"
   ]
  },
  {
   "cell_type": "markdown",
   "metadata": {},
   "source": [
    "We can work with DataFrames and Series in a similar way, since many operations support both of them. (E.g. calculating the mean value of a Series or a DataFrame.)"
   ]
  },
  {
   "cell_type": "markdown",
   "metadata": {},
   "source": [
    "### Create a DataFrame from scratch"
   ]
  },
  {
   "cell_type": "markdown",
   "metadata": {},
   "source": [
    "A Python *dictionary* can easily be converted to a pandas *DataFrame*. Each `(key, value)` tuple in the dictionary corresponds to a column in the resulting DataFrame. The values in the rows for each column are given as lists."
   ]
  },
  {
   "cell_type": "code",
   "execution_count": null,
   "metadata": {},
   "outputs": [],
   "source": [
    "import pandas as pd\n",
    "\n",
    "data = {\n",
    "    'apples': [3, 2, 0, 1, 5, 0, 4], \n",
    "    'oranges': [0, 3, 7, 2, 1, 6, 2]\n",
    "}\n",
    "\n",
    "df = pd.DataFrame(data)\n",
    "display(df)"
   ]
  },
  {
   "cell_type": "markdown",
   "metadata": {},
   "source": [
    "By default the rows in the DataFrame are *indexed* numerically from 0, but we can set a custom **Index**:"
   ]
  },
  {
   "cell_type": "code",
   "execution_count": null,
   "metadata": {},
   "outputs": [],
   "source": [
    "df = pd.DataFrame(data, index = ['Monday', 'Tuesday', 'Wednesday', 'Thursday', 'Friday', 'Saturday', 'Sunday'])\n",
    "display(df)"
   ]
  },
  {
   "cell_type": "markdown",
   "metadata": {},
   "source": [
    "*Remark:* the `display()` function is a special Jupyter Notebook function to provide \"prettier\" output. Where `display()` is used, `print()` could also be used."
   ]
  },
  {
   "cell_type": "code",
   "execution_count": null,
   "metadata": {},
   "outputs": [],
   "source": [
    "print(df)"
   ]
  },
  {
   "cell_type": "markdown",
   "metadata": {},
   "source": [
    "### Access the columns of a DataFrame"
   ]
  },
  {
   "cell_type": "code",
   "execution_count": null,
   "metadata": {},
   "outputs": [],
   "source": [
    "print('Apples purchased over the week:')\n",
    "print(df['apples']) # df is a DataFrame, df['apples'] is a Series"
   ]
  },
  {
   "cell_type": "markdown",
   "metadata": {},
   "source": [
    "Values of single cells can also be accessed:"
   ]
  },
  {
   "cell_type": "code",
   "execution_count": null,
   "metadata": {},
   "outputs": [],
   "source": [
    "print('Apples purchased on Monday:')\n",
    "print(df['apples']['Monday'])\n",
    "print(df['apples'][0])"
   ]
  },
  {
   "cell_type": "markdown",
   "metadata": {},
   "source": [
    "### Access the rows of a DataFrame"
   ]
  },
  {
   "cell_type": "markdown",
   "metadata": {},
   "source": [
    "Rows can be accessed through the `loc` property with their textual indexes:"
   ]
  },
  {
   "cell_type": "code",
   "execution_count": null,
   "metadata": {},
   "outputs": [],
   "source": [
    "print('Fruits purchased on Monday:')\n",
    "print(df.loc['Monday'])"
   ]
  },
  {
   "cell_type": "markdown",
   "metadata": {},
   "source": [
    "Rows can also be accessed through the `iloc` property with ther numerical indexes:"
   ]
  },
  {
   "cell_type": "code",
   "execution_count": null,
   "metadata": {},
   "outputs": [],
   "source": [
    "print('Fruits purchased on Monday:')\n",
    "print(df.iloc[0])"
   ]
  },
  {
   "cell_type": "markdown",
   "metadata": {},
   "source": [
    "Accessing single cells:"
   ]
  },
  {
   "cell_type": "code",
   "execution_count": null,
   "metadata": {},
   "outputs": [],
   "source": [
    "print('Apples purchased on Monday:')\n",
    "print(df.loc['Monday']['apples'])\n",
    "print(df.loc['Monday'][0])\n",
    "print(df.iloc[0]['apples'])\n",
    "print(df.iloc[0][0])"
   ]
  },
  {
   "cell_type": "markdown",
   "metadata": {},
   "source": [
    "### Iterate over the rows of a DataFrame"
   ]
  },
  {
   "cell_type": "markdown",
   "metadata": {},
   "source": [
    "Manually iterating through all the rows with the `iterrows()` method:"
   ]
  },
  {
   "cell_type": "code",
   "execution_count": null,
   "metadata": {},
   "outputs": [],
   "source": [
    "for index, row in df.iterrows():\n",
    "    print(\"Index: {0}, Apples: {1}, Oranges: {2}\".format(index, row[\"apples\"], row[\"oranges\"]))"
   ]
  },
  {
   "cell_type": "markdown",
   "metadata": {},
   "source": [
    "Alternatively, if only the index values ares required, the `df.index` list can be iterated:"
   ]
  },
  {
   "cell_type": "code",
   "execution_count": null,
   "metadata": {},
   "outputs": [],
   "source": [
    "print(df.index)"
   ]
  },
  {
   "cell_type": "markdown",
   "metadata": {},
   "source": [
    "---"
   ]
  },
  {
   "cell_type": "markdown",
   "metadata": {},
   "source": [
    "## Reading external files"
   ]
  },
  {
   "cell_type": "markdown",
   "metadata": {},
   "source": [
    "The *pandas* library has a great support for reading (and writing) external data files, like CSV files, Excel files, JSON files, etc."
   ]
  },
  {
   "cell_type": "markdown",
   "metadata": {},
   "source": [
    "Let's use the *European countries datatset*.\n",
    "The dataset contains the country name, capital city name, area (in km<sup>2</sup>), population (in millions) and the region data for 43 European countries respectively.  \n",
    "*Data source: [EuroStat](https://ec.europa.eu/eurostat/)*\n",
    "\n",
    "The dataset is given in the `data/countries_europe.csv` file, which we can read with th `read_csv()` method, passing the file path and the delimiter symbol (latter will be discussed soon)."
   ]
  },
  {
   "cell_type": "code",
   "execution_count": 2,
   "metadata": {},
   "outputs": [
    {
     "data": {
      "text/plain": "                   Country           Capital  Area (km2)  \\\n0                  Albania            Tirana       28748   \n1                  Andorra  Andorra la Vella         468   \n2                  Austria            Vienna       83857   \n3                  Belgium          Brussels       30519   \n4   Bosnia and Herzegovina          Sarajevo       51130   \n5                 Bulgaria             Sofia      110912   \n6           Czech Republic            Prague       78864   \n7                  Denmark        Copenhagen       43077   \n8           United Kingdom            London      244100   \n9                  Estonia            Tallin       45100   \n10                 Belarus             Minsk      207600   \n11                 Finland          Helsinki      338145   \n12                  France             Paris      543965   \n13                  Greece            Athens      131957   \n14             Netherlands             Hague       33933   \n15                 Croatia            Zagreb       56500   \n16                 Ireland            Dublin       70283   \n17                 Iceland         Reykjavik      103000   \n18                  Kosovo         Prishtina       10887   \n19                  Poland            Warsaw      312683   \n20                  Latvia              Riga       63700   \n21           Liechtenstein             Vaduz         160   \n22               Lithuania           Vilnius       65200   \n23              Luxembourg        Luxembourg        2586   \n24               Macedonia            Skopje       25713   \n25                 Hungary          Budapest       93036   \n26                   Malta          Valletta         316   \n27                 Moldova          Chisinau       33700   \n28                  Monaco            Monaco           2   \n29              Montenegro         Podgorica       13812   \n30                 Germany            Berlin      357042   \n31                  Norway              Oslo      323877   \n32                   Italy              Rome      301277   \n33                Portugal            Lisbon       92389   \n34                 Romania         Bucharest      237500   \n35              San Marino        San Marino          61   \n36                   Spain            Madrid      504782   \n37             Switzerland             Berne       41293   \n38                  Sweden         Stockholm      449964   \n39                  Serbia          Belgrade       66577   \n40                Slovakia        Bratislava       49035   \n41                Slovenia         Ljubljana       20250   \n42                 Ukraine              Kiev      603700   \n\n    Population (millions)    Region  \n0                    3.20  Southern  \n1                    0.07   Western  \n2                    7.60   Western  \n3                   10.00   Western  \n4                    4.50  Southern  \n5                    9.00  Southern  \n6                   10.40   Central  \n7                    5.10  Northern  \n8                   57.20   Western  \n9                    1.60  Northern  \n10                  10.30  Northern  \n11                   4.90  Northern  \n12                  56.20   Western  \n13                  10.00  Southern  \n14                  14.80   Western  \n15                   4.70  Southern  \n16                   3.50   Western  \n17                   0.30  Northern  \n18                   2.20  Southern  \n19                  37.80   Central  \n20                   2.60  Northern  \n21                   0.03   Western  \n22                   3.60  Northern  \n23                   0.40   Western  \n24                   2.10  Southern  \n25                  10.40   Central  \n26                   0.30  Southern  \n27                   4.40   Eastern  \n28                   0.03  Southern  \n29                   0.60  Southern  \n30                  78.60   Western  \n31                   4.20  Northern  \n32                  57.50  Southern  \n33                  10.50  Southern  \n34                  23.20   Eastern  \n35                   0.03  Southern  \n36                  38.80  Southern  \n37                   6.70   Western  \n38                   8.50  Northern  \n39                   7.20  Southern  \n40                   5.30   Central  \n41                   2.00  Southern  \n42                  51.80   Eastern  ",
      "text/html": "<div>\n<style scoped>\n    .dataframe tbody tr th:only-of-type {\n        vertical-align: middle;\n    }\n\n    .dataframe tbody tr th {\n        vertical-align: top;\n    }\n\n    .dataframe thead th {\n        text-align: right;\n    }\n</style>\n<table border=\"1\" class=\"dataframe\">\n  <thead>\n    <tr style=\"text-align: right;\">\n      <th></th>\n      <th>Country</th>\n      <th>Capital</th>\n      <th>Area (km2)</th>\n      <th>Population (millions)</th>\n      <th>Region</th>\n    </tr>\n  </thead>\n  <tbody>\n    <tr>\n      <th>0</th>\n      <td>Albania</td>\n      <td>Tirana</td>\n      <td>28748</td>\n      <td>3.20</td>\n      <td>Southern</td>\n    </tr>\n    <tr>\n      <th>1</th>\n      <td>Andorra</td>\n      <td>Andorra la Vella</td>\n      <td>468</td>\n      <td>0.07</td>\n      <td>Western</td>\n    </tr>\n    <tr>\n      <th>2</th>\n      <td>Austria</td>\n      <td>Vienna</td>\n      <td>83857</td>\n      <td>7.60</td>\n      <td>Western</td>\n    </tr>\n    <tr>\n      <th>3</th>\n      <td>Belgium</td>\n      <td>Brussels</td>\n      <td>30519</td>\n      <td>10.00</td>\n      <td>Western</td>\n    </tr>\n    <tr>\n      <th>4</th>\n      <td>Bosnia and Herzegovina</td>\n      <td>Sarajevo</td>\n      <td>51130</td>\n      <td>4.50</td>\n      <td>Southern</td>\n    </tr>\n    <tr>\n      <th>5</th>\n      <td>Bulgaria</td>\n      <td>Sofia</td>\n      <td>110912</td>\n      <td>9.00</td>\n      <td>Southern</td>\n    </tr>\n    <tr>\n      <th>6</th>\n      <td>Czech Republic</td>\n      <td>Prague</td>\n      <td>78864</td>\n      <td>10.40</td>\n      <td>Central</td>\n    </tr>\n    <tr>\n      <th>7</th>\n      <td>Denmark</td>\n      <td>Copenhagen</td>\n      <td>43077</td>\n      <td>5.10</td>\n      <td>Northern</td>\n    </tr>\n    <tr>\n      <th>8</th>\n      <td>United Kingdom</td>\n      <td>London</td>\n      <td>244100</td>\n      <td>57.20</td>\n      <td>Western</td>\n    </tr>\n    <tr>\n      <th>9</th>\n      <td>Estonia</td>\n      <td>Tallin</td>\n      <td>45100</td>\n      <td>1.60</td>\n      <td>Northern</td>\n    </tr>\n    <tr>\n      <th>10</th>\n      <td>Belarus</td>\n      <td>Minsk</td>\n      <td>207600</td>\n      <td>10.30</td>\n      <td>Northern</td>\n    </tr>\n    <tr>\n      <th>11</th>\n      <td>Finland</td>\n      <td>Helsinki</td>\n      <td>338145</td>\n      <td>4.90</td>\n      <td>Northern</td>\n    </tr>\n    <tr>\n      <th>12</th>\n      <td>France</td>\n      <td>Paris</td>\n      <td>543965</td>\n      <td>56.20</td>\n      <td>Western</td>\n    </tr>\n    <tr>\n      <th>13</th>\n      <td>Greece</td>\n      <td>Athens</td>\n      <td>131957</td>\n      <td>10.00</td>\n      <td>Southern</td>\n    </tr>\n    <tr>\n      <th>14</th>\n      <td>Netherlands</td>\n      <td>Hague</td>\n      <td>33933</td>\n      <td>14.80</td>\n      <td>Western</td>\n    </tr>\n    <tr>\n      <th>15</th>\n      <td>Croatia</td>\n      <td>Zagreb</td>\n      <td>56500</td>\n      <td>4.70</td>\n      <td>Southern</td>\n    </tr>\n    <tr>\n      <th>16</th>\n      <td>Ireland</td>\n      <td>Dublin</td>\n      <td>70283</td>\n      <td>3.50</td>\n      <td>Western</td>\n    </tr>\n    <tr>\n      <th>17</th>\n      <td>Iceland</td>\n      <td>Reykjavik</td>\n      <td>103000</td>\n      <td>0.30</td>\n      <td>Northern</td>\n    </tr>\n    <tr>\n      <th>18</th>\n      <td>Kosovo</td>\n      <td>Prishtina</td>\n      <td>10887</td>\n      <td>2.20</td>\n      <td>Southern</td>\n    </tr>\n    <tr>\n      <th>19</th>\n      <td>Poland</td>\n      <td>Warsaw</td>\n      <td>312683</td>\n      <td>37.80</td>\n      <td>Central</td>\n    </tr>\n    <tr>\n      <th>20</th>\n      <td>Latvia</td>\n      <td>Riga</td>\n      <td>63700</td>\n      <td>2.60</td>\n      <td>Northern</td>\n    </tr>\n    <tr>\n      <th>21</th>\n      <td>Liechtenstein</td>\n      <td>Vaduz</td>\n      <td>160</td>\n      <td>0.03</td>\n      <td>Western</td>\n    </tr>\n    <tr>\n      <th>22</th>\n      <td>Lithuania</td>\n      <td>Vilnius</td>\n      <td>65200</td>\n      <td>3.60</td>\n      <td>Northern</td>\n    </tr>\n    <tr>\n      <th>23</th>\n      <td>Luxembourg</td>\n      <td>Luxembourg</td>\n      <td>2586</td>\n      <td>0.40</td>\n      <td>Western</td>\n    </tr>\n    <tr>\n      <th>24</th>\n      <td>Macedonia</td>\n      <td>Skopje</td>\n      <td>25713</td>\n      <td>2.10</td>\n      <td>Southern</td>\n    </tr>\n    <tr>\n      <th>25</th>\n      <td>Hungary</td>\n      <td>Budapest</td>\n      <td>93036</td>\n      <td>10.40</td>\n      <td>Central</td>\n    </tr>\n    <tr>\n      <th>26</th>\n      <td>Malta</td>\n      <td>Valletta</td>\n      <td>316</td>\n      <td>0.30</td>\n      <td>Southern</td>\n    </tr>\n    <tr>\n      <th>27</th>\n      <td>Moldova</td>\n      <td>Chisinau</td>\n      <td>33700</td>\n      <td>4.40</td>\n      <td>Eastern</td>\n    </tr>\n    <tr>\n      <th>28</th>\n      <td>Monaco</td>\n      <td>Monaco</td>\n      <td>2</td>\n      <td>0.03</td>\n      <td>Southern</td>\n    </tr>\n    <tr>\n      <th>29</th>\n      <td>Montenegro</td>\n      <td>Podgorica</td>\n      <td>13812</td>\n      <td>0.60</td>\n      <td>Southern</td>\n    </tr>\n    <tr>\n      <th>30</th>\n      <td>Germany</td>\n      <td>Berlin</td>\n      <td>357042</td>\n      <td>78.60</td>\n      <td>Western</td>\n    </tr>\n    <tr>\n      <th>31</th>\n      <td>Norway</td>\n      <td>Oslo</td>\n      <td>323877</td>\n      <td>4.20</td>\n      <td>Northern</td>\n    </tr>\n    <tr>\n      <th>32</th>\n      <td>Italy</td>\n      <td>Rome</td>\n      <td>301277</td>\n      <td>57.50</td>\n      <td>Southern</td>\n    </tr>\n    <tr>\n      <th>33</th>\n      <td>Portugal</td>\n      <td>Lisbon</td>\n      <td>92389</td>\n      <td>10.50</td>\n      <td>Southern</td>\n    </tr>\n    <tr>\n      <th>34</th>\n      <td>Romania</td>\n      <td>Bucharest</td>\n      <td>237500</td>\n      <td>23.20</td>\n      <td>Eastern</td>\n    </tr>\n    <tr>\n      <th>35</th>\n      <td>San Marino</td>\n      <td>San Marino</td>\n      <td>61</td>\n      <td>0.03</td>\n      <td>Southern</td>\n    </tr>\n    <tr>\n      <th>36</th>\n      <td>Spain</td>\n      <td>Madrid</td>\n      <td>504782</td>\n      <td>38.80</td>\n      <td>Southern</td>\n    </tr>\n    <tr>\n      <th>37</th>\n      <td>Switzerland</td>\n      <td>Berne</td>\n      <td>41293</td>\n      <td>6.70</td>\n      <td>Western</td>\n    </tr>\n    <tr>\n      <th>38</th>\n      <td>Sweden</td>\n      <td>Stockholm</td>\n      <td>449964</td>\n      <td>8.50</td>\n      <td>Northern</td>\n    </tr>\n    <tr>\n      <th>39</th>\n      <td>Serbia</td>\n      <td>Belgrade</td>\n      <td>66577</td>\n      <td>7.20</td>\n      <td>Southern</td>\n    </tr>\n    <tr>\n      <th>40</th>\n      <td>Slovakia</td>\n      <td>Bratislava</td>\n      <td>49035</td>\n      <td>5.30</td>\n      <td>Central</td>\n    </tr>\n    <tr>\n      <th>41</th>\n      <td>Slovenia</td>\n      <td>Ljubljana</td>\n      <td>20250</td>\n      <td>2.00</td>\n      <td>Southern</td>\n    </tr>\n    <tr>\n      <th>42</th>\n      <td>Ukraine</td>\n      <td>Kiev</td>\n      <td>603700</td>\n      <td>51.80</td>\n      <td>Eastern</td>\n    </tr>\n  </tbody>\n</table>\n</div>"
     },
     "metadata": {},
     "output_type": "display_data"
    }
   ],
   "source": [
    "import pandas as pd\n",
    "\n",
    "countries = pd.read_csv('../data/countries_europe.csv', delimiter = ';')\n",
    "display(countries)"
   ]
  },
  {
   "cell_type": "markdown",
   "metadata": {},
   "source": [
    "A **comma-separated values (CSV) file** is a delimited text file that uses a **comma** to separate values. The separator (also called the *delimiter*) can be another character than a comma, often a **semicolon** is used. The default delimiter is the comma, but we can easily configure it int the `read_csv()` method call.\n",
    "\n",
    "A CSV file stores tabular data (numbers and text) in plain text. Each line of the file is a data record. Each record consists of one or more fields, separated by commas. The use of the comma as a field separator is the source of the name for this file format."
   ]
  },
  {
   "cell_type": "markdown",
   "metadata": {},
   "source": [
    "For example:\n",
    "```\n",
    "Country;Capital;Area (km2);Population (millions);Region\n",
    "Albania;Tirana;28748;3.2;Southern\n",
    "Andorra;Andorra la Vella;468;0.07;Western\n",
    "Austria;Vienna;83857;7.6;Western\n",
    "Belgium;Brussels;30519;10;Western\n",
    "Bosnia and Herzegovina;Sarajevo;51130;4.5;Southern\n",
    "Bulgaria;Sofia;110912;9;Southern\n",
    "Czech Republic;Prague;78864;10.4;Central\n",
    "Denmark;Copenhagen;43077;5.1;Northern\n",
    "United Kingdom;London;244100;57.2;Western\n",
    "...\n",
    "```"
   ]
  },
  {
   "cell_type": "markdown",
   "metadata": {},
   "source": [
    "Overwrite the used column names:"
   ]
  },
  {
   "cell_type": "code",
   "execution_count": null,
   "metadata": {},
   "outputs": [],
   "source": [
    "countries.columns = ['country', 'capital', 'area', 'population', 'region']\n",
    "display(countries)"
   ]
  },
  {
   "cell_type": "markdown",
   "metadata": {},
   "source": [
    "Use further reading functions, like `read_excel`, `read_json` to easily load other file formats into a pandas DataFrame."
   ]
  },
  {
   "cell_type": "markdown",
   "metadata": {},
   "source": [
    "The same European country dataset is given in the `data/countries_europe.xls` and `data/countries_europe.xlsx` MS Excel files:"
   ]
  },
  {
   "cell_type": "code",
   "execution_count": null,
   "metadata": {},
   "outputs": [],
   "source": [
    "countries = pd.read_excel('../data/countries_europe.xls')\n",
    "countries.columns = ['country', 'capital', 'area', 'population', 'region']\n",
    "display(countries)"
   ]
  },
  {
   "cell_type": "code",
   "execution_count": null,
   "metadata": {},
   "outputs": [],
   "source": [
    "countries = pd.read_excel('../data/countries_europe.xlsx')\n",
    "countries.columns = ['country', 'capital', 'area', 'population', 'region']\n",
    "display(countries)"
   ]
  },
  {
   "cell_type": "markdown",
   "metadata": {},
   "source": [
    "---"
   ]
  },
  {
   "cell_type": "markdown",
   "metadata": {},
   "source": [
    "## Working with DataFrames"
   ]
  },
  {
   "cell_type": "markdown",
   "metadata": {},
   "source": [
    "Query the row and column count of a DataFrame:"
   ]
  },
  {
   "cell_type": "code",
   "execution_count": null,
   "metadata": {},
   "outputs": [],
   "source": [
    "print('Number of rows: {0}'.format(len(countries)))\n",
    "print('Number of rows: {0}'.format(countries.shape[0]))\n",
    "print('Number of columns: {0}'.format(countries.shape[1]))"
   ]
  },
  {
   "cell_type": "code",
   "execution_count": null,
   "metadata": {},
   "outputs": [],
   "source": [
    "print('Number of rows by columns:')\n",
    "print(countries.count())"
   ]
  },
  {
   "cell_type": "markdown",
   "metadata": {},
   "source": [
    "*Remark*: if a column contains empty cells, we would see different numbers here."
   ]
  },
  {
   "cell_type": "markdown",
   "metadata": {},
   "source": [
    "### Add a new column to a DataFrame"
   ]
  },
  {
   "cell_type": "markdown",
   "metadata": {},
   "source": [
    "Calculate the population density of each country and add it as a new column to the `countries` *DataFrame*."
   ]
  },
  {
   "cell_type": "markdown",
   "metadata": {},
   "source": [
    "First, create a list of the density values:"
   ]
  },
  {
   "cell_type": "code",
   "execution_count": null,
   "metadata": {},
   "outputs": [],
   "source": [
    "density = []\n",
    "for i in range(len(countries)):\n",
    "    density.append(countries['population'][i] * 1e6 / countries['area'][i])\n",
    "    \n",
    "print(density)"
   ]
  },
  {
   "cell_type": "markdown",
   "metadata": {},
   "source": [
    "Then add a new column to the DataFrame:"
   ]
  },
  {
   "cell_type": "code",
   "execution_count": null,
   "metadata": {},
   "outputs": [],
   "source": [
    "countries['density'] = density\n",
    "display(countries)"
   ]
  },
  {
   "cell_type": "markdown",
   "metadata": {},
   "source": [
    "### Calculating aggregated values"
   ]
  },
  {
   "cell_type": "markdown",
   "metadata": {},
   "source": [
    "Summation, mean and median values:"
   ]
  },
  {
   "cell_type": "code",
   "execution_count": null,
   "metadata": {},
   "outputs": [],
   "source": [
    "print(\"Sum population: {0:.2f} million\".format(countries[\"population\"].sum()))\n",
    "print(\"Mean population: {0:.2f} million\".format(countries[\"population\"].mean()))\n",
    "print(\"Median population: {0:.2f} million\".format(countries[\"population\"].median()))"
   ]
  },
  {
   "cell_type": "markdown",
   "metadata": {},
   "source": [
    "Maximum and minimum values and their indexes:"
   ]
  },
  {
   "cell_type": "code",
   "execution_count": null,
   "metadata": {},
   "outputs": [],
   "source": [
    "print(\"Max population:{0:.2f} million\".format(countries[\"population\"].max()))\n",
    "print(\"Max population index: {0}\".format(countries[\"population\"].idxmax()))\n",
    "print(\"Min population:{0:.2f} million\".format(countries[\"population\"].min()))\n",
    "print(\"Min population index: {0}\".format(countries[\"population\"].idxmin()))"
   ]
  },
  {
   "cell_type": "markdown",
   "metadata": {},
   "source": [
    "Standard deviation:"
   ]
  },
  {
   "cell_type": "code",
   "execution_count": null,
   "metadata": {},
   "outputs": [],
   "source": [
    "print(\"Standard deviation of population: {0:.2f} million\".format(countries[\"population\"].std()))"
   ]
  },
  {
   "cell_type": "markdown",
   "metadata": {},
   "source": [
    "Quantile calculation:"
   ]
  },
  {
   "cell_type": "code",
   "execution_count": null,
   "metadata": {},
   "outputs": [],
   "source": [
    "print(\"The 90% quantile for the European countries:\")\n",
    "print(countries.quantile(0.9))"
   ]
  },
  {
   "cell_type": "markdown",
   "metadata": {},
   "source": [
    "Which means that e.g. the top 5 countries (top 10%) has a higher population than 49.2 million."
   ]
  },
  {
   "cell_type": "markdown",
   "metadata": {},
   "source": [
    "Calculate all basic statistical data for all columns at once:"
   ]
  },
  {
   "cell_type": "code",
   "execution_count": null,
   "metadata": {},
   "outputs": [],
   "source": [
    "display(countries.describe())"
   ]
  },
  {
   "cell_type": "markdown",
   "metadata": {},
   "source": [
    "### Sorting the DataFrame"
   ]
  },
  {
   "cell_type": "markdown",
   "metadata": {},
   "source": [
    "A DataFrame can be sorted into a **new** DataFrame through the `sort_values` function. The original DataFrame remains intact."
   ]
  },
  {
   "cell_type": "code",
   "execution_count": null,
   "metadata": {},
   "outputs": [],
   "source": [
    "bypopulation = countries.sort_values(by = 'population', ascending = False)\n",
    "display(bypopulation)"
   ]
  },
  {
   "cell_type": "markdown",
   "metadata": {},
   "source": [
    "Note that the row indices remained intact.  \n",
    "**Task:** which countries will display the following code cell?"
   ]
  },
  {
   "cell_type": "code",
   "execution_count": null,
   "metadata": {},
   "outputs": [],
   "source": [
    "print(bypopulation.loc[0])\n",
    "print()\n",
    "print(bypopulation.iloc[0])"
   ]
  },
  {
   "cell_type": "markdown",
   "metadata": {},
   "source": [
    "Now we can e.g. verify that the top 5 countries (top 10%) has a higher population than 49.2 million:"
   ]
  },
  {
   "cell_type": "code",
   "execution_count": null,
   "metadata": {},
   "outputs": [],
   "source": [
    "print(\"Population of the 4th country: {0:.1f} million\".format(bypopulation.iloc[4][\"population\"]))\n",
    "print(\"Population of the 5th country: {0:.1f} million\".format(bypopulation.iloc[5][\"population\"]))"
   ]
  },
  {
   "cell_type": "markdown",
   "metadata": {},
   "source": [
    "*Note:* a DataFrame can be sorted by modifying it (and without creating a new one) by passing the `inplace = True` argument to the `sort_values()` method:\n",
    "```python\n",
    "countries.sort_values(by = 'population', ascending = False, inplace = True)\n",
    "```"
   ]
  },
  {
   "cell_type": "markdown",
   "metadata": {},
   "source": [
    "### Indexing the DataFrame"
   ]
  },
  {
   "cell_type": "markdown",
   "metadata": {},
   "source": [
    "We can assign one of the columns as the index column. The indexer column must contain unique values."
   ]
  },
  {
   "cell_type": "code",
   "execution_count": null,
   "metadata": {},
   "outputs": [],
   "source": [
    "countries_indexed = countries.set_index('country')\n",
    "display(countries_indexed)"
   ]
  },
  {
   "cell_type": "markdown",
   "metadata": {},
   "source": [
    "In the indexed *DataFrame*, rows can be accessed through the values of the index column with the already used `loc` property:"
   ]
  },
  {
   "cell_type": "code",
   "execution_count": null,
   "metadata": {},
   "outputs": [],
   "source": [
    "print(countries_indexed.loc[\"Hungary\"])"
   ]
  },
  {
   "cell_type": "markdown",
   "metadata": {},
   "source": [
    "*Remark:* by default the `set_index()` method call removes the indexer column. We can keep the indexer column also as a \"normal\" column through setting the `drop` parameter to `False`."
   ]
  },
  {
   "cell_type": "code",
   "execution_count": null,
   "metadata": {},
   "outputs": [],
   "source": [
    "countries_indexed = countries.set_index('country', drop = False)\n",
    "display(countries_indexed)"
   ]
  },
  {
   "cell_type": "markdown",
   "metadata": {},
   "source": [
    "### Filtering the DataFrame"
   ]
  },
  {
   "cell_type": "markdown",
   "metadata": {},
   "source": [
    "Configure a condition as a boolean expression:"
   ]
  },
  {
   "cell_type": "code",
   "execution_count": null,
   "metadata": {},
   "outputs": [],
   "source": [
    "condition = countries[\"region\"] == \"Central\"\n",
    "print(type(condition))"
   ]
  },
  {
   "cell_type": "markdown",
   "metadata": {},
   "source": [
    "As we have seen, the result is a *Series*, so a new column! Evaluate it:"
   ]
  },
  {
   "cell_type": "code",
   "execution_count": null,
   "metadata": {},
   "outputs": [],
   "source": [
    "print(condition)"
   ]
  },
  {
   "cell_type": "markdown",
   "metadata": {},
   "source": [
    "The series in the `condition` variable stores the boolean `True` / `False` value for each row, whether the profit was positive for that row or not."
   ]
  },
  {
   "cell_type": "markdown",
   "metadata": {},
   "source": [
    "Now filter the DataFrame by the condition. As we can observe, only the rows with the logical `True` value in the `condition` series remained:"
   ]
  },
  {
   "cell_type": "code",
   "execution_count": null,
   "metadata": {},
   "outputs": [],
   "source": [
    "centralEuropean = countries[condition]\n",
    "display(centralEuropean)"
   ]
  },
  {
   "cell_type": "markdown",
   "metadata": {},
   "source": [
    "The whole workflow can be achieved in a single statement:"
   ]
  },
  {
   "cell_type": "code",
   "execution_count": null,
   "metadata": {},
   "outputs": [],
   "source": [
    "display(countries[countries[\"region\"] == \"Central\"])"
   ]
  },
  {
   "cell_type": "markdown",
   "metadata": {},
   "source": [
    "---"
   ]
  },
  {
   "cell_type": "markdown",
   "metadata": {},
   "source": [
    "## Summary exercise on DataFrames"
   ]
  },
  {
   "cell_type": "markdown",
   "metadata": {},
   "source": [
    "### Task 1"
   ]
  },
  {
   "cell_type": "markdown",
   "metadata": {},
   "source": [
    "Display the name of the countries which have a population of less than 1 million."
   ]
  },
  {
   "cell_type": "code",
   "execution_count": null,
   "metadata": {},
   "outputs": [],
   "source": [
    "small_countries = countries[countries[\"population\"] < 1]\n",
    "print(small_countries[\"country\"])"
   ]
  },
  {
   "cell_type": "markdown",
   "metadata": {},
   "source": [
    "### Task 2"
   ]
  },
  {
   "cell_type": "markdown",
   "metadata": {},
   "source": [
    "Write a program that calculates which Western-European country has the largest area?"
   ]
  },
  {
   "cell_type": "code",
   "execution_count": null,
   "metadata": {},
   "outputs": [],
   "source": [
    "max_index = countries[countries[\"region\"] == \"Western\"][\"area\"].idxmax()\n",
    "print(countries.iloc[max_index])"
   ]
  }
 ],
 "metadata": {
  "kernelspec": {
   "display_name": "Python 3",
   "language": "python",
   "name": "python3"
  },
  "language_info": {
   "codemirror_mode": {
    "name": "ipython",
    "version": 3
   },
   "file_extension": ".py",
   "mimetype": "text/x-python",
   "name": "python",
   "nbconvert_exporter": "python",
   "pygments_lexer": "ipython3",
   "version": "3.8.5"
  }
 },
 "nbformat": 4,
 "nbformat_minor": 4
}