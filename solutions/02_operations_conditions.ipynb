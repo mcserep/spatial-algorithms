{
 "cells": [
  {
   "cell_type": "markdown",
   "metadata": {
    "colab_type": "text",
    "id": "QZKzoouhbVpn"
   },
   "source": [
    "# Chapter 2: Basic operations and conditional executions"
   ]
  },
  {
   "cell_type": "markdown",
   "metadata": {
    "colab_type": "text",
    "id": "Z5prpVWtbVrs"
   },
   "source": [
    "## Basic arithmetic operations"
   ]
  },
  {
   "cell_type": "markdown",
   "metadata": {
    "colab_type": "text",
    "id": "K-Rh3D3fbVrt"
   },
   "source": [
    "Mathematical operations are executed in an order as you get used to in mathematics.\n",
    "\n",
    "See the [precedence order of all Python operators](https://docs.python.org/3/reference/expressions.html#operator-precedence) in the documentation. Operations with the same precedence are evaluated from left to right.  \n",
    "E.g. `1+2*3` is evaluated as `1+(2*3)`."
   ]
  },
  {
   "cell_type": "markdown",
   "metadata": {
    "colab_type": "text",
    "id": "-6YEYHJubVru"
   },
   "source": [
    "### Summation"
   ]
  },
  {
   "cell_type": "markdown",
   "metadata": {
    "colab_type": "text",
    "id": "MlzbFw3hbVrw"
   },
   "source": [
    "Both numeric and string values can be added together.\n",
    "\n",
    "For numeric values it works like the mathematical operation, e.g.: `1+2=3`.\n",
    "\n",
    "For string values they are concatenated, e.g.: `'Hello '+'world'='Hello world'`."
   ]
  },
  {
   "cell_type": "code",
   "execution_count": null,
   "metadata": {
    "colab": {},
    "colab_type": "code",
    "id": "hKbhC_PwbVry"
   },
   "outputs": [],
   "source": [
    "print(1+2)\n",
    "print('Hello '+'world')"
   ]
  },
  {
   "cell_type": "code",
   "execution_count": null,
   "metadata": {
    "colab": {},
    "colab_type": "code",
    "id": "umCzHtBIbVr0"
   },
   "outputs": [],
   "source": [
    "x=10\n",
    "y=20\n",
    "print(x+y)\n",
    "\n",
    "z='10'\n",
    "q='20'\n",
    "print(z+q)"
   ]
  },
  {
   "cell_type": "markdown",
   "metadata": {
    "colab_type": "text",
    "id": "4g-AYMR7bVr2"
   },
   "source": [
    "### Subtraction"
   ]
  },
  {
   "cell_type": "markdown",
   "metadata": {
    "colab_type": "text",
    "id": "JL1VafRHbVr2"
   },
   "source": [
    "Works only for numeric values:"
   ]
  },
  {
   "cell_type": "code",
   "execution_count": null,
   "metadata": {
    "colab": {},
    "colab_type": "code",
    "id": "y6I7wjkPbVr3"
   },
   "outputs": [],
   "source": [
    "print(10-7)\n",
    "\n",
    "x=20\n",
    "print(x-10)"
   ]
  },
  {
   "cell_type": "markdown",
   "metadata": {
    "colab_type": "text",
    "id": "GvNyL4clbVr4"
   },
   "source": [
    "### Multiplication"
   ]
  },
  {
   "cell_type": "markdown",
   "metadata": {
    "colab_type": "text",
    "id": "yhM_Hg1LbVr7"
   },
   "source": [
    "The multiplication operator can be applied both between 2 numeric values and between a string and a numeric value.\n",
    "\n",
    "For numeric values it works like the mathematical operation, e.g.: `9*4=36`.\n",
    "\n",
    "For a string and an integer, the string is repeated and concatenated as many times as we defined, e.g.: `'Hi'*5=HiHiHiHiHi`."
   ]
  },
  {
   "cell_type": "code",
   "execution_count": null,
   "metadata": {
    "colab": {},
    "colab_type": "code",
    "id": "3RW9IYd3bVr8"
   },
   "outputs": [],
   "source": [
    "print(9*4)\n",
    "print('Hi'*5)"
   ]
  },
  {
   "cell_type": "code",
   "execution_count": null,
   "metadata": {
    "colab": {},
    "colab_type": "code",
    "id": "arx7FyH3bVr9"
   },
   "outputs": [],
   "source": [
    "x=9\n",
    "y=x*4\n",
    "print(y)\n",
    "\n",
    "z='Hi'\n",
    "w=z*5\n",
    "print(w)"
   ]
  },
  {
   "cell_type": "markdown",
   "metadata": {
    "colab_type": "text",
    "id": "GKcCNmPtbVr_"
   },
   "source": [
    "### Division with floating result"
   ]
  },
  {
   "cell_type": "markdown",
   "metadata": {
    "colab_type": "text",
    "id": "zpXu9PbqbVr_"
   },
   "source": [
    "Works only for numeric values."
   ]
  },
  {
   "cell_type": "code",
   "execution_count": null,
   "metadata": {
    "colab": {},
    "colab_type": "code",
    "id": "RG3ZazRCbVsA"
   },
   "outputs": [],
   "source": [
    "print(17/3)"
   ]
  },
  {
   "cell_type": "markdown",
   "metadata": {
    "colab_type": "text",
    "id": "uDjNqlBFbVsC"
   },
   "source": [
    "**Question:** what is the type of the dividend and the divisor? What is the type of the result?\n",
    "\n",
    "**Question:** what will be the type of the result if the value is an integer?"
   ]
  },
  {
   "cell_type": "code",
   "execution_count": null,
   "metadata": {
    "colab": {},
    "colab_type": "code",
    "id": "nGik1ezfbVsD"
   },
   "outputs": [],
   "source": [
    "print(type(17))\n",
    "print(type(3))\n",
    "print(type(17/3))\n",
    "print(type(18/3))"
   ]
  },
  {
   "cell_type": "markdown",
   "metadata": {
    "colab_type": "text",
    "id": "_zOSmKTYbVsE"
   },
   "source": [
    "### Division with integer result"
   ]
  },
  {
   "cell_type": "markdown",
   "metadata": {
    "colab_type": "text",
    "id": "gwcOVJQZbVsF"
   },
   "source": [
    "Using the double division operator (`//`) means that the result of the division will be an integer number.\n",
    "If the result has a fractional part, it is dropped."
   ]
  },
  {
   "cell_type": "code",
   "execution_count": null,
   "metadata": {
    "colab": {},
    "colab_type": "code",
    "id": "9UgAwrMAbVsG"
   },
   "outputs": [],
   "source": [
    "print(18//3)\n",
    "print(17//3)"
   ]
  },
  {
   "cell_type": "markdown",
   "metadata": {
    "colab_type": "text",
    "id": "T48dPtfEbVsH"
   },
   "source": [
    "### Exponentiation"
   ]
  },
  {
   "cell_type": "markdown",
   "metadata": {
    "colab_type": "text",
    "id": "MiYzITCebVsJ"
   },
   "source": [
    "We can calculate the *y<sup>th</sup>* power of *x* by using the double star (`*`) operator: `x**y`."
   ]
  },
  {
   "cell_type": "code",
   "execution_count": null,
   "metadata": {
    "colab": {},
    "colab_type": "code",
    "id": "Iq1bDJkgbVsJ"
   },
   "outputs": [],
   "source": [
    "print(2**3)\n",
    "\n",
    "x=3\n",
    "y=4\n",
    "print(x**y)"
   ]
  },
  {
   "cell_type": "markdown",
   "metadata": {},
   "source": [
    "It is effectively the same as calling the `pow` function (the name is short for *power*) with 2 arguments:"
   ]
  },
  {
   "cell_type": "code",
   "execution_count": null,
   "metadata": {},
   "outputs": [],
   "source": [
    "print(pow(x, y))"
   ]
  },
  {
   "cell_type": "markdown",
   "metadata": {
    "colab_type": "text",
    "id": "zRplyfIPbVsL"
   },
   "source": [
    "### Remainder (modulo operator)"
   ]
  },
  {
   "cell_type": "markdown",
   "metadata": {
    "colab_type": "text",
    "id": "Flb8Q8j6bVsM"
   },
   "source": [
    "In computing, the *modulo operation* finds the remainder after division of one number by another (called the *modulus* of the operation).\n",
    "\n",
    "E.g. `17%3=2`, since 15 is divisible by 3 and the remainder is therefore 2.\n",
    "\n",
    "Useful scenarios:\n",
    " * check whether a number is divisible by another (the modulus must be 0);\n",
    " * get the last digit of a number by calculating the remainder by 10."
   ]
  },
  {
   "cell_type": "code",
   "execution_count": null,
   "metadata": {
    "colab": {},
    "colab_type": "code",
    "id": "rXP8Pwq7bVsM",
    "scrolled": true
   },
   "outputs": [],
   "source": [
    "print(17%3)"
   ]
  },
  {
   "cell_type": "markdown",
   "metadata": {},
   "source": [
    "---"
   ]
  },
  {
   "cell_type": "markdown",
   "metadata": {
    "colab_type": "text",
    "id": "eHtBQ_CVbVsO"
   },
   "source": [
    "### Summary exercises on basic operations"
   ]
  },
  {
   "cell_type": "markdown",
   "metadata": {
    "colab_type": "text",
    "id": "CXXiOp5gbVsO"
   },
   "source": [
    "#### Exercise: Rectangle\n",
    "\n",
    "**Task:** Calculate the area and the perimeter of a rectangle.\n",
    "\n",
    "Get the width and the height of the rectangle from the user."
   ]
  },
  {
   "cell_type": "code",
   "execution_count": null,
   "metadata": {
    "colab": {},
    "colab_type": "code",
    "id": "H_cEm-RTbVsP"
   },
   "outputs": [],
   "source": [
    "width = int(input(\"Width = \"))\n",
    "height = int(input(\"Height = \"))\n",
    "area = width * height\n",
    "perimeter = 2 * (width + height)\n",
    "\n",
    "print(\"Area = {0}\".format(area))\n",
    "print(\"Perimeter = {0}\".format(perimeter))"
   ]
  },
  {
   "cell_type": "markdown",
   "metadata": {},
   "source": [
    "#### Exercise: Circle\n",
    "\n",
    "**Task:** Calculate the area and the perimeter of a circle.\n",
    "\n",
    "Get the radius of circle from the user."
   ]
  },
  {
   "cell_type": "code",
   "execution_count": null,
   "metadata": {},
   "outputs": [],
   "source": [
    "import math\n",
    "\n",
    "radius = float(input(\"Radius = \"))\n",
    "area = radius**2 * math.pi\n",
    "perimeter = 2 * radius * math.pi\n",
    "\n",
    "print(\"Area = {0}\".format(area))\n",
    "print(\"Perimeter = {0}\".format(perimeter))"
   ]
  },
  {
   "cell_type": "markdown",
   "metadata": {},
   "source": [
    "*Note*: we can get a (finite) representation of pi using the `math.pi` constant after importing the `math` module:"
   ]
  },
  {
   "cell_type": "code",
   "execution_count": null,
   "metadata": {},
   "outputs": [],
   "source": [
    "import math\n",
    "print(math.pi)"
   ]
  },
  {
   "cell_type": "markdown",
   "metadata": {},
   "source": [
    "***"
   ]
  },
  {
   "cell_type": "markdown",
   "metadata": {
    "colab_type": "text",
    "id": "VnoYSMtnbVsQ"
   },
   "source": [
    "## Control structures"
   ]
  },
  {
   "cell_type": "markdown",
   "metadata": {
    "colab_type": "text",
    "id": "OYTTis5KbVsQ"
   },
   "source": [
    "There are 3 basic control flows for all *imperative* programming languages: **sequences**, **conditions** and **loops**."
   ]
  },
  {
   "cell_type": "markdown",
   "metadata": {
    "colab_type": "text",
    "id": "wi6tMmdvbVsR"
   },
   "source": [
    "### Sequence"
   ]
  },
  {
   "cell_type": "markdown",
   "metadata": {
    "colab_type": "text",
    "id": "tIEP5MzxbVsR"
   },
   "source": [
    "When operations are evaluated seqentially one after another, it is called a *sequence statement*."
   ]
  },
  {
   "cell_type": "markdown",
   "metadata": {},
   "source": [
    "![Control structure: Sequence](../images/02_control_sequence.png)"
   ]
  },
  {
   "cell_type": "code",
   "execution_count": null,
   "metadata": {
    "colab": {},
    "colab_type": "code",
    "id": "xdkE4OMGbVsS"
   },
   "outputs": [],
   "source": [
    "print(\"First statement\")\n",
    "print(\"Second statement\")"
   ]
  },
  {
   "cell_type": "markdown",
   "metadata": {},
   "source": [
    "So far, we have worked with sequences."
   ]
  },
  {
   "cell_type": "markdown",
   "metadata": {},
   "source": [
    "***"
   ]
  },
  {
   "cell_type": "markdown",
   "metadata": {
    "colab_type": "text",
    "id": "q1QQpLxybVsT"
   },
   "source": [
    "### Conditions"
   ]
  },
  {
   "cell_type": "markdown",
   "metadata": {
    "colab_type": "text",
    "id": "MrFS8AD8bVsT"
   },
   "source": [
    "Conditions (or also called *select statements*):\n",
    " * define multiple branches of the program code;\n",
    " * it is decided based on logical tests that which branch should be executed."
   ]
  },
  {
   "cell_type": "markdown",
   "metadata": {},
   "source": [
    "#### Two-way conditions"
   ]
  },
  {
   "cell_type": "markdown",
   "metadata": {},
   "source": [
    "First lets read a number from the user:"
   ]
  },
  {
   "cell_type": "code",
   "execution_count": null,
   "metadata": {
    "ExecuteTime": {
     "end_time": "2018-10-09T01:38:46.027739Z",
     "start_time": "2018-10-09T01:38:46.023274Z"
    },
    "colab": {},
    "colab_type": "code",
    "id": "ds_2rXfobVsU"
   },
   "outputs": [],
   "source": [
    "number = input(\"Give a number: \")\n",
    "print(\"Number is {0} with type of {1}\".format(number, type(number)))"
   ]
  },
  {
   "cell_type": "markdown",
   "metadata": {},
   "source": [
    "Convert the `number` to an integer:"
   ]
  },
  {
   "cell_type": "code",
   "execution_count": null,
   "metadata": {},
   "outputs": [],
   "source": [
    "number = int(number)\n",
    "print(\"Now number is now {0} with type of {1}\".format(number, type(number)))"
   ]
  },
  {
   "cell_type": "markdown",
   "metadata": {},
   "source": [
    "Check whether the number is positive or not:"
   ]
  },
  {
   "cell_type": "code",
   "execution_count": null,
   "metadata": {},
   "outputs": [],
   "source": [
    "if number > 0:\n",
    "    print(\"number is positive, its value is \" + str(number))\n",
    "else:\n",
    "    print(\"number is non-positive, its value is \" + str(number))"
   ]
  },
  {
   "cell_type": "markdown",
   "metadata": {},
   "source": [
    "![Control structure: Selection - Two Way](../images/02_control_selection_2way.png)"
   ]
  },
  {
   "cell_type": "markdown",
   "metadata": {
    "colab_type": "text",
    "id": "jGCzVyLNbVse"
   },
   "source": [
    "**IMPORTANT: in Python, the indentation of the code is crucial, because it defines the code blocks!**"
   ]
  },
  {
   "cell_type": "code",
   "execution_count": null,
   "metadata": {
    "colab": {},
    "colab_type": "code",
    "id": "L2YsnAsJbVsf"
   },
   "outputs": [],
   "source": [
    "if number > 0:\n",
    "    print(\"number is positive, its value is \" + str(number))\n",
    "else:\n",
    "    print(\"number is non-positive, its value is \" + str(number))\n",
    "    print(\"Check when this line is printed\")"
   ]
  },
  {
   "cell_type": "code",
   "execution_count": null,
   "metadata": {
    "colab": {},
    "colab_type": "code",
    "id": "SKRzbc5LbVsg"
   },
   "outputs": [],
   "source": [
    "if number > 0:\n",
    "    print(\"number is positive, its value is \" + str(number))\n",
    "else:\n",
    "    print(\"number is non-positive, its value is \" + str(number))\n",
    "print(\"Check when this line is printed\")"
   ]
  },
  {
   "cell_type": "markdown",
   "metadata": {},
   "source": [
    "Indentation is done with *whitespace characters*: spaces and tabs. You can either use spaces or tabs to indent and you can decide how many of them you are using. (Typical values are indenting with 2 or 4 whitespaces.)\n",
    "\n",
    "**Note:** a single tab is just 1 whitespace even if displayed as multiple in your text editor!\n",
    "**Therefore you shall not mix spaces and tabs when indenting, use only one of them!**"
   ]
  },
  {
   "cell_type": "markdown",
   "metadata": {},
   "source": [
    "##### Logical operations"
   ]
  },
  {
   "cell_type": "markdown",
   "metadata": {},
   "source": [
    "Boolean values and expressions can also be combined with the logical, binary `and` and `or` operators. Negation can be done with the unary `not` operator."
   ]
  },
  {
   "cell_type": "code",
   "execution_count": null,
   "metadata": {
    "collapsed": false,
    "jupyter": {
     "outputs_hidden": false
    },
    "pycharm": {
     "name": "#%%\n"
    }
   },
   "outputs": [],
   "source": [
    "print(\"True and False is {0}\".format(True and False))\n",
    "print(\"True or False is {0}\".format(True or False))\n",
    "print(\"not True is {0}\".format(not True))"
   ]
  },
  {
   "cell_type": "markdown",
   "metadata": {
    "pycharm": {
     "name": "#%% md\n"
    }
   },
   "source": [
    "Just like with the arithmetic operators, there is also a precedence order for the logical operators: `not`, `and`, `or`.\n",
    "Use parentheses to \"override\" the default precedence order."
   ]
  },
  {
   "cell_type": "code",
   "execution_count": null,
   "metadata": {
    "collapsed": false,
    "jupyter": {
     "outputs_hidden": false
    },
    "pycharm": {
     "name": "#%%\n"
    }
   },
   "outputs": [],
   "source": [
    "print(\"True or True and False is {0}\".format(True or True and False))\n",
    "print(\"(True or True) and False is {0}\".format((True or True) and False))"
   ]
  },
  {
   "cell_type": "markdown",
   "metadata": {},
   "source": [
    "#### Three (or more) way conditions"
   ]
  },
  {
   "cell_type": "markdown",
   "metadata": {},
   "source": [
    "We can define multiple logical expression (*elif*) to test. These conditions are tested in the order they are defined and the body for the **first one** to be *True* will be executed. We can still define an *else* branch in case none of the conditions was *True*."
   ]
  },
  {
   "cell_type": "code",
   "execution_count": null,
   "metadata": {
    "ExecuteTime": {
     "end_time": "2018-10-09T01:38:47.709640Z",
     "start_time": "2018-10-09T01:38:47.704307Z"
    },
    "colab": {},
    "colab_type": "code",
    "id": "v3NCXb9ZbVsV"
   },
   "outputs": [],
   "source": [
    "if number > 0:\n",
    "    print(\"number is positive, its value is \" + str(number))\n",
    "elif number < 0:\n",
    "    print(\"number is negative, its value is \" + str(number))\n",
    "else:\n",
    "    print(\"number is zero\")"
   ]
  },
  {
   "cell_type": "markdown",
   "metadata": {},
   "source": [
    "![Control structure: Selection - Three Way](../images/02_control_selection_3way.png)"
   ]
  },
  {
   "cell_type": "markdown",
   "metadata": {},
   "source": [
    "Actually, there are no three (or more) way conditional statements, only two-way conditions. The `elif` keyword is just a little _\"syntax sugar\"_ to provide an easier understandable version of nested, 2-way conditions."
   ]
  },
  {
   "cell_type": "markdown",
   "metadata": {},
   "source": [
    "**Task:** Can you write the above 3-way condition with just 2-way conditions?"
   ]
  },
  {
   "cell_type": "code",
   "execution_count": null,
   "metadata": {},
   "outputs": [],
   "source": [
    "if number > 0:\n",
    "    print(\"number is positive, its value is \" + str(number))\n",
    "else:\n",
    "    if number < 0:\n",
    "        print(\"number is negative, its value is \" + str(number))\n",
    "    else:\n",
    "        print(\"number is zero\")"
   ]
  },
  {
   "cell_type": "markdown",
   "metadata": {},
   "source": [
    "![Control structure: Selection - Three Way (Nested)](../images/02_control_selection_3way_nested.png)"
   ]
  },
  {
   "cell_type": "markdown",
   "metadata": {},
   "source": [
    "#### One-way conditions"
   ]
  },
  {
   "cell_type": "markdown",
   "metadata": {},
   "source": [
    "You do not have to use `if-else` or `if-elif-...-else`. You can use `if` without other clauses following that.\n",
    "The *else* branch can be omitted if not required."
   ]
  },
  {
   "cell_type": "code",
   "execution_count": null,
   "metadata": {
    "ExecuteTime": {
     "end_time": "2018-10-09T01:38:49.218876Z",
     "start_time": "2018-10-09T01:38:49.214871Z"
    },
    "colab": {},
    "colab_type": "code",
    "id": "sIVmrsmQbVsX"
   },
   "outputs": [],
   "source": [
    "if number > 0:\n",
    "    print(\"number is positive, its value is \" + str(number))"
   ]
  },
  {
   "cell_type": "markdown",
   "metadata": {},
   "source": [
    "![Control structure: Selection - One Way](../images/02_control_selection_1way.png)"
   ]
  },
  {
   "cell_type": "markdown",
   "metadata": {
    "colab_type": "text",
    "id": "zyhzHLm3bVsi"
   },
   "source": [
    "### Comparison"
   ]
  },
  {
   "cell_type": "markdown",
   "metadata": {
    "colab_type": "text",
    "id": "5C6loBuUbVsi"
   },
   "source": [
    "Python syntax for comparison is the same as our hand-written convention: \n",
    "\n",
    "1. Larger (or equal): `>` (`>=`)\n",
    "2. Smaller (or equal): `<` (`<=`)\n",
    "3. Equal to: `==` (__Note here that there are double equal signs__)\n",
    "4. Not equal to: `!=`"
   ]
  },
  {
   "cell_type": "code",
   "execution_count": null,
   "metadata": {
    "ExecuteTime": {
     "end_time": "2018-10-09T00:16:20.683160Z",
     "start_time": "2018-10-09T00:16:20.676171Z"
    },
    "colab": {},
    "colab_type": "code",
    "id": "Hlm8cn1RbVsj"
   },
   "outputs": [],
   "source": [
    "print(3 == 5)"
   ]
  },
  {
   "cell_type": "code",
   "execution_count": null,
   "metadata": {
    "ExecuteTime": {
     "end_time": "2018-10-09T00:16:21.107023Z",
     "start_time": "2018-10-09T00:16:21.102607Z"
    },
    "colab": {},
    "colab_type": "code",
    "id": "okNTFoTTbVsk"
   },
   "outputs": [],
   "source": [
    "print(72 >= 2)"
   ]
  },
  {
   "cell_type": "code",
   "execution_count": null,
   "metadata": {
    "ExecuteTime": {
     "end_time": "2018-10-09T01:38:50.755605Z",
     "start_time": "2018-10-09T01:38:50.751523Z"
    },
    "colab": {},
    "colab_type": "code",
    "id": "4i83pxclbVsZ"
   },
   "outputs": [],
   "source": [
    "store_name = 'Auchan'\n",
    "#store_name = 'Tesco'"
   ]
  },
  {
   "cell_type": "code",
   "execution_count": null,
   "metadata": {
    "ExecuteTime": {
     "end_time": "2018-10-09T00:16:49.169393Z",
     "start_time": "2018-10-09T00:16:49.164386Z"
    },
    "colab": {},
    "colab_type": "code",
    "id": "nguYeW_1bVsn"
   },
   "outputs": [],
   "source": [
    "print(store_name)"
   ]
  },
  {
   "cell_type": "code",
   "execution_count": null,
   "metadata": {
    "ExecuteTime": {
     "end_time": "2018-10-09T00:16:49.460268Z",
     "start_time": "2018-10-09T00:16:49.453590Z"
    },
    "colab": {},
    "colab_type": "code",
    "id": "-dPSNSNMbVsp"
   },
   "outputs": [],
   "source": [
    "print(store_name == \"Tesco\") # Will return a boolean value True or False"
   ]
  },
  {
   "cell_type": "code",
   "execution_count": null,
   "metadata": {
    "ExecuteTime": {
     "end_time": "2018-10-09T01:38:57.568568Z",
     "start_time": "2018-10-09T01:38:57.563726Z"
    },
    "colab": {},
    "colab_type": "code",
    "id": "iobDboNPbVsb"
   },
   "outputs": [],
   "source": [
    "if store_name == 'Auchan':\n",
    "    print(\"The store is an Auchan.\")\n",
    "else:\n",
    "    print(\"The store is not an Auchan. It's \" + store_name + \".\")"
   ]
  },
  {
   "cell_type": "markdown",
   "metadata": {},
   "source": [
    "#### Floating point comparison"
   ]
  },
  {
   "cell_type": "markdown",
   "metadata": {
    "colab_type": "text",
    "id": "UxYbcZQ5bVsq"
   },
   "source": [
    "**IMPORTANT:** Note that floating point precision and therefore comparisons between floating point numbers can be tricky."
   ]
  },
  {
   "cell_type": "markdown",
   "metadata": {},
   "source": [
    "What will these floating point mathematical operations result?"
   ]
  },
  {
   "cell_type": "code",
   "execution_count": null,
   "metadata": {
    "ExecuteTime": {
     "end_time": "2018-10-09T00:17:16.577984Z",
     "start_time": "2018-10-09T00:17:16.571556Z"
    },
    "colab": {},
    "colab_type": "code",
    "id": "AK1QDGEEbVsq"
   },
   "outputs": [],
   "source": [
    "print(0.1 + 0.1 + 0.1)\n",
    "print(0.1 + 0.1 + 0.1 == 0.3)\n",
    "\n",
    "print(1.0 - 0.83)\n",
    "print(1.0 - 0.83 == 0.17)\n",
    "\n",
    "print(2.2 * 3.0)\n",
    "print(2.2 * 3.0 == 6.6)\n",
    "\n",
    "print(3.3 * 2.0)\n",
    "print(3.3 * 2.0 == 6.6)"
   ]
  },
  {
   "cell_type": "code",
   "execution_count": null,
   "metadata": {
    "ExecuteTime": {
     "end_time": "2018-10-09T00:17:16.777940Z",
     "start_time": "2018-10-09T00:17:16.771796Z"
    },
    "colab": {},
    "colab_type": "code",
    "id": "Eg4o1falbVsr"
   },
   "outputs": [],
   "source": [
    "a = 1000.0\n",
    "b = 0.000000001\n",
    "print(a + b == a)\n",
    "\n",
    "a = 100000000.0\n",
    "b = 0.000000001\n",
    "print(a + b == a)"
   ]
  },
  {
   "cell_type": "markdown",
   "metadata": {},
   "source": [
    "Therefore, calculated floating point numbers shall never be checked for precise equality, instead a small error threshold shall be allowed."
   ]
  },
  {
   "cell_type": "code",
   "execution_count": null,
   "metadata": {},
   "outputs": [],
   "source": [
    "a = 2.2 * 3.0\n",
    "b = 6.6\n",
    "print(abs(a - b) < 1e-5) # 1e-5 == 10^-5 == 0.00001 (scientific number notation)"
   ]
  },
  {
   "cell_type": "markdown",
   "metadata": {},
   "source": [
    "#### Theoretical background for floating point calculation errors *(optional)*"
   ]
  },
  {
   "cell_type": "markdown",
   "metadata": {},
   "source": [
    "##### Signed integers representation\n",
    "\n",
    "Signed integers are usually represented with the [*Two's complement interpretation*](https://en.wikipedia.org/wiki/Two%27s_complement):\n",
    "\n",
    "```\n",
    "00000000 -> 0\n",
    "00000001 -> 1\n",
    "00000010 -> 2\n",
    "00000101 -> 5\n",
    "...\n",
    "10000000 -> -128\n",
    "10000001 -> -127\n",
    "11111110 -> -2\n",
    "11111111 -> -1\n",
    "```\n",
    "\n",
    "##### Floating point representation\n",
    "\n",
    "Floating point numbers are usually represented according to the [*standard IEEE-754*](https://en.wikipedia.org/wiki/IEEE_754).\n",
    "\n",
    "Since hardware can only work with integers, numbers are represented in a form of `[mantissa|exponent]`, where $value = mantissa * 2^{exponent}$.\n",
    "Both mantissa and exponent are a *two's complement interpretation* of signed integers.\n",
    "\n",
    "Example for converting a float representation to decimal value:\n",
    "```\n",
    "representation = [000000000101|11111100]\n",
    "value = 5 * 2^-2 = 1.25\n",
    "```\n",
    "\n",
    "Example for converting a decimal value to float representation:\n",
    "```\n",
    "value = 179.375\n",
    "binary value = 10110011.011\n",
    "normal form = 0.10110011011 * 2^8\n",
    "mantissa = 10110011011\n",
    "exponent = 1000\n",
    "representation = [010110011011|00001000]\n",
    "```\n",
    "\n",
    "##### Problem 1\n",
    "The number base problem: not all numbers can be exactly represented in all bases.\n",
    "Neither 0.17 or 0.83 can be represented in base 2, so:\n",
    "```\n",
    "0.1700000000000000122124532708767219446599483489990234375 -> 0.0010101110000101000111101011100001010001111010111000011\n",
    "0.8299999999999999600319711134943645447492599487304687500 -> 0.1101010001111010111000010100011110101110000101000111100\n",
    "\n",
    "1.0 - 0.83 = 0.0010101110000101000111101011100001010001111010111000011\n",
    "0.17       = 0.0010101110000101000111101011100001010001111010111000100\n",
    "```\n",
    "\n",
    "##### Problem 2\n",
    "The floating point problem: all representations have restricted range by the exponent,\n",
    "performing operations on numbers with very large and small exponents could result in the\n",
    "ignorance of the smaller one, as it would be shifted out of range.\n",
    "\n",
    "```\n",
    "decimal = 100000000\n",
    "binary  = 101111101011110000100000000\n",
    "normal  = 0.101111101011110000100000000 * 2^27\n",
    "\n",
    "decimal = 0.000000001\n",
    "binary ~= 0.000000000000000000000000000001\n",
    "normal ~= 0.1 * 2^-29\n",
    "\n",
    "sum: 100000000.000000001\n",
    "0.101111101011110000100000000 * 2^27 +  0.1 * 2^-29\n",
    "0.101111101011110000100000000 * 2^27 +  0.000000000000000000000000000000000000000000000000000000001 * 2^27\n",
    "0.101111101011110000100000000000000000000000000000000000001 * 2^27\n",
    "\n",
    "mantissa: 101111101011110000100000000000000000000000000000000000001\n",
    "```\n",
    "If mantissa is not long enough, the last 1 bit will be shifted off."
   ]
  },
  {
   "cell_type": "markdown",
   "metadata": {},
   "source": [
    "***"
   ]
  },
  {
   "cell_type": "markdown",
   "metadata": {
    "colab_type": "text",
    "id": "bpRNhll5bVs_"
   },
   "source": [
    "### Summary exercise on conditions"
   ]
  },
  {
   "cell_type": "markdown",
   "metadata": {},
   "source": [
    "#### Exercise: Parity\n",
    "\n",
    "**Task:** Decide whether an integer number is even or odd!\n",
    "\n",
    "Request the number from the user."
   ]
  },
  {
   "cell_type": "code",
   "execution_count": null,
   "metadata": {},
   "outputs": [],
   "source": [
    "number = int(input(\"Number to test: \"))\n",
    "if number % 2 == 0:\n",
    "    print(\"{0} is even\".format(number))\n",
    "else:    \n",
    "    print(\"{0} is odd\".format(number))"
   ]
  },
  {
   "cell_type": "markdown",
   "metadata": {
    "colab_type": "text",
    "id": "AHtAiMpNbVs_"
   },
   "source": [
    "#### Exercise: Body Mass Index\n",
    "\n",
    "**Task:** Calculate the Body Mass Index (BMI) of the user and categorize it.\n",
    "\n",
    "The BMI is defined as the body mass (in kilogramms) divided by the square of the body height (in meters), and is universally expressed in units of $kg/m^2$.\n",
    "$$BMI = \\frac{Weight}{{Height}^2}$$\n",
    "\n",
    "Request the weight and the height and calculate the BMI value for the user!\n",
    "\n",
    "Categorize the user based on the BMI value:\n",
    "\n",
    "| Category | BMI value |\n",
    "|----------|-----------|\n",
    "| Underweight | BMI < 18.5 |\n",
    "| Normal | 18.5 <= BMI < 25 |\n",
    "| Overweight | 25 <= BMI < 30 |\n",
    "| Obese |30 <= BMI |\n",
    "\n",
    "*Note: this is just a simplified categorization.*"
   ]
  },
  {
   "cell_type": "code",
   "execution_count": null,
   "metadata": {
    "colab": {},
    "colab_type": "code",
    "id": "vYTJ2DHebVs_"
   },
   "outputs": [],
   "source": [
    "weight_kg = int(input(\"Weight of the user (in kg): \"))\n",
    "height_cm = int(input(\"Height of the user (in cm): \"))\n",
    "height_m = height_cm / 100\n",
    "bmi = weight_kg / (height_m**2)\n",
    "\n",
    "print(\"BMI of the user is {0:.2f}\".format(bmi))\n",
    "\n",
    "if bmi < 18.5:\n",
    "    print(\"Category: underweight\")\n",
    "elif bmi < 25:\n",
    "    print(\"Category: normal\")\n",
    "elif bmi < 30:\n",
    "    print(\"Category: overweight\")\n",
    "else:\n",
    "    print(\"Category: obese\")"
   ]
  },
  {
   "cell_type": "markdown",
   "metadata": {},
   "source": [
    "Note how the conditions are tested in the order they are defined. The body of the first one to be *True* gets executed and the further ones are omitted."
   ]
  },
  {
   "cell_type": "markdown",
   "metadata": {},
   "source": [
    "***"
   ]
  },
  {
   "cell_type": "markdown",
   "metadata": {},
   "source": [
    "## Exception handling: Try and Except"
   ]
  },
  {
   "cell_type": "markdown",
   "metadata": {},
   "source": [
    "Python code raises so called *exceptions* in exceptional cases, typically when an error occurred. We can use the `try-except` block to handle these errors (exceptions), so our code will not stop and abort because of the error.\n",
    "\n",
    "E.g.: lets consider we would like to request a number from the user, but the user can type in any value, even a string. Then converting this string to an integer with `int()` would raise an exception. Not handling this exception will abort the program. By handling the exception we can print out an error message, set a default value or even request the number a second time.\n",
    "\n",
    "Format:\n",
    " * **TRY** block: look for exception to be raised in the code block.\n",
    " * **EXCEPT** block: if an exception was detected, stop the execution of the *TRY* block at that point and continue with the *EXCEPT* block."
   ]
  },
  {
   "cell_type": "markdown",
   "metadata": {},
   "source": [
    "Example **without** exception handling:"
   ]
  },
  {
   "cell_type": "code",
   "execution_count": null,
   "metadata": {},
   "outputs": [],
   "source": [
    "age = input('What is your age?')\n",
    "age = int(age)\n",
    "print(\"The given age is: {0}\".format(age))"
   ]
  },
  {
   "cell_type": "markdown",
   "metadata": {},
   "source": [
    "Test what will happen if you type in a string instead of a number? Will the value of the `age` variable printed out?"
   ]
  },
  {
   "cell_type": "markdown",
   "metadata": {},
   "source": [
    "Example **with** exception handling:"
   ]
  },
  {
   "cell_type": "code",
   "execution_count": null,
   "metadata": {},
   "outputs": [],
   "source": [
    "age = input('What is your age?')\n",
    "try:\n",
    "    age = int(age)\n",
    "except:\n",
    "    age = -1\n",
    "\n",
    "print(\"The given age is: {0}\".format(age))"
   ]
  },
  {
   "cell_type": "markdown",
   "metadata": {},
   "source": [
    "Test again what will happen if you type in a string instead of a number? Will the value of the `age` variable printed out?"
   ]
  },
  {
   "cell_type": "markdown",
   "metadata": {},
   "source": [
    "Modify the code above by displaying an error message if not a number was given on the first attempt. Also request the age of the user a second time."
   ]
  },
  {
   "cell_type": "code",
   "execution_count": null,
   "metadata": {
    "scrolled": true
   },
   "outputs": [],
   "source": [
    "age = input('What is your age?')\n",
    "try:\n",
    "    age = int(age)\n",
    "except:\n",
    "    print('That was not a number, try again!')\n",
    "    age = input('What is your age?')\n",
    "    age = int(age)\n",
    "\n",
    "print(\"The given age is: {0}\".format(age))"
   ]
  },
  {
   "cell_type": "markdown",
   "metadata": {},
   "source": [
    "Both the *TRY* and the *EXCEPT* block can contain multiple statements. Test what will happen here if you comment out the erroneous assignment of the `y` variable?"
   ]
  },
  {
   "cell_type": "code",
   "execution_count": null,
   "metadata": {},
   "outputs": [],
   "source": [
    "x = 'Ten'\n",
    "try:\n",
    "    print('Line 1 in TRY block')\n",
    "    y = int(x) # this will raise an exception\n",
    "    print('Line 2 in TRY block')\n",
    "except:\n",
    "    print('Line in EXCEPT block')\n",
    "print('END')"
   ]
  },
  {
   "cell_type": "markdown",
   "metadata": {},
   "source": [
    "### Multiple Except blocks"
   ]
  },
  {
   "cell_type": "markdown",
   "metadata": {},
   "source": [
    "Different errors have different types which can be checked on the *EXCEPT* blocks.\n",
    "\n",
    "**IMPORTANT:** *EXCEPT* blocks are tested in the order they are defined, so more specific error types MUST precede more general types."
   ]
  },
  {
   "cell_type": "code",
   "execution_count": null,
   "metadata": {},
   "outputs": [],
   "source": [
    "x = 'Ten'\n",
    "try:\n",
    "    print('Line 1 in TRY block')\n",
    "    y = int(x) # this will raise a ValueError\n",
    "    y = 10 / 0 # this will raise a ZeroDivisionError \n",
    "    print('Line 2 in TRY block')\n",
    "except ValueError as e:\n",
    "    print(\"ValueError was raised: \" + str(e))\n",
    "except ZeroDivisionError:\n",
    "    print(\"ZeroDivisionError was raised\")\n",
    "except:\n",
    "    print(\"Unknown error was raised.\")\n",
    "print('END')"
   ]
  },
  {
   "cell_type": "markdown",
   "metadata": {},
   "source": [
    "***"
   ]
  },
  {
   "cell_type": "markdown",
   "metadata": {},
   "source": [
    "### Finally"
   ]
  },
  {
   "cell_type": "markdown",
   "metadata": {},
   "source": [
    "The `try-except` structure can be extended with a `finally` block. The code inside this block is always evaluated:\n",
    " * Even if the *TRY* block was executed without an exception.\n",
    " * Even if an exception was raised and handled by an *EXCEPT* block. (After the *EXCEPT* block.)\n",
    " * Even if an exception was raised, but not handled by any *EXCEPT* block."
   ]
  },
  {
   "cell_type": "code",
   "execution_count": null,
   "metadata": {},
   "outputs": [],
   "source": [
    "x = 'Ten'\n",
    "try:\n",
    "    print('Line 1 in TRY block')\n",
    "    y = int(x) # this will raise a ValueError\n",
    "    y = 10 / 0 # this will raise a ZeroDivisionError \n",
    "    print('Line 2 in TRY block')\n",
    "except ValueError as e:\n",
    "    print(\"ValueError was raised: \" + str(e))\n",
    "finally:\n",
    "    print('This line always gets printed')\n",
    "print('END')"
   ]
  },
  {
   "cell_type": "markdown",
   "metadata": {},
   "source": [
    "The *finally* block can be especially when some operations must be performed in all cases; e.g. an opened file must be closed even if an error occurred during its processing."
   ]
  },
  {
   "cell_type": "markdown",
   "metadata": {},
   "source": [
    "***"
   ]
  },
  {
   "cell_type": "markdown",
   "metadata": {},
   "source": [
    "## Summary exercise on exception handling and conditions"
   ]
  },
  {
   "cell_type": "markdown",
   "metadata": {},
   "source": [
    "**Task:** Check whether a certain year is a leap year or not?\n",
    "\n",
    "According to the Gregorian calendar, every year that is exactly divisible by 4 is a leap year, except for years that are exactly divisible by 100, but these centurial years are leap years if they are exactly divisible by 400.\n",
    "\n",
    "Also make sure that the user input is a positive number."
   ]
  },
  {
   "cell_type": "code",
   "execution_count": null,
   "metadata": {
    "collapsed": false,
    "jupyter": {
     "outputs_hidden": false
    },
    "pycharm": {
     "name": "#%%\n"
    }
   },
   "outputs": [],
   "source": [
    "try:\n",
    "    year = int(input('Which year to check? '))\n",
    "\n",
    "    if year > 0:\n",
    "        if year % 4 == 0:\n",
    "            if year % 100 == 0:\n",
    "                if year % 400 == 0:\n",
    "                    print('{0} is a leap year'.format(year))\n",
    "                else:\n",
    "                    print('{0} is NOT leap year'.format(year))\n",
    "            else:\n",
    "                print('{0} is a leap year'.format(year))\n",
    "        else:\n",
    "            print('{0} is NOT leap year'.format(year))\n",
    "    else:\n",
    "        print('That was not a positive number!')\n",
    "except:\n",
    "    print('That was not an integer number!')\n"
   ]
  },
  {
   "cell_type": "markdown",
   "metadata": {
    "pycharm": {
     "name": "#%% md\n"
    }
   },
   "source": [
    "The solution can be simplified by constructing a combined condition with the logical operators `and` and `or`:"
   ]
  },
  {
   "cell_type": "code",
   "execution_count": null,
   "metadata": {
    "pycharm": {
     "name": "#%%\n"
    }
   },
   "outputs": [],
   "source": [
    "try:\n",
    "    year = int(input('Which year to check? '))\n",
    "    \n",
    "    if year > 0:\n",
    "        if year % 400 == 0 or year % 4 == 0 and year % 100 != 0:\n",
    "            print('{0} is a leap year'.format(year))\n",
    "        else:\n",
    "            print('{0} is NOT leap year'.format(year))\n",
    "    else:\n",
    "        print('That was not a positive number!') \n",
    "except:\n",
    "    print('That was not an integer number!') \n"
   ]
  }
 ],
 "metadata": {
  "colab": {
   "collapsed_sections": [
    "-6YEYHJubVru",
    "4g-AYMR7bVr2",
    "GvNyL4clbVr4",
    "GKcCNmPtbVr_",
    "_zOSmKTYbVsE",
    "T48dPtfEbVsH",
    "zRplyfIPbVsL"
   ],
   "name": "02_expressions_conditions.ipynb",
   "provenance": [],
   "version": "0.3.2"
  },
  "kernelspec": {
   "display_name": "Python 3",
   "language": "python",
   "name": "python3"
  },
  "language_info": {
   "codemirror_mode": {
    "name": "ipython",
    "version": 3
   },
   "file_extension": ".py",
   "mimetype": "text/x-python",
   "name": "python",
   "nbconvert_exporter": "python",
   "pygments_lexer": "ipython3",
   "version": "3.8.5"
  }
 },
 "nbformat": 4,
 "nbformat_minor": 4
}
