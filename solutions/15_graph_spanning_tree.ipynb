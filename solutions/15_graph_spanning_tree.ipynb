{
 "cells": [
  {
   "cell_type": "markdown",
   "metadata": {},
   "source": [
    "# Chapter 15: Graph algorithms II. - minimum spanning tree"
   ]
  },
  {
   "cell_type": "markdown",
   "metadata": {},
   "source": [
    "Read the `hungary_cities.shp` shapefile located in the `data` folder. This dataset contains both scalar and spatial data of the Hungarian cities:\n",
    " 1. City Id\n",
    " 2. City Name\n",
    " 3. County Name\n",
    " 4. Status (town, city, independent city, national capital, capital district)\n",
    " 5. KSH code (unique statistical code for the city)\n",
    "\n",
    "Source: *ELTE FI, Department of Cartography and Geoinformatics*"
   ]
  },
  {
   "cell_type": "code",
   "execution_count": null,
   "metadata": {},
   "outputs": [],
   "source": [
    "import geopandas as gpd\n",
    "\n",
    "cities = gpd.read_file('../data/hungary_cities.shp')\n",
    "display(cities)"
   ]
  },
  {
   "cell_type": "markdown",
   "metadata": {},
   "source": [
    "The correct encoding of the file should be automatcially detected. In case the the Hungarian characters are displayed incorrectly, you may specify the encoding manually:\n",
    "\n",
    "```python\n",
    "cities = gpd.read_file('../data/hungary_cities.shp', encoding='latin1')\n",
    "```"
   ]
  },
  {
   "cell_type": "markdown",
   "metadata": {},
   "source": [
    "## Visualize the *GeoDataFrame*"
   ]
  },
  {
   "cell_type": "markdown",
   "metadata": {},
   "source": [
    "Plot the location of all Hungarian cities:"
   ]
  },
  {
   "cell_type": "code",
   "execution_count": null,
   "metadata": {},
   "outputs": [],
   "source": [
    "import matplotlib.pyplot as plt\n",
    "%matplotlib inline\n",
    "\n",
    "cities.plot(figsize=[15,10], color='red', markersize=4)\n",
    "plt.show()"
   ]
  },
  {
   "cell_type": "markdown",
   "metadata": {},
   "source": [
    "Add a raster base map to it with the *contextily* package:"
   ]
  },
  {
   "cell_type": "code",
   "execution_count": null,
   "metadata": {},
   "outputs": [],
   "source": [
    "import contextily as ctx\n",
    "\n",
    "# Display the CRS\n",
    "print(cities.crs)\n",
    "\n",
    "# Set the CRS to EOV projection (EPSG:23700) if None\n",
    "if(cities.crs == None):\n",
    "    cities.set_crs('epsg:23700', inplace=True)\n",
    "\n",
    "# Display the CRS\n",
    "print(cities.crs)\n",
    "\n",
    "# Transform the GeoDataFrame to Web Mercator projection (EPSG:3857) to display correctly with the base map\n",
    "ax = cities.to_crs('epsg:3857').plot(figsize=[15,10], color='red', markersize=4)\n",
    "ax.set_axis_off()\n",
    "ctx.add_basemap(ax)\n",
    "plt.show()"
   ]
  },
  {
   "cell_type": "markdown",
   "metadata": {},
   "source": [
    "---"
   ]
  },
  {
   "cell_type": "markdown",
   "metadata": {},
   "source": [
    "## Create a minimum spanning tree"
   ]
  },
  {
   "cell_type": "markdown",
   "metadata": {},
   "source": [
    "*NetworkX* supports both the *Prim* and the *Kruskal* algorithm for building a minimum / maximum [spanning tree](https://networkx.org/documentation/stable/reference/algorithms/tree.html#module-networkx.algorithms.tree.mst), with a uniform interface. The default is *Kruskal*.\n",
    "\n",
    "```python\n",
    "nx.minimum_spanning_tree(graph, weight, algorithm)\n",
    "```"
   ]
  },
  {
   "cell_type": "markdown",
   "metadata": {},
   "source": [
    "### Example"
   ]
  },
  {
   "cell_type": "markdown",
   "metadata": {},
   "source": [
    "**Step 1:** Create an undirected graph with the towns as the nodes."
   ]
  },
  {
   "cell_type": "code",
   "execution_count": null,
   "metadata": {},
   "outputs": [],
   "source": [
    "import networkx as nx\n",
    "\n",
    "# Create empty, undirected graph\n",
    "graph = nx.Graph()\n",
    "\n",
    "for index, row in cities.iterrows():\n",
    "     graph.add_node(row['City'], \n",
    "        county = row['County'],\n",
    "        status = row['Status'],\n",
    "        ksh_code = row['KSH'],\n",
    "        location = row['geometry']\n",
    "    )\n",
    "        \n",
    "# Check results\n",
    "print(graph.nodes['Esztergom'])"
   ]
  },
  {
   "cell_type": "markdown",
   "metadata": {},
   "source": [
    "Display the location in WKT format:"
   ]
  },
  {
   "cell_type": "code",
   "execution_count": null,
   "metadata": {},
   "outputs": [],
   "source": [
    "print(graph.nodes['Esztergom']['location'].wkt)"
   ]
  },
  {
   "cell_type": "markdown",
   "metadata": {},
   "source": [
    "Fetch the *(X,Y)* coordinates form the location:"
   ]
  },
  {
   "cell_type": "code",
   "execution_count": null,
   "metadata": {},
   "outputs": [],
   "source": [
    "print(graph.nodes['Esztergom']['location'].x)\n",
    "print(graph.nodes['Esztergom']['location'].y)"
   ]
  },
  {
   "cell_type": "markdown",
   "metadata": {},
   "source": [
    "Calculate the location between 2 cities with the *Pythagoras theorem*:"
   ]
  },
  {
   "cell_type": "code",
   "execution_count": null,
   "metadata": {},
   "outputs": [],
   "source": [
    "import math\n",
    "\n",
    "def dist(loc_a, loc_b):\n",
    "    return math.sqrt(math.pow(loc_a.x - loc_b.x, 2) + \n",
    "                     math.pow(loc_a.y - loc_b.y, 2))\n",
    "    \n",
    "\n",
    "print(dist(graph.nodes['Esztergom']['location'], graph.nodes['Budapest']['location']))"
   ]
  },
  {
   "cell_type": "markdown",
   "metadata": {},
   "source": [
    "The *Point* type has a built-in `distance()` method to do that:"
   ]
  },
  {
   "cell_type": "code",
   "execution_count": null,
   "metadata": {},
   "outputs": [],
   "source": [
    "print(graph.nodes['Esztergom']['location'].distance(graph.nodes['Budapest']['location']))"
   ]
  },
  {
   "cell_type": "markdown",
   "metadata": {},
   "source": [
    "**Step 2:** Create a complete graph (add all possible edges)."
   ]
  },
  {
   "cell_type": "code",
   "execution_count": null,
   "metadata": {},
   "outputs": [],
   "source": [
    "import math\n",
    "\n",
    "for city_from in graph.nodes:\n",
    "    location_from = graph.nodes[city_from]['location']\n",
    "    for city_to in graph.nodes:\n",
    "        location_to = graph.nodes[city_to]['location']\n",
    "        if city_from < city_to: # we do not need to add all edges twice\n",
    "            # Add edge to the graph with distance as its cost\n",
    "            graph.add_edge(city_from, city_to, \n",
    "                distance = graph.nodes[city_from]['location'].distance(graph.nodes[city_to]['location']))\n",
    "\n",
    "# Check results\n",
    "print(graph['Esztergom']['Debrecen'])"
   ]
  },
  {
   "cell_type": "markdown",
   "metadata": {},
   "source": [
    "**Step 3:** Calculate the minimum spanning tree as a new graph."
   ]
  },
  {
   "cell_type": "code",
   "execution_count": null,
   "metadata": {},
   "outputs": [],
   "source": [
    "print('Number of nodes in original graph: {0}'.format(graph.order()))\n",
    "print('Number of edges in original graph: {0}'.format(graph.size()))\n",
    "\n",
    "spanning_tree = nx.minimum_spanning_tree(graph, weight = 'distance')\n",
    "\n",
    "print('Number of nodes in spanning tree: {0}'.format(spanning_tree.order()))\n",
    "print('Number of edges in spanning tree: {0}'.format(spanning_tree.size()))"
   ]
  },
  {
   "cell_type": "markdown",
   "metadata": {},
   "source": [
    "**Step 4:** Visualize results."
   ]
  },
  {
   "cell_type": "code",
   "execution_count": null,
   "metadata": {},
   "outputs": [],
   "source": [
    "# Start new plot figure\n",
    "plt.figure(figsize=[15,10])\n",
    "\n",
    "# Plot all edges as black lines in the MST\n",
    "for edge in spanning_tree.edges:\n",
    "    city_from = edge[0]\n",
    "    city_to   = edge[1]\n",
    "\n",
    "    location_from = spanning_tree.nodes[city_from]['location']\n",
    "    location_to   = spanning_tree.nodes[city_to]['location']\n",
    "    plt.plot([location_from.x, location_to.x], [location_from.y, location_to.y], color='black')\n",
    "\n",
    "# Plot all cities as red dots\n",
    "for city in spanning_tree.nodes:\n",
    "    location = spanning_tree.nodes[city]['location']\n",
    "    plt.plot(location.x, location.y, color='red', marker='o', markersize=2)\n",
    "\n",
    "# Display plot\n",
    "plt.show()"
   ]
  },
  {
   "cell_type": "markdown",
   "metadata": {},
   "source": [
    "Alternative approach: use NetworkX to draw the plot."
   ]
  },
  {
   "cell_type": "code",
   "execution_count": null,
   "metadata": {},
   "outputs": [],
   "source": [
    "# Add all city coordinates a tuples to the nodes of the graph.\n",
    "for node in spanning_tree.nodes:\n",
    "    spanning_tree.nodes[node]['coords'] = spanning_tree.nodes[node]['location'].coords[0]\n",
    "\n",
    "# Visualize the spanning tree, using the positions in the coords field.\n",
    "plt.figure(figsize=[15,10])\n",
    "nx.draw_networkx(spanning_tree, nx.get_node_attributes(spanning_tree, 'coords'), with_labels=False, node_size=0)\n",
    "plt.show()"
   ]
  }
 ],
 "metadata": {
  "kernelspec": {
   "display_name": "Python 3",
   "language": "python",
   "name": "python3"
  },
  "language_info": {
   "codemirror_mode": {
    "name": "ipython",
    "version": 3
   },
   "file_extension": ".py",
   "mimetype": "text/x-python",
   "name": "python",
   "nbconvert_exporter": "python",
   "pygments_lexer": "ipython3",
   "version": "3.8.5"
  }
 },
 "nbformat": 4,
 "nbformat_minor": 4
}