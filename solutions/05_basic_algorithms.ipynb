{
 "cells": [
  {
   "cell_type": "markdown",
   "metadata": {},
   "source": [
    "# Chapter 5: Basic algorithms"
   ]
  },
  {
   "cell_type": "markdown",
   "metadata": {},
   "source": [
    "Initialize a list of random numbers to work with in the following exercises. Generate 10 numbers between 1 and 100:"
   ]
  },
  {
   "cell_type": "code",
   "execution_count": null,
   "metadata": {},
   "outputs": [],
   "source": [
    "import random\n",
    "\n",
    "random.seed(42) # to reproduce the same results\n",
    "data = []\n",
    "for i in range(10):\n",
    "    data.append(random.randint(1, 100))\n",
    "print(data)"
   ]
  },
  {
   "cell_type": "markdown",
   "metadata": {},
   "source": [
    "Same with using Python's list generator expressions:"
   ]
  },
  {
   "cell_type": "code",
   "execution_count": null,
   "metadata": {},
   "outputs": [],
   "source": [
    "random.seed(42) # to reproduce the same results\n",
    "data = [random.randint(1, 100) for i in range(10)]\n",
    "print(data)"
   ]
  },
  {
   "cell_type": "markdown",
   "metadata": {},
   "source": [
    "*Help:* given a list of numbers in variable `numbers`, produce the `halves` list, which contains each number divided by 2: "
   ]
  },
  {
   "cell_type": "code",
   "execution_count": null,
   "metadata": {},
   "outputs": [],
   "source": [
    "numbers = [10, 20, 30, 40, 50]\n",
    "print(numbers)\n",
    "\n",
    "# iteration\n",
    "halves = []\n",
    "for x in numbers:\n",
    "    halves.append(x / 2)\n",
    "print(halves)\n",
    "\n",
    "# list generation\n",
    "halves = [x / 2 for x in numbers]\n",
    "print(halves)"
   ]
  },
  {
   "cell_type": "markdown",
   "metadata": {},
   "source": [
    "---"
   ]
  },
  {
   "cell_type": "markdown",
   "metadata": {},
   "source": [
    "## Summation"
   ]
  },
  {
   "cell_type": "markdown",
   "metadata": {},
   "source": [
    "Let $f: [m..n] \\rightarrow H$ be a function. Let the addition operator $+$ be defined over the elements of $H$, which is an associative operation with a left identity element $0$. Our task is to summarize the values of $f$ function over the interval.\n",
    "Formally:\n",
    "$$s = \\sum_{i=m}^{n} f(i)$$"
   ]
  },
  {
   "cell_type": "markdown",
   "metadata": {},
   "source": [
    "### Theoretical way"
   ]
  },
  {
   "cell_type": "code",
   "execution_count": null,
   "metadata": {},
   "outputs": [],
   "source": [
    "result = 0\n",
    "for i in range(0, len(data)):\n",
    "    result += data[i]\n",
    "print(\"Sum: {0}\".format(result))"
   ]
  },
  {
   "cell_type": "markdown",
   "metadata": {},
   "source": [
    "### Pythonic way"
   ]
  },
  {
   "cell_type": "code",
   "execution_count": null,
   "metadata": {},
   "outputs": [],
   "source": [
    "result = 0\n",
    "for value in data:\n",
    "    result += value\n",
    "print(\"Sum: {0}\".format(result))"
   ]
  },
  {
   "cell_type": "markdown",
   "metadata": {},
   "source": [
    "### Built-in function"
   ]
  },
  {
   "cell_type": "code",
   "execution_count": null,
   "metadata": {},
   "outputs": [],
   "source": [
    "result = sum(data)\n",
    "print(\"Sum: {0}\".format(result))"
   ]
  },
  {
   "cell_type": "markdown",
   "metadata": {},
   "source": [
    "---"
   ]
  },
  {
   "cell_type": "markdown",
   "metadata": {},
   "source": [
    "## Counting"
   ]
  },
  {
   "cell_type": "markdown",
   "metadata": {},
   "source": [
    "Given the $[m..n]$ interval, count the number of items inside it.\n",
    "Formally:\n",
    "$$s = \\sum_{\\substack{i=m}}^{n} 1$$"
   ]
  },
  {
   "cell_type": "markdown",
   "metadata": {},
   "source": [
    "### Theoretical way"
   ]
  },
  {
   "cell_type": "code",
   "execution_count": null,
   "metadata": {},
   "outputs": [],
   "source": [
    "result = 0\n",
    "for i in range(0, len(data)):\n",
    "    result += 1\n",
    "print(\"Count: {0}\".format(result))"
   ]
  },
  {
   "cell_type": "markdown",
   "metadata": {},
   "source": [
    "### Pythonic way"
   ]
  },
  {
   "cell_type": "code",
   "execution_count": null,
   "metadata": {},
   "outputs": [],
   "source": [
    "result = sum([1 for _ in data])\n",
    "print(\"Count: {0}\".format(result))"
   ]
  },
  {
   "cell_type": "markdown",
   "metadata": {},
   "source": [
    "*Remark:* a single underscore (`_`) is a valid variable name. We usually name a variable like this to emphasize that this variable will not be used later."
   ]
  },
  {
   "cell_type": "markdown",
   "metadata": {},
   "source": [
    "### Built-in function"
   ]
  },
  {
   "cell_type": "code",
   "execution_count": null,
   "metadata": {},
   "outputs": [],
   "source": [
    "result = len(data)\n",
    "print(\"Count: {0}\".format(result))"
   ]
  },
  {
   "cell_type": "markdown",
   "metadata": {},
   "source": [
    "---"
   ]
  },
  {
   "cell_type": "markdown",
   "metadata": {},
   "source": [
    "## Maximum search"
   ]
  },
  {
   "cell_type": "markdown",
   "metadata": {},
   "source": [
    "Let $f: [m..n] \\rightarrow H$ be a function, $m \\le n$. Over the elements of $H$ let a total ordering relation be defined (reflexivity, antisymmetry, transitivity and connexity), with a symbol $\\le$, for the strict version $<$.\n",
    "Our task is to determine the greatest value in the interval. Also determine an element of the interval, where function $f$ evaluates to this greatest value.\n",
    "Formally:\n",
    "$$max = f(ind) \\wedge \\forall i \\in [m..n]: f(i) \\le f(ind)$$"
   ]
  },
  {
   "cell_type": "markdown",
   "metadata": {},
   "source": [
    "### Theoretical way"
   ]
  },
  {
   "cell_type": "code",
   "execution_count": null,
   "metadata": {},
   "outputs": [],
   "source": [
    "result = data[0]\n",
    "index = 0\n",
    "for i in range(1, len(data)): # we don't need to compare the 0th element\n",
    "    if data[i] > result:\n",
    "        result = data[i]\n",
    "        index = i\n",
    "print(\"Max: {0}, Index: {1}\".format(result, index))"
   ]
  },
  {
   "cell_type": "markdown",
   "metadata": {},
   "source": [
    "### Pythonic way"
   ]
  },
  {
   "cell_type": "code",
   "execution_count": null,
   "metadata": {},
   "outputs": [],
   "source": [
    "result = data[0]\n",
    "index = 0\n",
    "for idx, value in enumerate(data):\n",
    "    if value > result:\n",
    "        result = value\n",
    "        index = idx\n",
    "print(\"Max: {0}, Index: {1}\".format(result, index))"
   ]
  },
  {
   "cell_type": "markdown",
   "metadata": {},
   "source": [
    "Little optimization to skip the $0^{th}$ element:"
   ]
  },
  {
   "cell_type": "code",
   "execution_count": null,
   "metadata": {},
   "outputs": [],
   "source": [
    "result = data[0]\n",
    "index = 0\n",
    "for idx, value in enumerate(data[1:], start = 1):\n",
    "    if value > result:\n",
    "        result = value\n",
    "        index = idx\n",
    "print(\"Max: {0}, Index: {1}\".format(result, index))"
   ]
  },
  {
   "cell_type": "markdown",
   "metadata": {},
   "source": [
    "### Built-in function"
   ]
  },
  {
   "cell_type": "code",
   "execution_count": null,
   "metadata": {},
   "outputs": [],
   "source": [
    "result = max(data)\n",
    "print(\"Max: {0}\".format(result))"
   ]
  },
  {
   "cell_type": "markdown",
   "metadata": {},
   "source": [
    "If the index of the element is also needed:"
   ]
  },
  {
   "cell_type": "code",
   "execution_count": null,
   "metadata": {},
   "outputs": [],
   "source": [
    "result = max(data)\n",
    "index = data.index(result)\n",
    "print(\"Max: {0}, Index: {1}\".format(result, index))"
   ]
  },
  {
   "cell_type": "markdown",
   "metadata": {},
   "source": [
    "*Note:* this will iterate over the list twice, hence the computational cost is also doubled."
   ]
  },
  {
   "cell_type": "markdown",
   "metadata": {},
   "source": [
    "---"
   ]
  },
  {
   "cell_type": "markdown",
   "metadata": {},
   "source": [
    "## Linear search"
   ]
  },
  {
   "cell_type": "markdown",
   "metadata": {},
   "source": [
    "Let $\\beta: [m..n] \\rightarrow \\mathbb{L}$ condition be defined. Determine the first element of the interval which fulfills the condition (if any).\n",
    "Formally:\n",
    "\\begin{equation*}\n",
    "\t\\begin{aligned}\n",
    "\t\tl = (\\exists i \\in [m..n]:\\beta(i)) \\\\\n",
    "\t\tl \\rightarrow (ind \\in [m..n] \\wedge \\beta(ind) \\wedge \\forall i \\in [m..ind-1]: \\neg\\beta(i))\n",
    "\t\\end{aligned}\n",
    "\\end{equation*}"
   ]
  },
  {
   "cell_type": "markdown",
   "metadata": {},
   "source": [
    "#### Beta condition"
   ]
  },
  {
   "cell_type": "markdown",
   "metadata": {},
   "source": [
    "Introduce an `is_odd` function which determines whether a number is odd or not:"
   ]
  },
  {
   "cell_type": "code",
   "execution_count": null,
   "metadata": {},
   "outputs": [],
   "source": [
    "def is_odd(number):\n",
    "    return number % 2 != 0"
   ]
  },
  {
   "cell_type": "markdown",
   "metadata": {},
   "source": [
    "### Theoretical way"
   ]
  },
  {
   "cell_type": "code",
   "execution_count": null,
   "metadata": {},
   "outputs": [],
   "source": [
    "result = 0\n",
    "index = 0\n",
    "found = False\n",
    "i = 0\n",
    "while not found and i < len(data):\n",
    "    if is_odd(data[i]):\n",
    "        result = data[i]\n",
    "        index = i\n",
    "        found = True\n",
    "    i += 1\n",
    "if found:\n",
    "    print(\"Linear search: {0}, Index: {1}\".format(result, index))\n",
    "else:\n",
    "    print(\"Linear search did not found an appropriate item\")"
   ]
  },
  {
   "cell_type": "markdown",
   "metadata": {},
   "source": [
    "### Pythonic way"
   ]
  },
  {
   "cell_type": "code",
   "execution_count": null,
   "metadata": {},
   "outputs": [],
   "source": [
    "result = [x for x in data if is_odd(x)]\n",
    "if len(result) > 0:\n",
    "    print(\"Linear search: {0}\".format(result))\n",
    "else:\n",
    "    print(\"Linear search did not found an appropriate item\")"
   ]
  },
  {
   "cell_type": "markdown",
   "metadata": {},
   "source": [
    "### Built-in function"
   ]
  },
  {
   "cell_type": "code",
   "execution_count": null,
   "metadata": {},
   "outputs": [],
   "source": [
    "result = filter(is_odd, data)\n",
    "print(\"Linear search: {0}\".format(list(result)))"
   ]
  },
  {
   "cell_type": "markdown",
   "metadata": {},
   "source": [
    "Here `result` is a special filter object which can be either converted to a list to get all results (as above) or dynamically evaluated and step to the next result with the `next()` function:"
   ]
  },
  {
   "cell_type": "code",
   "execution_count": null,
   "metadata": {},
   "outputs": [],
   "source": [
    "result = filter(is_odd, data)\n",
    "print(\"Linear search: {0}\".format(next(result, None))) # None is the default value to use if no number was odd."
   ]
  },
  {
   "cell_type": "markdown",
   "metadata": {},
   "source": [
    "---"
   ]
  },
  {
   "cell_type": "markdown",
   "metadata": {},
   "source": [
    "## Conditional summation"
   ]
  },
  {
   "cell_type": "markdown",
   "metadata": {},
   "source": [
    "The algorithm of summation can be further generalized when a $\\beta: [m..n] \\rightarrow \\mathbb{L}$ condition is defined to restrict the set of elements.\n",
    "\n",
    "Let $f: [m..n] \\rightarrow H$ be a function and $\\beta: [m..n] \\rightarrow \\mathbb{L}$ a condition. Let the addition operator $+$ be defined over the elements of $H$, which is an associative operation with a left identity element $0$. Our task is to summarize the values of $f$ function over the interval where the $\\beta$ condition is fulfilled.\n",
    "Formally:\n",
    "$$s = \\sum_{\\substack{i=m\\\\ \\beta(i)}}^{n} f(i)$$"
   ]
  },
  {
   "cell_type": "markdown",
   "metadata": {},
   "source": [
    "### Theoretical way"
   ]
  },
  {
   "cell_type": "code",
   "execution_count": null,
   "metadata": {},
   "outputs": [],
   "source": [
    "result = 0\n",
    "for i in range(0, len(data)):\n",
    "    if is_odd(data[i]):\n",
    "        result += data[i]\n",
    "print(\"Sum: {0}\".format(result))"
   ]
  },
  {
   "cell_type": "markdown",
   "metadata": {},
   "source": [
    "### Pythonic way"
   ]
  },
  {
   "cell_type": "code",
   "execution_count": null,
   "metadata": {},
   "outputs": [],
   "source": [
    "result = 0\n",
    "for value in data:\n",
    "    if is_odd(value):\n",
    "        result += value\n",
    "print(\"Sum: {0}\".format(result))"
   ]
  },
  {
   "cell_type": "markdown",
   "metadata": {},
   "source": [
    "### Built-in function"
   ]
  },
  {
   "cell_type": "code",
   "execution_count": null,
   "metadata": {},
   "outputs": [],
   "source": [
    "result = sum(filter(is_odd, data))\n",
    "print(\"Sum: {0}\".format(result))"
   ]
  },
  {
   "cell_type": "markdown",
   "metadata": {},
   "source": [
    "---"
   ]
  },
  {
   "cell_type": "markdown",
   "metadata": {},
   "source": [
    "## Conditional counting"
   ]
  },
  {
   "cell_type": "markdown",
   "metadata": {},
   "source": [
    "Let $\\beta: [m..n] \\rightarrow \\mathbb{L}$ be a condition. Count how many items of the interval fulfills the condition!\n",
    "Formally:\n",
    "$$s = \\sum_{\\substack{i=m\\\\ \\beta(i)}}^{n} 1$$"
   ]
  },
  {
   "cell_type": "markdown",
   "metadata": {},
   "source": [
    "### Theoretical way"
   ]
  },
  {
   "cell_type": "code",
   "execution_count": null,
   "metadata": {},
   "outputs": [],
   "source": [
    "result = 0\n",
    "for i in range(0, len(data)):\n",
    "    if is_odd(data[i]):\n",
    "        result += 1\n",
    "print(\"Count: {0}\".format(result))"
   ]
  },
  {
   "cell_type": "markdown",
   "metadata": {},
   "source": [
    "### Pythonic way"
   ]
  },
  {
   "cell_type": "code",
   "execution_count": null,
   "metadata": {},
   "outputs": [],
   "source": [
    "result = sum([1 for x in data if is_odd(x)])\n",
    "print(\"Count: {0}\".format(result))"
   ]
  },
  {
   "cell_type": "markdown",
   "metadata": {},
   "source": [
    "### Built-in function"
   ]
  },
  {
   "cell_type": "code",
   "execution_count": null,
   "metadata": {},
   "outputs": [],
   "source": [
    "result = len(list(filter(is_odd, data)))\n",
    "print(\"Count: {0}\".format(result))"
   ]
  },
  {
   "cell_type": "markdown",
   "metadata": {},
   "source": [
    "---"
   ]
  },
  {
   "cell_type": "markdown",
   "metadata": {},
   "source": [
    "## Conditional maximum search"
   ]
  },
  {
   "cell_type": "markdown",
   "metadata": {},
   "source": [
    "The algorithm of maximum search can be further generalized with combining the $\\beta: [m..n] \\rightarrow \\mathbb{L}$ condition used in *linear search* as a restriction. Note that now the existence of a maximum value is not guaranteed.\n",
    "\n",
    "Let $f: [m..n] \\rightarrow H$ be a function and $\\beta: [m..n] \\rightarrow \\mathbb{L}$ a condition. Over the elements of $H$ let a total ordering relation be defined (reflexivity, antisymmetry, transitivity and connexity), with a symbol $\\le$, for the strict version $<$.\n",
    "Our task is to determine the greatest value in the interval which fulfills the $\\beta$ condition. Also determine an element of the interval, where function $f$ evaluates to this greatest value.\n",
    "Formally:\n",
    "\\begin{equation*}\n",
    "\t\\begin{aligned}\n",
    "\t\tl = (\\exists i \\in [m..n]:\\beta(i)) \\\\\n",
    "\t\tl \\rightarrow (\\beta(ind) \\wedge max = f(ind) \\wedge \\forall i \\in [m..n]: \\beta(i) \\rightarrow f(i) \\le f(ind))\n",
    "\t\\end{aligned}\n",
    "\\end{equation*}"
   ]
  },
  {
   "cell_type": "markdown",
   "metadata": {},
   "source": [
    "### Theoretical way"
   ]
  },
  {
   "cell_type": "code",
   "execution_count": null,
   "metadata": {},
   "outputs": [],
   "source": [
    "found = False\n",
    "result = 0\n",
    "index = 0\n",
    "for i in range(0, len(data)):\n",
    "    if is_odd(data[i]) and (not found or data[i] > result):\n",
    "        found = True\n",
    "        result = data[i]\n",
    "        index = i\n",
    "print(\"Max: {0}, Index: {1}\".format(result, index))"
   ]
  },
  {
   "cell_type": "markdown",
   "metadata": {},
   "source": [
    "The `found` variable can be omitted if initialize the `result` variable with the special `None` value and compare to that:"
   ]
  },
  {
   "cell_type": "code",
   "execution_count": null,
   "metadata": {},
   "outputs": [],
   "source": [
    "result = None\n",
    "index = -1\n",
    "for i in range(0, len(data)):\n",
    "    if is_odd(data[i]) and (result == None or data[i] > result):\n",
    "        result = data[i]\n",
    "        index = i\n",
    "print(\"Max: {0}, Index: {1}\".format(result, index))"
   ]
  },
  {
   "cell_type": "markdown",
   "metadata": {},
   "source": [
    "### Pythonic way"
   ]
  },
  {
   "cell_type": "code",
   "execution_count": null,
   "metadata": {},
   "outputs": [],
   "source": [
    "result = None\n",
    "index = -1\n",
    "for idx, value in enumerate(data):\n",
    "    if is_odd(value) and (result == None or value > result):\n",
    "        result = value\n",
    "        index = idx\n",
    "print(\"Max: {0}, Index: {1}\".format(result, index))"
   ]
  },
  {
   "cell_type": "markdown",
   "metadata": {},
   "source": [
    "### Built-in function"
   ]
  },
  {
   "cell_type": "code",
   "execution_count": null,
   "metadata": {},
   "outputs": [],
   "source": [
    "result = max(filter(is_odd, data))\n",
    "print(\"Max: {0}\".format(result))"
   ]
  },
  {
   "cell_type": "markdown",
   "metadata": {},
   "source": [
    "---"
   ]
  },
  {
   "cell_type": "markdown",
   "metadata": {},
   "source": [
    "## Exercise"
   ]
  },
  {
   "cell_type": "markdown",
   "metadata": {},
   "source": [
    "**Task:** the name, area and population data for the neighbouring countries are given in the `countries`, `areas` and `popultions` lists below. Calculate the population density for each neighbouring country and display it. Determine which country has the highest population density."
   ]
  },
  {
   "cell_type": "code",
   "execution_count": null,
   "metadata": {},
   "outputs": [],
   "source": [
    "countries = ['Austria', 'Slovakia', 'Ukraine', 'Romania', 'Serbia', 'Croatia', 'Slovenia']\n",
    "areas = [83871, 49037, 603500, 238397, 88361, 56594, 20273]\n",
    "populations = [8877036, 5450017, 42010063, 19405156, 6963764, 4130304, 2084301]"
   ]
  },
  {
   "cell_type": "code",
   "execution_count": null,
   "metadata": {},
   "outputs": [],
   "source": [
    "densities = []\n",
    "for i in range(len(countries)):\n",
    "    densities.append(populations[i] / areas[i])\n",
    "    print('{0}: {1:.2f} persons/km2'.format(countries[i], densities[i]))"
   ]
  },
  {
   "cell_type": "code",
   "execution_count": null,
   "metadata": {},
   "outputs": [],
   "source": [
    "result = max(densities)\n",
    "index = densities.index(result)\n",
    "print(\"Max: {0}, Index: {1}, Country: {2}\".format(result, index, countries[index]))"
   ]
  },
  {
   "cell_type": "markdown",
   "metadata": {},
   "source": [
    "---"
   ]
  },
  {
   "cell_type": "markdown",
   "metadata": {},
   "source": [
    "## Logarithmic search (optional)"
   ]
  },
  {
   "cell_type": "markdown",
   "metadata": {},
   "source": [
    "*Also called binary search.*"
   ]
  },
  {
   "cell_type": "markdown",
   "metadata": {},
   "source": [
    "Let $f: [m..n] \\rightarrow H$ be a *monotonically increasing* function. Over the elements of $H$ let a total ordering relation be defined (reflexivity, antisymmetry, transitivity and connexity), with a symbol $\\le$, for the strict version $<$.\n",
    "Determine whether function $f$ evaluates to a given value $h \\in H$ at any location. If yes, specify such a location.\n",
    "Formally:\n",
    "$$l = (\\exists i \\in [m..n]: f(i) = h) \\wedge l \\rightarrow f(ind) = h$$"
   ]
  },
  {
   "cell_type": "code",
   "execution_count": null,
   "metadata": {},
   "outputs": [],
   "source": [
    "def log_search(elements, value):\n",
    "    first = 0\n",
    "    last = len(elements) - 1\n",
    "    while first <= last:\n",
    "        i = (first + last) // 2\n",
    "        if elements[i] == value:\n",
    "            return i\n",
    "        elif elements[i] < value:\n",
    "            first = i + 1\n",
    "        else:\n",
    "            last = i - 1\n",
    "    return -1\n",
    "\n",
    "data_sorted = sorted(data)\n",
    "print(\"Sorted data: {0}\".format(data_sorted))\n",
    "\n",
    "index = log_search(data_sorted, data[0])\n",
    "print(\"Logarithmic search: value={0}, index={1}\".format(data[0], index))"
   ]
  }
 ],
 "metadata": {
  "kernelspec": {
   "display_name": "Python 3",
   "language": "python",
   "name": "python3"
  },
  "language_info": {
   "codemirror_mode": {
    "name": "ipython",
    "version": 3
   },
   "file_extension": ".py",
   "mimetype": "text/x-python",
   "name": "python",
   "nbconvert_exporter": "python",
   "pygments_lexer": "ipython3",
   "version": "3.8.5"
  }
 },
 "nbformat": 4,
 "nbformat_minor": 4
}
