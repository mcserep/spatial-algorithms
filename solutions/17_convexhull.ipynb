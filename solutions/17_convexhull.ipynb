{
 "cells": [
  {
   "cell_type": "markdown",
   "metadata": {},
   "source": [
    "# Chapter 17: Geometric algorithms - Convex Hull\n",
    "\n",
    "The convex hull of a set of points, is the smallest convex polygon for which each point in the set is either on the boundary of the polygon or in its interior.\n",
    "\n",
    "We can visualize what the convex hull looks like by imagining that the points are nails sticking out of the plane.\n",
    "Take an elastic rubber band, stretch it around the nails and let it go.\n",
    "It will snap around the nails and assume a shape that minimizes its length.\n",
    "The area enclosed by the rubber band is called the convex hull of the points.\n",
    "This leads to an alternative definition of the convex hull of a finite set of points in the plane: it is the unique convex polygon whose vertices are points from and which contains all points.\n",
    "\n",
    "![Convex hull](../images/17_convexhull.gif \"Source: Université de Montréal\")"
   ]
  },
  {
   "cell_type": "markdown",
   "metadata": {},
   "source": [
    "---"
   ]
  },
  {
   "cell_type": "markdown",
   "metadata": {},
   "source": [
    "## Jarvis's march\n",
    "\n",
    "*Jarvis’s march* computes the convex hull of a set Q of points by a technique also known as the *gift wrapping algorithm*.\n",
    "The algorithm was named after R. A. Jarvis, who published it in 1973.\n",
    "\n",
    "The algorithm simulates wrapping a piece of paper around the set of points.\n",
    "We start by taping the end of the paper to the lowest point in the set, that is, the point with the lowest Y-coordinate, picking the leftmost such point in case of a tie.\n",
    "We know that this point must be a vertex of the convex hull.\n",
    "We pull the paper to the right to make it wrapping \"tight\"\n",
    "and then we pull it higher until it touches a point.\n",
    "This point must also be a vertex of the convex hull.\n",
    "Keeping the paper \"tight\", we continue in this way around the set of vertices until we come back to our original starting point.\n",
    "\n",
    "![Jarvis march](../images/17_jarvis_march.gif \"Source: Wikipedia\")\n",
    "\n",
    "The algoirhtm has an $O(n * h)$ asymptotic complexity, where $n$ is the number of points and $h$ is the number of points on the convex hull."
   ]
  },
  {
   "cell_type": "markdown",
   "metadata": {},
   "source": [
    "### Orientation\n",
    "\n",
    "Given line *(A, B)* and point *M*, check whether M is left or right from the line, \n",
    "more precisely  whether *A -> B -> M* is a closckwise or counter-clockwise turn?\n",
    "\n",
    "$$det := (Bx - Ax) * (My - Ay) - (By - Ay) * (Mx - Ax)$$\n",
    "\n",
    "- if $det >  0$: counter-clockwise\n",
    "- if $det <  0$: clockwise\n",
    "- if $det = 0$: collinear"
   ]
  },
  {
   "cell_type": "markdown",
   "metadata": {},
   "source": [
    "---"
   ]
  },
  {
   "cell_type": "markdown",
   "metadata": {},
   "source": [
    "## Graham's scan\n",
    "\n",
    "Graham’s scan solves the convex-hull problem by maintaining a stack of candidate points.\n",
    "It pushes each point of the input set onto the stack one time, and it eventually pops from the stack each point that is not a vertex of the convex hull.\n",
    "When the algorithm terminates, the stack contains exactly the vertices of the convex hull, in counter-clockwise order of their appearance on the boundary.\n",
    "The algorithm is named after Ronald Graham, who published the original version in 1972.\n",
    "\n",
    "The algorithm consists of 3 steps:\n",
    " 1. Find the point with the lowest Y-coordinate, picking the leftmost such point in case of a tie.\n",
    "Call this point $P$.\n",
    " 2. The set of points must be sorted in increasing order of the angle they and the point $P$ make with the X-axis. (Sorting algorithm were discussed in [Chapter 6](06_sorting.ipynb).)\n",
    " 3. Initiate an empty stack. Then consider each points in the sorted list in sequence iteratively. For each point, it is first determined whether traveling from the two points immediately preceding this point constitutes making a left turn or a right turn in orientation.\n",
    "    - If a left turn, push the point onto the stack.\n",
    "    - If a right turn, the second-to-last point is not part of the convex hull (lies inside it), and is therefore removed from the stack. The same determination is then made for the set of the latest point, and the two points that immediately precede the point found to have been inside the hull, and is repeated until a left turn set is encountered, at which point the algorithm moves on to the next point in the set of points in the sorted list.\n",
    "\n",
    "![Graham's scan](../images/17_graham_scan.gif \"Source: Wikipedia\")\n",
    "\n",
    "The algorithm has an $O(n * log(n)$ asymptotic complexity. Thus, this algorithm is not *output-sensitive* (compare to Jarvis's march)."
   ]
  },
  {
   "cell_type": "markdown",
   "metadata": {},
   "source": [
    "---"
   ]
  },
  {
   "cell_type": "markdown",
   "metadata": {},
   "source": [
    "## Quickhull\n",
    "\n",
    "The *Quickhull* method uses the *divide and conquer* approach similar to that of [Quicksort](06_sorting.ipynb#Quicksort), from which its name derives.\n",
    "The original algorithm was described by Scott Greenfield in 1990. The algorithm was later extended to work in n-dimensional space.\n",
    "\n",
    "The algorithm contains the following steps:\n",
    " 1. Find the points with minimum and maximum X-coordinates, as these will always be part of the convex hull. If case of a tie, pick the ones with minimum/maximum Y-coordinates correspondingly.\n",
    " 2. Use the line formed by these two points to divide the set in two subsets of points, which will be processed recursively (*\"divide and conquer\"*).\n",
    " 3. For both sides, determine the point with the maximum distance from the line. This point forms a triangle with those of the line. The points lying inside of that triangle cannot be part of the convex hull and can therefore be ignored in the next steps.\n",
    " 4. Repeat the previous step on the two lines formed by the triangle.\n",
    " 5. Continue the recursion until no more points are left. In the end, all points selected constitute the convex hull.\n",
    "\n",
    "![Quickhull](../images/17_quickhull.gif \"Source: Wikipedia\")\n",
    "\n",
    "The asymptotic complexity of the algorithm is $O(n * log(r))$, where $r$ is the number of processed points."
   ]
  },
  {
   "cell_type": "markdown",
   "metadata": {},
   "source": [
    "---"
   ]
  },
  {
   "cell_type": "markdown",
   "metadata": {},
   "source": [
    "## Chan's algorithm\n",
    "\n",
    "Chan's algorithm is an optimal *output-sensitive algorithm* to compute the convex hull. It was named after Timothy M. Chan, who published the algorithm in 1996.\n",
    "\n",
    "The algorithm combines Graham's scan (or other algorithm with $O(n * log(n))$ complexity) with Jarvis's march ($O(n*h)$), in order to obtain an optimal $O(n * log(h))$ complexity, where $n$ is the number of points and $h$ is the number of vertices of the output (the convex hull).\n",
    "\n",
    "![Chan's algorithm](../images/17_chan_algorithm.gif \"Source: Wikipedia\")"
   ]
  },
  {
   "cell_type": "markdown",
   "metadata": {},
   "source": [
    "---"
   ]
  },
  {
   "cell_type": "markdown",
   "metadata": {},
   "source": [
    "## QuickHull with *Shapely*"
   ]
  },
  {
   "cell_type": "markdown",
   "metadata": {},
   "source": [
    "Read the `hungary_cities.shp` shapefile located in the `data` folder.\n",
    "This dataset contains both scalar and spatial data of the Hungarian cities, and should be familiar from [Chapter 15](15_graph_spanning_tree.ipynb)."
   ]
  },
  {
   "cell_type": "code",
   "execution_count": null,
   "metadata": {},
   "outputs": [],
   "source": [
    "import geopandas as gpd\n",
    "from scipy.spatial import ConvexHull\n",
    "\n",
    "cities_gdf = gpd.read_file('../data/hungary_cities.shp')\n",
    "display(cities_gdf)"
   ]
  },
  {
   "cell_type": "markdown",
   "metadata": {},
   "source": [
    "Shapely can compute the convex hull of any geometry through the `convex_hull` attribute.\n",
    "\n",
    "The `geometry` column of the GeoDataFrame contains Shapely points (see [Chapter 11](11_spatial_vector.ipynb)), but we need to create a *MultiPoint* of all cities to calculate their aggregated concex hull."
   ]
  },
  {
   "cell_type": "code",
   "execution_count": null,
   "metadata": {},
   "outputs": [],
   "source": [
    "from shapely import geometry\n",
    "\n",
    "multipoint = geometry.MultiPoint(cities_gdf.geometry)\n",
    "hull = multipoint.convex_hull\n",
    "print(hull)"
   ]
  },
  {
   "cell_type": "markdown",
   "metadata": {},
   "source": [
    "Plot figure:"
   ]
  },
  {
   "cell_type": "code",
   "execution_count": null,
   "metadata": {},
   "outputs": [],
   "source": [
    "import matplotlib.pyplot as plt\n",
    "%matplotlib inline\n",
    "\n",
    "plt.figure(figsize=[15, 10])\n",
    "\n",
    "# Add all points to plot\n",
    "for point in cities_gdf.geometry:\n",
    "    plt.plot(point.x, point.y, color='black', marker='o', markersize=1)\n",
    "\n",
    "# Fetch the list of X and Y coordinates of the convex hull\n",
    "line_x, line_y = hull.exterior.xy\n",
    "# Plot linestring\n",
    "plt.plot(line_x, line_y, color='red')\n",
    "  \n",
    "# Display plot\n",
    "plt.show()"
   ]
  },
  {
   "cell_type": "markdown",
   "metadata": {},
   "source": [
    "---"
   ]
  },
  {
   "cell_type": "markdown",
   "metadata": {},
   "source": [
    "## Quickhull with *SciPy* (*optional*)\n",
    "\n",
    "As an alternative approach, we can use *SciPy* to cimpute the convex hull.\n",
    "\n",
    "*SciPy* (pronounced \"Sigh Pie\") is library used for scientific computing and technical computing for mathematics, science, and engineering. \n",
    "*SciPy* is built on top of *NumPy*, *Matplotlib* and *Pandas* and are tightly integrated with them. It is one of the most widely used Python package in the scientific community.\n",
    "\n",
    "### How to install *SciPy*?\n",
    "\n",
    "If you have Anaconda installed, then `scipy` was already installed together with it.\n",
    "\n",
    "If you have a standalone Python3 and Jupyter Notebook installation, open a command prompt / terminal and type in:\n",
    "```\n",
    "pip3 install scipy\n",
    "```\n",
    "\n",
    "### How to use *SciPy*?\n",
    "\n",
    "*SciPy* consists of sub-packages for various scientific areas. For us the `spatial` package is in focus, which contains spatial algorithms, like the *QuickHull* or the *KdTree* (see [Chapter 16](16_spatial_indexing.ipynb)).\n",
    "\n",
    "```python\n",
    "import scipy.spatial\n",
    "```"
   ]
  },
  {
   "cell_type": "markdown",
   "metadata": {},
   "source": [
    "---"
   ]
  },
  {
   "cell_type": "markdown",
   "metadata": {},
   "source": [
    "Fetch points for cities:"
   ]
  },
  {
   "cell_type": "code",
   "execution_count": null,
   "metadata": {},
   "outputs": [],
   "source": [
    "points = [(geom.x, geom.y) for geom in cities_gdf.geometry]\n",
    "print(\"Number of points: {0}\".format(len(points)))"
   ]
  },
  {
   "cell_type": "markdown",
   "metadata": {},
   "source": [
    "Calculate convex hull:"
   ]
  },
  {
   "cell_type": "code",
   "execution_count": null,
   "metadata": {},
   "outputs": [],
   "source": [
    "hull = ConvexHull(points)\n",
    "print(\"Number of vertices on hull: {0}\".format(len(hull.vertices)))\n",
    "print(\"Hull vertices: {0}\".format(hull.vertices))"
   ]
  },
  {
   "cell_type": "markdown",
   "metadata": {},
   "source": [
    "Plot figure:"
   ]
  },
  {
   "cell_type": "code",
   "execution_count": null,
   "metadata": {},
   "outputs": [],
   "source": [
    "import matplotlib.pyplot as plt\n",
    "%matplotlib inline\n",
    "\n",
    "plt.figure(figsize=[15, 10])\n",
    "\n",
    "# Add all points to plot\n",
    "for point in points:\n",
    "    plt.plot(point[0], point[1], color='black', marker='o', markersize=1)\n",
    "\n",
    "# Calculate convex hull linestring\n",
    "line_x = [points[idx][0] for idx in hull.vertices]\n",
    "line_y = [points[idx][1] for idx in hull.vertices]\n",
    "# Add first point of hull to the end, so the linestring will be closed.\n",
    "line_x.append(points[hull.vertices[0]][0]) \n",
    "line_y.append(points[hull.vertices[0]][1]) \n",
    "# Plot linestring\n",
    "plt.plot(line_x, line_y, color='red')\n",
    "  \n",
    "# Display plot\n",
    "plt.show()"
   ]
  }
 ],
 "metadata": {
  "kernelspec": {
   "display_name": "Python 3",
   "language": "python",
   "name": "python3"
  },
  "language_info": {
   "codemirror_mode": {
    "name": "ipython",
    "version": 3
   },
   "file_extension": ".py",
   "mimetype": "text/x-python",
   "name": "python",
   "nbconvert_exporter": "python",
   "pygments_lexer": "ipython3",
   "version": "3.8.5"
  }
 },
 "nbformat": 4,
 "nbformat_minor": 4
}
