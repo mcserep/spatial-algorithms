{
 "cells": [
  {
   "cell_type": "markdown",
   "metadata": {},
   "source": [
    "# Chapter 18: Clustering and classification"
   ]
  },
  {
   "cell_type": "markdown",
   "metadata": {},
   "source": [
    "The method of determining the properties of the thematic classes directly from the reference data is called **supervised classification**, because\n",
    "the analyst actually “supervises” how the discriminant functions of the classes are formed by providing the reference data.\n",
    "\n",
    "**Unsupervised classification** methods on the other hand group data points (e.g. pixels) together based on their similarities, with no information from the user about which ones belong together.\n",
    "The user selects the independent or predictor variables of interest, and the chosen algorithm does the rest.\n",
    "This doesn’t mean that you don’t need to know what you’re classifying, however. Once a classification is produced, it’s up to the user to interpret it and decide which types of features correspond to which generated classes, or if they even do correspond nicely.\n",
    "\n",
    "Unsupervised classification is also called **clustering**."
   ]
  },
  {
   "cell_type": "markdown",
   "metadata": {},
   "source": [
    "### K-Means clustering algorithm\n",
    "\n",
    "The *K-Means* method is one of the most common unsupervised classification approach.\n",
    "\n",
    "The algorithm requires an arbitrarily specified initial cluster centres that are represented by the means of the data points assigned to them.\n",
    "As a naïve solution, the user only defines the number of clusters and random data points are selected as their initial centers.\n",
    "\n",
    "This will generate a very crude set of clusters. The data points are then reassigned to the cluster with the closest center, and the centers are recomputed.\n",
    "The process is repeated as many times as necessary such that there is no further movement of the data points between clusters.\n",
    "In practice, with large data sets, the process is not run to completion and some other stopping rule is used.\n",
    "\n",
    "Considering the squared distance between each data point and the respective cluster center as the *squared error*, the sum of squared errors (*SSE*) progressively reduces with each iteration. If the *Euclidean distance* is used as a metric, this simply means to accumulate the squared distances for all points and their respective cluster center.\n",
    "\n",
    "![K-Means](../images/18_kmeans.gif \"Source: https://simplystatistics.org/\")\n",
    "\n",
    "Although no general proof of convergence exists for this algorithm, it can be expected to yield acceptable results when the data exhibit characteristic pockets which are relatively far from each other.\n",
    "In most practical cases the application of this algorithm will require experimenting with various values of inital clusters (the value of $k$), as well as different choices of starting configurations.\n",
    "\n",
    "#### Clustering raster data\n",
    "\n",
    "The K-Means method can be use with an arbitrary *distance function*. For raster imagery the distance is computed as if the pixel values were coordinates. For example, if the insensity values of two RGB pixels were $(25,42,37)$ and $(31,40,32)$, the squared distance would be $(25-31)^2 + (42-40)^2 + (37-32)^2 = 65$ in the 3 dimensional spectral space, no matter where the pixels were in relation to each other spatially."
   ]
  },
  {
   "cell_type": "markdown",
   "metadata": {
    "pycharm": {
     "name": "#%% md\n"
    }
   },
   "source": [
    "### Elbow method\n",
    "\n",
    "One of the most challenging tasks in the K-Means clustering algorithm is to choose the right value of the clusters (the value of $k$). What should be the right value of $k$ and how to choose it?\n",
    "\n",
    "The *Elbow Method* is one of the most popular methods to determine the optimal value of $k$.\n",
    "The idea is to run K-Means clustering on the dataset for a range of values of $k$ (e.g. from 1 to 10), and for each value of $k$ calculate the sum of squared errors (*SSE*).\n",
    "\n",
    "Then, visualize a line chart of the SSE for each value of $k$. If the line chart looks like an arm, then the \"elbow\" on the arm is the value of $k$ that is the best. The idea is that we want a small SSE, but that the SSE tends to decrease toward 0 as we increase $k$. (The SSE is $0$ when $k$ is equal to the number of data points in the dataset, because then each data point has its own cluster, and there is no error between it and the center of its cluster.)\n",
    "Hence we select the value of $k$ at the “elbow”, i.e. the point after which the line chart starts decreasing in a linear fashion.\n",
    "\n",
    "<img alt=\"Elbow method\" src=\"../images/18_kmeans_elbow.png\" title=\"Source: https://machinelearninginterview.com/\" style=\"width: 600px;\" />"
   ]
  },
  {
   "cell_type": "markdown",
   "metadata": {},
   "source": [
    "---"
   ]
  },
  {
   "cell_type": "markdown",
   "metadata": {},
   "source": [
    "## K-Means clustering in Python\n",
    "\n",
    "*Scikit-learn* (also known as *sklearn*) is a machine learning library for Python.\n",
    "It features various classification, regression and clustering algorithms including *k-means*.\n",
    "\n",
    "### How to install *scikit-learn*?\n",
    "\n",
    "If you have Anaconda installed, then `scikit-learn` was already installed together with it.\n",
    "\n",
    "If you have a standalone Python3 and Jupyter Notebook installation, open a command prompt / terminal and type in:\n",
    "```\n",
    "pip3 install scikit-learn\n",
    "```"
   ]
  },
  {
   "cell_type": "markdown",
   "metadata": {
    "pycharm": {
     "name": "#%% md\n"
    }
   },
   "source": [
    "### Clustering vector data\n",
    "\n",
    "Read the `hungary_cities.shp` shapefile located in the `data` folder.\n",
    "This dataset contains both scalar and spatial data of the Hungarian cities, and should be familiar from [Chapter 15](15_graph_spanning_tree.ipynb)."
   ]
  },
  {
   "cell_type": "code",
   "execution_count": null,
   "metadata": {},
   "outputs": [],
   "source": [
    "import geopandas as gpd\n",
    "from sklearn.cluster import KMeans\n",
    "\n",
    "cities_gdf = gpd.read_file('../data/hungary_cities.shp')\n",
    "display(cities_gdf)"
   ]
  },
  {
   "cell_type": "markdown",
   "metadata": {},
   "source": [
    "Fetch points for cities:"
   ]
  },
  {
   "cell_type": "code",
   "execution_count": null,
   "metadata": {},
   "outputs": [],
   "source": [
    "points = [(geom.x, geom.y) for geom in cities_gdf.geometry]\n",
    "print(\"Number of points: {0}\".format(len(points)))"
   ]
  },
  {
   "cell_type": "markdown",
   "metadata": {},
   "source": [
    "Cluster the points using the *K-Means algorithm*:"
   ]
  },
  {
   "cell_type": "code",
   "execution_count": null,
   "metadata": {},
   "outputs": [],
   "source": [
    "pred = KMeans(n_clusters=19).fit_predict(points)\n",
    "print(pred)\n",
    "print(len(pred))"
   ]
  },
  {
   "cell_type": "markdown",
   "metadata": {},
   "source": [
    "Plot figure:"
   ]
  },
  {
   "cell_type": "code",
   "execution_count": null,
   "metadata": {},
   "outputs": [],
   "source": [
    "import matplotlib.pyplot as plt\n",
    "%matplotlib inline\n",
    "\n",
    "plt.figure(figsize=(12, 8))\n",
    "\n",
    "# Fetch list of X and Y coordinates\n",
    "xs = [point[0] for point in points]\n",
    "ys = [point[1] for point in points]\n",
    "\n",
    "# Put the cluster points on the plot\n",
    "plt.scatter(xs, ys, c=pred)\n",
    "\n",
    "# Display plot\n",
    "plt.title(\"Cluster map of the Hungarian cities\")\n",
    "plt.show()"
   ]
  },
  {
   "cell_type": "markdown",
   "metadata": {},
   "source": [
    "---"
   ]
  },
  {
   "cell_type": "markdown",
   "metadata": {},
   "source": [
    "### Clustering raster images"
   ]
  },
  {
   "cell_type": "markdown",
   "metadata": {},
   "source": [
    "#### Read the dataset\n",
    "\n",
    "The `data/LC08_L1TP_188027_20200420_20200508_01_T1_Szekesfehervar.tif` file is a segment of a Landsat 8 satellite image of Székesfehérvár city, Lake Velence and their surroundings, acquired on 2020 April 20. It should be familiar from [Chapter 12](12_spatial_raster.ipynb)."
   ]
  },
  {
   "cell_type": "code",
   "execution_count": null,
   "metadata": {},
   "outputs": [],
   "source": [
    "import rasterio\n",
    "szfv_2020 = rasterio.open('../data/LC08_L1TP_188027_20200420_20200508_01_T1_Szekesfehervar.tif')\n",
    "print(szfv_2020.count) # band count\n",
    "print(szfv_2020.width) # dimensions\n",
    "print(szfv_2020.height)"
   ]
  },
  {
   "cell_type": "markdown",
   "metadata": {},
   "source": [
    "Read the red, green blue and NIR bands:"
   ]
  },
  {
   "cell_type": "code",
   "execution_count": null,
   "metadata": {},
   "outputs": [],
   "source": [
    "blue = szfv_2020.read(2)\n",
    "green = szfv_2020.read(3)\n",
    "red = szfv_2020.read(4)\n",
    "nir = szfv_2020.read(5)"
   ]
  },
  {
   "cell_type": "markdown",
   "metadata": {},
   "source": [
    "---"
   ]
  },
  {
   "cell_type": "markdown",
   "metadata": {},
   "source": [
    "#### Single-band clustering"
   ]
  },
  {
   "cell_type": "markdown",
   "metadata": {},
   "source": [
    "Cluster the satellite image based on the near-infrared band."
   ]
  },
  {
   "cell_type": "code",
   "execution_count": null,
   "metadata": {},
   "outputs": [],
   "source": [
    "nir_1d = nir.reshape(nir.shape[0] * nir.shape[1], 1)\n",
    "print(nir_1d.shape)"
   ]
  },
  {
   "cell_type": "code",
   "execution_count": null,
   "metadata": {},
   "outputs": [],
   "source": [
    "pred = KMeans(n_clusters=5).fit_predict(nir_1d)\n",
    "img_clusters = pred.reshape(nir.shape)"
   ]
  },
  {
   "cell_type": "code",
   "execution_count": null,
   "metadata": {},
   "outputs": [],
   "source": [
    "import matplotlib.colors as mc\n",
    "cmap = mc.LinearSegmentedColormap.from_list('', ['purple', 'red', 'green', 'beige', 'blue'])\n",
    "\n",
    "plt.figure(figsize=[12,12])\n",
    "plt.imshow(img_clusters, cmap=cmap)\n",
    "plt.axis('off')\n",
    "plt.show()"
   ]
  },
  {
   "cell_type": "markdown",
   "metadata": {},
   "source": [
    "---"
   ]
  },
  {
   "cell_type": "markdown",
   "metadata": {},
   "source": [
    "#### Multi-band clustering"
   ]
  },
  {
   "cell_type": "markdown",
   "metadata": {},
   "source": [
    "Cluster the satellite image based on the RGBN (red, blue, green NIR) bands."
   ]
  },
  {
   "cell_type": "code",
   "execution_count": null,
   "metadata": {},
   "outputs": [],
   "source": [
    "red_1d   = red.reshape(red.shape[0] * red.shape[1], 1)\n",
    "green_1d = green.reshape(green.shape[0] * green.shape[1], 1)\n",
    "blue_1d  = blue.reshape(blue.shape[0] * blue.shape[1], 1)\n",
    "\n",
    "rgbn_1d = [(0, 0, 0, 0)] * (red.shape[0] * red.shape[1])\n",
    "for i in range(red.shape[0] * red.shape[1]):\n",
    "    rgbn_1d[i] = (red_1d[i, 0], green_1d[i, 0], blue_1d[i, 0], nir_1d[i, 0])\n",
    "    \n",
    "print(rgbn_1d[10000]) # print random item"
   ]
  },
  {
   "cell_type": "code",
   "execution_count": null,
   "metadata": {},
   "outputs": [],
   "source": [
    "pred = KMeans(n_clusters=6).fit_predict(rgbn_1d)\n",
    "img_clusters = pred.reshape(red.shape)"
   ]
  },
  {
   "cell_type": "code",
   "execution_count": null,
   "metadata": {},
   "outputs": [],
   "source": [
    "cmap = mc.LinearSegmentedColormap.from_list('', ['blue', 'red', 'green', 'brown', 'beige', 'purple'])\n",
    "\n",
    "plt.figure(figsize=[15,15])\n",
    "plt.imshow(img_clusters, cmap=cmap)\n",
    "plt.axis('off')\n",
    "plt.show()"
   ]
  },
  {
   "cell_type": "markdown",
   "metadata": {},
   "source": [
    "---"
   ]
  },
  {
   "cell_type": "markdown",
   "metadata": {},
   "source": [
    "#### Downsampling\n",
    "\n",
    "The `LC08_L1TP_188027_20200420_20200508_01_T1` file is a complete Landsat 8 satellite image tile, containing Budapest and parts of Western-Hungary, acquired on 2020 April 20.  \n",
    "Download: https://gis.inf.elte.hu/files/public/landsat-budapest-2020 (1.4 GB)"
   ]
  },
  {
   "cell_type": "code",
   "execution_count": null,
   "metadata": {},
   "outputs": [],
   "source": [
    "import rasterio\n",
    "bp_2020 = rasterio.open('LC08_L1TP_188027_20200420_20200508_01_T1.tif')\n",
    "print(bp_2020.count) # band count\n",
    "print(bp_2020.width) # dimensions\n",
    "print(bp_2020.height)"
   ]
  },
  {
   "cell_type": "markdown",
   "metadata": {},
   "source": [
    "To speed up processing larger raster files, we may downsample them for the price of reducing the accuracy of the result.\n",
    "\n",
    "First, define the resampling function:"
   ]
  },
  {
   "cell_type": "code",
   "execution_count": null,
   "metadata": {},
   "outputs": [],
   "source": [
    "from rasterio.enums import Resampling\n",
    "\n",
    "def read_resampled_band(dataset, band, resample_factor):   \n",
    "    data = dataset.read(band,\n",
    "        out_shape=(\n",
    "            1,\n",
    "            int(dataset.height * resample_factor),\n",
    "            int(dataset.width * resample_factor)\n",
    "        ),\n",
    "        resampling=Resampling.bilinear\n",
    "    )\n",
    "    return data"
   ]
  },
  {
   "cell_type": "markdown",
   "metadata": {},
   "source": [
    "Read the blue, green, read and near-infrared bands into *Numpy* arrays. Resample them to a smaller size to make further processing (clustering especially) faster."
   ]
  },
  {
   "cell_type": "code",
   "execution_count": null,
   "metadata": {},
   "outputs": [],
   "source": [
    "bp = {}\n",
    "bp['blue'] = read_resampled_band(bp_2020, 2, 1/4)\n",
    "bp['green'] = read_resampled_band(bp_2020, 3, 1/4)\n",
    "bp['red'] = read_resampled_band(bp_2020, 4, 1/4)\n",
    "bp['nir'] = read_resampled_band(bp_2020, 5, 1/4)\n",
    "\n",
    "print(bp['red'].shape)"
   ]
  },
  {
   "cell_type": "markdown",
   "metadata": {},
   "source": [
    "Display the near-infrared band for verification:"
   ]
  },
  {
   "cell_type": "code",
   "execution_count": null,
   "metadata": {},
   "outputs": [],
   "source": [
    "plt.figure(figsize=[10,10])\n",
    "plt.imshow(bp['nir'], cmap='Reds')\n",
    "plt.axis('off')\n",
    "plt.colorbar()\n",
    "plt.show()"
   ]
  },
  {
   "cell_type": "markdown",
   "metadata": {},
   "source": [
    "Display the RGB image for verification:"
   ]
  },
  {
   "cell_type": "code",
   "execution_count": null,
   "metadata": {},
   "outputs": [],
   "source": [
    "from rasterio.plot import show\n",
    "import numpy as np\n",
    "\n",
    "bp['red_max'] = np.percentile(bp['red'], 99.99)\n",
    "bp['blue_max'] = np.percentile(bp['blue'], 99.99)\n",
    "bp['green_max'] = np.percentile(bp['green'], 99.99)\n",
    "\n",
    "# astype('f4') is a numpy function to convert to float (4 byte)\n",
    "bp['redf'] = bp['red'].astype('f4') / bp['red_max']\n",
    "bp['bluef'] = bp['blue'].astype('f4') / bp['blue_max']\n",
    "bp['greenf'] = bp['green'].astype('f4') / bp['green_max']\n",
    "bp['rgb'] = [bp['redf'], bp['greenf'], bp['bluef']]\n",
    "\n",
    "plt.figure(figsize=[10,10])\n",
    "show(bp['rgb'])\n",
    "plt.show()"
   ]
  },
  {
   "cell_type": "markdown",
   "metadata": {},
   "source": [
    "---"
   ]
  },
  {
   "cell_type": "markdown",
   "metadata": {},
   "source": [
    "### Summary exercise on clustering"
   ]
  },
  {
   "cell_type": "markdown",
   "metadata": {},
   "source": [
    "Implement a functions which performs single band clustering on a *rasterio* band (*NumPy* array).\n",
    "Execute it on the NIR band of the complete satellite image.\n",
    "\n",
    "Example on how it shall work:\n",
    "```python\n",
    "single_band_clustering(bp['nir'], ['red', 'black', 'gray', 'green', 'white', 'blue']) # 6 clusters with these colors\n",
    "```"
   ]
  },
  {
   "cell_type": "code",
   "execution_count": null,
   "metadata": {},
   "outputs": [],
   "source": [
    "def single_band_clustering(band, clusters=['red', 'black', 'gray', 'green', 'white', 'blue']):\n",
    "    band_1d = band.reshape(band.shape[0] * band.shape[1], 1)\n",
    "    \n",
    "    pred = KMeans(n_clusters=len(clusters)).fit_predict(band_1d)\n",
    "    img_clusters = pred.reshape(band.shape)\n",
    "    \n",
    "    cmap = mc.LinearSegmentedColormap.from_list('', clusters)\n",
    "\n",
    "    plt.figure(figsize=[12,12])\n",
    "    plt.imshow(img_clusters, cmap=cmap)\n",
    "    plt.axis('off')\n",
    "    plt.show()"
   ]
  },
  {
   "cell_type": "code",
   "execution_count": null,
   "metadata": {},
   "outputs": [],
   "source": [
    "single_band_clustering(bp['nir'])"
   ]
  }
 ],
 "metadata": {
  "kernelspec": {
   "display_name": "Python 3",
   "language": "python",
   "name": "python3"
  },
  "language_info": {
   "codemirror_mode": {
    "name": "ipython",
    "version": 3
   },
   "file_extension": ".py",
   "mimetype": "text/x-python",
   "name": "python",
   "nbconvert_exporter": "python",
   "pygments_lexer": "ipython3",
   "version": "3.8.5"
  }
 },
 "nbformat": 4,
 "nbformat_minor": 4
}
