{
 "cells": [
  {
   "cell_type": "markdown",
   "metadata": {},
   "source": [
    "# Chapter 12: Spatial data management - raster formats"
   ]
  },
  {
   "cell_type": "markdown",
   "metadata": {},
   "source": [
    "[*Rasterio*](https://rasterio.readthedocs.io/en/latest/) is a highly useful module for raster processing which you can use for reading and writing several raster formats in Python."
   ]
  },
  {
   "cell_type": "markdown",
   "metadata": {},
   "source": [
    "## How to install *rasterio*?\n",
    "\n",
    "We need to install the `rasterio` package.\n",
    "\n",
    "### Anaconda - Platform independent\n",
    "\n",
    "If you have Anaconda installed, open the *Anaconda Prompt* and type in:\n",
    "```\n",
    "conda install -c conda-forge rasterio\n",
    "```\n",
    "\n",
    "### Python Package Installer (pip) - Linux\n",
    "\n",
    "If you have standalone Python3 and Jupyter Notebook install on Linux, open a command prompt / terminal and type in:\n",
    "```\n",
    "pip3 install rasterio\n",
    "```\n",
    "\n",
    "### Python Package Installer (pip) - Windows\n",
    "\n",
    "The installation of *rasterio* is much more complicated with *pip* on Windows, because it depends on the *GDAL* library, for which the binaries must be installed separately or compiled from source.\n",
    "An easier approach is to install these packages from [Python binary wheel files](https://www.lfd.uci.edu/~gohlke/pythonlibs/).\n",
    "\n",
    "Due to its complexity these options are only recommended for advanced Python users and it is **strongly advised to use Anaconda on Windows**."
   ]
  },
  {
   "cell_type": "markdown",
   "metadata": {},
   "source": [
    "## How to use *rasterio*?\n",
    "\n",
    "The rasterio package is also a module which you can simply import.\n",
    "```python\n",
    "import rasterio\n",
    "```"
   ]
  },
  {
   "cell_type": "markdown",
   "metadata": {},
   "source": [
    "## Opening a dataset"
   ]
  },
  {
   "cell_type": "markdown",
   "metadata": {},
   "source": [
    "The `open()` function takes a path string or path-like object and returns an opened dataset object.\n",
    "The path may point to a file of any supported raster format."
   ]
  },
  {
   "cell_type": "markdown",
   "metadata": {},
   "source": [
    "The `data/LC08_L1TP_188027_20200420_20200508_01_T1_Szekesfehervar.tif` file is a segment of a Landsat 8 satellite image of Székesfehérvár city, Lake Velence and their surroundings, acquired on 2020 April 20."
   ]
  },
  {
   "cell_type": "code",
   "execution_count": null,
   "metadata": {},
   "outputs": [],
   "source": [
    "import rasterio\n",
    "szfv_2020 = rasterio.open('../data/LC08_L1TP_188027_20200420_20200508_01_T1_Szekesfehervar.tif')"
   ]
  },
  {
   "cell_type": "markdown",
   "metadata": {},
   "source": [
    "Dataset objects have some attributes regarding the opened file:"
   ]
  },
  {
   "cell_type": "code",
   "execution_count": null,
   "metadata": {},
   "outputs": [],
   "source": [
    "print(szfv_2020.name)\n",
    "print(szfv_2020.mode) # by default the file is opened in read mode\n",
    "print(szfv_2020.closed) # will be True after closed() called"
   ]
  },
  {
   "cell_type": "markdown",
   "metadata": {},
   "source": [
    "Properties of the raster data stored in the example GeoTIFF can be accessed through attributes of the opened dataset object."
   ]
  },
  {
   "cell_type": "code",
   "execution_count": null,
   "metadata": {},
   "outputs": [],
   "source": [
    "print(szfv_2020.count) # band count\n",
    "print(szfv_2020.width) # dimensions\n",
    "print(szfv_2020.height)"
   ]
  },
  {
   "cell_type": "markdown",
   "metadata": {},
   "source": [
    "## Dataset georeferencing"
   ]
  },
  {
   "cell_type": "markdown",
   "metadata": {},
   "source": [
    "A GIS raster dataset is different from an ordinary image; its elements (or “pixels”) are mapped to regions on the earth’s surface. All pixels of a dataset is contained within a spatial bounding box."
   ]
  },
  {
   "cell_type": "code",
   "execution_count": null,
   "metadata": {},
   "outputs": [],
   "source": [
    "print(szfv_2020.bounds)"
   ]
  },
  {
   "cell_type": "markdown",
   "metadata": {},
   "source": [
    "Our example covers the world from 296745 meters to 328455 meters left to right, and 5221185 meters to 5240535 meters bottom to top. Therefore, it covers a region 31.71 kilometers wide by 19.35 kilometers high."
   ]
  },
  {
   "cell_type": "markdown",
   "metadata": {},
   "source": [
    "The value of `bounds` attribute is derived from a more fundamental attribute: the dataset’s geospatial transform."
   ]
  },
  {
   "cell_type": "code",
   "execution_count": null,
   "metadata": {},
   "outputs": [],
   "source": [
    "print(szfv_2020.transform)"
   ]
  },
  {
   "cell_type": "markdown",
   "metadata": {},
   "source": [
    "A dataset’s `transform` is an affine transformation matrix that maps pixel locations in *(row, col)* coordinates to *(x, y)* spatial positions. The product of this matrix and `(0, 0)`, the row and column coordinates of the upper left corner of the dataset, is the spatial position of the upper left corner."
   ]
  },
  {
   "cell_type": "code",
   "execution_count": null,
   "metadata": {},
   "outputs": [],
   "source": [
    "print(szfv_2020.transform * (0, 0))"
   ]
  },
  {
   "cell_type": "markdown",
   "metadata": {},
   "source": [
    "The position of the lower right corner is obtained similarly."
   ]
  },
  {
   "cell_type": "code",
   "execution_count": null,
   "metadata": {},
   "outputs": [],
   "source": [
    "print(szfv_2020.transform * (szfv_2020.width, szfv_2020.height))"
   ]
  },
  {
   "cell_type": "markdown",
   "metadata": {},
   "source": [
    "But what do these numbers mean? 296745 meters from where? These coordinate values are relative to the origin of the dataset’s coordinate reference system (CRS)."
   ]
  },
  {
   "cell_type": "code",
   "execution_count": null,
   "metadata": {},
   "outputs": [],
   "source": [
    "print(szfv_2020.crs)"
   ]
  },
  {
   "cell_type": "markdown",
   "metadata": {},
   "source": [
    "All metadata for the whole raster dataset can be displayed easily if desired:"
   ]
  },
  {
   "cell_type": "code",
   "execution_count": null,
   "metadata": {},
   "outputs": [],
   "source": [
    "print(szfv_2020.meta)"
   ]
  },
  {
   "cell_type": "markdown",
   "metadata": {},
   "source": [
    "## Reading raster data"
   ]
  },
  {
   "cell_type": "markdown",
   "metadata": {},
   "source": [
    "Data from a raster band can be accessed by the band’s index number. Following the [GDAL](https://gdal.org/) convention (on which library Rasterio depends on), bands are indexed from 1."
   ]
  },
  {
   "cell_type": "code",
   "execution_count": null,
   "metadata": {},
   "outputs": [],
   "source": [
    "print(szfv_2020.indexes)"
   ]
  },
  {
   "cell_type": "markdown",
   "metadata": {},
   "source": [
    "Landsat 8 satellite images contain 11 bands, in the following order:\n",
    "\n",
    "| Band Number | Description               | Wavelength        | Resolution |\n",
    "|-------------|---------------------------|-------------------|------------|\n",
    "| Band 1      | Coastal / Aerosol         | 0.433 to 0.453 µm | 30 meter   |\n",
    "| Band 2      | Visible blue              | 0.450 to 0.515 µm | 30 meter   |\n",
    "| Band 3      | Visible green             | 0.525 to 0.600 µm | 30 meter   |\n",
    "| Band 4      | Visible red               | 0.630 to 0.680 µm | 30 meter   |\n",
    "| Band 5      | Near-infrared             | 0.845 to 0.885 µm | 30 meter   |\n",
    "| Band 6      | Short wavelength infrared | 1.56 to 1.66 µm   | 30 meter   |\n",
    "| Band 7      | Short wavelength infrared | 2.10 to 2.30 µm   | 60 meter   |\n",
    "| Band 8      | Panchromatic              | 0.50 to 0.68 µm   | 15 meter   |\n",
    "| Band 9      | Cirrus                    | 1.36 to 1.39 µm   | 30 meter   |\n",
    "| Band 10     | Long wavelength infrared  | 10.3 to 11.3 µm   | 100 meter  |\n",
    "| Band 11     | Long wavelength infrared  | 11.5 to 12.5 µm   | 100 meter  |"
   ]
  },
  {
   "cell_type": "markdown",
   "metadata": {},
   "source": [
    "We can read the bands of a dataset with the `read()` method:"
   ]
  },
  {
   "cell_type": "code",
   "execution_count": null,
   "metadata": {},
   "outputs": [],
   "source": [
    "red = szfv_2020.read(4)\n",
    "green = szfv_2020.read(3)\n",
    "blue = szfv_2020.read(2)"
   ]
  },
  {
   "cell_type": "markdown",
   "metadata": {},
   "source": [
    "Bands are simply 2D mathematical matrices stored as multi-dimensional *NumPy* arrays. [*NumPy*](https://numpy.org/) is a first-rate library for numerical programming. It is widely used in academia, finance and also in the industry.\n",
    "\n",
    "Not only *Rasterio*, but the already introduced *Pandas* library (see [Chapter 9](09_tabular.ipynb)) is also built on top of *NumPy*, providing high-performance, easy-to-use data structures and data analysis tools, making data manipulation and visualization more convenient."
   ]
  },
  {
   "cell_type": "code",
   "execution_count": null,
   "metadata": {},
   "outputs": [],
   "source": [
    "print(type(red))\n",
    "print(red)"
   ]
  },
  {
   "cell_type": "markdown",
   "metadata": {},
   "source": [
    "For a *NumPy* array we can easily get the range and the mean of the values:"
   ]
  },
  {
   "cell_type": "code",
   "execution_count": null,
   "metadata": {},
   "outputs": [],
   "source": [
    "print(red.min())\n",
    "print(red.max())\n",
    "print(red.mean())"
   ]
  },
  {
   "cell_type": "markdown",
   "metadata": {},
   "source": [
    "Values from the array can be addressed by their row, column index."
   ]
  },
  {
   "cell_type": "code",
   "execution_count": null,
   "metadata": {},
   "outputs": [],
   "source": [
    "print(red[500, 500]) # random position"
   ]
  },
  {
   "cell_type": "markdown",
   "metadata": {},
   "source": [
    "## Plotting"
   ]
  },
  {
   "cell_type": "markdown",
   "metadata": {},
   "source": [
    "Since *Rasterio* reads raster data into mathematical matrices (*numpy arrays*), plotting a single band as two-dimensional data can be accomplished directly with *matplotlib*, as it also strongly depends on *NumPy*. For detailed information on Numpy, see [Appendix 2](AX02_math.ipynb)."
   ]
  },
  {
   "cell_type": "code",
   "execution_count": null,
   "metadata": {},
   "outputs": [],
   "source": [
    "import matplotlib.pyplot as plt\n",
    "%matplotlib inline\n",
    "\n",
    "plt.imshow(red)\n",
    "plt.colorbar()\n",
    "plt.show()"
   ]
  },
  {
   "cell_type": "markdown",
   "metadata": {},
   "source": [
    "In our case the data is not evenly distributed in the range $[0, 65535]$, most values are below 16000. The maximum and minimum value for visualization can be overridden with the `vmax` and `vmin` parameters."
   ]
  },
  {
   "cell_type": "code",
   "execution_count": null,
   "metadata": {},
   "outputs": [],
   "source": [
    "plt.imshow(red, vmax=16000)\n",
    "plt.colorbar()\n",
    "plt.show()"
   ]
  },
  {
   "cell_type": "markdown",
   "metadata": {},
   "source": [
    "Instead of using a static value (16000), calculate the 99.9% percentile of each bands to remove only the few outliers (0.1%) from visualization."
   ]
  },
  {
   "cell_type": "code",
   "execution_count": null,
   "metadata": {},
   "outputs": [],
   "source": [
    "import numpy as np\n",
    "\n",
    "red_max = np.percentile(red, 99.9)\n",
    "blue_max = np.percentile(blue, 99.9)\n",
    "green_max = np.percentile(green, 99.9)\n",
    "print(red_max)\n",
    "print(blue_max)\n",
    "print(green_max)"
   ]
  },
  {
   "cell_type": "markdown",
   "metadata": {},
   "source": [
    "*Remark:* here we use the numpy package directly to calculate the 99.9% percentile. NumPy is a module which can be imported as usual and is aliased with the `np` abbreviation in most cases."
   ]
  },
  {
   "cell_type": "markdown",
   "metadata": {},
   "source": [
    "The `vmax` parameter can be defined as a dynamic value for the now:"
   ]
  },
  {
   "cell_type": "code",
   "execution_count": null,
   "metadata": {},
   "outputs": [],
   "source": [
    "plt.imshow(red, vmax=red_max)\n",
    "plt.colorbar()\n",
    "plt.show()"
   ]
  },
  {
   "cell_type": "markdown",
   "metadata": {},
   "source": [
    "Color maps can also be used with the `cmap` parameter (*see [Chapter 11](11_spatial_vector.ipynb) for more details*)."
   ]
  },
  {
   "cell_type": "code",
   "execution_count": null,
   "metadata": {},
   "outputs": [],
   "source": [
    "plt.imshow(red, vmax=red_max, cmap='Reds')\n",
    "plt.colorbar()\n",
    "plt.show()"
   ]
  },
  {
   "cell_type": "markdown",
   "metadata": {},
   "source": [
    "## Histogram"
   ]
  },
  {
   "cell_type": "markdown",
   "metadata": {},
   "source": [
    "Create a histogram of the visible bands of the Landsat satellite image."
   ]
  },
  {
   "cell_type": "markdown",
   "metadata": {},
   "source": [
    "First, create a pandas *DataFrame* from the 3 bands. The *DataFrame* shall contain 3 *Series*: one for each band. The *DataFrame* shall contain as many rows as many pixels are in the image.\n",
    "To achieve this we *flatten* the 2D matrices into 1D vectors. (For *NumPy* both of them are arrays, regardless of their dimensions.)"
   ]
  },
  {
   "cell_type": "code",
   "execution_count": null,
   "metadata": {},
   "outputs": [],
   "source": [
    "print(\"2D array:\")\n",
    "print(red)\n",
    "print(\"Type: {0}, Size: {1}\".format(type(red), red.size))\n",
    "print()\n",
    "print(\"1D array:\")\n",
    "red_vector = red.flatten()\n",
    "print(red_vector)\n",
    "print(\"Type: {0}, Size: {1}\".format(type(red), red.size))"
   ]
  },
  {
   "cell_type": "code",
   "execution_count": null,
   "metadata": {},
   "outputs": [],
   "source": [
    "import pandas as pd\n",
    "\n",
    "szfv_df = pd.DataFrame({\n",
    "    'red': red.flatten(),    \n",
    "    'blue': blue.flatten(),    \n",
    "    'green': green.flatten()\n",
    "})\n",
    "display(szfv_df)\n",
    "display(szfv_df.iloc[100000]) # random row"
   ]
  },
  {
   "cell_type": "markdown",
   "metadata": {},
   "source": [
    "Now we can create the histograms for the *Series* (or for the *DataFrame* to display it on a single plot), as we have learned it in [Chapter 10](10_plotting.ipynb)."
   ]
  },
  {
   "cell_type": "code",
   "execution_count": null,
   "metadata": {},
   "outputs": [],
   "source": [
    "szfv_df['red'].plot(kind='hist', bins=50, color='red', title='Histogram of the visible red band')\n",
    "plt.show()\n",
    "szfv_df['blue'].plot(kind='hist', bins=50, color='blue', title='Histogram of the visible blue band')\n",
    "plt.show()\n",
    "szfv_df['green'].plot(kind='hist', bins=50, color='green', title='Histogram of the visible green band')\n",
    "plt.show()"
   ]
  },
  {
   "cell_type": "markdown",
   "metadata": {},
   "source": [
    "This visually verifies our previous conclusion that most values for the visible colour bands are below 16000."
   ]
  },
  {
   "cell_type": "markdown",
   "metadata": {},
   "source": [
    "Get the histogram of the \"interesting\" part:"
   ]
  },
  {
   "cell_type": "code",
   "execution_count": null,
   "metadata": {},
   "outputs": [],
   "source": [
    "szfv_df['red'].plot(kind='hist', bins=100, xlim=(0, 16000), color='red', title='Histogram of the visible red band')\n",
    "plt.show()\n",
    "szfv_df['blue'].plot(kind='hist', bins=100, xlim=(0, 16000), color='blue', title='Histogram of the visible blue band')\n",
    "plt.show()\n",
    "szfv_df['green'].plot(kind='hist', bins=100, xlim=(0, 16000), color='green', title='Histogram of the visible green band')\n",
    "plt.show()"
   ]
  },
  {
   "cell_type": "markdown",
   "metadata": {},
   "source": [
    "### Multi-band plotting"
   ]
  },
  {
   "cell_type": "markdown",
   "metadata": {},
   "source": [
    "Rasterio also provides `rasterio.plot.show()` to perform common tasks such as displaying multi-band images as RGB and labeling the axes with proper geo-referenced extents."
   ]
  },
  {
   "cell_type": "markdown",
   "metadata": {},
   "source": [
    "It can be used for a single band:"
   ]
  },
  {
   "cell_type": "code",
   "execution_count": null,
   "metadata": {},
   "outputs": [],
   "source": [
    "from rasterio.plot import show\n",
    "\n",
    "show(red, vmax=red_max)\n",
    "plt.show()"
   ]
  },
  {
   "cell_type": "markdown",
   "metadata": {},
   "source": [
    "For multiple bands to visualize in a true-color image, the values must be in the range of $[0, 255]$ or in the float range of $[0, 1]$."
   ]
  },
  {
   "cell_type": "code",
   "execution_count": null,
   "metadata": {},
   "outputs": [],
   "source": [
    "# astype('f4') is a numpy function to convert to float (4 byte)\n",
    "redf = red.astype('f4') / red_max\n",
    "bluef = blue.astype('f4') / blue_max\n",
    "greenf = green.astype('f4') / green_max\n",
    "rgb = [redf, greenf, bluef]"
   ]
  },
  {
   "cell_type": "code",
   "execution_count": null,
   "metadata": {},
   "outputs": [],
   "source": [
    "show(rgb)\n",
    "plt.show()"
   ]
  },
  {
   "cell_type": "markdown",
   "metadata": {},
   "source": [
    "Increase the figure size:"
   ]
  },
  {
   "cell_type": "code",
   "execution_count": null,
   "metadata": {},
   "outputs": [],
   "source": [
    "plt.figure(figsize=[10,10])\n",
    "show(rgb)\n",
    "plt.show()"
   ]
  },
  {
   "cell_type": "markdown",
   "metadata": {},
   "source": [
    "---"
   ]
  },
  {
   "cell_type": "markdown",
   "metadata": {},
   "source": [
    "## Example computation: NDVI"
   ]
  },
  {
   "cell_type": "markdown",
   "metadata": {},
   "source": [
    "The [Normalized Difference Vegetation Index](https://en.wikipedia.org/wiki/Normalized_difference_vegetation_index) is a simple indicator that can be used to assess whether the target includes healthy vegetation. This calculation uses two bands of a multispectral image dataset, the Red and Near-Infrared (NIR) bands."
   ]
  },
  {
   "cell_type": "code",
   "execution_count": null,
   "metadata": {},
   "outputs": [],
   "source": [
    "nir = szfv_2020.read(5)\n",
    "plt.imshow(nir, vmax=2**15)\n",
    "plt.colorbar()\n",
    "plt.show()"
   ]
  },
  {
   "cell_type": "code",
   "execution_count": null,
   "metadata": {},
   "outputs": [],
   "source": [
    "nir_max = np.percentile(nir, 99.9)\n",
    "print(nir_max)\n",
    "nirf = nir.astype('f4') / nir_max"
   ]
  },
  {
   "cell_type": "markdown",
   "metadata": {},
   "source": [
    "The value of *NDVI* can be calculated with a simple mathematical formula:\n",
    "\n",
    "$$NDVI = \\frac{NIR - Red}{NIR + Red}$$"
   ]
  },
  {
   "cell_type": "markdown",
   "metadata": {},
   "source": [
    "With Rasterio we can perform the computation on the bands themselves, which will apply the computation to each pixel-pairs."
   ]
  },
  {
   "cell_type": "code",
   "execution_count": null,
   "metadata": {},
   "outputs": [],
   "source": [
    "def calc_ndvi(nir, red):\n",
    "    ndvi = (nir - red) / (nir + red)\n",
    "    return ndvi\n",
    "\n",
    "ndvi = calc_ndvi(nirf, redf)\n",
    "plt.figure(figsize=[20, 20])\n",
    "plt.imshow(ndvi, cmap='RdYlGn')\n",
    "plt.colorbar()\n",
    "plt.show()"
   ]
  },
  {
   "cell_type": "markdown",
   "metadata": {},
   "source": [
    "The value range of an NDVI is -1 to 1. Negative values of NDVI (values approaching -1) correspond to water. Values close to zero (-0.1 to 0.1) generally correspond to barren areas of rock, sand, or snow. Low, positive values represent shrub and grassland (approximately 0.2 to 0.4), while high values indicate temperate and tropical rainforests (values approaching 1)."
   ]
  },
  {
   "cell_type": "markdown",
   "metadata": {},
   "source": [
    "---"
   ]
  },
  {
   "cell_type": "markdown",
   "metadata": {},
   "source": [
    "## Summary exercise on raster data management"
   ]
  },
  {
   "cell_type": "markdown",
   "metadata": {},
   "source": [
    "### Exercise 1: NDVI change tracking\n",
    "\n",
    "The `data/LC08_L1TP_188027_20180501_20180516_01_T1_Szekesfehervar.tif` file is a Landsat 8 satellite image from the same territory as the previous image, but acquired on 2018 May 1, so ca. 2 years earlier."
   ]
  },
  {
   "cell_type": "code",
   "execution_count": null,
   "metadata": {},
   "outputs": [],
   "source": [
    "szfv_2018 = rasterio.open('../data/LC08_L1TP_188027_20180501_20180516_01_T1_Szekesfehervar.tif')"
   ]
  },
  {
   "cell_type": "markdown",
   "metadata": {},
   "source": [
    "**Task 1:** Calculate the NDVI for the 2018 Landsat satellite image."
   ]
  },
  {
   "cell_type": "code",
   "execution_count": null,
   "metadata": {},
   "outputs": [],
   "source": [
    "import numpy as np\n",
    "red2 = szfv_2018.read(4)\n",
    "red2_max = np.percentile(red2, 99.9)\n",
    "redf2 = red2.astype('f4') / red2_max\n",
    "\n",
    "nir2 = szfv_2018.read(5)\n",
    "nir2_max = np.percentile(nir2, 99.9)\n",
    "nirf2 = nir2.astype('f4') / nir2_max\n",
    "\n",
    "ndvi2 = calc_ndvi(nirf2, redf2)\n",
    "plt.figure(figsize=[20, 20])\n",
    "plt.imshow(ndvi2, cmap='RdYlGn')\n",
    "plt.colorbar()\n",
    "plt.show()"
   ]
  },
  {
   "cell_type": "markdown",
   "metadata": {},
   "source": [
    "**Task 2:** Compute the NDVI difference of the time interval and visaulize it."
   ]
  },
  {
   "cell_type": "markdown",
   "metadata": {},
   "source": [
    "Display the metadata of the 2 satellite images to compare them."
   ]
  },
  {
   "cell_type": "code",
   "execution_count": null,
   "metadata": {},
   "outputs": [],
   "source": [
    "print(szfv_2020.meta)\n",
    "print(szfv_2018.meta)\n"
   ]
  },
  {
   "cell_type": "markdown",
   "metadata": {},
   "source": [
    "Compute and visualize the NDVI difference:"
   ]
  },
  {
   "cell_type": "code",
   "execution_count": null,
   "metadata": {},
   "outputs": [],
   "source": [
    "ndvi_diff = ndvi - ndvi2\n",
    "plt.figure(figsize=[20, 20])\n",
    "plt.imshow(ndvi_diff, cmap='bwr')\n",
    "plt.colorbar()\n",
    "plt.show()"
   ]
  },
  {
   "cell_type": "markdown",
   "metadata": {
    "pycharm": {
     "name": "#%% md\n"
    }
   },
   "source": [
    "### Exercise 2: Processing larger images"
   ]
  },
  {
   "cell_type": "markdown",
   "metadata": {},
   "source": [
    "The `LC08_L1TP_188027_20200420_20200508_01_T1` file is a complete Landsat 8 satellite image tile, containing Budapest and parts of Western-Hungary, acquired on 2020 April 20.  \n",
    "Download: https://gis.inf.elte.hu/files/public/landsat-budapest-2020 (1.4 GB)"
   ]
  },
  {
   "cell_type": "markdown",
   "metadata": {
    "pycharm": {
     "name": "#%% md\n"
    }
   },
   "source": [
    "**Task 1:** create and RGB visualization for the complete satellite image."
   ]
  },
  {
   "cell_type": "code",
   "execution_count": null,
   "metadata": {
    "collapsed": false,
    "jupyter": {
     "outputs_hidden": false
    },
    "pycharm": {
     "name": "#%%\n"
    }
   },
   "outputs": [],
   "source": [
    "bp_2020 = rasterio.open('LC08_L1TP_188027_20200420_20200508_01_T1.tif')\n",
    "\n",
    "bp_red = bp_2020.read(4)\n",
    "bp_green = bp_2020.read(3)\n",
    "bp_blue = bp_2020.read(2)\n",
    "\n",
    "bp_red_max = np.percentile(bp_red, 99.9)\n",
    "bp_blue_max = np.percentile(bp_blue, 99.9)\n",
    "bp_green_max = np.percentile(bp_green, 99.9)\n",
    "\n",
    "bp_redf = bp_red.astype('f4') / bp_red_max\n",
    "bp_bluef = bp_blue.astype('f4') / bp_blue_max\n",
    "bp_greenf = bp_green.astype('f4') / bp_green_max\n",
    "bp_rgb = [bp_redf, bp_greenf, bp_bluef]\n",
    "\n",
    "plt.figure(figsize=[10,10])\n",
    "show(bp_rgb)\n",
    "plt.show()"
   ]
  },
  {
   "cell_type": "markdown",
   "metadata": {
    "pycharm": {
     "name": "#%% md\n"
    }
   },
   "source": [
    "**Task 2:** calculate the NDVI for the complete satellite image."
   ]
  },
  {
   "cell_type": "code",
   "execution_count": null,
   "metadata": {
    "collapsed": false,
    "jupyter": {
     "outputs_hidden": false
    },
    "pycharm": {
     "name": "#%%\n"
    }
   },
   "outputs": [],
   "source": [
    "bp_nir = bp_2020.read(5)\n",
    "bp_nir_max = np.percentile(bp_nir, 99.99)\n",
    "bp_nirf = bp_nir.astype('f4') / bp_nir_max\n",
    "\n",
    "bp_ndvi = calc_ndvi(bp_nirf, bp_redf)\n",
    "plt.figure(figsize=[20, 20])\n",
    "plt.imshow(bp_ndvi, cmap='RdYlGn')\n",
    "plt.colorbar()\n",
    "plt.show()"
   ]
  }
 ],
 "metadata": {
  "kernelspec": {
   "display_name": "Python 3",
   "language": "python",
   "name": "python3"
  },
  "language_info": {
   "codemirror_mode": {
    "name": "ipython",
    "version": 3
   },
   "file_extension": ".py",
   "mimetype": "text/x-python",
   "name": "python",
   "nbconvert_exporter": "python",
   "pygments_lexer": "ipython3",
   "version": "3.8.5"
  }
 },
 "nbformat": 4,
 "nbformat_minor": 4
}
