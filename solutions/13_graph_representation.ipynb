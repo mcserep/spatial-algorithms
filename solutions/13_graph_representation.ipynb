{
 "cells": [
  {
   "cell_type": "markdown",
   "metadata": {},
   "source": [
    "# Chapter 13: Graph construction and management in Python"
   ]
  },
  {
   "cell_type": "markdown",
   "metadata": {},
   "source": [
    "**NetworkX** is a Python package for the creation, manipulation, and study of the structure, dynamics, and functions of complex networks. It is usually imported with the *nx* abbreviation."
   ]
  },
  {
   "cell_type": "markdown",
   "metadata": {},
   "source": [
    "## How to install networkx?"
   ]
  },
  {
   "cell_type": "markdown",
   "metadata": {},
   "source": [
    "We need to install the networkx package.  \n",
    "*Note: if you have installed geopandas, you most likely also installed networkx already, as one of its dependency.*\n",
    "\n",
    "### Anaconda - Platform independent\n",
    "\n",
    "If you have Anaconda installed, open the *Anaconda Prompt* and type in:\n",
    "```\n",
    "conda install -c conda-forge networkx\n",
    "```\n",
    "\n",
    "### Python Package Installer (pip) - Linux\n",
    "\n",
    "If you have standalone Python3 and Jupyter Notebook install on Linux, open a command prompt / terminal and type in:\n",
    "```\n",
    "pip3 install networkx\n",
    "```"
   ]
  },
  {
   "cell_type": "markdown",
   "metadata": {},
   "source": [
    "## How to use networkx?"
   ]
  },
  {
   "cell_type": "markdown",
   "metadata": {},
   "source": [
    "The netwrokx package is a module which you can simply import. It is usually aliased with the `nx` abbreviation:\n",
    "```python\n",
    "import networkx as nx\n",
    "```"
   ]
  },
  {
   "cell_type": "markdown",
   "metadata": {},
   "source": [
    "---"
   ]
  },
  {
   "cell_type": "markdown",
   "metadata": {},
   "source": [
    "## Graph creation\n",
    "\n",
    "NetworkX supports 4 type of graphs:\n",
    "* undirected, simple graphs: `Graph`\n",
    "* directed simple graphs: `DiGraph`\n",
    "* undirected graph with parallel edges: `MultiGraph`\n",
    "* directed graph with parallel edges: `MultiDiGraph`"
   ]
  },
  {
   "cell_type": "markdown",
   "metadata": {},
   "source": [
    "Creation of a new, empty graph is straightforward:"
   ]
  },
  {
   "cell_type": "code",
   "execution_count": null,
   "metadata": {},
   "outputs": [],
   "source": [
    "import networkx as nx\n",
    "graph = nx.Graph() # undirected, simple graph"
   ]
  },
  {
   "cell_type": "markdown",
   "metadata": {},
   "source": [
    "### Representation\n",
    "\n",
    "To represent the graphs, two data structures as very common practices are well-known. One has a purely arithmetic representation (*adjacency matrix*), and the other has a mixed arithmetic and chain representation (*edge list* or *neighborhood list*).\n",
    "\n",
    "#### Adjacency matrix representation\n",
    "\n",
    "In graph theory and computer science, an adjacency matrix is a square matrix. Its elements indicate whether pairs of vertices are adjacent in the graph or not.\n",
    "\n",
    "![Example graph](../images/13_graph.png \"Source: http://tamop412.elte.hu/tananyagok/algoritmusok/\")\n",
    "\n",
    "![Adjacency matrix representation](../images/13_adjacency_matrix.png \"Source: http://tamop412.elte.hu/tananyagok/algoritmusok/\")\n",
    "\n",
    "#### Edge list representation\n",
    "\n",
    "The edge list is a data structure used to represent a graph as a list of its edges for each vertices.\n",
    "The internal data structures of *NetworkX* is based on the *adjacency list* representation and implemented using Python dictionary data structures.\n",
    "\n",
    "![Edge list representation](../images/13_edge_list_1.png \"Source: http://tamop412.elte.hu/tananyagok/algoritmusok/\")\n",
    "\n",
    "![Edge list representation](../images/13_edge_list_1.png \"Source: http://tamop412.elte.hu/tananyagok/algoritmusok/\")\n"
   ]
  },
  {
   "cell_type": "markdown",
   "metadata": {},
   "source": [
    "## Building a graph from scratch"
   ]
  },
  {
   "cell_type": "markdown",
   "metadata": {},
   "source": [
    "We can add nodes and edges to a graph:"
   ]
  },
  {
   "cell_type": "code",
   "execution_count": null,
   "metadata": {},
   "outputs": [],
   "source": [
    "graph.add_node(1)\n",
    "graph.add_node(2)\n",
    "graph.add_node(3)\n",
    "graph.add_node(4)\n",
    "graph.add_node(5)\n",
    "graph.add_node(6)\n",
    "graph.add_node(7)\n",
    "graph.add_node(8)"
   ]
  },
  {
   "cell_type": "code",
   "execution_count": null,
   "metadata": {},
   "outputs": [],
   "source": [
    "graph.add_edge(1, 2)\n",
    "graph.add_edge(1, 3)\n",
    "graph.add_edge(1, 4)\n",
    "graph.add_edge(2, 3)\n",
    "graph.add_edge(2, 5)\n",
    "graph.add_edge(2, 6)\n",
    "graph.add_edge(3, 6)\n",
    "graph.add_edge(4, 5)\n",
    "graph.add_edge(4, 7)"
   ]
  },
  {
   "cell_type": "markdown",
   "metadata": {},
   "source": [
    "Adding an edge to a non-existing node will also create that particular node:"
   ]
  },
  {
   "cell_type": "code",
   "execution_count": null,
   "metadata": {},
   "outputs": [],
   "source": [
    "graph.add_edge(1, 9)"
   ]
  },
  {
   "cell_type": "markdown",
   "metadata": {},
   "source": [
    "## Graph visualization with Matplotlib"
   ]
  },
  {
   "cell_type": "markdown",
   "metadata": {},
   "source": [
    "*NetworkX* has **tight integration** with *matplotlib*, therefore visualization of a graph can be done easily."
   ]
  },
  {
   "cell_type": "code",
   "execution_count": null,
   "metadata": {},
   "outputs": [],
   "source": [
    "import matplotlib.pyplot as plt\n",
    "\n",
    "# Special Jupyter Notebook command, so the plots by matplotlib will be displayed inside the Jupyter Notebook\n",
    "%matplotlib inline\n",
    "\n",
    "nx.draw_networkx(graph)\n",
    "plt.show()"
   ]
  },
  {
   "cell_type": "markdown",
   "metadata": {},
   "source": [
    "---"
   ]
  },
  {
   "cell_type": "markdown",
   "metadata": {},
   "source": [
    "## Building a graph from a *pandas* DataFrame"
   ]
  },
  {
   "cell_type": "markdown",
   "metadata": {},
   "source": [
    "Let's use the following basic dataset of airroutes flight data:\n",
    " 1. From city\n",
    " 2. To city\n",
    " 3. Distance\n",
    "\n",
    "The dataset is given in the `flights.csv` file in the `data` folder. The used delimiter is the semicolon (`;`) character."
   ]
  },
  {
   "cell_type": "markdown",
   "metadata": {},
   "source": [
    "Parse the CSV file into a *pandas* DataFrame:"
   ]
  },
  {
   "cell_type": "code",
   "execution_count": null,
   "metadata": {},
   "outputs": [],
   "source": [
    "import pandas as pd\n",
    "\n",
    "flight_table = pd.read_csv('../data/flights.csv', delimiter = ';')\n",
    "display(flight_table)"
   ]
  },
  {
   "cell_type": "markdown",
   "metadata": {},
   "source": [
    "*NetworkX* has a **from** and **to** conversion for *pandas* DataFrames. Assuming all airroutes are bi-directional, build an undirected graph:"
   ]
  },
  {
   "cell_type": "code",
   "execution_count": null,
   "metadata": {},
   "outputs": [],
   "source": [
    "flight_graph = nx.from_pandas_edgelist(flight_table, 'From city', 'To city')\n",
    "plt.figure(figsize=[15,8])\n",
    "nx.draw_networkx(flight_graph, node_color = 'lightgreen')\n",
    "plt.show()"
   ]
  },
  {
   "cell_type": "markdown",
   "metadata": {},
   "source": [
    "You can define the type of the graph with the optional `create_using` parameter. Its default value is `Graph`.\n",
    "```python\n",
    "nx.from_pandas_edgelist(flight_table, 'From city', 'To city', create_using = nx.DiGraph)\n",
    "```"
   ]
  },
  {
   "cell_type": "markdown",
   "metadata": {},
   "source": [
    "---"
   ]
  },
  {
   "cell_type": "markdown",
   "metadata": {},
   "source": [
    "## Building a graph from a CSV file *(optional)*"
   ]
  },
  {
   "cell_type": "markdown",
   "metadata": {},
   "source": [
    "As an alternative solution a CSV file can be processed line-by-line with the built-in **csv** Python package:"
   ]
  },
  {
   "cell_type": "code",
   "execution_count": null,
   "metadata": {},
   "outputs": [],
   "source": [
    "import csv\n",
    "\n",
    "flight_graph = nx.Graph()\n",
    "\n",
    "csv_file = open('../data/flights.csv')\n",
    "csv_reader = csv.reader(csv_file, delimiter=';')\n",
    "next(csv_reader, None) # skip header line\n",
    "for row in csv_reader:\n",
    "    print('Reading flight {0} <=> {1}, distance: {2}km'.format(row[0], row[1], row[2]))\n",
    "    flight_graph.add_edge(row[0], row[1])\n",
    "csv_file.close()\n",
    "\n",
    "plt.figure(figsize=[15,8])\n",
    "nx.draw_networkx(flight_graph, node_color = 'lightgreen')\n",
    "plt.show()"
   ]
  },
  {
   "cell_type": "markdown",
   "metadata": {},
   "source": [
    "Closing an opened file is easy to forget and a common programmer mistake. Use the `with` statement, which will automatically close the file (if it was successfully opened):"
   ]
  },
  {
   "cell_type": "code",
   "execution_count": null,
   "metadata": {},
   "outputs": [],
   "source": [
    "flight_graph = nx.Graph()\n",
    "\n",
    "with open('../data/flights.csv') as csv_file:\n",
    "    csv_reader = csv.reader(csv_file, delimiter=';')\n",
    "    next(csv_reader, None) # skip header line\n",
    "    for row in csv_reader:\n",
    "        #print('Reading flight {0} <=> {1}, distance: {2}km'.format(row[0], row[1], row[2]))\n",
    "        flight_graph.add_edge(row[0], row[1])\n",
    "\n",
    "plt.figure(figsize=[15,8])\n",
    "nx.draw_networkx(flight_graph, node_color = 'lightgreen')\n",
    "plt.show()"
   ]
  },
  {
   "cell_type": "markdown",
   "metadata": {},
   "source": [
    "---"
   ]
  },
  {
   "cell_type": "markdown",
   "metadata": {},
   "source": [
    "## Analyzing the graph"
   ]
  },
  {
   "cell_type": "markdown",
   "metadata": {},
   "source": [
    "### Querying the size and degree information"
   ]
  },
  {
   "cell_type": "code",
   "execution_count": null,
   "metadata": {},
   "outputs": [],
   "source": [
    "print('Number of nodes: {0}'.format(flight_graph.order()))\n",
    "print('Number of edges:{0}'.format(flight_graph.size()))\n",
    "print('Degrees of the nodes: {0}'.format(flight_graph.degree()))"
   ]
  },
  {
   "cell_type": "markdown",
   "metadata": {},
   "source": [
    "For *directed graphs*, there is also `in_degree` and `out_degree` defined."
   ]
  },
  {
   "cell_type": "markdown",
   "metadata": {},
   "source": [
    "### Iterate through the nodes"
   ]
  },
  {
   "cell_type": "code",
   "execution_count": null,
   "metadata": {},
   "outputs": [],
   "source": [
    "for node in flight_graph.nodes:\n",
    "    print(node)"
   ]
  },
  {
   "cell_type": "markdown",
   "metadata": {},
   "source": [
    "*Note: iterating through the graph itself (`flight_graph`) is the same.*"
   ]
  },
  {
   "cell_type": "markdown",
   "metadata": {},
   "source": [
    "### Iterate through the edges"
   ]
  },
  {
   "cell_type": "code",
   "execution_count": null,
   "metadata": {},
   "outputs": [],
   "source": [
    "for from_node, to_node in flight_graph.edges:\n",
    "    print(\"{0} <=> {1}\".format(from_node, to_node))"
   ]
  },
  {
   "cell_type": "markdown",
   "metadata": {},
   "source": [
    "### Query the neighbors of a node"
   ]
  },
  {
   "cell_type": "code",
   "execution_count": null,
   "metadata": {},
   "outputs": [],
   "source": [
    "for neighbor in flight_graph.neighbors('Budapest'):\n",
    "    print(neighbor)"
   ]
  },
  {
   "cell_type": "markdown",
   "metadata": {},
   "source": [
    "Pay attention that it is written as `neighbors` (American English) and *NOT* `neighbours` (British English)."
   ]
  },
  {
   "cell_type": "markdown",
   "metadata": {},
   "source": [
    "### Check node and edge existence"
   ]
  },
  {
   "cell_type": "code",
   "execution_count": null,
   "metadata": {},
   "outputs": [],
   "source": [
    "if flight_graph.has_node('Budapest'):\n",
    "    print('The Budapest node exists.')\n",
    "if flight_graph.has_edge('Budapest', 'Paris'):\n",
    "    print('The Budapest <=> Paris edge exists.')"
   ]
  },
  {
   "cell_type": "markdown",
   "metadata": {},
   "source": [
    "---"
   ]
  },
  {
   "cell_type": "markdown",
   "metadata": {},
   "source": [
    "## Weighted graphs"
   ]
  },
  {
   "cell_type": "markdown",
   "metadata": {},
   "source": [
    "Attributes (metadata) can be assigned to the nodes and edges of a graph."
   ]
  },
  {
   "cell_type": "markdown",
   "metadata": {},
   "source": [
    "### Building weighted graphs"
   ]
  },
  {
   "cell_type": "markdown",
   "metadata": {},
   "source": [
    "When creating the graph from a *pandas* DataFrame, the 4<sup>th</sup> parameter of the `from_pandas_edgelist` function defines which *Series* (columns) of the *DataFrame* shall be added to the edges as attributes. If `True`, all the remaining columns will be added. If `None`, no edge attributes are added to the graph. Its default value is `None`."
   ]
  },
  {
   "cell_type": "code",
   "execution_count": null,
   "metadata": {},
   "outputs": [],
   "source": [
    "flight_graph = nx.from_pandas_edgelist(flight_table, 'From city', 'To city', ['Distance'])\n",
    "plt.figure(figsize=[15,8])\n",
    "nx.draw_networkx(flight_graph, node_color = 'lightgreen')\n",
    "plt.show()"
   ]
  },
  {
   "cell_type": "markdown",
   "metadata": {},
   "source": [
    "*Optional:* when building a graph \"manually\", the node and edge attributes can be passed to the `add_node` an `add_edge` methods."
   ]
  },
  {
   "cell_type": "code",
   "execution_count": null,
   "metadata": {},
   "outputs": [],
   "source": [
    "flight_graph = nx.Graph()\n",
    "\n",
    "with open('../data/flights.csv') as csv_file:\n",
    "    csv_reader = csv.reader(csv_file, delimiter=';')\n",
    "    next(csv_reader, None) # skip header line\n",
    "    for row in csv_reader:\n",
    "        print('Reading flight {0} <=> {1}, distance: {2}km'.format(row[0], row[1], row[2]))\n",
    "        flight_graph.add_edge(row[0], row[1], dist = row[2])"
   ]
  },
  {
   "cell_type": "markdown",
   "metadata": {},
   "source": [
    "### Query the edge metadata"
   ]
  },
  {
   "cell_type": "markdown",
   "metadata": {},
   "source": [
    "The metadata, called the *weight* of an edge can be queried then:"
   ]
  },
  {
   "cell_type": "code",
   "execution_count": null,
   "metadata": {},
   "outputs": [],
   "source": [
    "print('Metadata for the Budapest <=> Paris edge: {0}'.format(flight_graph['Budapest']['Paris']))\n",
    "print('Metadata for all edges from Budapest: {0}'.format(flight_graph['Budapest']))"
   ]
  },
  {
   "cell_type": "markdown",
   "metadata": {},
   "source": [
    "---"
   ]
  },
  {
   "cell_type": "markdown",
   "metadata": {},
   "source": [
    "## Further readings\n",
    "\n",
    "* Check out the official [NetworkX tutorial](https://networkx.github.io/documentation/stable/tutorial.html).\n",
    "* Browse the official [NetworkX reference](https://networkx.github.io/documentation/stable/reference/index.html)."
   ]
  },
  {
   "cell_type": "markdown",
   "metadata": {},
   "source": [
    "---"
   ]
  },
  {
   "cell_type": "markdown",
   "metadata": {},
   "source": [
    "## Breadth-first search"
   ]
  },
  {
   "cell_type": "markdown",
   "metadata": {},
   "source": [
    "Breadth-first search (*BFS*) is an algorithm for traversing or searching a graph. It starts at some arbitrary node of a graph, and explores all the neighbour nodes at the present depth prior to moving on to the nodes at the next depth level.\n",
    "\n",
    "![Breadth-first search](../images/13_bfs.png \"Source: http://tamop412.elte.hu/tananyagok/algoritmusok/\")"
   ]
  },
  {
   "cell_type": "markdown",
   "metadata": {},
   "source": [
    "The breadth-first search traversal can be implemented with a *queue* data structure (see [Chapter 7](07_collections.ipynb#Queues)).  \n",
    "As a showcase, let's request a starting city from the user and a number of maximum flights. Calculate which cities can be reached!\n",
    "Handle the case of a not existing starting city."
   ]
  },
  {
   "cell_type": "code",
   "execution_count": null,
   "metadata": {},
   "outputs": [],
   "source": [
    "from collections import deque\n",
    "\n",
    "start_city = input('Start city: ')\n",
    "flight_count = int(input('Max number of flights: '))\n",
    "\n",
    "# Check existence of start city\n",
    "if flight_graph.has_node(start_city):\n",
    "    ready_list = []\n",
    "    process_queue = deque([(start_city, 0)])\n",
    "    \n",
    "    # Process until queue is empty\n",
    "    while len(process_queue) > 0:\n",
    "        # Move first item of process queue to ready list\n",
    "        process_item = process_queue.popleft()\n",
    "        process_city, process_dist = process_item \n",
    "        ready_list.append(process_item)\n",
    "        \n",
    "        # NOTE: if process_dist > flight_count, we can halt the algorithm here, \n",
    "        # all reachable cities are in the ready list\n",
    "        #if process_dist > flight_count:\n",
    "        #    break\n",
    "        \n",
    "        # \"Expand\" the processed node: add its neighbors to the process queue\n",
    "        for neighbor_city in flight_graph.neighbors(process_city):\n",
    "            # Only add neighbors which are not already in the ready list or the process_queue\n",
    "            found = (neighbor_city in [city for city, dist in process_queue] or \n",
    "                     neighbor_city in [city for city, dist in ready_list])\n",
    "            \n",
    "            if not found:\n",
    "                process_queue.append((neighbor_city, process_dist + 1))\n",
    "    \n",
    "    # Display results\n",
    "    for city, dist in ready_list:\n",
    "        if dist <= flight_count:\n",
    "            print(city)\n",
    "else:\n",
    "    print('{0} city is unknown' % start_city)"
   ]
  },
  {
   "cell_type": "markdown",
   "metadata": {},
   "source": [
    "*NetworkX* contains several [traversal algorithms](https://networkx.github.io/documentation/stable/reference/algorithms/traversal.html) out of the box, so we don't need to reimplement them."
   ]
  },
  {
   "cell_type": "code",
   "execution_count": null,
   "metadata": {},
   "outputs": [],
   "source": [
    "start_city = input('Start city: ')\n",
    "flight_count = int(input('Max number of flights: '))\n",
    "\n",
    "# Check existence of start city\n",
    "if flight_graph.has_node(start_city):\n",
    "    reachable_cities = [ start_city ]\n",
    "\n",
    "    # Do breadth first search\n",
    "    successors = nx.bfs_successors(flight_graph, start_city, flight_count - 1)\n",
    "    for item in successors:\n",
    "        print('{0} -> {1}'.format(item[0], item[1]))\n",
    "        reachable_cities += item[1]\n",
    "\n",
    "    print('Reachable cities: {0}'.format(reachable_cities))\n",
    "else:\n",
    "    print('{0} city is unknown'.format(start_city))"
   ]
  }
 ],
 "metadata": {
  "kernelspec": {
   "display_name": "Python 3",
   "language": "python",
   "name": "python3"
  },
  "language_info": {
   "codemirror_mode": {
    "name": "ipython",
    "version": 3
   },
   "file_extension": ".py",
   "mimetype": "text/x-python",
   "name": "python",
   "nbconvert_exporter": "python",
   "pygments_lexer": "ipython3",
   "version": "3.8.5"
  }
 },
 "nbformat": 4,
 "nbformat_minor": 4
}