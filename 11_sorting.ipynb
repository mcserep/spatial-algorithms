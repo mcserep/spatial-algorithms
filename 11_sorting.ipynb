{
 "cells": [
  {
   "cell_type": "markdown",
   "metadata": {},
   "source": [
    "# Chapter 11: Sorting"
   ]
  },
  {
   "cell_type": "markdown",
   "metadata": {},
   "source": [
    "Generate a list of random numbers to sort:"
   ]
  },
  {
   "cell_type": "code",
   "execution_count": null,
   "metadata": {},
   "outputs": [],
   "source": [
    "import random\n",
    "\n",
    "originalNumbers = [random.randint(1, 100) for _ in range(20)]\n",
    "print(originalNumbers)"
   ]
  },
  {
   "cell_type": "markdown",
   "metadata": {},
   "source": [
    "## Bubble sort"
   ]
  },
  {
   "cell_type": "markdown",
   "metadata": {},
   "source": [
    "*Bubble sort* is a simple sorting algorithms that works by repeatedly swapping the adjacent elements if they are in wrong order. In one iteration the largest element will be moved to the end of the array, thus reducting the problem to a shorter array.\n",
    "\n",
    "![Bubble sort example](images/11_bubble_sort.png \"Source: http://tamop412.elte.hu/tananyagok/algoritmusok/\")"
   ]
  },
  {
   "cell_type": "code",
   "execution_count": null,
   "metadata": {},
   "outputs": [],
   "source": []
  },
  {
   "cell_type": "markdown",
   "metadata": {},
   "source": [
    "**Question:** what is the asymptotic computational complexity of the algorithm?"
   ]
  },
  {
   "cell_type": "markdown",
   "metadata": {},
   "source": [
    "## Insertion sort"
   ]
  },
  {
   "cell_type": "markdown",
   "metadata": {},
   "source": [
    "*Insertion sort* is a simple sorting algorithm that maintains a sorted and an unsorted part of the array. Values from the unsorted part are picked and placed at the correct position in the sorted part.\n",
    "\n",
    "![Insertion sort example](images/11_insertion_sort.png \"Source: http://tamop412.elte.hu/tananyagok/algoritmusok/\")"
   ]
  },
  {
   "cell_type": "code",
   "execution_count": null,
   "metadata": {},
   "outputs": [],
   "source": []
  },
  {
   "cell_type": "markdown",
   "metadata": {},
   "source": [
    "**Question:** what is the asymptotic computational complexity of the algorithm?"
   ]
  },
  {
   "cell_type": "markdown",
   "metadata": {},
   "source": [
    "## Maximum sort (a.k.a. Selection sort)"
   ]
  },
  {
   "cell_type": "markdown",
   "metadata": {},
   "source": [
    "*Maximum sort* algorithm sorts an array of elements by repeatedly finding the maxiumum element (considering ascending order) from an unsorted part and putting it at the end of it. Then the length of the unsorted part is reduced by 1.  \n",
    "The algorithm can also formulated as a *Minimum sort* and combined they often they named *Selection sort*.\n",
    "\n",
    "![Maxium sort example](images/11_maximum_sort.png \"Source: http://tamop412.elte.hu/tananyagok/algoritmusok/\")"
   ]
  },
  {
   "cell_type": "code",
   "execution_count": null,
   "metadata": {},
   "outputs": [],
   "source": []
  },
  {
   "cell_type": "markdown",
   "metadata": {},
   "source": [
    "**Question:** what is the asymptotic computational complexity of the algorithm?"
   ]
  },
  {
   "cell_type": "markdown",
   "metadata": {},
   "source": [
    "## Quicksort"
   ]
  },
  {
   "cell_type": "markdown",
   "metadata": {},
   "source": [
    "*Quicksort* is a *Divide and Conquer* algorithm. It picks an element as *pivot* and partitions the given array around the picked pivot. Th partioning is executed that the algorithm puts the smaller element to the left of the piot and the larger elements to the right of the pivot. Then the algorithm is executed recursively on the partitions.\n",
    "\n",
    "There are many different versions on how to pick a \"good\" pivot element, the simplest solution is to always pick the first element.\n",
    "\n",
    "![Quicksort example](images/11_quicksort.png \"Source: http://tamop412.elte.hu/tananyagok/algoritmusok/\")"
   ]
  },
  {
   "cell_type": "markdown",
   "metadata": {},
   "source": [
    "*Divide And Conquer* algorithms in general works as follows:\n",
    " - *Divide*: Divide the problem into more sub problem.\n",
    " - *Conquer*: Solve the sub problems by calling recursively until sub problem solved is trivially solved."
   ]
  },
  {
   "cell_type": "code",
   "execution_count": null,
   "metadata": {},
   "outputs": [],
   "source": []
  },
  {
   "cell_type": "markdown",
   "metadata": {},
   "source": [
    "**Question:** what is the asymptotic computational complexity of the algorithm?"
   ]
  },
  {
   "cell_type": "markdown",
   "metadata": {},
   "source": [
    "There are further algorithms with this complexity, see **Merge sort**, **Heap sort** ort **Tournament sort**."
   ]
  }
 ],
 "metadata": {
  "kernelspec": {
   "display_name": "Python 3",
   "language": "python",
   "name": "python3"
  },
  "language_info": {
   "codemirror_mode": {
    "name": "ipython",
    "version": 3
   },
   "file_extension": ".py",
   "mimetype": "text/x-python",
   "name": "python",
   "nbconvert_exporter": "python",
   "pygments_lexer": "ipython3",
   "version": "3.8.5"
  }
 },
 "nbformat": 4,
 "nbformat_minor": 4
}
