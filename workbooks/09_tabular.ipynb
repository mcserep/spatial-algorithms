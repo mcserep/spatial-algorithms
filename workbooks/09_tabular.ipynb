{
 "cells": [
  {
   "cell_type": "markdown",
   "metadata": {},
   "source": [
    "# Chapter 9: Tabular data"
   ]
  },
  {
   "cell_type": "markdown",
   "metadata": {},
   "source": [
    "The **pandas** package is a high-level data manipulation tool for Python. \n",
    "\n",
    "The name *pandas* is derived from the term \"panel data\", an econometrics term for data sets that include observations over multiple time periods for the same individuals."
   ]
  },
  {
   "cell_type": "markdown",
   "metadata": {},
   "source": [
    "## How to install pandas?"
   ]
  },
  {
   "cell_type": "markdown",
   "metadata": {},
   "source": [
    "If you have Anaconda installed, then pandas was already installed together with it.\n",
    "\n",
    "If you have a standalone Python3 and Jupyter Notebook installation, open a command prompt / terminal and type in:\n",
    "```\n",
    "pip3 install pandas xlrd openpyxl\n",
    "```\n",
    "\n",
    "The `xlrd` and `openpyxl` packages are required for managing Microsoft Excel files.  \n",
    "If you have Anaconda installed, these packages were also included in the default installation."
   ]
  },
  {
   "cell_type": "markdown",
   "metadata": {},
   "source": [
    "### Support OpenDocument format\n",
    "\n",
    "The `xlrd` package is used for older format MS Excel files (`.xls`), while `openpyxl` is used for newer format MS Excel files (`.xlsx`).\n",
    "\n",
    "In case support for *OpenDocument* format is required (`.ods` files), e.g. for compatibility with OpenOffice or LibreOffice, the `odf` package can be used:\n",
    " - Install with Anaconda Command Prompt: `conda install odf`\n",
    " - Install with Python Package Installer: `pip3 install odf`"
   ]
  },
  {
   "cell_type": "markdown",
   "metadata": {},
   "source": [
    "## How to use pandas?"
   ]
  },
  {
   "cell_type": "markdown",
   "metadata": {},
   "source": [
    "The pandas package is a module which you can simply import. It is usually aliased with the `pd` abbreviation:\n",
    "```python\n",
    "import pandas as pd\n",
    "```"
   ]
  },
  {
   "cell_type": "markdown",
   "metadata": {},
   "source": [
    "---"
   ]
  },
  {
   "cell_type": "markdown",
   "metadata": {},
   "source": [
    "## Series and Dataframes"
   ]
  },
  {
   "cell_type": "markdown",
   "metadata": {},
   "source": [
    "The primary two components of pandas are the **Series** and **DataFrame**.\n",
    "\n",
    "A *Series* is essentially a column, and a *DataFrame* is a multi-dimensional table made up of a collection of *Series*.\n",
    "\n",
    "<img alt=\"Series and Dataframes\" src=\"../images/09_series_dataframe.png\" title=\"Source: https://www.learndatasci.com/\" style=\"width: 600px; margin: auto;\"/>"
   ]
  },
  {
   "cell_type": "markdown",
   "metadata": {},
   "source": [
    "We can work with DataFrames and Series in a similar way, since many operations support both of them. (E.g. calculating the mean value of a Series or a DataFrame.)"
   ]
  },
  {
   "cell_type": "markdown",
   "metadata": {},
   "source": [
    "### Create a DataFrame from scratch"
   ]
  },
  {
   "cell_type": "markdown",
   "metadata": {},
   "source": [
    "A Python *dictionary* can easily be converted to a pandas *DataFrame*. Each `(key, value)` tuple in the dictionary corresponds to a column in the resulting DataFrame. The values in the rows for each column are given as lists."
   ]
  },
  {
   "cell_type": "code",
   "execution_count": null,
   "metadata": {},
   "outputs": [],
   "source": [
    "import pandas as pd\n",
    "\n",
    "data = {\n",
    "    'apples': [3, 2, 0, 1, 5, 0, 4], \n",
    "    'oranges': [0, 3, 7, 2, 1, 6, 2]\n",
    "}\n",
    "\n",
    "df = pd.DataFrame(data)\n",
    "display(df)"
   ]
  },
  {
   "cell_type": "markdown",
   "metadata": {},
   "source": [
    "By default the rows in the DataFrame are *indexed* numerically from 0, but we can set a custom **Index**:"
   ]
  },
  {
   "cell_type": "code",
   "execution_count": null,
   "metadata": {},
   "outputs": [],
   "source": [
    "df = pd.DataFrame(data, index = ['Monday', 'Tuesday', 'Wednesday', 'Thursday', 'Friday', 'Saturday', 'Sunday'])\n",
    "display(df)"
   ]
  },
  {
   "cell_type": "markdown",
   "metadata": {},
   "source": [
    "*Remark:* the `display()` function is a special Jupyter Notebook function to provide \"prettier\" output. Where `display()` is used, `print()` could also be used."
   ]
  },
  {
   "cell_type": "code",
   "execution_count": null,
   "metadata": {},
   "outputs": [],
   "source": [
    "print(df)"
   ]
  },
  {
   "cell_type": "markdown",
   "metadata": {},
   "source": [
    "### Access the columns of a DataFrame"
   ]
  },
  {
   "cell_type": "code",
   "execution_count": null,
   "metadata": {},
   "outputs": [],
   "source": [
    "print('Apples purchased over the week:')\n",
    "print(df['apples']) # df is a DataFrame, df['apples'] is a Series"
   ]
  },
  {
   "cell_type": "markdown",
   "metadata": {},
   "source": [
    "Values of single cells can also be accessed:"
   ]
  },
  {
   "cell_type": "code",
   "execution_count": null,
   "metadata": {},
   "outputs": [],
   "source": [
    "print('Apples purchased on Monday:')\n",
    "print(df['apples']['Monday'])\n",
    "print(df['apples'][0])"
   ]
  },
  {
   "cell_type": "markdown",
   "metadata": {},
   "source": [
    "### Access the rows of a DataFrame"
   ]
  },
  {
   "cell_type": "markdown",
   "metadata": {},
   "source": [
    "Rows can be accessed through the `loc` property with their textual indexes:"
   ]
  },
  {
   "cell_type": "code",
   "execution_count": null,
   "metadata": {},
   "outputs": [],
   "source": [
    "print('Fruits purchased on Monday:')\n",
    "print(df.loc['Monday'])"
   ]
  },
  {
   "cell_type": "markdown",
   "metadata": {},
   "source": [
    "Rows can also be accessed through the `iloc` property with ther numerical indexes:"
   ]
  },
  {
   "cell_type": "code",
   "execution_count": null,
   "metadata": {},
   "outputs": [],
   "source": [
    "print('Fruits purchased on Monday:')\n",
    "print(df.iloc[0])"
   ]
  },
  {
   "cell_type": "markdown",
   "metadata": {},
   "source": [
    "Accessing single cells:"
   ]
  },
  {
   "cell_type": "code",
   "execution_count": null,
   "metadata": {},
   "outputs": [],
   "source": [
    "print('Apples purchased on Monday:')\n",
    "print(df.loc['Monday']['apples'])\n",
    "print(df.loc['Monday'][0])\n",
    "print(df.iloc[0]['apples'])\n",
    "print(df.iloc[0][0])"
   ]
  },
  {
   "cell_type": "markdown",
   "metadata": {},
   "source": [
    "### Iterate over the rows of a DataFrame"
   ]
  },
  {
   "cell_type": "markdown",
   "metadata": {},
   "source": [
    "Manually iterating through all the rows with the `iterrows()` method:"
   ]
  },
  {
   "cell_type": "code",
   "execution_count": null,
   "metadata": {},
   "outputs": [],
   "source": [
    "for index, row in df.iterrows():\n",
    "    print(\"Index: {0}, Apples: {1}, Oranges: {2}\".format(index, row[\"apples\"], row[\"oranges\"]))"
   ]
  },
  {
   "cell_type": "markdown",
   "metadata": {},
   "source": [
    "Alternatively, if only the index values are required, the `df.index` list can be iterated:"
   ]
  },
  {
   "cell_type": "code",
   "execution_count": null,
   "metadata": {},
   "outputs": [],
   "source": [
    "print(df.index)"
   ]
  },
  {
   "cell_type": "markdown",
   "metadata": {},
   "source": [
    "---"
   ]
  },
  {
   "cell_type": "markdown",
   "metadata": {},
   "source": [
    "## Reading external files"
   ]
  },
  {
   "cell_type": "markdown",
   "metadata": {},
   "source": [
    "The *pandas* library has a great support for reading (and writing) external data files, like CSV files, Excel files, JSON files, etc."
   ]
  },
  {
   "cell_type": "markdown",
   "metadata": {},
   "source": [
    "Let's use the *European countries datatset*.\n",
    "The dataset contains the country name, capital city name, area (in km<sup>2</sup>), population (in millions) and the region data for 43 European countries respectively.  \n",
    "*Data source: [EuroStat](https://ec.europa.eu/eurostat/)*\n",
    "\n",
    "The dataset is given in the `data/countries_europe.csv` file, which we can read with th `read_csv()` method, passing the file path and the delimiter symbol (latter will be discussed soon)."
   ]
  },
  {
   "cell_type": "code",
   "execution_count": null,
   "metadata": {},
   "outputs": [],
   "source": [
    "import pandas as pd\n",
    "\n",
    "countries = pd.read_csv('../data/countries_europe.csv', delimiter = ';')\n",
    "display(countries)"
   ]
  },
  {
   "cell_type": "markdown",
   "metadata": {},
   "source": [
    "A **comma-separated values (CSV) file** is a delimited text file that uses a **comma** to separate values. The separator (also called the *delimiter*) can be another character than a comma, often a **semicolon** is used. The default delimiter is the comma, but we can easily configure it int the `read_csv()` method call.\n",
    "\n",
    "A CSV file stores tabular data (numbers and text) in plain text. Each line of the file is a data record. Each record consists of one or more fields, separated by commas. The use of the comma as a field separator is the source of the name for this file format."
   ]
  },
  {
   "cell_type": "markdown",
   "metadata": {},
   "source": [
    "For example:\n",
    "```\n",
    "Country;Capital;Area (km2);Population (millions);Region\n",
    "Albania;Tirana;28748;3.2;Southern\n",
    "Andorra;Andorra la Vella;468;0.07;Western\n",
    "Austria;Vienna;83857;7.6;Western\n",
    "Belgium;Brussels;30519;10;Western\n",
    "Bosnia and Herzegovina;Sarajevo;51130;4.5;Southern\n",
    "Bulgaria;Sofia;110912;9;Southern\n",
    "Czech Republic;Prague;78864;10.4;Central\n",
    "Denmark;Copenhagen;43077;5.1;Northern\n",
    "United Kingdom;London;244100;57.2;Western\n",
    "...\n",
    "```"
   ]
  },
  {
   "cell_type": "markdown",
   "metadata": {},
   "source": [
    "Overwrite the used column names:"
   ]
  },
  {
   "cell_type": "code",
   "execution_count": null,
   "metadata": {},
   "outputs": [],
   "source": [
    "countries.columns = ['country', 'capital', 'area', 'population', 'region']\n",
    "display(countries)"
   ]
  },
  {
   "cell_type": "markdown",
   "metadata": {},
   "source": [
    "Use further reading functions, like `read_excel`, `read_json` to easily load other file formats into a pandas DataFrame."
   ]
  },
  {
   "cell_type": "markdown",
   "metadata": {},
   "source": [
    "The same European country dataset is given in the `data/countries_europe.xls` and `data/countries_europe.xlsx` MS Excel files:"
   ]
  },
  {
   "cell_type": "code",
   "execution_count": null,
   "metadata": {},
   "outputs": [],
   "source": [
    "countries = pd.read_excel('../data/countries_europe.xls')\n",
    "countries.columns = ['country', 'capital', 'area', 'population', 'region']\n",
    "display(countries)"
   ]
  },
  {
   "cell_type": "code",
   "execution_count": null,
   "metadata": {},
   "outputs": [],
   "source": [
    "countries = pd.read_excel('../data/countries_europe.xlsx')\n",
    "countries.columns = ['country', 'capital', 'area', 'population', 'region']\n",
    "display(countries)"
   ]
  },
  {
   "cell_type": "markdown",
   "metadata": {},
   "source": [
    "---"
   ]
  },
  {
   "cell_type": "markdown",
   "metadata": {},
   "source": [
    "## Working with DataFrames"
   ]
  },
  {
   "cell_type": "markdown",
   "metadata": {},
   "source": [
    "Query the row and column count of a DataFrame:"
   ]
  },
  {
   "cell_type": "code",
   "execution_count": null,
   "metadata": {},
   "outputs": [],
   "source": [
    "print('Number of rows: {0}'.format(len(countries)))\n",
    "print('Number of rows: {0}'.format(countries.shape[0]))\n",
    "print('Number of columns: {0}'.format(countries.shape[1]))"
   ]
  },
  {
   "cell_type": "code",
   "execution_count": null,
   "metadata": {},
   "outputs": [],
   "source": [
    "print('Number of rows by columns:')\n",
    "print(countries.count())"
   ]
  },
  {
   "cell_type": "markdown",
   "metadata": {},
   "source": [
    "*Remark*: if a column contains empty cells, we would see different numbers here."
   ]
  },
  {
   "cell_type": "markdown",
   "metadata": {},
   "source": [
    "The first or last few rows of a DataFrame can be fetched with the `head(n)` and `tail(n)` methods. They are especially useful with large DataFrames."
   ]
  },
  {
   "cell_type": "code",
   "execution_count": null,
   "metadata": {
    "collapsed": false,
    "jupyter": {
     "outputs_hidden": false
    },
    "pycharm": {
     "name": "#%%\n"
    }
   },
   "outputs": [],
   "source": [
    "display(countries.head(3))"
   ]
  },
  {
   "cell_type": "code",
   "execution_count": null,
   "metadata": {
    "collapsed": false,
    "jupyter": {
     "outputs_hidden": false
    },
    "pycharm": {
     "name": "#%%\n"
    }
   },
   "outputs": [],
   "source": [
    "display(countries.tail(3))"
   ]
  },
  {
   "cell_type": "markdown",
   "metadata": {
    "pycharm": {
     "name": "#%% md\n"
    }
   },
   "source": [
    "### Add a new column to a DataFrame"
   ]
  },
  {
   "cell_type": "markdown",
   "metadata": {},
   "source": [
    "Calculate the population density of each country and add it as a new column to the `countries` *DataFrame*."
   ]
  },
  {
   "cell_type": "markdown",
   "metadata": {},
   "source": [
    "First, create a list of the density values:"
   ]
  },
  {
   "cell_type": "code",
   "execution_count": null,
   "metadata": {},
   "outputs": [],
   "source": [
    "density = []\n",
    "for i in range(len(countries)):\n",
    "    density.append(countries['population'][i] * 1e6 / countries['area'][i])\n",
    "    \n",
    "print(density)"
   ]
  },
  {
   "cell_type": "markdown",
   "metadata": {},
   "source": [
    "Then add a new column to the DataFrame:"
   ]
  },
  {
   "cell_type": "code",
   "execution_count": null,
   "metadata": {},
   "outputs": [],
   "source": [
    "countries['density'] = density\n",
    "display(countries)"
   ]
  },
  {
   "cell_type": "markdown",
   "metadata": {},
   "source": [
    "### Calculating aggregated values"
   ]
  },
  {
   "cell_type": "markdown",
   "metadata": {},
   "source": [
    "Summation, mean and median values:"
   ]
  },
  {
   "cell_type": "code",
   "execution_count": null,
   "metadata": {},
   "outputs": [],
   "source": [
    "print(\"Sum population: {0:.2f} million\".format(countries[\"population\"].sum()))\n",
    "print(\"Mean population: {0:.2f} million\".format(countries[\"population\"].mean()))\n",
    "print(\"Median population: {0:.2f} million\".format(countries[\"population\"].median()))"
   ]
  },
  {
   "cell_type": "markdown",
   "metadata": {},
   "source": [
    "Maximum and minimum values and their indexes:"
   ]
  },
  {
   "cell_type": "code",
   "execution_count": null,
   "metadata": {},
   "outputs": [],
   "source": [
    "print(\"Max population:{0:.2f} million\".format(countries[\"population\"].max()))\n",
    "print(\"Max population index: {0}\".format(countries[\"population\"].idxmax()))\n",
    "print(\"Min population:{0:.2f} million\".format(countries[\"population\"].min()))\n",
    "print(\"Min population index: {0}\".format(countries[\"population\"].idxmin()))"
   ]
  },
  {
   "cell_type": "markdown",
   "metadata": {},
   "source": [
    "Standard deviation:"
   ]
  },
  {
   "cell_type": "code",
   "execution_count": null,
   "metadata": {},
   "outputs": [],
   "source": [
    "print(\"Standard deviation of population: {0:.2f} million\".format(countries[\"population\"].std()))"
   ]
  },
  {
   "cell_type": "markdown",
   "metadata": {},
   "source": [
    "Quantile calculation:"
   ]
  },
  {
   "cell_type": "code",
   "execution_count": null,
   "metadata": {},
   "outputs": [],
   "source": [
    "print(\"The 90% quantile for the European countries:\")\n",
    "print(countries.quantile(0.9))"
   ]
  },
  {
   "cell_type": "markdown",
   "metadata": {},
   "source": [
    "Which means that e.g. the top 5 countries (top 10%) has a higher population than 49.2 million."
   ]
  },
  {
   "cell_type": "markdown",
   "metadata": {},
   "source": [
    "Calculate all basic statistical data for all columns at once:"
   ]
  },
  {
   "cell_type": "code",
   "execution_count": null,
   "metadata": {},
   "outputs": [],
   "source": [
    "display(countries.describe())"
   ]
  },
  {
   "cell_type": "markdown",
   "metadata": {},
   "source": [
    "### Sorting the DataFrame"
   ]
  },
  {
   "cell_type": "markdown",
   "metadata": {},
   "source": [
    "A DataFrame can be sorted into a **new** DataFrame through the `sort_values` function. The original DataFrame remains intact."
   ]
  },
  {
   "cell_type": "code",
   "execution_count": null,
   "metadata": {},
   "outputs": [],
   "source": [
    "bypopulation = countries.sort_values(by = 'population', ascending = False)\n",
    "display(bypopulation)"
   ]
  },
  {
   "cell_type": "markdown",
   "metadata": {},
   "source": [
    "Note that the row indices remained intact.  \n",
    "**Task:** which countries will display the following code cell?"
   ]
  },
  {
   "cell_type": "code",
   "execution_count": null,
   "metadata": {},
   "outputs": [],
   "source": [
    "print(bypopulation.loc[0])\n",
    "print()\n",
    "print(bypopulation.iloc[0])"
   ]
  },
  {
   "cell_type": "markdown",
   "metadata": {},
   "source": [
    "Now we can e.g. verify that the top 5 countries (top 10%) has a higher population than 49.2 million:"
   ]
  },
  {
   "cell_type": "code",
   "execution_count": null,
   "metadata": {},
   "outputs": [],
   "source": [
    "print(\"Population of the 4th country: {0:.1f} million\".format(bypopulation.iloc[4][\"population\"]))\n",
    "print(\"Population of the 5th country: {0:.1f} million\".format(bypopulation.iloc[5][\"population\"]))"
   ]
  },
  {
   "cell_type": "markdown",
   "metadata": {},
   "source": [
    "*Note:* a DataFrame can be sorted by modifying it (and without creating a new one) by passing the `inplace = True` argument to the `sort_values()` method:\n",
    "```python\n",
    "countries.sort_values(by = 'population', ascending = False, inplace = True)\n",
    "```"
   ]
  },
  {
   "cell_type": "markdown",
   "metadata": {
    "pycharm": {
     "name": "#%% md\n"
    }
   },
   "source": [
    "#### Sorting by multiple columns"
   ]
  },
  {
   "cell_type": "markdown",
   "metadata": {
    "pycharm": {
     "name": "#%% md\n"
    }
   },
   "source": [
    "A *DataFrame* can be sorted using multiple columns, by passing a list of columns to the `by` parameter. (And a list of boolean values to the `ascending` parameter.)"
   ]
  },
  {
   "cell_type": "code",
   "execution_count": null,
   "metadata": {
    "collapsed": false,
    "jupyter": {
     "outputs_hidden": false
    },
    "pycharm": {
     "name": "#%%\n"
    }
   },
   "outputs": [],
   "source": [
    "byregion = countries.sort_values(by = ['region', 'population'], ascending = [True, False])\n",
    "display(byregion)"
   ]
  },
  {
   "cell_type": "markdown",
   "metadata": {},
   "source": [
    "### Indexing the DataFrame"
   ]
  },
  {
   "cell_type": "markdown",
   "metadata": {},
   "source": [
    "We can assign one of the columns as the index column. The indexer column must contain unique values."
   ]
  },
  {
   "cell_type": "code",
   "execution_count": null,
   "metadata": {},
   "outputs": [],
   "source": [
    "countries_indexed = countries.set_index('country')\n",
    "display(countries_indexed)"
   ]
  },
  {
   "cell_type": "markdown",
   "metadata": {},
   "source": [
    "In the indexed *DataFrame*, rows can be accessed through the values of the index column with the already used `loc` property:"
   ]
  },
  {
   "cell_type": "code",
   "execution_count": null,
   "metadata": {},
   "outputs": [],
   "source": [
    "print(countries_indexed.loc[\"Hungary\"])"
   ]
  },
  {
   "cell_type": "markdown",
   "metadata": {},
   "source": [
    "*Remark:* by default the `set_index()` method call removes the indexer column. We can keep the indexer column also as a \"normal\" column through setting the `drop` parameter to `False`."
   ]
  },
  {
   "cell_type": "code",
   "execution_count": null,
   "metadata": {},
   "outputs": [],
   "source": [
    "countries_indexed = countries.set_index('country', drop = False)\n",
    "display(countries_indexed)"
   ]
  },
  {
   "cell_type": "markdown",
   "metadata": {},
   "source": [
    "### Filtering the DataFrame"
   ]
  },
  {
   "cell_type": "markdown",
   "metadata": {},
   "source": [
    "Configure a condition as a boolean expression:"
   ]
  },
  {
   "cell_type": "code",
   "execution_count": null,
   "metadata": {},
   "outputs": [],
   "source": [
    "condition = countries[\"region\"] == \"Central\"\n",
    "print(type(condition))"
   ]
  },
  {
   "cell_type": "markdown",
   "metadata": {},
   "source": [
    "As we have seen, the result is a *Series*, so a new column! Evaluate it:"
   ]
  },
  {
   "cell_type": "code",
   "execution_count": null,
   "metadata": {},
   "outputs": [],
   "source": [
    "print(condition)"
   ]
  },
  {
   "cell_type": "markdown",
   "metadata": {},
   "source": [
    "The series in the `condition` variable stores the boolean `True` / `False` value for each row, whether the profit was positive for that row or not."
   ]
  },
  {
   "cell_type": "markdown",
   "metadata": {},
   "source": [
    "Now filter the DataFrame by the condition. As we can observe, only the rows with the logical `True` value in the `condition` series remained:"
   ]
  },
  {
   "cell_type": "code",
   "execution_count": null,
   "metadata": {},
   "outputs": [],
   "source": [
    "centralEuropean = countries[condition]\n",
    "display(centralEuropean)"
   ]
  },
  {
   "cell_type": "markdown",
   "metadata": {},
   "source": [
    "The whole workflow can be achieved in a single statement:"
   ]
  },
  {
   "cell_type": "code",
   "execution_count": null,
   "metadata": {},
   "outputs": [],
   "source": [
    "display(countries[countries[\"region\"] == \"Central\"])"
   ]
  },
  {
   "cell_type": "markdown",
   "metadata": {},
   "source": [
    "---"
   ]
  },
  {
   "cell_type": "markdown",
   "metadata": {},
   "source": [
    "## Summary exercise on DataFrames"
   ]
  },
  {
   "cell_type": "markdown",
   "metadata": {},
   "source": [
    "### Task 1"
   ]
  },
  {
   "cell_type": "markdown",
   "metadata": {},
   "source": [
    "Display the name of the countries which have a population of less than 1 million."
   ]
  },
  {
   "cell_type": "code",
   "execution_count": null,
   "metadata": {},
   "outputs": [],
   "source": []
  },
  {
   "cell_type": "markdown",
   "metadata": {},
   "source": [
    "### Task 2"
   ]
  },
  {
   "cell_type": "markdown",
   "metadata": {},
   "source": [
    "Write a program that calculates which Western-European country has the largest area?"
   ]
  },
  {
   "cell_type": "markdown",
   "metadata": {},
   "source": [
    "---"
   ]
  },
  {
   "cell_type": "markdown",
   "metadata": {},
   "source": [
    "## Write DataFrame to file"
   ]
  },
  {
   "cell_type": "markdown",
   "metadata": {},
   "source": [
    "*Pandas* also support to save the (modified) DataFrames to CSV files with the [`to_csv()`](https://pandas.pydata.org/docs/reference/api/pandas.DataFrame.to_csv.html) function. Optionally, the delimiter character for columns can also be defined instead of the default `,` (comma)."
   ]
  },
  {
   "cell_type": "code",
   "execution_count": null,
   "metadata": {},
   "outputs": [],
   "source": [
    "countries.to_csv('09_countries.csv', sep=';')"
   ]
  },
  {
   "cell_type": "markdown",
   "metadata": {},
   "source": [
    "Saving to Excel files are also supported. The sheet name can also be set. For more information see [`to_excel()`](https://pandas.pydata.org/docs/reference/api/pandas.DataFrame.to_excel.html)."
   ]
  },
  {
   "cell_type": "code",
   "execution_count": null,
   "metadata": {},
   "outputs": [],
   "source": [
    "countries.to_excel('09_countires.xlsx', sheet_name='Countries')"
   ]
  }
 ],
 "metadata": {
  "kernelspec": {
   "display_name": "Python 3",
   "language": "python",
   "name": "python3"
  },
  "language_info": {
   "codemirror_mode": {
    "name": "ipython",
    "version": 3
   },
   "file_extension": ".py",
   "mimetype": "text/x-python",
   "name": "python",
   "nbconvert_exporter": "python",
   "pygments_lexer": "ipython3",
   "version": "3.9.2"
  }
 },
 "nbformat": 4,
 "nbformat_minor": 4
}
