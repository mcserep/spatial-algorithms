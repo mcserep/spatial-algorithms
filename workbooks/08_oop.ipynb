{
 "cells": [
  {
   "cell_type": "markdown",
   "metadata": {},
   "source": [
    "# Chapter 8: Object-oriented programming"
   ]
  },
  {
   "cell_type": "markdown",
   "metadata": {},
   "source": [
    "Python is an *object-oriented* programming language (OOP). **Objects** are an encapsulation of variables and functions into a single entity.\n",
    "\n",
    "Let's assume we have a data type for rectangles. Without objects we could write the following code:"
   ]
  },
  {
   "cell_type": "code",
   "execution_count": null,
   "metadata": {},
   "outputs": [],
   "source": [
    "rec1_bl = (0, 2) # bl = bottom-left\n",
    "rec1_ur = (6, 8) # ur = upper-right\n",
    "\n",
    "rec2_bl = (4, 3)\n",
    "rec2_ur = (7, 5)\n",
    "\n",
    "def area(bl, ur):\n",
    "    width = ur[0] - bl[0]\n",
    "    height = ur[1] - bl[1]\n",
    "    return width * height\n",
    "\n",
    "print(\"Area of rectangle #1: {0}\".format(area(rec1_bl, rec1_ur)))\n",
    "print(\"Area of rectangle #2: {0}\".format(area(rec2_bl, rec2_ur)))"
   ]
  },
  {
   "cell_type": "markdown",
   "metadata": {},
   "source": [
    "As we can observe the data (`rec1_bl`, `rec1_ur`, etc.) and the functions (`area()` and possible further functions) are defined separately, not encapsulated together."
   ]
  },
  {
   "cell_type": "markdown",
   "metadata": {},
   "source": [
    "## Classes and objects"
   ]
  },
  {
   "cell_type": "markdown",
   "metadata": {},
   "source": [
    "Simply put, an object is a collection of data (variables) and methods (functions) that act on those data. A **class** is a blueprint for the object. Classes introduce new data types in Python, describing real-world things and situations.\n",
    "Objects are the *instances* of classes, the creation process of objects are also called *instantiation*.\n",
    "\n",
    "Let's create the `Rectangle` class now:"
   ]
  },
  {
   "cell_type": "code",
   "execution_count": null,
   "metadata": {},
   "outputs": [],
   "source": [
    "class Rectangle():\n",
    "    name = 'Rectangle'\n",
    "    \n",
    "    def area(self):\n",
    "        width = self.ur[0] - self.bl[0]\n",
    "        height = self.ur[1] - self.bl[1]\n",
    "        return width * height\n",
    "\n",
    "rec1 = Rectangle()\n",
    "rec1.bl = (0, 2)\n",
    "rec1.ur = (6, 8)\n",
    "rec2 = Rectangle()\n",
    "rec2.bl = (4, 3)\n",
    "rec2.ur = (7, 5)\n",
    "\n",
    "print(\"Area of rectangle {0}\".format(rec1.area()))\n",
    "print(\"Area of rectangle {0}\".format(rec2.area()))"
   ]
  },
  {
   "cell_type": "markdown",
   "metadata": {},
   "source": [
    "In this example the `Rectangle` class has 4 attributes: `name`, `ur`, `bl` and `area()`. Attributes may be data or method: the `name` is a simple string, `bl` and `ur` are tuples while `area()` is a function. Functions in a class are called *methods* more specifically.\n",
    "\n",
    "The `rec1 = Rectangle()` statement creates a new instance object named `rec1` from the class `Rectangle`.\n",
    "We can access the attributes of objects using the object name prefix, e.g. `rec1.area()`."
   ]
  },
  {
   "cell_type": "markdown",
   "metadata": {},
   "source": [
    "Remember how we used list and dictionary functions:\n",
    "\n",
    "```python\n",
    "numbers = [1, 4, 5, -2, 8]\n",
    "numbers.sort()\n",
    "\n",
    "shopping_list = {'apple': 6, 'bread': 2, 'milk': 6, 'butter': 1}\n",
    "for item in shopping_list.items():\n",
    "    print(item)\n",
    "```\n",
    "\n",
    "This is the same syntax, we are calling methods on objects."
   ]
  },
  {
   "cell_type": "markdown",
   "metadata": {},
   "source": [
    "## `self` parameter"
   ]
  },
  {
   "cell_type": "markdown",
   "metadata": {},
   "source": [
    "There is a `self` parameter in the `area()` function definition inside the `Rectangle` class but, we called the method simply as `rec1.area()`, without any arguments. It still worked.\n",
    "\n",
    "This is because, whenever an object calls its method, the object itself is passed as the first argument. So, `rec1.area()` translates into `Rectangle.area(rec1)`."
   ]
  },
  {
   "cell_type": "code",
   "execution_count": null,
   "metadata": {},
   "outputs": [],
   "source": [
    "print(\"Area of rectangle #1: {0}\".format(Rectangle.area(rec1)))\n",
    "print(\"Area of rectangle #2: {0}\".format(Rectangle.area(rec2)))\n",
    "print(\"Name of all rectangles: {0}\".format(Rectangle.name))"
   ]
  },
  {
   "cell_type": "markdown",
   "metadata": {},
   "source": [
    "In general, calling a method with a list of arguments is equivalent to calling the corresponding function with an argument list that is created by inserting the method's object before the first argument.\n",
    "\n",
    "For these reasons, the first argument of the function in class must be the object itself. This is conventionally called `self`. It can be named otherwise but it is highly discouraged to follow the convention."
   ]
  },
  {
   "cell_type": "markdown",
   "metadata": {},
   "source": [
    "## Constructors"
   ]
  },
  {
   "cell_type": "markdown",
   "metadata": {},
   "source": [
    "In our previous example we deliberately gave a value to the `bl` and `ur` attributes of `rec1` and `rec2` before calling the `area()` method on them, so it can process those values.\n",
    "What happens if we e.g. forget to initialize those attributes beforehand?"
   ]
  },
  {
   "cell_type": "code",
   "execution_count": null,
   "metadata": {},
   "outputs": [],
   "source": [
    "rec3 = Rectangle()\n",
    "print(\"Area of rectangle #3: {0}\".format(rec3.area()))"
   ]
  },
  {
   "cell_type": "markdown",
   "metadata": {},
   "source": [
    "This issue can be addressed with a special *constructor method*, which is always executed when a new object is instantiated from a class.\n",
    "\n",
    "In Python, class functions that begins with double underscore (`__`) are called special functions as they have special meaning.\n",
    "The `__init__()` function has particular interest for us now. This special function gets called whenever a new object of that class is instantiated.\n",
    "This type of function is also called a **constructor** in object-oriented programming. We normally use it to initialize all the variables."
   ]
  },
  {
   "cell_type": "code",
   "execution_count": null,
   "metadata": {},
   "outputs": [],
   "source": [
    "class Rectangle():\n",
    "    name = 'Rectangle'\n",
    "    \n",
    "    def __init__(self, bl_x, bl_y, ur_x, ur_y):\n",
    "        self.bl = (bl_x, bl_y)\n",
    "        self.ur = (ur_x, ur_y)\n",
    "        \n",
    "    def area(self):\n",
    "        width = self.ur[0] - self.bl[0]\n",
    "        height = self.ur[1] - self.bl[1]\n",
    "        return width * height\n",
    "\n",
    "rec1 = Rectangle(0, 2, 6, 8)\n",
    "rec2 = Rectangle(4, 3, 7, 5)\n",
    "\n",
    "print(\"Area of rectangle #1: {0}\".format(rec1.area()))\n",
    "print(\"Area of rectangle #2: {0}\".format(rec2.area()))"
   ]
  },
  {
   "cell_type": "markdown",
   "metadata": {},
   "source": [
    "Now we cannot \"forget\" to pass all the required data to the object upon instatiation, because Python will raise a `TypeError`."
   ]
  },
  {
   "cell_type": "code",
   "execution_count": null,
   "metadata": {},
   "outputs": [],
   "source": [
    "rec3 = Rectangle()\n",
    "print(\"Area of rectangle #3: {0}\".format(rec3.area()))"
   ]
  },
  {
   "cell_type": "markdown",
   "metadata": {},
   "source": [
    "### Default arguments"
   ]
  },
  {
   "cell_type": "markdown",
   "metadata": {},
   "source": [
    "Alternatively we could use default values for the parameters, so a `Rectangle` could be constructed without defining its dimensions, but still giving value to the *instance attributes*."
   ]
  },
  {
   "cell_type": "code",
   "execution_count": null,
   "metadata": {},
   "outputs": [],
   "source": [
    "class Rectangle():\n",
    "    name = 'Rectangle'\n",
    "    \n",
    "    def __init__(self, bl_x = 0, bl_y = 0, ur_x = 0, ur_y = 0):\n",
    "        self.bl = (bl_x, bl_y)\n",
    "        self.ur = (ur_x, ur_y)\n",
    "        \n",
    "    def area(self):\n",
    "        width = self.ur[0] - self.bl[0]\n",
    "        height = self.ur[1] - self.bl[1]\n",
    "        return width * height"
   ]
  },
  {
   "cell_type": "code",
   "execution_count": null,
   "metadata": {},
   "outputs": [],
   "source": [
    "rec3 = Rectangle()\n",
    "print(\"Area of rectangle #3: {0}\".format(rec3.area()))"
   ]
  },
  {
   "cell_type": "markdown",
   "metadata": {},
   "source": [
    "## Class and instance attributes"
   ]
  },
  {
   "cell_type": "markdown",
   "metadata": {},
   "source": [
    "Generally speaking, instance attributes are for data unique to each instance and class attributes are for variables and methods shared by all instances of the class.\n",
    "\n",
    "In the example `Rectangle` class, the `name` attribute is a class variable, because it is defined as an attribute of the class."
   ]
  },
  {
   "cell_type": "code",
   "execution_count": null,
   "metadata": {},
   "outputs": [],
   "source": [
    "print(Rectangle.name)"
   ]
  },
  {
   "cell_type": "markdown",
   "metadata": {},
   "source": [
    "The `bl` and `ur` are instance attributes (because they are accessed through the `self` object). This means that each rectangle can have its own bottom-left and upper-right position, but all rectangles share the same name."
   ]
  },
  {
   "cell_type": "code",
   "execution_count": null,
   "metadata": {},
   "outputs": [],
   "source": [
    "rec1.bl = (-2, 1)\n",
    "print(rec1.bl) # has no effect on rec2\n",
    "print(rec2.bl)"
   ]
  },
  {
   "cell_type": "markdown",
   "metadata": {},
   "source": [
    "## String representation of an object"
   ]
  },
  {
   "cell_type": "markdown",
   "metadata": {},
   "source": [
    "By default, the string representation of an object consists of the type name and memory address:"
   ]
  },
  {
   "cell_type": "code",
   "execution_count": null,
   "metadata": {},
   "outputs": [],
   "source": [
    "print(rec1)"
   ]
  },
  {
   "cell_type": "markdown",
   "metadata": {},
   "source": [
    "As we discussed, methods that begins with double underscore (`__`) are called special functions in Python. The `__str__()` method is another special function, which can compute and return the \"informal\" or nicely printable string representation of an object. The return value must be a string object."
   ]
  },
  {
   "cell_type": "code",
   "execution_count": null,
   "metadata": {},
   "outputs": [],
   "source": [
    "class Rectangle():\n",
    "    def __init__(self, bl_x, bl_y, ur_x, ur_y):\n",
    "        self.bl = (bl_x, bl_y)\n",
    "        self.ur = (ur_x, ur_y)\n",
    "        \n",
    "    def __str__(self):\n",
    "        return \"Rectangle ({0}, {1}, {2}, {3})\".format(self.bl[0], self.bl[1], self.ur[0], self.ur[1])\n",
    "        \n",
    "    def area(self):\n",
    "        width = self.ur[0] - self.bl[0]\n",
    "        height = self.ur[1] - self.bl[1]\n",
    "        return width * height\n",
    "    \n",
    "rec1 = Rectangle(0, 2, 6, 8)\n",
    "rec2 = Rectangle(4, 3, 7, 5)\n",
    "\n",
    "print(rec1)\n",
    "print(rec2)"
   ]
  },
  {
   "cell_type": "markdown",
   "metadata": {},
   "source": [
    "---"
   ]
  },
  {
   "cell_type": "markdown",
   "metadata": {},
   "source": [
    "## Summary exercises on object-oriented programming"
   ]
  },
  {
   "cell_type": "markdown",
   "metadata": {},
   "source": [
    "### Task 1: Perimeter\n",
    "\n",
    "Extend the `Rectangle` class with a `perimeter()` method.\n",
    "\n",
    "Sample usage:\n",
    "```python\n",
    "result = rec1.perimeter()\n",
    "# result is an integer value\n",
    "```"
   ]
  },
  {
   "cell_type": "code",
   "execution_count": null,
   "metadata": {},
   "outputs": [],
   "source": []
  },
  {
   "cell_type": "markdown",
   "metadata": {},
   "source": [
    "The computation of the width and height of the rectangle is now redundantly given in the `area()` and the `perimeters()` methods. Eliminate the redundancy by extracting a new `width()` and `height()` function in the `Rectangle` class."
   ]
  },
  {
   "cell_type": "code",
   "execution_count": null,
   "metadata": {
    "collapsed": false,
    "jupyter": {
     "outputs_hidden": false
    },
    "pycharm": {
     "name": "#%%\n"
    }
   },
   "outputs": [],
   "source": []
  },
  {
   "cell_type": "markdown",
   "metadata": {},
   "source": [
    "### Task 2: Translation\n",
    "\n",
    "Extend the `Rectangle` class with a `translate()` method, which moves it in the Euclidean space in the given direction.\n",
    "\n",
    "Sample usage:\n",
    "```python\n",
    "print(rec1)\n",
    "rec1.translate(3, 4)\n",
    "print(rec1)\n",
    "```"
   ]
  },
  {
   "cell_type": "code",
   "execution_count": null,
   "metadata": {},
   "outputs": [],
   "source": []
  },
  {
   "cell_type": "markdown",
   "metadata": {},
   "source": [
    "### Task 3: Overlap\n",
    "\n",
    "Extend the `Rectangle` class with an `overlap()` method, which can decide whether 2 rectangles overlap each other.\n",
    "\n",
    "Sample usage:\n",
    "```python\n",
    "result = rec1.overlap(rec2)\n",
    "# result is a boolean value\n",
    "```"
   ]
  },
  {
   "cell_type": "code",
   "execution_count": null,
   "metadata": {},
   "outputs": [],
   "source": []
  },
  {
   "cell_type": "markdown",
   "metadata": {},
   "source": [
    "*Hint:* Two *axis-parallel* rectangles overlap if they overlap either by the X or Y dimensions.  \n",
    "They overlap by the X dimension if `A_X1 < B_X1` and `A_X2 > B_X1`; or `B_X1 < A_X1` and `B_X2 > A_X1`.  \n",
    "Similar inequality condition apply on the Y dimension."
   ]
  },
  {
   "cell_type": "markdown",
   "metadata": {},
   "source": [
    "---"
   ]
  },
  {
   "cell_type": "markdown",
   "metadata": {},
   "source": [
    "\n",
    "## Data classes *(optional)*"
   ]
  },
  {
   "cell_type": "markdown",
   "metadata": {},
   "source": [
    "A relatively new feature available since Python 3.7 (released in 2018) is the *data class*. A data class is a class typically containing mainly data, although there aren’t really any restrictions. It is created using the `@dataclass` decorator, as follows:"
   ]
  },
  {
   "cell_type": "code",
   "execution_count": null,
   "metadata": {},
   "outputs": [],
   "source": [
    "from dataclasses import dataclass\n",
    "\n",
    "@dataclass\n",
    "class Country:\n",
    "    name: str\n",
    "    capital: str\n",
    "    area: int\n",
    "    population: int\n",
    "    gdp: int\n",
    "    literacy: float\n",
    "    region: str = 'Unknown'\n",
    "\n",
    "    def population_density(self):\n",
    "        return self.population / self.area"
   ]
  },
  {
   "cell_type": "markdown",
   "metadata": {},
   "source": [
    "The benefit of using data classes is that some special methods, e.g. the `__init__()` constructor method will be automatically generated and added to the class, initiating all instance variables. The generated constructor will look like:"
   ]
  },
  {
   "cell_type": "markdown",
   "metadata": {},
   "source": [
    "```python\n",
    "def __init__(self, name, capital, area, population, gdp, literacy, region = 'Unknown'):\n",
    "    self.name = name\n",
    "    self.capital = capital\n",
    "    self.area = area\n",
    "    self.population = population\n",
    "    self.gdp =gdp\n",
    "    self.literacy = literacy   \n",
    "    self.region = region\n",
    "```"
   ]
  },
  {
   "cell_type": "markdown",
   "metadata": {},
   "source": [
    "Since data classes is just a new syntactical approach in Python for defining classes, we can instantiate objects from data classes and use them just like before:"
   ]
  },
  {
   "cell_type": "code",
   "execution_count": null,
   "metadata": {},
   "outputs": [],
   "source": [
    "hungary = Country('Hungary', 'Budapest', 93030, 9981334, 13900, 99.4, 'Central-Europe')"
   ]
  },
  {
   "cell_type": "code",
   "execution_count": null,
   "metadata": {},
   "outputs": [],
   "source": [
    "print(hungary.capital)\n",
    "print(hungary.population_density())"
   ]
  },
  {
   "cell_type": "markdown",
   "metadata": {},
   "source": [
    "The string representational `__str__()` method is also predefined for data classes:"
   ]
  },
  {
   "cell_type": "code",
   "execution_count": null,
   "metadata": {},
   "outputs": [],
   "source": [
    "print(hungary)"
   ]
  },
  {
   "cell_type": "markdown",
   "metadata": {},
   "source": [
    "### Type annotations\n",
    "\n",
    "As you have may noticed we also defined the type of the instance variables in the data class, e.g. `population: int`. This is called *type hinting* or *type annotations* and is mandatory when defining a data class.\n",
    "Type hinting is available in Python since version 3.5 and can also be used elsewhere: for local variables, function parameters, return types, etc.\n",
    "\n",
    "Note that the Python runtime does not enforce function and variable type annotations, so whether you use them or not, they will not affect how your code is executed. However they can be used by third party tools such as type checkers (see [mypy](http://mypy-lang.org/)) or integrated development environments (IDEs), to early detect potential errors in your code.\n",
    "\n",
    "We will not use type hinting further in this course, as *Jupyter Notebook* itself does not perform type checking based on them."
   ]
  },
  {
   "cell_type": "markdown",
   "metadata": {},
   "source": [
    "---"
   ]
  },
  {
   "cell_type": "markdown",
   "metadata": {},
   "source": [
    "## Inheritance *(advanced, optional)*"
   ]
  },
  {
   "cell_type": "markdown",
   "metadata": {},
   "source": [
    "We do not always have to start from scratch when writing a class.\n",
    "If the class is a specialized version of another already existing class, we can use **inheritance**.\n",
    "\n",
    "When one class *inherits* from another, it automatically takes on all the attributes and methods of the first class.\n",
    "The original class is called the *parent* class, and the new class is the *child* class. The child class inherits every attribute and method from its parent class but is also free to define new attributes and methods of its own."
   ]
  },
  {
   "cell_type": "markdown",
   "metadata": {},
   "source": [
    "Let's inherit the `Square` class from the `Rectangle` class:"
   ]
  },
  {
   "cell_type": "code",
   "execution_count": null,
   "metadata": {},
   "outputs": [],
   "source": [
    "class Square(Rectangle):\n",
    "    def __init__(self, bl_x, bl_y, width):\n",
    "        self.bl = (bl_x, bl_y)\n",
    "        self.ur = (bl_x + width, bl_y + width)\n",
    "        \n",
    "s1 = Square(5, 10, 3)\n",
    "print(\"Area of square #1: {0}\".format(s1.area()))"
   ]
  },
  {
   "cell_type": "markdown",
   "metadata": {},
   "source": [
    "### The `__init__()` function in the child class"
   ]
  },
  {
   "cell_type": "markdown",
   "metadata": {},
   "source": [
    "Often we would like to reuse the original `__init__` function of the parent class in the child class.\n",
    "\n",
    "This can be done with the `super()` function inside the child class constructor.\n",
    "This is a special function that helps Python make connections between the parent and child class.\n",
    "\n",
    "*Note:* The name super comes from a convention of calling the parent class a *superclass* and the child class a *subclass*."
   ]
  },
  {
   "cell_type": "code",
   "execution_count": null,
   "metadata": {},
   "outputs": [],
   "source": [
    "class Square(Rectangle):\n",
    "    def __init__(self, bl_x, bl_y, width):\n",
    "        super().__init__(bl_x, bl_y, bl_x + width, bl_y + width)\n",
    "        \n",
    "s1 = Square(5, 10, 3)\n",
    "print(\"Area of square #1: {0}\".format(s1.area()))"
   ]
  },
  {
   "cell_type": "markdown",
   "metadata": {},
   "source": [
    "### Overiding methods from the *parent* class"
   ]
  },
  {
   "cell_type": "markdown",
   "metadata": {},
   "source": [
    "Let's see what happens if we print our `s1` object:"
   ]
  },
  {
   "cell_type": "code",
   "execution_count": null,
   "metadata": {},
   "outputs": [],
   "source": [
    "print(s1)"
   ]
  },
  {
   "cell_type": "markdown",
   "metadata": {},
   "source": [
    "It shows the text \"Rectangle\", because the `__str__()` special function was defined this way in the `Rectangle` parent class and now the `Square` child class inherited it."
   ]
  },
  {
   "cell_type": "markdown",
   "metadata": {},
   "source": [
    "We can override any method from the parent class that do not fit into the model of the child class.\n",
    "To achieve this, we can simply redefine the method in the child class with the same name as the method we want to override in the parent class. Python will disregard the parent class method and only pay attention to the method you define in the child class."
   ]
  },
  {
   "cell_type": "code",
   "execution_count": null,
   "metadata": {},
   "outputs": [],
   "source": [
    "class Square(Rectangle):\n",
    "    def __init__(self, bl_x, bl_y, width):\n",
    "        self.bl = (bl_x, bl_y)\n",
    "        self.ur = (bl_x + width, bl_y + width)\n",
    "    \n",
    "    def __str__(self):\n",
    "        return \"Square ({0}, {1}, width = {2})\".format(self.bl[0], self.bl[1], self.ur[0] - self.bl[0])\n",
    "        \n",
    "s1 = Square(5, 10, 3)\n",
    "print(\"Area of square #1: {0}\".format(s1.area()))\n",
    "print(s1)"
   ]
  },
  {
   "cell_type": "markdown",
   "metadata": {},
   "source": [
    "*Note:* the `super()` function can be used in any overriding child class methods."
   ]
  },
  {
   "cell_type": "markdown",
   "metadata": {},
   "source": [
    "### Extend the functionality of the parent class"
   ]
  },
  {
   "cell_type": "markdown",
   "metadata": {},
   "source": [
    "Child classes may also extend the functionality of their parent class by adding new methods to themselves."
   ]
  },
  {
   "cell_type": "code",
   "execution_count": null,
   "metadata": {},
   "outputs": [],
   "source": [
    "class Square(Rectangle):\n",
    "    def __init__(self, bl_x, bl_y, width):\n",
    "        self.bl = (bl_x, bl_y)\n",
    "        self.ur = (bl_x + width, bl_y + width)\n",
    "    \n",
    "    def __str__(self):\n",
    "        return \"Square ({0}, {1}, width = {2})\".format(self.bl[0], self.bl[1], self.ur[0] - self.bl[0])\n",
    "    \n",
    "    def side(self):\n",
    "        return self.bl[1] - self.ur[0]"
   ]
  },
  {
   "cell_type": "code",
   "execution_count": null,
   "metadata": {},
   "outputs": [],
   "source": [
    "s1 = Square(5, 10, 3)\n",
    "print(s1.side())"
   ]
  },
  {
   "cell_type": "markdown",
   "metadata": {},
   "source": [
    "The `Rectangle` class does not have this new `side()` method:"
   ]
  },
  {
   "cell_type": "code",
   "execution_count": null,
   "metadata": {},
   "outputs": [],
   "source": [
    "print(rec1.side())"
   ]
  }
 ],
 "metadata": {
  "kernelspec": {
   "display_name": "Python 3",
   "language": "python",
   "name": "python3"
  },
  "language_info": {
   "codemirror_mode": {
    "name": "ipython",
    "version": 3
   },
   "file_extension": ".py",
   "mimetype": "text/x-python",
   "name": "python",
   "nbconvert_exporter": "python",
   "pygments_lexer": "ipython3",
   "version": "3.8.5"
  }
 },
 "nbformat": 4,
 "nbformat_minor": 4
}