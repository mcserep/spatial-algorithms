{
 "cells": [
  {
   "cell_type": "markdown",
   "metadata": {},
   "source": [
    "# Chapter 11: Spatial data management - vector formats"
   ]
  },
  {
   "cell_type": "markdown",
   "metadata": {},
   "source": [
    "## Shapely"
   ]
  },
  {
   "cell_type": "markdown",
   "metadata": {
    "pycharm": {
     "name": "#%% md\n"
    }
   },
   "source": [
    "[*Shapely*](https://shapely.readthedocs.io/en/stable/manual.html) is a Python package for manipulation and analysis of planar geometric objects.\n",
    "While Shapely is not concerned with data formats or coordinate systems, it can be readily integrated with packages that are. Indeed, Shapely is a central and essential package to any geometry/geography related work, and many higher abstraction level packages like GeoPandas use Shapely under the hood."
   ]
  },
  {
   "cell_type": "markdown",
   "metadata": {},
   "source": [
    "### How to install *Shapely*?\n",
    "\n",
    "We need to install the `shapely` package.\n",
    "\n",
    "#### Anaconda - Platform independent\n",
    "\n",
    "If you have Anaconda installed, open the *Anaconda Prompt* and type in:\n",
    "```\n",
    "conda update --all\n",
    "conda install -c conda-forge shapely\n",
    "```\n",
    "\n",
    "*Note:* updating the currently installed packages to their most recent version can be required to avoid dependency issues.\n",
    "*Note:* we install from the *conda-forge* channel, as it contains more recent versions of these packages compared to the *default* channel of Anaconda.\n",
    "\n",
    "#### Python Package Installer (pip) - Linux\n",
    "\n",
    "If you have standalone Python3 and Jupyter Notebook install on Linux, open a command prompt / terminal and type in:\n",
    "```\n",
    "pip3 install shapely\n",
    "```\n",
    "\n",
    "#### Python Package Installer (pip) - Windows\n",
    "\n",
    "The installation of these packages is much more complicated with *pip* on Windows, because several library binaries must be installed separately or compiled from source. (E.g. the *shapely* package highly depends on the *GEOS* library.)\n",
    "An easier approach is to install these packages from [Python binary wheel files](https://www.lfd.uci.edu/~gohlke/pythonlibs/).\n",
    "\n",
    "Due to its complexity these options are only recommended for advanced Python users; and instead it is **strongly advised to use Anaconda on Windows**."
   ]
  },
  {
   "cell_type": "markdown",
   "metadata": {},
   "source": [
    "### How to use shapely?"
   ]
  },
  {
   "cell_type": "markdown",
   "metadata": {},
   "source": [
    "We can either import the complete *shapely module* or just some parts of it which will be used, e.g.:\n",
    "```python\n",
    "from shapely import geometry\n",
    "```\n",
    "\n",
    "Now we can simply refer to e.g. the `shapely.geometry.Point` type simply as `geometry.Point`."
   ]
  },
  {
   "cell_type": "markdown",
   "metadata": {},
   "source": [
    "### Basic usage of shapely"
   ]
  },
  {
   "cell_type": "markdown",
   "metadata": {},
   "source": [
    "The fundamental types of geometric objects implemented by Shapely are points, line string, polygons and their collections."
   ]
  },
  {
   "cell_type": "markdown",
   "metadata": {},
   "source": [
    "#### Creation of Shapely objects"
   ]
  },
  {
   "cell_type": "markdown",
   "metadata": {},
   "source": [
    "Elementary planar geometries can be created from scratch.\n",
    "\n",
    "Let's define a new point with the coordinate `(5,6)`."
   ]
  },
  {
   "cell_type": "code",
   "execution_count": null,
   "metadata": {
    "collapsed": false,
    "jupyter": {
     "outputs_hidden": false
    },
    "pycharm": {
     "name": "#%%\n"
    }
   },
   "outputs": [],
   "source": [
    "from shapely import geometry\n",
    "\n",
    "point = geometry.Point(5,6)\n",
    "print(point)"
   ]
  },
  {
   "cell_type": "markdown",
   "metadata": {},
   "source": [
    "Line strings can be defined through the list of their vertices."
   ]
  },
  {
   "cell_type": "code",
   "execution_count": null,
   "metadata": {
    "collapsed": false,
    "jupyter": {
     "outputs_hidden": false
    },
    "pycharm": {
     "name": "#%%\n"
    }
   },
   "outputs": [],
   "source": [
    "line = geometry.LineString([(6,6), (7,7), (8,9)])\n",
    "print(line)"
   ]
  },
  {
   "cell_type": "markdown",
   "metadata": {},
   "source": [
    "Polygons are closed line strings (optionally with holes). The line string is automatically closed.\n",
    "The coordinates can be given with either tuples or lists."
   ]
  },
  {
   "cell_type": "code",
   "execution_count": null,
   "metadata": {
    "collapsed": false,
    "jupyter": {
     "outputs_hidden": false
    },
    "pycharm": {
     "name": "#%%\n"
    }
   },
   "outputs": [],
   "source": [
    "rectangle1 = geometry.Polygon([[0,0], [10,0], [10,10], [0,10]])\n",
    "rectangle2 = geometry.Polygon([(-4,-4), (4,-4), (4,4), (-4,4)])\n",
    "print(rectangle1)\n",
    "print(rectangle2)"
   ]
  },
  {
   "cell_type": "markdown",
   "metadata": {},
   "source": [
    "A holed polygon can be defined as an exterior *shell* with a list of inner shells as the holes."
   ]
  },
  {
   "cell_type": "code",
   "execution_count": null,
   "metadata": {
    "collapsed": false,
    "jupyter": {
     "outputs_hidden": false
    },
    "pycharm": {
     "name": "#%%\n"
    }
   },
   "outputs": [],
   "source": [
    "rectangle3 = geometry.Polygon([(0,0), (10,0), (10,10), (0,10)],\n",
    "                              [[(2,2), (2,3), (3,3), (3,2)],\n",
    "                               [(5,5), (5,7), (7,7), (7,5)]])\n",
    "print(rectangle3)"
   ]
  },
  {
   "cell_type": "markdown",
   "metadata": {
    "pycharm": {
     "name": "#%% md\n"
    }
   },
   "source": [
    "#### Manage Shapely objects"
   ]
  },
  {
   "cell_type": "markdown",
   "metadata": {},
   "source": [
    "For points and line strings the sequence of coordinates can be accessed through the `coords` property, while the separate list of X and Y coordinates can be accessed through the `xy` property of the Shapely objects."
   ]
  },
  {
   "cell_type": "code",
   "execution_count": null,
   "metadata": {
    "collapsed": false,
    "jupyter": {
     "outputs_hidden": false
    },
    "pycharm": {
     "name": "#%%\n"
    }
   },
   "outputs": [],
   "source": [
    "print(\"Coords: {0}\".format(list(point.coords)))\n",
    "x, y = point.xy\n",
    "print(\"X coords: {0}\".format(x))\n",
    "print(\"Y coords: {0}\".format(y))"
   ]
  },
  {
   "cell_type": "code",
   "execution_count": null,
   "metadata": {
    "collapsed": false,
    "jupyter": {
     "outputs_hidden": false
    },
    "pycharm": {
     "name": "#%%\n"
    }
   },
   "outputs": [],
   "source": [
    "print(\"Coords: {0}\".format(list(line.coords)))\n",
    "x, y = line.xy\n",
    "print(\"X coords: {0}\".format(x))\n",
    "print(\"Y coords: {0}\".format(y))"
   ]
  },
  {
   "cell_type": "markdown",
   "metadata": {
    "pycharm": {
     "name": "#%% md\n"
    }
   },
   "source": [
    "For polygons, the outer shell can be accessed as the `exterior`.\n",
    "*Note: the exterior is also available for points and line strings.*"
   ]
  },
  {
   "cell_type": "code",
   "execution_count": null,
   "metadata": {
    "collapsed": false,
    "jupyter": {
     "outputs_hidden": false
    },
    "pycharm": {
     "name": "#%%\n"
    }
   },
   "outputs": [],
   "source": [
    "print(\"Coords: {0}\".format(list(rectangle1.exterior.coords)))\n",
    "x, y = rectangle1.exterior.xy\n",
    "print(\"X coords: {0}\".format(x))\n",
    "print(\"Y coords: {0}\".format(y))"
   ]
  },
  {
   "cell_type": "markdown",
   "metadata": {
    "pycharm": {
     "name": "#%% md\n"
    }
   },
   "source": [
    "The holes of a polygon can be accessed through the `interiors` list of the object."
   ]
  },
  {
   "cell_type": "code",
   "execution_count": null,
   "metadata": {
    "collapsed": false,
    "jupyter": {
     "outputs_hidden": false
    },
    "pycharm": {
     "name": "#%%\n"
    }
   },
   "outputs": [],
   "source": [
    "print(\"Coords: {0}\".format(list(rectangle3.exterior.coords)))\n",
    "x, y = rectangle3.exterior.xy\n",
    "print(\"X coords: {0}\".format(x))\n",
    "print(\"Y coords: {0}\".format(y))\n",
    "\n",
    "print(\"Holes:\")\n",
    "for hole in rectangle2.interiors:\n",
    "    print(hole)\n"
   ]
  },
  {
   "cell_type": "markdown",
   "metadata": {},
   "source": [
    "Various geometric properties can be easily computed through Shapely:"
   ]
  },
  {
   "cell_type": "code",
   "execution_count": null,
   "metadata": {
    "collapsed": false,
    "jupyter": {
     "outputs_hidden": false
    },
    "pycharm": {
     "name": "#%%\n"
    }
   },
   "outputs": [],
   "source": [
    "print('Area of Rectangle1: {0:.2f}'.format(rectangle1.area))\n",
    "print('Area of Rectangle2: {0:.2f}'.format(rectangle2.area))\n",
    "print('Area of Rectangle2: {0:.2f}'.format(rectangle3.area))\n",
    "print('Length of Line: {0:.2f}'.format(line.length))"
   ]
  },
  {
   "cell_type": "code",
   "execution_count": null,
   "metadata": {
    "collapsed": false,
    "jupyter": {
     "outputs_hidden": false
    },
    "pycharm": {
     "name": "#%%\n"
    }
   },
   "outputs": [],
   "source": [
    "print(point.distance(rectangle2))\n",
    "print(line.distance(rectangle2))"
   ]
  },
  {
   "cell_type": "code",
   "execution_count": null,
   "metadata": {
    "collapsed": false,
    "jupyter": {
     "outputs_hidden": false
    },
    "pycharm": {
     "name": "#%%\n"
    }
   },
   "outputs": [],
   "source": [
    "print('Rectangle1 contains Point: {0}'.format(rectangle1.contains(point)))\n",
    "print('Rectangle2 contains Point: {0}'.format(rectangle2.contains(point)))\n",
    "print('Rectangle1 contains Rectangle2: {0}'.format(rectangle1.contains(rectangle2)))\n",
    "print('Rectangle1 intersects Rectangle2: {0}'.format(rectangle1.intersects(rectangle2)))\n"
   ]
  },
  {
   "cell_type": "markdown",
   "metadata": {},
   "source": [
    "### Read WKT strings into Shapely objects"
   ]
  },
  {
   "cell_type": "markdown",
   "metadata": {
    "pycharm": {
     "name": "#%% md\n"
    }
   },
   "source": [
    "Geometries can also be loaded using the [*well-known text* (WKT)](https://en.wikipedia.org/wiki/Well-known_text_representation_of_geometry) format.\n",
    "\n",
    "Well-known text (WKT) is a text markup language for representing vector geometry objects.\n",
    "It is a human-readable, but verbose format. A binary equivalent, known as well-known binary (WKB) is used to transfer and store the same information in a more compact form convenient for computer processing but that is not human-readable.\n",
    "\n",
    "WKT and WKB are understood by many applications and software libraries, including Shapely."
   ]
  },
  {
   "cell_type": "code",
   "execution_count": null,
   "metadata": {
    "collapsed": false,
    "jupyter": {
     "outputs_hidden": false
    },
    "pycharm": {
     "name": "#%%\n"
    }
   },
   "outputs": [],
   "source": [
    "from shapely import wkt\n",
    "\n",
    "rectangle2 = wkt.loads('POLYGON ((-4 -4, 4 -4, 4 4, -4 4, -4 -4))')\n",
    "print(rectangle2)"
   ]
  },
  {
   "cell_type": "markdown",
   "metadata": {
    "pycharm": {
     "name": "#%% md\n"
    }
   },
   "source": [
    "*Note:* Shapely also displays geometries as a WKT as the default string representation."
   ]
  },
  {
   "cell_type": "markdown",
   "metadata": {
    "pycharm": {
     "name": "#%% md\n"
    }
   },
   "source": [
    "---"
   ]
  },
  {
   "cell_type": "markdown",
   "metadata": {
    "pycharm": {
     "name": "#%% md\n"
    }
   },
   "source": [
    "## GeoPandas"
   ]
  },
  {
   "cell_type": "markdown",
   "metadata": {},
   "source": [
    "[*GeoPandas*](https://geopandas.org/) is an open source project to make working with geospatial data in Python easier. GeoPandas extends the datatypes used by *pandas* to allow spatial operations on geometric types."
   ]
  },
  {
   "cell_type": "markdown",
   "metadata": {},
   "source": [
    "### Install *geopandas*\n",
    "\n",
    "The following Python packages are required to be installed:\n",
    " - geopandas\n",
    " - descartes (for visualization)\n",
    " - mapclassify (for classification of data)\n",
    " - rtree (spatial indexing of data)\n",
    "\n",
    "#### Anaconda - Platform independent\n",
    "\n",
    "If you have Anaconda installed, open the *Anaconda Prompt* and type in:\n",
    "```\n",
    "conda update --all\n",
    "conda install -c conda-forge geopandas descartes mapclassify rtree\n",
    "```\n",
    "\n",
    "*Note:* updating the currently installed packages to their most recent version can be required to avoid dependency issues.  \n",
    "*Note:* we install from the *conda-forge* channel, as it contains more recent versions of these packages compared to the *default* channel of Anaconda.\n",
    "\n",
    "#### Python Package Installer (pip) - Linux\n",
    "\n",
    "If you have standalone Python3 and Jupyter Notebook install on Linux, open a command prompt / terminal and type in:\n",
    "```\n",
    "pip3 install geopandas descartes mapclassify rtree\n",
    "```\n",
    "For the *rtree* Python package you must also install the *libspatialindex-dev* system package, which will require administrative priviliges:\n",
    "```\n",
    "sudo apt-get install libspatialindex-dev\n",
    "```\n",
    "\n",
    "#### Python Package Installer (pip) - Windows\n",
    "\n",
    "The installation of these packages is much more complicated with *pip* on Windows, because several library binaries must be installed separately or compiled from source. (E.g. the *geopandas* package highly depends on the *GDAL* library.)  \n",
    "An easier approach is to install these packages from [Python binary wheel files](https://www.lfd.uci.edu/~gohlke/pythonlibs/).\n",
    "\n",
    "Due to its complexity these options are only recommended for advanced Python users and it is **strongly advised to use Anaconda on Windows**."
   ]
  },
  {
   "cell_type": "markdown",
   "metadata": {},
   "source": [
    "### How to use *geopandas*?\n",
    "\n",
    "The geopandas package is also a module which you can simply import. It is usually aliased with the `gpd` abbreviation.\n",
    "```python\n",
    "import geopandas as gpd\n",
    "```"
   ]
  },
  {
   "cell_type": "markdown",
   "metadata": {},
   "source": [
    "### Read spatial data"
   ]
  },
  {
   "cell_type": "markdown",
   "metadata": {},
   "source": [
    "Geopandas can read many vector-based spatial data format including Shapefiles, GeoJSON files and much more. Only the `read_file()` function has to be called.\n",
    "The result is a geopandas dataframe, a *GeoDataFrame*.\n",
    "\n",
    "Read the `data/ne_10m_admin_0_countries.shp` shapefile located in the `data` folder. This dataset contains both scalar and spatial data of the countries all over the world.  \n",
    "Source: [Natural Earth](https://www.naturalearthdata.com/downloads/10m-cultural-vectors/)"
   ]
  },
  {
   "cell_type": "code",
   "execution_count": null,
   "metadata": {},
   "outputs": [],
   "source": [
    "import geopandas as gpd\n",
    "import matplotlib.pyplot as plt\n",
    "%matplotlib inline\n",
    "\n",
    "countries_gdf = gpd.read_file('../data/ne_10m_admin_0_countries.shp')\n",
    "display(countries_gdf)"
   ]
  },
  {
   "cell_type": "markdown",
   "metadata": {},
   "source": [
    "GeoPandas uses Shapely to represent geometries. Observe the `geometry` column (the last one), which contains the Shapely geometry objects of the row, displayed as a string (in WKT format) in the table.\n",
    "\n",
    "<img src=\"../images/11_geodataframe.png\" alt=\"Scheme of GeoDataframe\" title=\"Source: https://geopandas.org/\" style=\"width: 600px; margin: auto;\"/>"
   ]
  },
  {
   "cell_type": "markdown",
   "metadata": {},
   "source": [
    "### Basic usage of *GeoDataFrames*"
   ]
  },
  {
   "cell_type": "markdown",
   "metadata": {},
   "source": [
    "Since this *GeoDataFrame* has quite a number of columns, some of them are hidden by the display. Let's list all the columns:"
   ]
  },
  {
   "cell_type": "code",
   "execution_count": null,
   "metadata": {},
   "outputs": [],
   "source": [
    "print(countries_gdf.columns)"
   ]
  },
  {
   "cell_type": "markdown",
   "metadata": {},
   "source": [
    "With a lot of columns it can be useful to select only a few columns to make the displayed results more human-readable.\n",
    "This can be done by in a similar way when selecting a single *Series* from a *DataFrame*, but now we shall define a list of *Series* to select.  \n",
    "*Remark:* this makes a copy of the dataframe."
   ]
  },
  {
   "cell_type": "code",
   "execution_count": null,
   "metadata": {},
   "outputs": [],
   "source": [
    "countries_gdf = countries_gdf[['NAME', 'POP_EST', 'POP_YEAR', 'GDP_MD_EST', 'GDP_YEAR', 'REGION_UN', 'geometry']]\n",
    "display(countries_gdf)"
   ]
  },
  {
   "cell_type": "markdown",
   "metadata": {},
   "source": [
    "Geopandas extends the capabilties of the pandas library, which means we can use all what we have learned with pandas.\n",
    "\n",
    "Let's sort the *GeoDataFrame* by the name of the countries:"
   ]
  },
  {
   "cell_type": "code",
   "execution_count": null,
   "metadata": {},
   "outputs": [],
   "source": [
    "display(countries_gdf.sort_values(by='NAME'))"
   ]
  },
  {
   "cell_type": "markdown",
   "metadata": {},
   "source": [
    "Filter the dataframe to contain only the European countries:"
   ]
  },
  {
   "cell_type": "code",
   "execution_count": null,
   "metadata": {},
   "outputs": [],
   "source": [
    "condition = countries_gdf['REGION_UN'] == 'Europe'\n",
    "europe_gdf = countries_gdf[condition]\n",
    "display(europe_gdf)"
   ]
  },
  {
   "cell_type": "markdown",
   "metadata": {},
   "source": [
    "Sort the European countries by their population in a descending order:"
   ]
  },
  {
   "cell_type": "code",
   "execution_count": null,
   "metadata": {},
   "outputs": [],
   "source": [
    "display(europe_gdf.sort_values(by = 'POP_EST', ascending = False))"
   ]
  },
  {
   "cell_type": "markdown",
   "metadata": {},
   "source": [
    "### Spatial data management in *GeoDataFrames*"
   ]
  },
  {
   "cell_type": "markdown",
   "metadata": {},
   "source": [
    "We can fetch the CRS (*coordinate reference system*) of the `geometry` column in the *GeoDataFrame*:"
   ]
  },
  {
   "cell_type": "code",
   "execution_count": null,
   "metadata": {},
   "outputs": [],
   "source": [
    "print(countries_gdf.crs)"
   ]
  },
  {
   "cell_type": "code",
   "execution_count": null,
   "metadata": {},
   "outputs": [],
   "source": [
    "display(countries_gdf.crs)"
   ]
  },
  {
   "cell_type": "markdown",
   "metadata": {},
   "source": [
    "As we can observe the spatial data are in *WGS 84 (EPSG:4326)*. Since that is a geographic CRS, it would be unsuitable to calculate the area of the countries.\n",
    "\n",
    "The geometries can be transformed on-the-fly to a different CRS with GeoPandas. Let's select a projected CRS, *Mercator (EPSG:3857)*."
   ]
  },
  {
   "cell_type": "code",
   "execution_count": null,
   "metadata": {},
   "outputs": [],
   "source": [
    "countries_mercator = countries_gdf.to_crs('epsg:3857')"
   ]
  },
  {
   "cell_type": "markdown",
   "metadata": {},
   "source": [
    "Now the area of each geometry can be calculated in $km^2$ units:"
   ]
  },
  {
   "cell_type": "code",
   "execution_count": null,
   "metadata": {},
   "outputs": [],
   "source": [
    "countries_mercator['AREA'] = countries_mercator.area / 10**6\n",
    "display(countries_mercator)"
   ]
  },
  {
   "cell_type": "markdown",
   "metadata": {},
   "source": [
    "Use the `round()` function to limit the number decimal digits, hence we can get rid of the scientific notation:"
   ]
  },
  {
   "cell_type": "code",
   "execution_count": null,
   "metadata": {},
   "outputs": [],
   "source": [
    "countries_mercator['AREA'] = countries_mercator['AREA'].round(2)\n",
    "display(countries_mercator)"
   ]
  },
  {
   "cell_type": "markdown",
   "metadata": {},
   "source": [
    "Since the Mercator projection applies is *azimuthal* (meaning the angles are correct), but not *equal-area*, areas inflate with distance from the equator such that the polar regions are grossly exaggerated. Therefore there are great territorial distortion int calculated values, e.g. for Hungary the area is more than twice of the real value."
   ]
  },
  {
   "cell_type": "code",
   "execution_count": null,
   "metadata": {},
   "outputs": [],
   "source": [
    "display(countries_mercator[countries_mercator['NAME'] == 'Hungary'])"
   ]
  },
  {
   "cell_type": "markdown",
   "metadata": {},
   "source": [
    "Let's use the *Mollweide (ESRI:54009)* equal-area projection instead to calculate the proper area of the countries."
   ]
  },
  {
   "cell_type": "code",
   "execution_count": null,
   "metadata": {},
   "outputs": [],
   "source": [
    "countries_mollweide = countries_gdf.to_crs('esri:54009')\n",
    "countries_mollweide['AREA'] = countries_mollweide.area / 10**6\n",
    "countries_mollweide['AREA'] = countries_mollweide['AREA'].round(2)\n",
    "display(countries_mollweide[countries_mollweide['NAME'] == 'Hungary'])"
   ]
  },
  {
   "cell_type": "markdown",
   "metadata": {},
   "source": [
    "*Remark:* EPSG (*European Petroleum Survey Group*) and ESRI (American company *Environmental Systems Research Institute*) are two authorities providing well-known identifiers (WKID) for CRS.  \n",
    "However these numbers don’t overlap for avoiding confusion."
   ]
  },
  {
   "cell_type": "markdown",
   "metadata": {},
   "source": [
    "**Task:** When working with local spatial data for Hungary often the *Uniform National Projection* named *EOV* (abbreviation of *Egységes Országos Vetület*) is utilizied. It is an *azimuthal* projected CRS, and while not *equal-area*, only applies a minimal distortion on the region of Hungary.  \n",
    "Calculate the area of Hungary in EOV!"
   ]
  },
  {
   "cell_type": "code",
   "execution_count": null,
   "metadata": {},
   "outputs": [],
   "source": [
    "countries_eov = countries_gdf.to_crs('EPSG:23700') # EOV is EPSG:23700 \n",
    "countries_eov.set_index('NAME', drop=False, inplace=True)\n",
    "countries_eov['AREA'] = countries_eov.area / 10**6\n",
    "display(countries_eov.loc['Hungary'])"
   ]
  },
  {
   "cell_type": "markdown",
   "metadata": {},
   "source": [
    "### Map making"
   ]
  },
  {
   "cell_type": "markdown",
   "metadata": {},
   "source": [
    "Geopandas provides a high-level interface to the *matplotlib* library for making maps. Mapping shapes is as easy as using the `plot()` method on a *GeoDataFrame* (or *GeoSeries*)."
   ]
  },
  {
   "cell_type": "code",
   "execution_count": null,
   "metadata": {},
   "outputs": [],
   "source": [
    "countries_gdf.plot(figsize=[20,10])\n",
    "plt.show()"
   ]
  },
  {
   "cell_type": "markdown",
   "metadata": {},
   "source": [
    "The `plot()` function call on a *GeoDataFrame* (or a regular pandas *DataFrame*) will return an axis configuration object, which we can use to further customize our plot (map in this case). E.g. we can hide the axes with the `set_axis_off()` function:"
   ]
  },
  {
   "cell_type": "code",
   "execution_count": null,
   "metadata": {},
   "outputs": [],
   "source": [
    "ax = countries_gdf.plot(figsize=[20,10])\n",
    "ax.set_axis_off()\n",
    "plt.show()"
   ]
  },
  {
   "cell_type": "markdown",
   "metadata": {},
   "source": [
    "#### Choropleth maps"
   ]
  },
  {
   "cell_type": "markdown",
   "metadata": {},
   "source": [
    "Geopandas makes it easy to create so called *choropleth maps* (maps where the color of each shape is based on the value of an associated variable). Simply use the `plot()` method with the `column` argument set to the column whose values you want used to assign colors."
   ]
  },
  {
   "cell_type": "code",
   "execution_count": null,
   "metadata": {},
   "outputs": [],
   "source": [
    "countries_gdf.plot(column='POP_EST', figsize=[20,10])\n",
    "plt.show()"
   ]
  },
  {
   "cell_type": "markdown",
   "metadata": {},
   "source": [
    "Add a legend to the map."
   ]
  },
  {
   "cell_type": "code",
   "execution_count": null,
   "metadata": {},
   "outputs": [],
   "source": [
    "countries_gdf.plot(column='POP_EST', legend=True, figsize=[20,10])\n",
    "plt.show()"
   ]
  },
  {
   "cell_type": "markdown",
   "metadata": {},
   "source": [
    "We can choose from various available color maps. A complete list can be found on the [matplotlib website](https://matplotlib.org/tutorials/colors/colormaps.html)."
   ]
  },
  {
   "cell_type": "code",
   "execution_count": null,
   "metadata": {},
   "outputs": [],
   "source": [
    "countries_gdf.plot(column='GDP_MD_EST', legend=True, cmap='YlOrRd', figsize=[20,10])\n",
    "plt.show()"
   ]
  },
  {
   "cell_type": "markdown",
   "metadata": {},
   "source": [
    "The way color maps are scaled can also be manipulated with the `scheme` option (the *mapclassify* Python library must be installed).\n",
    "\n",
    "A full list of schemes are available on the project's [GitHub page](https://github.com/pysal/mapclassify) and some examples of result on the [package's website](\n",
    "https://pysal.org/mapclassify/index.html).\n"
   ]
  },
  {
   "cell_type": "code",
   "execution_count": null,
   "metadata": {},
   "outputs": [],
   "source": [
    "countries_gdf.plot(column='GDP_MD_EST', legend=True, cmap='YlOrRd', figsize=[20,10], scheme='quantiles')\n",
    "plt.show()"
   ]
  },
  {
   "cell_type": "markdown",
   "metadata": {},
   "source": [
    "With the `user_defined` scheme, a custom classification can be defined."
   ]
  },
  {
   "cell_type": "code",
   "execution_count": null,
   "metadata": {},
   "outputs": [],
   "source": [
    "countries_gdf.plot(column='GDP_MD_EST', legend=True, cmap='YlOrRd', figsize=[20,10], \n",
    "                   scheme='user_defined', classification_kwds={'bins':[1500, 60000, 300000]})\n",
    "plt.show()"
   ]
  },
  {
   "cell_type": "markdown",
   "metadata": {},
   "source": [
    "### Multiple layers"
   ]
  },
  {
   "cell_type": "markdown",
   "metadata": {},
   "source": [
    "We can easily combine the data of multiple *GeoDataFrames* and even visualize them as multiple layers with geopandas.\n",
    "\n",
    "Open and read a second data source defined in the `data/World_Cities.shp` shapefile, containing scalar and spatial data about major cities all around the world.  \n",
    "Source: [ArcGIS](https://hub.arcgis.com/datasets/6996f03a1b364dbab4008d99380370ed_0)"
   ]
  },
  {
   "cell_type": "code",
   "execution_count": null,
   "metadata": {},
   "outputs": [],
   "source": [
    "cities_gdf = gpd.read_file('../data/World_Cities.shp')\n",
    "display(cities_gdf)"
   ]
  },
  {
   "cell_type": "markdown",
   "metadata": {},
   "source": [
    "Reduce the number of columns, by selecting only the most important ones:"
   ]
  },
  {
   "cell_type": "code",
   "execution_count": null,
   "metadata": {},
   "outputs": [],
   "source": [
    "cities_gdf = cities_gdf[['CITY_NAME', 'CNTRY_NAME', 'STATUS', 'POP', 'geometry']]\n",
    "display(cities_gdf)"
   ]
  },
  {
   "cell_type": "markdown",
   "metadata": {},
   "source": [
    "Plot the cities:"
   ]
  },
  {
   "cell_type": "code",
   "execution_count": null,
   "metadata": {},
   "outputs": [],
   "source": [
    "cities_gdf.plot(color='red', markersize=3, figsize=[20,10])\n",
    "plt.show()"
   ]
  },
  {
   "cell_type": "markdown",
   "metadata": {},
   "source": [
    "Verify whether both datasets use the same coordinate reference system:"
   ]
  },
  {
   "cell_type": "code",
   "execution_count": null,
   "metadata": {},
   "outputs": [],
   "source": [
    "print(cities_gdf.crs)\n",
    "print(countries_gdf.crs)"
   ]
  },
  {
   "cell_type": "markdown",
   "metadata": {},
   "source": [
    "Would be they different, geopandas would also be capable to transform one of the dataframes to the other CRS:\n",
    "```python\n",
    "cities_gdf = cities_gdf.to_crs(countries_gdf.crs)\n",
    "```"
   ]
  },
  {
   "cell_type": "markdown",
   "metadata": {},
   "source": [
    "Create a combined visualization of multiple layers, by simply calling the `plot()` method on all *GeoDataFrames*, but drawing them on the same axis object."
   ]
  },
  {
   "cell_type": "code",
   "execution_count": null,
   "metadata": {},
   "outputs": [],
   "source": [
    "base = countries_gdf.plot(color='white', edgecolor='black', figsize=[20, 10])\n",
    "cities_gdf.plot(ax=base, color='red', markersize=3)\n",
    "plt.show()"
   ]
  },
  {
   "cell_type": "markdown",
   "metadata": {},
   "source": [
    "### Basemaps *(optional)*"
   ]
  },
  {
   "cell_type": "markdown",
   "metadata": {
    "pycharm": {
     "name": "#%% md\n"
    }
   },
   "source": [
    "[*Contextily*](https://contextily.readthedocs.io/en/latest/) is a Python package to retrieve tile maps from the internet. It can add those tiles as basemap to matplotlib figures."
   ]
  },
  {
   "cell_type": "markdown",
   "metadata": {
    "pycharm": {
     "name": "#%% md\n"
    }
   },
   "source": [
    "#### How to install *contextily*?\n",
    "\n",
    "```\n",
    "conda install -c conda-forge contextily\n",
    "```\n",
    "\n",
    "#### How to install *contextily*?\n",
    "\n",
    "The contextily package is also a module which you can simply import. It is usually aliased with the `ctx` abbreviation.\n",
    "```python\n",
    "import contextily as ctx\n",
    "```"
   ]
  },
  {
   "cell_type": "markdown",
   "metadata": {
    "pycharm": {
     "name": "#%% md\n"
    }
   },
   "source": [
    "The basemap tiles are in the Web Mercator (EPSG:3857) projection. To use them, we must convert our dataset to this CRS first."
   ]
  },
  {
   "cell_type": "code",
   "execution_count": null,
   "metadata": {
    "collapsed": false,
    "jupyter": {
     "outputs_hidden": false
    },
    "pycharm": {
     "name": "#%%\n"
    }
   },
   "outputs": [],
   "source": [
    "import contextily as ctx\n",
    "\n",
    "# Convert dataset to Web Mercator (EPSG:3857)\n",
    "cities_mercator = cities_gdf.to_crs('epsg:3857')\n",
    "\n",
    "ax = cities_mercator.plot(figsize=[20, 10], color='red', markersize=3)\n",
    "ctx.add_basemap(ax)\n",
    "ax.set_axis_off()\n",
    "plt.show()"
   ]
  },
  {
   "cell_type": "markdown",
   "metadata": {},
   "source": [
    "The same journey can be travelled in the opposite direction by leaving your data untouched and warping the tiles coming from the web."
   ]
  },
  {
   "cell_type": "code",
   "execution_count": null,
   "metadata": {
    "collapsed": false,
    "jupyter": {
     "outputs_hidden": false
    },
    "pycharm": {
     "name": "#%%\n"
    }
   },
   "outputs": [],
   "source": [
    "import contextily as ctx\n",
    "\n",
    "ax = cities_gdf.plot(figsize=[20, 10], color='red', markersize=3)\n",
    "ctx.add_basemap(ax, crs=cities_gdf.crs)\n",
    "ax.set_axis_off()\n",
    "plt.show()"
   ]
  },
  {
   "cell_type": "markdown",
   "metadata": {
    "pycharm": {
     "name": "#%% md\n"
    }
   },
   "source": [
    "*Note:* it is also possible to convert both dataset and the basemap tiles into a different, third CRS."
   ]
  },
  {
   "cell_type": "markdown",
   "metadata": {},
   "source": [
    "### Clipping operation"
   ]
  },
  {
   "cell_type": "markdown",
   "metadata": {},
   "source": [
    "Geopandas offers a coordinate indexer (`cx`), which can be used to select only the records which geometry overlaps with the selected region.\n",
    "\n",
    "Let's select and plot the countries in the northern hemisphere."
   ]
  },
  {
   "cell_type": "code",
   "execution_count": null,
   "metadata": {},
   "outputs": [],
   "source": [
    "northern_gdf = countries_gdf.cx[:, 0:]\n",
    "northern_gdf.plot(figsize=[20, 10])\n",
    "plt.show()"
   ]
  },
  {
   "cell_type": "markdown",
   "metadata": {},
   "source": [
    "*Note:* with this approach countries overlapping both the northern and southern hemispheres are not clipped."
   ]
  },
  {
   "cell_type": "markdown",
   "metadata": {},
   "source": [
    "We can perform real clipping with the `clip()` function of geopandas. As a showcase let's clip the countries and country parts inside the bounding box of Europe; defined with the following polygon (given in WKT format):  \n",
    "`POLYGON ((-10 35, 40 35, 40 70, -10, 70, -10, 35))`."
   ]
  },
  {
   "cell_type": "markdown",
   "metadata": {},
   "source": [
    "Geopandas uses the Shapely library in the background to represent and manipulate vector data. Therefore, first we define a regular pandas *DataFrame* named `europe_df`, where the *Coordinates* column will contain a polygon defined with *Shapely*."
   ]
  },
  {
   "cell_type": "code",
   "execution_count": null,
   "metadata": {},
   "outputs": [],
   "source": [
    "import pandas as pd\n",
    "from shapely.geometry import Polygon\n",
    "\n",
    "europe_df = pd.DataFrame({\n",
    "    'Name': ['Europe'],\n",
    "    'Coordinates': [Polygon([(-10, 35), (40, 35), (40, 70), (-10, 70), (-10, 35)])]\n",
    "    # the polygon is defined as a closed line\n",
    "})\n",
    "display(europe_df)"
   ]
  },
  {
   "cell_type": "markdown",
   "metadata": {},
   "source": [
    "Now our *GeoDataFrame* can be constructed from the *DataFrame* stored in `europe_df`, by defining which *Series* (column) contains the geometries and the CRS. (Use the CRS of the countries dataset.)"
   ]
  },
  {
   "cell_type": "code",
   "execution_count": null,
   "metadata": {},
   "outputs": [],
   "source": [
    "europe_gdf = gpd.GeoDataFrame(europe_df, geometry='Coordinates', crs=countries_gdf.crs)\n",
    "display(europe_gdf)"
   ]
  },
  {
   "cell_type": "markdown",
   "metadata": {},
   "source": [
    "Finally, we can perform the clipping operation between the *GeoDataFrames*:"
   ]
  },
  {
   "cell_type": "code",
   "execution_count": null,
   "metadata": {},
   "outputs": [],
   "source": [
    "clipped_gdf = gpd.clip(countries_gdf, europe_gdf)\n",
    "clipped_gdf.plot(figsize=[10, 10])\n",
    "plt.show()"
   ]
  },
  {
   "cell_type": "markdown",
   "metadata": {},
   "source": [
    "### Attribute join"
   ]
  },
  {
   "cell_type": "markdown",
   "metadata": {
    "pycharm": {
     "name": "#%% md\n"
    }
   },
   "source": [
    "In an attribute join, a *GeoDataFrame* (or a *GeoSeries*) is combined with a regular pandas *DataFrame* or *Series* based on a common variable.\n",
    "(This is analogous to normal merging or joining in pandas.)"
   ]
  },
  {
   "cell_type": "markdown",
   "metadata": {
    "pycharm": {
     "name": "#%% md\n"
    }
   },
   "source": [
    "Let's read the *European countries datatset* from the `data/countries_europe.csv` file, which we used in [Chapter 9](09_tabular.ipynb).\n",
    "The dataset contains the country name, capital city name, area (in km<sup>2</sup>), population (in millions) and the region data for 43 European countries respectively.  \n",
    "*Data source: [EuroStat](https://ec.europa.eu/eurostat/)*"
   ]
  },
  {
   "cell_type": "code",
   "execution_count": null,
   "metadata": {
    "collapsed": false,
    "jupyter": {
     "outputs_hidden": false
    },
    "pycharm": {
     "name": "#%%\n"
    }
   },
   "outputs": [],
   "source": [
    "countries_europe = pd.read_csv('../data/countries_europe.csv', delimiter = ';')\n",
    "display(countries_europe)"
   ]
  },
  {
   "cell_type": "markdown",
   "metadata": {
    "pycharm": {
     "name": "#%% md\n"
    }
   },
   "source": [
    "The *attribute join* can be performed with the `merge()` method, defining the columns used for merging. (Or alternatively `left_index` and `right_index`.)"
   ]
  },
  {
   "cell_type": "code",
   "execution_count": null,
   "metadata": {
    "collapsed": false,
    "jupyter": {
     "outputs_hidden": false
    },
    "pycharm": {
     "name": "#%%\n"
    }
   },
   "outputs": [],
   "source": [
    "countries_merged = countries_gdf.merge(countries_europe, left_on='NAME', right_on='Country')\n",
    "display(countries_merged)"
   ]
  },
  {
   "cell_type": "markdown",
   "metadata": {
    "pycharm": {
     "name": "#%% md\n"
    }
   },
   "source": [
    "### Spatial join"
   ]
  },
  {
   "cell_type": "markdown",
   "metadata": {},
   "source": [
    "The spatial join (`sjoin()`) function of *geopandas* performs a spatial intersection check between the records of one or two *GeoDataFrames*. (The *rtree* package must be installed for spatial indexing support.)\n",
    "\n",
    "Let's match the countries and cities based on their spatial location:"
   ]
  },
  {
   "cell_type": "code",
   "execution_count": null,
   "metadata": {},
   "outputs": [],
   "source": [
    "display(gpd.sjoin(countries_gdf, cities_gdf))"
   ]
  },
  {
   "cell_type": "markdown",
   "metadata": {},
   "source": [
    "Limit the number of columns displayed to get an output easier to interpret:"
   ]
  },
  {
   "cell_type": "code",
   "execution_count": null,
   "metadata": {},
   "outputs": [],
   "source": [
    "display(gpd.sjoin(countries_gdf, cities_gdf)[['NAME', 'CITY_NAME']])"
   ]
  },
  {
   "cell_type": "markdown",
   "metadata": {},
   "source": [
    "Select the cities inside Hungary for a quick verification of the results:"
   ]
  },
  {
   "cell_type": "code",
   "execution_count": null,
   "metadata": {},
   "outputs": [],
   "source": [
    "condition = countries_gdf['NAME'] == 'Hungary'\n",
    "hungary_gdf = countries_gdf[condition]\n",
    "display(gpd.sjoin(hungary_gdf, cities_gdf)[['NAME', 'CITY_NAME']])"
   ]
  },
  {
   "cell_type": "markdown",
   "metadata": {},
   "source": [
    "Perform a spatial intersection check between the dataframe containing only Hungary (`hungary_gdf`) and the dataframe containing all countries (`countries_gdf`). The result shall be the neighbouring countries of Hungary."
   ]
  },
  {
   "cell_type": "code",
   "execution_count": null,
   "metadata": {},
   "outputs": [],
   "source": [
    "display(gpd.sjoin(hungary_gdf, countries_gdf)[['NAME_left', 'NAME_right']])"
   ]
  },
  {
   "cell_type": "markdown",
   "metadata": {},
   "source": [
    "*Remark:* the `NAME` column was renamed to `NAME_left` and `NAME_right` automatically, since column names must be unique."
   ]
  },
  {
   "cell_type": "markdown",
   "metadata": {},
   "source": [
    "### Writing spatial data"
   ]
  },
  {
   "cell_type": "markdown",
   "metadata": {},
   "source": [
    "*GeoDataFrames* can be easily persisted with the `to_file()` function. As when reading files, various file formats are supported again."
   ]
  },
  {
   "cell_type": "code",
   "execution_count": null,
   "metadata": {},
   "outputs": [],
   "source": [
    "clipped_gdf.to_file('11_clipped.shp')\n",
    "#clipped_gdf.to_file('11_clipped2.geojson', driver='GeoJSON')"
   ]
  },
  {
   "cell_type": "markdown",
   "metadata": {},
   "source": [
    "---"
   ]
  },
  {
   "cell_type": "markdown",
   "metadata": {},
   "source": [
    "## Summary exercises on vector data management"
   ]
  },
  {
   "cell_type": "markdown",
   "metadata": {},
   "source": [
    "Beside the `countries_gdf` *GeoDataFrame*, read the `data/ne_10m_rivers_lake_centerlines.shp` shapefile located in the `data` folder. This dataset contains both scalar and spatial data of the larger rivers and lakes around the world.  \n",
    "Source: [Natural Earth](https://www.naturalearthdata.com/downloads/10m-physical-vectors/)"
   ]
  },
  {
   "cell_type": "code",
   "execution_count": null,
   "metadata": {},
   "outputs": [],
   "source": [
    "rivers_gdf = gpd.read_file('../data/ne_10m_rivers_lake_centerlines.shp')\n",
    "display(rivers_gdf)"
   ]
  },
  {
   "cell_type": "markdown",
   "metadata": {},
   "source": [
    "### Exercise 1"
   ]
  },
  {
   "cell_type": "markdown",
   "metadata": {},
   "source": [
    "Visualize the country boundaries and the river/lake layers on the same map. (Rivers and lakes shall be blue.)"
   ]
  },
  {
   "cell_type": "code",
   "execution_count": null,
   "metadata": {},
   "outputs": [],
   "source": []
  },
  {
   "cell_type": "markdown",
   "metadata": {},
   "source": [
    "### Exercise 2"
   ]
  },
  {
   "cell_type": "markdown",
   "metadata": {},
   "source": [
    "Visualize only Hungary (on any preferred country) and the rivers flowing through it."
   ]
  },
  {
   "cell_type": "code",
   "execution_count": null,
   "metadata": {},
   "outputs": [],
   "source": []
  },
  {
   "cell_type": "markdown",
   "metadata": {},
   "source": [
    "### Exercise 3"
   ]
  },
  {
   "cell_type": "markdown",
   "metadata": {},
   "source": [
    "Determine for the river *Danube* (or any major river) that which countries it flows through.\n",
    "\n",
    "*Hint: the river might consist of multiple line segments in the river dataset, but you can filter all of them by e.g. the `name_en` field.*"
   ]
  },
  {
   "cell_type": "code",
   "execution_count": null,
   "metadata": {},
   "outputs": [],
   "source": []
  },
  {
   "cell_type": "markdown",
   "metadata": {},
   "source": [
    "---"
   ]
  },
  {
   "cell_type": "markdown",
   "metadata": {},
   "source": [
    "## Process the Shapely objects in a GeoDataFrame"
   ]
  },
  {
   "cell_type": "markdown",
   "metadata": {},
   "source": [
    "The `data/hungary_admin_8.shp` shapefile contains the city level administrative boundaries of Hungary.  \n",
    "*Data source: [OpenStreetMap](https://data2.openstreetmap.hu/hatarok/)*\n",
    "\n",
    "Load the dataset into a GeoDataFrame, set the `NAME` column as index and convert it to the EOV coordinate reference system."
   ]
  },
  {
   "cell_type": "code",
   "execution_count": null,
   "metadata": {
    "collapsed": false,
    "jupyter": {
     "outputs_hidden": false
    },
    "pycharm": {
     "name": "#%%\n"
    }
   },
   "outputs": [],
   "source": [
    "import geopandas as gpd\n",
    "\n",
    "cities_admin = gpd.read_file('../data/hungary_admin_8.shp')\n",
    "print(\"Initial CRS: {0}\".format(cities_admin.crs))\n",
    "\n",
    "cities_admin.set_index('NAME', inplace=True)\n",
    "cities_admin.to_crs('epsg:23700', inplace=True) # EOV\n",
    "print(\"Converted CRS: {0}\".format(cities_admin.crs))\n",
    "\n",
    "display(cities_admin)"
   ]
  },
  {
   "cell_type": "markdown",
   "metadata": {
    "pycharm": {
     "name": "#%% md\n"
    }
   },
   "source": [
    "Process all the rows in the GeoDataFrame and display only the counties with an area larger than 200 km<sup>2</sup>:"
   ]
  },
  {
   "cell_type": "code",
   "execution_count": null,
   "metadata": {
    "collapsed": false,
    "jupyter": {
     "outputs_hidden": false
    },
    "pycharm": {
     "name": "#%%\n"
    }
   },
   "outputs": [],
   "source": [
    "for name, row in cities_admin.iterrows():\n",
    "    geom = row['geometry']\n",
    "    if geom.area / 1e6 >= 200:\n",
    "        print('{0}, Area: {1:.1f} km2, Centroid: {2}'.format(name, geom.area / 1e6, geom.centroid))"
   ]
  },
  {
   "cell_type": "markdown",
   "metadata": {
    "pycharm": {
     "name": "#%% md\n"
    }
   },
   "source": [
    "The EOV coordinates `(653812, 239106)` are inside the territory of Budapest.\n",
    "Check whether really on this administrative unit contains this location."
   ]
  },
  {
   "cell_type": "code",
   "execution_count": null,
   "metadata": {
    "collapsed": false,
    "jupyter": {
     "outputs_hidden": false
    },
    "pycharm": {
     "name": "#%%\n"
    }
   },
   "outputs": [],
   "source": [
    "pos_budapest = geometry.Point(653812, 239106)\n",
    "for name, row in cities_admin.iterrows():\n",
    "    geom = row['geometry']\n",
    "\n",
    "    if geom.contains(pos_budapest):\n",
    "        print(name)"
   ]
  }
 ],
 "metadata": {
  "kernelspec": {
   "display_name": "Python 3",
   "language": "python",
   "name": "python3"
  },
  "language_info": {
   "codemirror_mode": {
    "name": "ipython",
    "version": 3
   },
   "file_extension": ".py",
   "mimetype": "text/x-python",
   "name": "python",
   "nbconvert_exporter": "python",
   "pygments_lexer": "ipython3",
   "version": "3.8.5"
  }
 },
 "nbformat": 4,
 "nbformat_minor": 4
}