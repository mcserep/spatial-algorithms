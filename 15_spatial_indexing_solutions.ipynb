{
 "cells": [
  {
   "cell_type": "markdown",
   "metadata": {},
   "source": [
    "# Chapter 15: Spatial indexing"
   ]
  },
  {
   "cell_type": "markdown",
   "metadata": {},
   "source": [
    "## Package installation\n",
    "\n",
    "This chapter covers spatial indexing with *KD-trees*, *Quadtrees* and *R-trees*.\n",
    "The package requirement for these spatial indexes are the `scipy.spatial`, `pyqtree` and `rtree` modules respectively.\n",
    "\n",
    "### Anaconda\n",
    "\n",
    "If you have Anaconda installed, the `scipy` package was installed together with, you only need to install `pyqtree` and `rtree`.\n",
    "Open the *Anaconda Prompt* and type in:\n",
    "```\n",
    "conda install -c conda-forge pyqtree rtree\n",
    "```\n",
    "\n",
    "### Python Package Installer (pip)\n",
    "\n",
    "If you have standalone Python3 and Jupyter Notebook install, open a command prompt / terminal and type in:\n",
    "```\n",
    "pip3 install scipy pyqtree rtree\n",
    "```\n",
    "\n",
    "*You most likely have already installed `rtree`, as it was an optional dependency for `geopandas` in [Chapter 9](09_spatial_vector_solutions.ipynb).*"
   ]
  },
  {
   "cell_type": "markdown",
   "metadata": {},
   "source": [
    "---"
   ]
  },
  {
   "cell_type": "markdown",
   "metadata": {},
   "source": [
    "## Process the dataset"
   ]
  },
  {
   "cell_type": "markdown",
   "metadata": {},
   "source": [
    "Read the `data/hungary_cities.shp` shapefile located in the `data` folder.\n",
    "This dataset contains both scalar and spatial data of the Hungarian cities, and should be familiar from [Chapter 14](14_graph_spanning_tree.ipynb)."
   ]
  },
  {
   "cell_type": "code",
   "execution_count": null,
   "metadata": {},
   "outputs": [],
   "source": [
    "import geopandas as gpd\n",
    "\n",
    "cities = gpd.read_file('data/hungary_cities.shp')\n",
    "display(cities)"
   ]
  },
  {
   "cell_type": "markdown",
   "metadata": {},
   "source": [
    "### Minimal bounding box"
   ]
  },
  {
   "cell_type": "markdown",
   "metadata": {},
   "source": [
    "Calculate the minimal bounding box for all the points! (We will use it later.)"
   ]
  },
  {
   "cell_type": "code",
   "execution_count": null,
   "metadata": {},
   "outputs": [],
   "source": [
    "def get_x(point):\n",
    "    return point.x\n",
    "\n",
    "def get_y(point):\n",
    "    return point.y\n",
    "\n",
    "# Calculating the minimal bounding box\n",
    "min_x = min(cities['geometry'], key = get_x).x # or cities.geometry\n",
    "max_x = max(cities['geometry'], key = get_x).x\n",
    "min_y = min(cities['geometry'], key = get_y).y\n",
    "max_y = max(cities['geometry'], key = get_y).y\n",
    "\n",
    "print(\"Bounding box: ({0:.1f}, {1:.1f}) - ({2:.1f}, {3:.1f})\".format(min_x, min_y, max_x, max_y))"
   ]
  },
  {
   "cell_type": "markdown",
   "metadata": {},
   "source": [
    "### Lambda functions *(optional)*"
   ]
  },
  {
   "cell_type": "markdown",
   "metadata": {},
   "source": [
    "Lambda functions can have any number of arguments but only one expression.\n",
    "The evaluated expression is the return value of the function.\n",
    "\n",
    "A lambda function in python has the following syntax:\n",
    "```python\n",
    "lambda arguments: expression\n",
    "```\n",
    "\n",
    "**Lambda functions can be used wherever function objects are required.**"
   ]
  },
  {
   "cell_type": "code",
   "execution_count": null,
   "metadata": {},
   "outputs": [],
   "source": [
    "# Calculating the minimal bounding box\n",
    "min_x = min(cities['geometry'], key = lambda p: p.x).x\n",
    "max_x = max(cities['geometry'], key = lambda p: p.x).x\n",
    "min_y = min(cities['geometry'], key = lambda p: p.y).y\n",
    "max_y = max(cities['geometry'], key = lambda p: p.y).y\n",
    "\n",
    "print(\"Bounding box: ({0:.1f}, {1:.1f}) - ({2:.1f}, {3:.1f})\".format(min_x, min_y, max_x, max_y))"
   ]
  },
  {
   "cell_type": "markdown",
   "metadata": {},
   "source": [
    "---"
   ]
  },
  {
   "cell_type": "markdown",
   "metadata": {},
   "source": [
    "## KdTree"
   ]
  },
  {
   "cell_type": "markdown",
   "metadata": {},
   "source": [
    "Selecty a random city and create a point which we will query later."
   ]
  },
  {
   "cell_type": "code",
   "execution_count": null,
   "metadata": {},
   "outputs": [],
   "source": [
    "import random\n",
    "idx = random.randint(0, len(cities) - 1)\n",
    "city = cities.iloc[idx]\n",
    "print(city)"
   ]
  },
  {
   "cell_type": "code",
   "execution_count": null,
   "metadata": {},
   "outputs": [],
   "source": [
    "from shapely.geometry import Point\n",
    "\n",
    "city_point = city.geometry\n",
    "query_point = Point(city_point.x + 1, city_point.y + 2)\n",
    "\n",
    "print(\"City location: {0}\".format(city_point))\n",
    "print(\"Query location: {0}\".format(query_point))"
   ]
  },
  {
   "cell_type": "markdown",
   "metadata": {},
   "source": [
    "### Construct the KD-Tree"
   ]
  },
  {
   "cell_type": "markdown",
   "metadata": {},
   "source": [
    "The `scipy` module can construct KD-Tree from a list of points, where each point is represented by a 2 element list or tuple."
   ]
  },
  {
   "cell_type": "code",
   "execution_count": null,
   "metadata": {},
   "outputs": [],
   "source": [
    "points = [(p.x, p.y) for p in cities['geometry']]\n",
    "print(points[:10])"
   ]
  },
  {
   "cell_type": "markdown",
   "metadata": {},
   "source": [
    "Now the *KD-Tree* can be constructed."
   ]
  },
  {
   "cell_type": "code",
   "execution_count": null,
   "metadata": {},
   "outputs": [],
   "source": [
    "import scipy.spatial\n",
    "kdtree = scipy.spatial.KDTree(points)"
   ]
  },
  {
   "cell_type": "markdown",
   "metadata": {},
   "source": [
    "### Pointwise query"
   ]
  },
  {
   "cell_type": "markdown",
   "metadata": {},
   "source": [
    "Query the closest neighbor to the query point."
   ]
  },
  {
   "cell_type": "code",
   "execution_count": null,
   "metadata": {},
   "outputs": [],
   "source": [
    "print(\"City location: {0}\".format(city_point))\n",
    "print(\"Query location: {0}\".format(query_point))\n",
    "\n",
    "dist, idx = kdtree.query(query_point)\n",
    "\n",
    "print(\"Closest neighbor: distance = {0:.4f}, index = {1}, point = {2}\".format(dist, idx, points[idx]))\n",
    "print(\"Closest neighbor city: {0}\".format(cities.iloc[idx]['City']))"
   ]
  },
  {
   "cell_type": "markdown",
   "metadata": {},
   "source": [
    "Query the 3 closest neighbors to the query point."
   ]
  },
  {
   "cell_type": "code",
   "execution_count": null,
   "metadata": {},
   "outputs": [],
   "source": [
    "distances, indices = kdtree.query(query_point, k = 3)\n",
    "\n",
    "print(\"Query location: {0}\".format(query_point))\n",
    "print(\"3 closest neighbors:\")\n",
    "for i in range(len(indices)):    \n",
    "    idx = indices[i]\n",
    "    dist = distances[i]\n",
    "    print(\"{0}. neighbor: distance = {1:.4f}, index = {2}, point = {3}, city = {4}\".format(i+1, dist, idx, points[idx], cities.iloc[idx]['City']))"
   ]
  },
  {
   "cell_type": "markdown",
   "metadata": {},
   "source": [
    "Query the 50 closest neighbors to the query point within 10km."
   ]
  },
  {
   "cell_type": "code",
   "execution_count": null,
   "metadata": {},
   "outputs": [],
   "source": [
    "distances, indices = kdtree.query(query_point, k = 50, distance_upper_bound = 10000)\n",
    "print(\"Distance list: %s\" % distances)\n",
    "print(\"Index list: %s\" % indices)"
   ]
  },
  {
   "cell_type": "markdown",
   "metadata": {},
   "source": [
    "Most likely will only find less than 50 neighbors in a 10km range, but the index list has still 50 elements.\n",
    "For the invalid elements the `indices[i]` is not a valid index, but instead equals to `len(cities)`.\n",
    "So with a simple check we can detect the end of the valid results."
   ]
  },
  {
   "cell_type": "code",
   "execution_count": null,
   "metadata": {},
   "outputs": [],
   "source": [
    "valid_indices = [idx for idx in indices if idx < len(cities)]\n",
    "print(valid_indices)"
   ]
  },
  {
   "cell_type": "code",
   "execution_count": null,
   "metadata": {},
   "outputs": [],
   "source": [
    "print(\"50 closest neighbors within 10km:\")\n",
    "for i in range(len(valid_indices)):\n",
    "    idx = valid_indices[i]\n",
    "    dist = distances[i]\n",
    "    print(\"{0}. neighbor: distance = {1:.1f}, index = {2}, location = {3}, city = {4}\".format(i+1, dist, idx, points[idx], cities.iloc[idx]['City']))"
   ]
  },
  {
   "cell_type": "markdown",
   "metadata": {},
   "source": [
    "### Exercise"
   ]
  },
  {
   "cell_type": "markdown",
   "metadata": {},
   "source": [
    "**Task 1:** Implement a linear search for the closest point instead of using a *KD-Tree*!"
   ]
  },
  {
   "cell_type": "code",
   "execution_count": null,
   "metadata": {},
   "outputs": [],
   "source": [
    "def find_closest(points, query):\n",
    "    min_dist = None\n",
    "    min_point = None\n",
    "    for point in points:\n",
    "        dist = point.distance(query)\n",
    "        if min_dist is None or dist < min_dist:\n",
    "            min_dist = dist\n",
    "            min_point = point\n",
    "    return min_point\n",
    "            \n",
    "print(\"City location: {0}\".format(city_point))\n",
    "print(\"Query location: {0}\".format(query_point))\n",
    "closest_point = find_closest(cities['geometry'], query_point)\n",
    "print(\"Closest location: {0}\".format(closest_point))"
   ]
  },
  {
   "cell_type": "markdown",
   "metadata": {},
   "source": [
    "**Task 2:** Compare the execution time of the liner search and the spatial index query (logarithmic asymptotic complexity) approach!\n",
    "\n",
    "*Hint: import the `time` module and record the timestamp before and after the execution of the desired algorithm.*"
   ]
  },
  {
   "cell_type": "code",
   "execution_count": null,
   "metadata": {},
   "outputs": [],
   "source": [
    "import time\n",
    "\n",
    "start = time.time()\n",
    "find_closest(cities['geometry'], query_point)\n",
    "end = time.time()\n",
    "print(\"Linear search execution time: {0:.6f}s\".format(end-start))\n",
    "\n",
    "start = time.time()\n",
    "kdtree.query(query_point)\n",
    "end = time.time()\n",
    "print(\"KD-tree search execution time: {0:.6f}s\".format(end-start))"
   ]
  },
  {
   "cell_type": "markdown",
   "metadata": {},
   "source": [
    "---"
   ]
  },
  {
   "cell_type": "markdown",
   "metadata": {},
   "source": [
    "## Quadtree"
   ]
  },
  {
   "cell_type": "markdown",
   "metadata": {},
   "source": [
    "Create a 10x10km query area around a point."
   ]
  },
  {
   "cell_type": "code",
   "execution_count": null,
   "metadata": {},
   "outputs": [],
   "source": [
    "query_area_size = 10000\n",
    "query_area = (\n",
    "    query_point.x - query_area_size/2,\n",
    "    query_point.y - query_area_size/2,\n",
    "    query_point.x + query_area_size/2,\n",
    "    query_point.y + query_area_size/2\n",
    ")\n",
    "print(\"Query area: {0}, side length = {1:.1f} km\".format(query_area, query_area_size / 1000))"
   ]
  },
  {
   "cell_type": "markdown",
   "metadata": {},
   "source": [
    "### Construct the Quad-tree"
   ]
  },
  {
   "cell_type": "code",
   "execution_count": null,
   "metadata": {},
   "outputs": [],
   "source": [
    "import pyqtree\n",
    "\n",
    "quadtree = pyqtree.Index(bbox=(min_x, min_y, max_x, max_y))\n",
    "for i in range(len(points)):\n",
    "    obj = { \"id\": i, \"point\": points[i] }\n",
    "    quadtree.insert(obj, points[i]) # object, bbox"
   ]
  },
  {
   "cell_type": "markdown",
   "metadata": {},
   "source": [
    "*Note:* for a polygon, the first argument should be the indexed object (e.g. the polygon itself), and the second argument should be the bounding box of the polygon."
   ]
  },
  {
   "cell_type": "markdown",
   "metadata": {},
   "source": [
    "### Areawise query"
   ]
  },
  {
   "cell_type": "code",
   "execution_count": null,
   "metadata": {},
   "outputs": [],
   "source": [
    "matches = quadtree.intersect(query_area)\n",
    "print(\"Matches: {0}\".format(matches))"
   ]
  },
  {
   "cell_type": "code",
   "execution_count": null,
   "metadata": {},
   "outputs": [],
   "source": [
    "for obj in matches:\n",
    "    print(\"Index: {0}, Location: {1}, City: {2}\".format(obj['id'], obj['point'], cities.iloc[obj['id']]['City']))"
   ]
  },
  {
   "cell_type": "markdown",
   "metadata": {},
   "source": [
    "---"
   ]
  },
  {
   "cell_type": "markdown",
   "metadata": {},
   "source": [
    "## R-Tree"
   ]
  },
  {
   "cell_type": "markdown",
   "metadata": {},
   "source": [
    "We will use the same `query_area` for demonstration, as before with the *Quadtree*."
   ]
  },
  {
   "cell_type": "markdown",
   "metadata": {},
   "source": [
    "### Construct the R-Tree"
   ]
  },
  {
   "cell_type": "code",
   "execution_count": null,
   "metadata": {},
   "outputs": [],
   "source": [
    "from rtree import index as rtree_index\n",
    "\n",
    "rtree = rtree_index.Index()\n",
    "for i in range(len(points)):\n",
    "    rtree.insert(i, points[i]) # object, bbox"
   ]
  },
  {
   "cell_type": "markdown",
   "metadata": {},
   "source": [
    "### Areawise query"
   ]
  },
  {
   "cell_type": "code",
   "execution_count": null,
   "metadata": {},
   "outputs": [],
   "source": [
    "matches = rtree.intersection(query_area)\n",
    "print(\"Matches: {0}\".format(list(matches)))"
   ]
  },
  {
   "cell_type": "code",
   "execution_count": null,
   "metadata": {},
   "outputs": [],
   "source": [
    "matches = rtree.intersection(query_area)\n",
    "for idx in matches:\n",
    "    city = cities.iloc[idx]\n",
    "    print(\"Index: {0}, Location: {1}, City: {2}\".format(idx, city['geometry'], city['City']))"
   ]
  },
  {
   "cell_type": "markdown",
   "metadata": {},
   "source": [
    "### GeoPandas integration"
   ]
  },
  {
   "cell_type": "markdown",
   "metadata": {},
   "source": [
    "If the `rtree` module is installed, the `geopandas` module utilizes an *R-tree* in the background to spatially index the spatial objects in a *GeoDataFrame*.\n",
    "\n",
    "This spatial index can be accessed directly as the `sindex` property of the *GeoDataFrame*:"
   ]
  },
  {
   "cell_type": "code",
   "execution_count": null,
   "metadata": {},
   "outputs": [],
   "source": [
    "print(cities.sindex)\n",
    "matches = cities.sindex.intersection(query_area)\n",
    "print(\"Matches: {0}\".format(list(matches)))"
   ]
  },
  {
   "cell_type": "markdown",
   "metadata": {},
   "source": [
    "The *R-Tree* spatial index is also used by the `sjoin()` and `clip()` function of *geopandas*."
   ]
  }
 ],
 "metadata": {
  "kernelspec": {
   "display_name": "Python 3",
   "language": "python",
   "name": "python3"
  },
  "language_info": {
   "codemirror_mode": {
    "name": "ipython",
    "version": 3
   },
   "file_extension": ".py",
   "mimetype": "text/x-python",
   "name": "python",
   "nbconvert_exporter": "python",
   "pygments_lexer": "ipython3",
   "version": "3.6.9"
  }
 },
 "nbformat": 4,
 "nbformat_minor": 4
}
