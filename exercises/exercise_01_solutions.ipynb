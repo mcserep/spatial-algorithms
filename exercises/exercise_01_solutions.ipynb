{
 "cells": [
  {
   "cell_type": "markdown",
   "metadata": {},
   "source": [
    "# Exercise Book 1\n",
    "\n",
    "**Covering the materials of Chapters 1-4.**  \n",
    "Topics: control structures, user input, exception handling, random generation, lists, function definition"
   ]
  },
  {
   "cell_type": "markdown",
   "metadata": {},
   "source": [
    "## Task 1: Armstrong numbers"
   ]
  },
  {
   "cell_type": "markdown",
   "metadata": {},
   "source": [
    "Produce all *Armstrong numbers* smaller than $N$. The value of $N$ is given by the user. Validate the user input!\n",
    "\n",
    "A number is an [*Armstrong number*](https://en.wikipedia.org/wiki/Narcissistic_number), if it is the sum of its own digits, each raised to the power of the number of digits. For example 153 is an *Armstrong number*, because $1^3+5^3+3^3=153$. The first few *Armstrong numbers* are: 0, 1, 2, 3, 4, 5, 6, 7, 8, 9, 153, 370, 371, 407, 1634, etc."
   ]
  },
  {
   "cell_type": "code",
   "execution_count": null,
   "metadata": {},
   "outputs": [],
   "source": [
    "valid_input = False\n",
    "while not valid_input:\n",
    "    try:\n",
    "        N = int(input(\"N := \"))\n",
    "        valid_input = True\n",
    "    except:\n",
    "        print(\"That is not a number.\")\n",
    "\n",
    "print('Armstrong numbers smaller than %d:' % N)\n",
    "for number in range(0, N):\n",
    "    orig_number = number\n",
    "    digits = len(str(number))\n",
    "    result = 0\n",
    "    while number > 0:\n",
    "        last_digit = number % 10\n",
    "        number = number // 10\n",
    "        result += last_digit ** digits\n",
    "    if result == orig_number:\n",
    "        print(orig_number)"
   ]
  },
  {
   "cell_type": "markdown",
   "metadata": {},
   "source": [
    "## Task 2: Perfect numbers"
   ]
  },
  {
   "cell_type": "markdown",
   "metadata": {
    "pycharm": {
     "name": "#%% md\n"
    }
   },
   "source": [
    "Produce the first $N$ *Perfect numbers*. The value of $N$ is given by the user. Validate the user input!\n",
    "\n",
    "In number theory, a [*perfect number*](https://en.wikipedia.org/wiki/Perfect_number) is a positive integer that is equal to the sum of its positive divisors, excluding the number itself. For instance, 6 has divisors 1, 2 and 3 (excluding itself), and $1 + 2 + 3 = 6$, so 6 is a *perfect number*. The first few *perfect numbers* are: 6, 28, 496, etc."
   ]
  },
  {
   "cell_type": "code",
   "execution_count": null,
   "metadata": {
    "pycharm": {
     "name": "#%%\n"
    }
   },
   "outputs": [],
   "source": [
    "valid_input = False\n",
    "while not valid_input:\n",
    "    try:\n",
    "        N = int(input(\"N := \"))\n",
    "        valid_input = True\n",
    "    except:\n",
    "        print(\"That is not a number.\")\n",
    "\n",
    "print('The first %d perfect numbers:' % N)\n",
    "found_numbers = 0\n",
    "number = 1\n",
    "while found_numbers < N:\n",
    "    result = 0\n",
    "    for div in range(1, number):\n",
    "        if number % div == 0:\n",
    "            result += div\n",
    "    if result == number:\n",
    "        print(number)\n",
    "        found_numbers += 1\n",
    "    number += 1"
   ]
  },
  {
   "cell_type": "markdown",
   "metadata": {},
   "source": [
    "## Task 3: Greatest common divisor"
   ]
  },
  {
   "cell_type": "markdown",
   "metadata": {
    "pycharm": {
     "name": "#%% md\n"
    }
   },
   "source": [
    "Calculate the *greatest common divisor* of 2 numbers!\n",
    "\n",
    "Request 2 integer numbers from the user and calculate their greatest common divisor.\n",
    "E.g. for 30 and 105 their greatest common divisor is 15.\n",
    "Do not use the `math.gcd()` built-in function to solve the task.\n",
    "\n",
    "*Hint: use the [Euclidean algorithm](https://en.wikipedia.org/wiki/Euclidean_algorithm)*"
   ]
  },
  {
   "cell_type": "code",
   "execution_count": null,
   "metadata": {
    "pycharm": {
     "name": "#%%\n"
    }
   },
   "outputs": [],
   "source": [
    "def gcd(a, b):\n",
    "    while a != b:\n",
    "        if a > b:\n",
    "            a -= b\n",
    "        else:\n",
    "            b -= a\n",
    "    return a\n",
    "\n",
    "num1 = int(input('First number: '))\n",
    "num2 = int(input('Second number: '))\n",
    "\n",
    "print('The greatest common divisor of %d and %d is %d' %(num1, num2, gcd(num1, num2)))"
   ]
  },
  {
   "cell_type": "markdown",
   "metadata": {},
   "source": [
    "## Task 4: Rock–paper–scissors"
   ]
  },
  {
   "cell_type": "markdown",
   "metadata": {
    "pycharm": {
     "name": "#%% md\n"
    }
   },
   "source": [
    "Implement the popular [*rock–paper–scissors*](https://en.wikipedia.org/wiki/Rock%E2%80%93paper%E2%80%93scissors) game, where the user can play against the computer!\n",
    "The human player can type in *rock*, *paper* or *scissors*. Handle incorrect input and request the input again if it does not match one of the three previous options. The computer player randomly chooses one of the options.\n",
    "The game finishes when one of the players won. (It continues with another round upon a draw.)"
   ]
  },
  {
   "cell_type": "code",
   "execution_count": null,
   "metadata": {
    "pycharm": {
     "name": "#%%\n"
    }
   },
   "outputs": [],
   "source": [
    "import random\n",
    "options = ['rock', 'paper', 'scissors']\n",
    "computer = random.choice(options)\n",
    "\n",
    "# Read user input with validation\n",
    "def read_user_input():\n",
    "    user_input = input(\"Please type in 'rock', 'paper' or 'scissors': \")\n",
    "    while not user_input in options:\n",
    "        print(\"There must have been a typo. Please try again: \")\n",
    "        user_input = input(\"Please type in 'rock', 'paper' or 'scissors': \")\n",
    "    return user_input\n",
    "\n",
    "user_input = read_user_input()\n",
    "while user_input == computer:\n",
    "    print(\"There is a tie!\")\n",
    "    computer = random.choice(options)\n",
    "    user_input = read_user_input()\n",
    "\n",
    "if user_input == \"rock\":\n",
    "    if computer == \"paper\":\n",
    "        print (\"Paper beats rock. The computer won.\")\n",
    "    else:\n",
    "        print(\"Rock beats scissors. You won!\")\n",
    "elif user_input == \"paper\":\n",
    "    if computer == \"rock\":\n",
    "        print(\"Paper beats rock. You won!\")\n",
    "    else:\n",
    "        print(\"Scissors beat paper. The computer won.\")\n",
    "elif user_input == \"scissors\":\n",
    "    if computer == \"rock\":\n",
    "        print(\"Rock beats scissors. The computer won.\")\n",
    "    else:\n",
    "        print (\"Scissors beats paper. You won.\")\n"
   ]
  },
  {
   "cell_type": "markdown",
   "metadata": {},
   "source": [
    "## Task 5: Guess a number"
   ]
  },
  {
   "cell_type": "markdown",
   "metadata": {},
   "source": [
    "Write a program which can think a of number between 1 and 100, randomly.\n",
    "The task of the user is to guess that number. In each round the user can make a guess, and the program replies whether the guess is correct or it was too small or too large.\n",
    "The game ends when the user succefully guesses the number."
   ]
  },
  {
   "cell_type": "code",
   "execution_count": null,
   "metadata": {},
   "outputs": [],
   "source": [
    "import random\n",
    "number = random.randint(1, 100)\n",
    "\n",
    "guess = int(input(\"Guess my number between 1 and 100: \"))\n",
    "while guess != number:\n",
    "    if guess > number:\n",
    "        print(\"Your number is too large. Try again. \")\n",
    "        guess = int(input(\"Guess a number: \"))\n",
    "    elif guess < number:\n",
    "        print(\"Your number is too small. Try again.\")\n",
    "        guess = int(input(\"Guess a number: \"))\n",
    "else:\n",
    "    print(\"This is the correct number!\")"
   ]
  },
  {
   "cell_type": "markdown",
   "metadata": {},
   "source": [
    "*Question: if the human player is smart, what is the minimum number of guesses, which is always enough?*"
   ]
  },
  {
   "cell_type": "markdown",
   "metadata": {
    "pycharm": {
     "name": "#%% md\n"
    }
   },
   "source": [
    "## Task 6: Separation by parity"
   ]
  },
  {
   "cell_type": "markdown",
   "metadata": {},
   "source": [
    "Given a *list* of numbers, write a program, which separates the odd and even integers in separate lists. E.g.:\n",
    "\n",
    "```\n",
    "Input: [45, 83, 90, 11, 24, 98, 87, 39, 9, 6]\n",
    "Even numbers: [90, 24, 98, 6]\n",
    "Odd numbers: [45, 83, 11, 87, 39, 9]\n",
    "```"
   ]
  },
  {
   "cell_type": "markdown",
   "metadata": {
    "pycharm": {
     "name": "#%% md\n"
    }
   },
   "source": [
    "Here is a list of 20 random numbers between 1 and 100:"
   ]
  },
  {
   "cell_type": "code",
   "execution_count": null,
   "metadata": {
    "collapsed": false,
    "jupyter": {
     "outputs_hidden": false
    },
    "pycharm": {
     "name": "#%%\n"
    }
   },
   "outputs": [],
   "source": [
    "import random\n",
    "\n",
    "numbers = []\n",
    "for i in range(20):\n",
    "    numbers.append(random.randint(1, 100))\n",
    "print(numbers)"
   ]
  },
  {
   "cell_type": "markdown",
   "metadata": {},
   "source": [
    "Now write a program which separates them:"
   ]
  },
  {
   "cell_type": "code",
   "execution_count": null,
   "metadata": {
    "collapsed": false,
    "jupyter": {
     "outputs_hidden": false
    },
    "pycharm": {
     "name": "#%%\n"
    }
   },
   "outputs": [],
   "source": [
    "even_numbers=[]\n",
    "odd_numbers=[]\n",
    "for i in numbers:\n",
    "    if i%2==0:\n",
    "        even_numbers.append(i)\n",
    "    else:\n",
    "        odd_numbers.append(i)\n",
    "print('The even numbers are: %s' % even_numbers)\n",
    "print('The odd numbers are: %s' % odd_numbers)"
   ]
  },
  {
   "cell_type": "markdown",
   "metadata": {},
   "source": [
    "## Task 7: Pyramid"
   ]
  },
  {
   "cell_type": "markdown",
   "metadata": {},
   "source": [
    "Write the `pyramid(height)` function, which displays a pattern like a pyramid with an asterisk. The height of the pyramid can be defined by the user.\n",
    "\n",
    "E.g. for $height = 4$, the pyramid would look like:\n",
    "```\n",
    "   *\n",
    "  ***\n",
    " *****\n",
    "*******\n",
    "```"
   ]
  },
  {
   "cell_type": "code",
   "execution_count": null,
   "metadata": {
    "collapsed": false,
    "jupyter": {
     "outputs_hidden": false
    },
    "pycharm": {
     "name": "#%%\n"
    }
   },
   "outputs": [],
   "source": [
    "def pyramid(height):\n",
    "    for i in range(height):\n",
    "        print(' '*(height-i-1) + '*'*(2*i+1))\n",
    "\n",
    "h=int(input('Height of the pyramid: '))\n",
    "pyramid(h)"
   ]
  },
  {
   "cell_type": "markdown",
   "metadata": {},
   "source": [
    "## Task 8: Collatz sequence"
   ]
  },
  {
   "cell_type": "markdown",
   "metadata": {},
   "source": [
    "Write a function which produces the *Collatz sequence* and returns it as a list. The function receives the starting value for the sequence. Request the starting value from the user, call the function and display the generated *Collatz sequence*.\n",
    "\n",
    "The [*Collatz sequence*](https://en.wikipedia.org/wiki/Collatz_conjecture) has a starting value and the next item of the sequence is always calculated from the previous one, defined as follows:\n",
    " * if the number is even, divide it by two;\n",
    " * if the number is odd, triple it and add one.\n",
    "\n",
    "More formally:\n",
    "$f(n) = \\left\\{\n",
    "\\begin{array}{ll}\n",
    "      n/2 & n \\equiv 0\\ (\\textrm{mod}\\ 2) \\\\\n",
    "      3n + 1 & n \\equiv 1\\ (\\textrm{mod}\\ 2) \\\\\n",
    "\\end{array}\n",
    "\\right.$\n",
    "\n",
    "The sequence stops upon reaching 1.\n",
    "For instance, starting with $n = 12$, one gets the sequence 12, 6, 3, 10, 5, 16, 8, 4, 2, 1."
   ]
  },
  {
   "cell_type": "code",
   "execution_count": null,
   "metadata": {
    "collapsed": false,
    "jupyter": {
     "outputs_hidden": false
    },
    "pycharm": {
     "name": "#%%\n"
    }
   },
   "outputs": [],
   "source": [
    "def collatz(number):\n",
    "    sequence=[number]\n",
    "    while number>1:\n",
    "        if number%2==0:\n",
    "            number=number//2\n",
    "            sequence.append(number)\n",
    "        else:\n",
    "            number=3*number+1\n",
    "            sequence.append(number)\n",
    "    return sequence\n",
    "\n",
    "number=int(input('Starting number of Collatz sequence: '))\n",
    "print(collatz(number))"
   ]
  },
  {
   "cell_type": "markdown",
   "metadata": {},
   "source": [
    "## Task 9: Anagram"
   ]
  },
  {
   "cell_type": "markdown",
   "metadata": {},
   "source": [
    "An anagram is a word or phrase formed by rearranging the letters of a different word or phrase.\n",
    "For example the words *spear* and *pears* are anagrams.\n",
    "Write a function, which decides whether two words are anagrams or not and returns a boolean value accordingly (*True* or *False*).\n",
    "\n",
    "*Hint: pay attention that a single letter may accour multiple times in a word.*"
   ]
  },
  {
   "cell_type": "code",
   "execution_count": null,
   "metadata": {
    "collapsed": false,
    "jupyter": {
     "outputs_hidden": false
    },
    "pycharm": {
     "name": "#%%\n"
    }
   },
   "outputs": [],
   "source": [
    "def is_anagram(word1, word2):\n",
    "    # If the size does not match, they cannot be anagrams\n",
    "    if len(word1) != len(word2):\n",
    "        return False\n",
    "\n",
    "    # Check for each character in word1 whether it is also in word2\n",
    "    for ch in word1:\n",
    "        if not ch in word2:\n",
    "            return False\n",
    "    return True\n",
    "\n",
    "a=input('First word: ')\n",
    "b=input('Second word: ')\n",
    "print('Are they anagrams? %s' % is_anagram(a, b))"
   ]
  },
  {
   "cell_type": "markdown",
   "metadata": {},
   "source": [
    "## Task 10: Circularly identical lists"
   ]
  },
  {
   "cell_type": "markdown",
   "metadata": {},
   "source": [
    "A list is called *circular* if we consider the first element as next of the last element. *Circularly identical* lists contain the same elements in the same order, given that two lists that can be obtained from each other if one or more of the elements in one of the lists are rotated/displaced from their original index and placed at the beginning.\n",
    "E.g. the lists `[10, 20, 30, 40, 50]` and `[40, 50, 10, 20, 30]` are *circularly identical*, but not with `[50, 40, 10, 20, 30]`.\n",
    "\n",
    "Write a function which decides whether the given 2 parameter lists are circularly identical or not and returns a boolean value accordingly (*True* or *False*)."
   ]
  },
  {
   "cell_type": "code",
   "execution_count": null,
   "metadata": {
    "collapsed": false,
    "jupyter": {
     "outputs_hidden": false
    },
    "pycharm": {
     "name": "#%%\n"
    }
   },
   "outputs": [],
   "source": [
    "def is_circularly_identical(listA, listB):\n",
    "    listA2 = listA + listA\n",
    "    for i in range(len(listA2)):\n",
    "        if listA2[i] == listB[0]:\n",
    "            n = 1\n",
    "            while (n < len(listB)) and (i + n < len(listA2)) and (listA2[i+n] == listB[n]):\n",
    "                n += 1                \n",
    "                if n == len(listB):\n",
    "                    return True\n",
    "                    \n",
    "    return False\n",
    "    \n",
    "\n",
    "list1 = [10, 20, 30, 40, 50]\n",
    "list2 = [40, 50, 10, 20, 30]\n",
    "list3 = [50, 40, 10, 20, 30]\n",
    "\n",
    "print('list1 is circularly identical with list2: {0}'.format(is_circularly_identical(list1, list2)))\n",
    "print('list1 is circularly identical with list3: {0}'.format(is_circularly_identical(list1, list3)))\n",
    "print('list2 is circularly identical with list3: {0}'.format(is_circularly_identical(list2, list3)))"
   ]
  }
 ],
 "metadata": {
  "kernelspec": {
   "display_name": "Python 3",
   "language": "python",
   "name": "python3"
  },
  "language_info": {
   "codemirror_mode": {
    "name": "ipython",
    "version": 3
   },
   "file_extension": ".py",
   "mimetype": "text/x-python",
   "name": "python",
   "nbconvert_exporter": "python",
   "pygments_lexer": "ipython3",
   "version": "3.8.5"
  }
 },
 "nbformat": 4,
 "nbformat_minor": 4
}
