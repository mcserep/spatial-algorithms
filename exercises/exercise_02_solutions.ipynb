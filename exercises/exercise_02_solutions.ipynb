{
 "cells": [
  {
   "cell_type": "markdown",
   "metadata": {},
   "source": [
    "# Exercise Book 2\n",
    "\n",
    "**Covering the materials of Chapters 7-8.**  \n",
    "Topics: collection data structures, object oriented programming"
   ]
  },
  {
   "cell_type": "markdown",
   "metadata": {},
   "source": [
    "In the following 4 lists you will find the country name, capital city name, area (in km<sup>2</sup>) and population (in millions) data for 43 European countries respectively."
   ]
  },
  {
   "cell_type": "code",
   "execution_count": null,
   "metadata": {},
   "outputs": [],
   "source": [
    "countries = ['Albania', 'Andorra', 'Austria', 'Belgium', 'Bosnia and Herzegovina', 'Bulgaria', 'Czech Republic', 'Denmark', 'United Kingdom', 'Estonia', 'Belarus', 'Finland', 'France', 'Greece', 'Netherlands', 'Croatia', 'Ireland', 'Iceland', 'Kosovo', 'Poland', 'Latvia', 'Liechtenstein', 'Lithuania', 'Luxembourg', 'Macedonia', 'Hungary', 'Malta', 'Moldova', 'Monaco', 'Montenegro', 'Germany', 'Norway', 'Italy', 'Portugal', 'Romania', 'San Marino', 'Spain', 'Switzerland', 'Sweden', 'Serbia', 'Slovakia', 'Slovenia', 'Ukraine']\n",
    "capitals = ['Tirana', 'Andorra la Vella', 'Vienna', 'Brussels', 'Sarajevo', 'Sofia', 'Prague', 'Copenhagen', 'London', 'Tallin', 'Minsk', 'Helsinki', 'Paris', 'Athens', 'Hague', 'Zagreb', 'Dublin', 'Reykjavik', 'Prishtina', 'Warsaw', 'Riga', 'Vaduz', 'Vilnius', 'luxembourg', 'Skopje', 'Budapest', 'Valletta', 'Chisinau', 'Monaco', 'Podgorica', 'Berlin', 'Oslo', 'Rome', 'Lisbon', 'Bucharest', 'San Marino', 'Madrid', 'Berne', 'Stockholm', 'Belgrade', 'Bratislava', 'Ljubljana', 'Kiev']\n",
    "areas = [28748, 468, 83857, 30519, 51130, 110912, 78864, 43077, 244100, 45100, 207600, 338145, 543965, 131957, 33933, 56500, 70283, 103000, 10887, 312683, 63700, 160, 65200, 2586, 25713, 93036, 316, 33700, 2, 13812, 357042, 323877, 301277, 92389, 237500, 61, 504782, 41293, 449964, 66577, 49035, 20250, 603700]\n",
    "populations = [3.2, 0.07, 7.6, 10.0, 4.5, 9.0, 10.4, 5.1, 57.2, 1.6, 10.3, 4.9, 56.2, 10.0, 14.8, 4.7, 3.5, 0.3, 2.2, 37.8, 2.6, 0.03, 3.6, 0.4, 2.1, 10.4, 0.3, 4.4, 0.03, 0.6, 78.6, 4.2, 57.5, 10.5, 23.2, 0.03, 38.8, 6.7, 8.5, 7.2, 5.3, 2.0, 51.8]"
   ]
  },
  {
   "cell_type": "markdown",
   "metadata": {},
   "source": [
    "Let's display the data stored in all lists:"
   ]
  },
  {
   "cell_type": "code",
   "execution_count": null,
   "metadata": {},
   "outputs": [],
   "source": [
    "print(\"Countries:\")\n",
    "print(countries)\n",
    "print(\"----------\")\n",
    "print(\"Capitals:\")\n",
    "print(capitals)\n",
    "print(\"----------\")\n",
    "print(\"Areas (in km2):\")\n",
    "print(areas)\n",
    "print(\"----------\")\n",
    "print(\"Populations (in millions):\")\n",
    "print(populations)"
   ]
  },
  {
   "cell_type": "markdown",
   "metadata": {},
   "source": [
    "The index position of the elements in the lists ties the information for each country together:"
   ]
  },
  {
   "cell_type": "code",
   "execution_count": null,
   "metadata": {},
   "outputs": [],
   "source": [
    "for idx in range(len(countries)):\n",
    "    print(\"Name: %s, Capital: %s, Area: %d km2, Population: %.2f millions\" % (countries[idx], capitals[idx], areas[idx], populations[idx]))"
   ]
  },
  {
   "cell_type": "markdown",
   "metadata": {},
   "source": [
    "## Task 1: List of dictionaries"
   ]
  },
  {
   "cell_type": "markdown",
   "metadata": {},
   "source": [
    "Storing the data in 4 separate lists is not comfortable.\n",
    "Construct a list of dictionaries programatically:\n",
    "* each item in the list is a dictionary;\n",
    "* each dictionary contains the relevant information for a single country.\n",
    "\n",
    "The result should be like the following:\n",
    "```\n",
    "[\n",
    "    {\n",
    "        'country': 'Albania',\n",
    "        'capital': 'Tirana',\n",
    "        'area': 28748,\n",
    "        'population': 3.2\n",
    "    },\n",
    "    \n",
    "    ...\n",
    "    \n",
    "    {\n",
    "        'country': 'Ukraine',\n",
    "        'capital': 'Kiev',\n",
    "        'area': 603700,\n",
    "        'population': 51.8\n",
    "    }\n",
    "]\n",
    "```"
   ]
  },
  {
   "cell_type": "code",
   "execution_count": null,
   "metadata": {},
   "outputs": [],
   "source": [
    "dataset = []\n",
    "for idx in range(len(countries)):\n",
    "    dataset.append({\n",
    "        'country': countries[idx],\n",
    "        'capital': capitals[idx],\n",
    "        'area': areas[idx],\n",
    "        'population': populations[idx]\n",
    "    })\n",
    "print(dataset)"
   ]
  },
  {
   "cell_type": "markdown",
   "metadata": {},
   "source": [
    "## Task 2: Population density"
   ]
  },
  {
   "cell_type": "markdown",
   "metadata": {},
   "source": [
    "Calculate the population density for each country (in people / km<sup>2</sup> unit) and extends each country with this information.\n",
    "\n",
    "The result should be like the following:\n",
    "```\n",
    "[\n",
    "    {\n",
    "        'country': 'Albania',\n",
    "        'capital': 'Tirana',\n",
    "        'area': 28748,\n",
    "        'population': 3.2,\n",
    "        'density': 111.31209127591485\n",
    "    },\n",
    "    \n",
    "    ...\n",
    "    \n",
    "    {\n",
    "        'country': 'Ukraine',\n",
    "        'capital': 'Kiev',\n",
    "        'area': 603700,\n",
    "        'population': 51.8,\n",
    "        'density': 85.80420738777539\n",
    "    }\n",
    "]\n",
    "```"
   ]
  },
  {
   "cell_type": "code",
   "execution_count": null,
   "metadata": {},
   "outputs": [],
   "source": [
    "for item in dataset:\n",
    "    item['density'] = item['population'] * 1e6 / item['area']\n",
    "print(dataset)"
   ]
  },
  {
   "cell_type": "markdown",
   "metadata": {},
   "source": [
    "## Task 3: Highest density"
   ]
  },
  {
   "cell_type": "markdown",
   "metadata": {},
   "source": [
    "Find the country with the highest population density."
   ]
  },
  {
   "cell_type": "code",
   "execution_count": null,
   "metadata": {},
   "outputs": [],
   "source": [
    "max_idx = 0\n",
    "\n",
    "for idx in range(1, len(dataset)):\n",
    "    if dataset[idx]['density'] > dataset[max_idx]['density']:\n",
    "        max_idx = idx\n",
    "        \n",
    "print(dataset[max_idx])"
   ]
  },
  {
   "cell_type": "markdown",
   "metadata": {},
   "source": [
    "## Task 4: Object oriented approach"
   ]
  },
  {
   "cell_type": "markdown",
   "metadata": {},
   "source": [
    "**Task A):** define a class named `Country`, which can store a country's name, capitaly city, area and population.\n",
    "Construct a list of *objects*, where each object is an instance of the `Country` class.\n",
    "\n",
    "**Task B):** add a `density()` method to the `Country` class, which calculates the population density for that country dynamically.\n",
    "Find the country with the highest population density."
   ]
  },
  {
   "cell_type": "code",
   "execution_count": null,
   "metadata": {},
   "outputs": [],
   "source": [
    "class Country():\n",
    "    def __init__(self, name, capital, area, population):\n",
    "        self.name = name\n",
    "        self.capital = capital\n",
    "        self.area = area\n",
    "        self.population = population\n",
    "    \n",
    "    def density(self):\n",
    "        return self.population * 1e6 / self.area\n",
    "\n",
    "dataset2 = []\n",
    "for idx in range(len(countries)):\n",
    "    dataset2.append(Country(countries[idx], capitals[idx], areas[idx], populations[idx]))\n",
    "    \n",
    "max_idx = 0\n",
    "for idx in range(1, len(dataset2)):\n",
    "    if dataset2[idx].density() > dataset2[max_idx].density():\n",
    "        max_idx = idx\n",
    "        \n",
    "print(dataset2[max_idx].name)"
   ]
  }
 ],
 "metadata": {
  "kernelspec": {
   "display_name": "Python 3",
   "language": "python",
   "name": "python3"
  },
  "language_info": {
   "codemirror_mode": {
    "name": "ipython",
    "version": 3
   },
   "file_extension": ".py",
   "mimetype": "text/x-python",
   "name": "python",
   "nbconvert_exporter": "python",
   "pygments_lexer": "ipython3",
   "version": "3.8.5"
  }
 },
 "nbformat": 4,
 "nbformat_minor": 4
}
