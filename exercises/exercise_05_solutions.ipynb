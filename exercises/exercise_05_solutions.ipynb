{
 "cells": [
  {
   "cell_type": "markdown",
   "metadata": {},
   "source": [
    "# Exercise Book 5\n",
    "\n",
    "**Covering the materials of Chapters 12-14.**  \n",
    "Topics: graph algorithms and spatial indexing"
   ]
  },
  {
   "cell_type": "markdown",
   "metadata": {},
   "source": [
    "In the attached `data` folder the following shapefiles are available for this assignment\n",
    " - `osm_roads_hungary.shp`, containing the road network of Hungary as linestrings. (Data source: [*OpenStreetMap*](https://download.geofabrik.de/europe/hungary.html))\n",
    " - `hungary_cities.shp`, containing the Hungarian cities as points. (Data source: *ELTE FI, Institute of Cartography and Geoinformatics*)\n",
    " \n",
    "The `osm_roads_hungary.shp` file is in *WGS 84 (EPSG:4326)* coordinate reference system. The projection of the `hungary_cities.shp` file is not defined, but the data is in *EOV (EPSG:23700)*, which you have to set it manually."
   ]
  },
  {
   "cell_type": "markdown",
   "metadata": {},
   "source": [
    "---"
   ]
  },
  {
   "cell_type": "markdown",
   "metadata": {},
   "source": [
    "## Task 1\n",
    "\n",
    "Read the input data from the Shapefiles.  \n",
    "Display the cities and the road network on a map using the *matplotlib* library. (Roads shall be colored black and cities shall be red dots.)\n",
    "\n",
    "Among the roads filter only the more significant types. **In all the following tasks you will only have to work with these type of roads.**  \n",
    "More significant type of roads are where the `fclass` column of the *GeoDataFrame* is among the following values:  \n",
    "`motorway`, `primary`, `secondary`, `tertiary`, `motorway_link`, `primary_link`, `secondary_link`, `tertiary_link`.\n",
    "\n",
    "*Hint: reproject the roads to EOV before displaying the GeoDataFrame*."
   ]
  },
  {
   "cell_type": "code",
   "execution_count": null,
   "metadata": {},
   "outputs": [],
   "source": [
    "import geopandas as gpd\n",
    "\n",
    "# Read the shapefiles\n",
    "roads = gpd.read_file('../data/osm_roads_hungary.shp')\n",
    "cities = gpd.read_file('../data/hungary_cities.shp')\n",
    "\n",
    "# Set the CRS to EOV projection (EPSG:23700) if None for cities\n",
    "if cities.crs == None:\n",
    "    cities.set_crs('epsg:23700', inplace=True)\n",
    "\n",
    "# Display road types\n",
    "print(roads['fclass'].unique())"
   ]
  },
  {
   "cell_type": "code",
   "execution_count": null,
   "metadata": {},
   "outputs": [],
   "source": [
    "# Filter roads by their type\n",
    "roads = roads[roads['fclass'].isin(['motorway', 'primary', 'secondary', 'tertiary', \n",
    "                                    'motorway_link', 'primary_link', 'secondary_link', 'tertiary_link'])]"
   ]
  },
  {
   "cell_type": "code",
   "execution_count": null,
   "metadata": {},
   "outputs": [],
   "source": [
    "print(\"Cities CRS: {0}, Roads CRS: {1}\".format(cities.crs, roads.crs))\n",
    "\n",
    "# Convert CRS to EOV\n",
    "if cities.crs != 'epsg:23700':\n",
    "    cities.to_crs('epsg:23700', inplace=True)\n",
    "    \n",
    "if roads.crs != 'epsg:23700':\n",
    "    roads.to_crs('epsg:23700', inplace=True)\n",
    "\n",
    "print(\"Cities CRS: {0}, Roads CRS: {1}\".format(cities.crs, roads.crs))"
   ]
  },
  {
   "cell_type": "code",
   "execution_count": null,
   "metadata": {},
   "outputs": [],
   "source": [
    "import matplotlib.pyplot as plt\n",
    "%matplotlib inline\n",
    "\n",
    "# Plot roads and cities\n",
    "base = roads.plot(figsize=[15,10], color='black')\n",
    "cities.plot(ax=base, color='red', markersize=4)\n",
    "\n",
    "# Display plot\n",
    "plt.show()"
   ]
  },
  {
   "cell_type": "markdown",
   "metadata": {},
   "source": [
    "## Task 2\n",
    "\n",
    "Display the road network of Hungary, but with a different coloring based on their class:\n",
    " - motorways should be red;\n",
    " - primary roads should be black;\n",
    " - secondary roads should be gray;\n",
    " - tertiary roads should be green."
   ]
  },
  {
   "cell_type": "code",
   "execution_count": null,
   "metadata": {},
   "outputs": [],
   "source": [
    "base = roads[roads['fclass'].isin(['motorway', 'motorway_link'])].plot(figsize=[15,10], color='red')\n",
    "roads[roads['fclass'].isin(['primary', 'primary_link'])].plot(ax=base, color='black')\n",
    "roads[roads['fclass'].isin(['secondary', 'seondary_link'])].plot(ax=base, color='gray')\n",
    "roads[roads['fclass'].isin(['tertiary', 'tertiary_link'])].plot(ax=base, color='green')\n",
    "\n",
    "# Display plot\n",
    "plt.show()"
   ]
  },
  {
   "cell_type": "markdown",
   "metadata": {},
   "source": [
    "## Task 3\n",
    "\n",
    "Build a graph of the road network and compute the shorthest path (based on distance) between Győr and Debrecen. Round the coordinates to 2 decimal places.  \n",
    "Display the complete road network (with black color) on a map and overlay the found shorthest path wirh red color.\n",
    "\n",
    "Pairs of EOV X and Y coordinates of the cities are given below, which shall be precisely on the roads after rounding. \n",
    "* Győr: (261414.52, 544944.48)\n",
    "* Debrecen: (247370.14, 842839.31)\n",
    "\n",
    "\n",
    "*Hint: the coordinates in the Shapefiles are in a switched (Y, X) order.*"
   ]
  },
  {
   "cell_type": "code",
   "execution_count": null,
   "metadata": {},
   "outputs": [],
   "source": [
    "import math\n",
    "import networkx as nx\n",
    "\n",
    "# Create empty, undirected graph\n",
    "graph = nx.Graph()\n",
    "\n",
    "# Iterate through all linestrings\n",
    "for idx, row in roads.iterrows():\n",
    "    line = row['geometry']\n",
    "    for i in range(1, len(line.coords)):\n",
    "        p1 = tuple([round(c, 2) for c in line.coords[i-1]])\n",
    "        p2 = tuple([round(c, 2) for c in line.coords[i]])\n",
    "        \n",
    "        # Since the file is in the EOV CRS, we can calulate the distance in SI\n",
    "        # based on the Pythagoras theorem\n",
    "        dist = math.sqrt(pow(p1[0] - p2[0], 2) + pow(p1[1] - p2[1], 2)) / 1000\n",
    "        \n",
    "        # Add it to the graph\n",
    "        graph.add_edge(p1, p2, distance = dist, road_class = row['fclass'])"
   ]
  },
  {
   "cell_type": "code",
   "execution_count": null,
   "metadata": {},
   "outputs": [],
   "source": [
    "# Given positions\n",
    "pos_gyor = (544944.48, 261414.52)\n",
    "pos_debrecen = (842839.31, 247370.14)\n",
    "\n",
    "# Calculate the shortest distance between Berlin and Budapest\n",
    "path = nx.shortest_path(graph, pos_gyor, pos_debrecen, weight = 'distance')\n",
    "\n",
    "# Draw roads\n",
    "roads.plot(figsize=[15,10], color='black')\n",
    "\n",
    "# Draw path function\n",
    "def draw_path(path):\n",
    "    # Get the X an Y positions into separate lists for the shortest path\n",
    "    xs = [coord[0] for coord in path]\n",
    "    ys = [coord[1] for coord in path]\n",
    "    # Add it to the plot\n",
    "    plt.plot(xs, ys, color='red')\n",
    "\n",
    "# Draw path\n",
    "draw_path(path)\n",
    "\n",
    "# Display plot\n",
    "plt.show() "
   ]
  },
  {
   "cell_type": "markdown",
   "metadata": {},
   "source": [
    "**Alternative approach:** draw the graph with *networkx*"
   ]
  },
  {
   "cell_type": "code",
   "execution_count": null,
   "metadata": {},
   "outputs": [],
   "source": [
    "# Add the position to the nodes as attributes\n",
    "for idx, row in roads.iterrows():\n",
    "    line = row['geometry']\n",
    "    for i in range(len(line.coords)):\n",
    "        p = tuple([round(c, 2) for c in line.coords[i]])\n",
    "        graph.nodes[p]['position'] = p\n",
    "\n",
    "# Draw the graph\n",
    "plt.figure(figsize=[15,10])\n",
    "nx.draw_networkx(graph, nx.get_node_attributes(graph, 'position'), with_labels=False, node_size=0)\n",
    "plt.show()"
   ]
  },
  {
   "cell_type": "code",
   "execution_count": null,
   "metadata": {},
   "outputs": [],
   "source": [
    "# Add default color and width attributes to all edges\n",
    "for source, target in graph.edges:\n",
    "    graph[source][target]['color'] = 'black'\n",
    "    graph[source][target]['width'] = 1.0\n",
    "\n",
    "# Modify the color and width attributes for the edges on the shorthest path\n",
    "for i in range(1, len(path)):\n",
    "    source = path[i-1]\n",
    "    target = path[i]\n",
    "    graph[source][target]['color'] = 'red'\n",
    "    graph[source][target]['width'] = 2.0\n",
    "\n",
    "# Compute list of edge colors and widths\n",
    "edge_color_list = [graph[source][target]['color'] for source, target in graph.edges]\n",
    "edge_width_list = [graph[source][target]['width'] for source, target in graph.edges]\n",
    "\n",
    "# Draw the graph\n",
    "plt.figure(figsize=[15,10])\n",
    "nx.draw_networkx(graph, nx.get_node_attributes(graph, 'position'), with_labels=False, node_size=0, \n",
    "                 edge_color = edge_color_list, width = edge_width_list)\n",
    "plt.show()"
   ]
  },
  {
   "cell_type": "markdown",
   "metadata": {},
   "source": [
    "## Task 4\n",
    "\n",
    "Let the user define the start and target coordinates for the shorthest path search. (Input validation is not required.)  \n",
    "Since the user given coordinates are not necessarily on any of the roads, it is required to find the nearest vertices in the graph (both for the start and the goal).\n",
    "\n",
    "Test data:\n",
    "* Győr: (261473, 545052)\n",
    "* Debrecen: (247367, 842842)\n",
    "\n",
    "*Hint:* build a Kd-tree form the vertices of the graph."
   ]
  },
  {
   "cell_type": "code",
   "execution_count": null,
   "metadata": {},
   "outputs": [],
   "source": [
    "import scipy.spatial # for Kd-Tree support\n",
    "\n",
    "# Put all points on road network into list\n",
    "all_points = []\n",
    "\n",
    "for line in roads.geometry:\n",
    "    for coord in line.coords:\n",
    "        all_points.append(tuple([round(c, 2) for c in coord]))\n",
    "\n",
    "all_points = list(set(all_points))\n",
    "\n",
    "# Build a Kd-tree\n",
    "kdtree = scipy.spatial.KDTree(all_points)    "
   ]
  },
  {
   "cell_type": "code",
   "execution_count": null,
   "metadata": {},
   "outputs": [],
   "source": [
    "# Read user input\n",
    "from_x = float(input('Start X coordinate: '))\n",
    "from_y = float(input('Start Y coordinate: '))\n",
    "to_x = float(input('Target X coordinate: '))\n",
    "to_y = float(input('Target Y coordinate: '))\n",
    "\n",
    "def closest_point(point):\n",
    "    dist, idx = kdtree.query(point)\n",
    "    return all_points[idx]\n",
    "\n",
    "# Find closest points in road network\n",
    "from_point = closest_point((from_y, from_x))\n",
    "to_point = closest_point((to_y, to_x))\n",
    "\n",
    "# Calculate the shortest distance between the given coordinates\n",
    "path = nx.shortest_path(graph, from_point, to_point, weight = 'distance')\n",
    "\n",
    "# Draw roads\n",
    "roads.plot(figsize=[20, 10], color='black')\n",
    "\n",
    "# Draw path\n",
    "draw_path(path)\n",
    "\n",
    "# Display plot\n",
    "plt.show()"
   ]
  },
  {
   "cell_type": "markdown",
   "metadata": {},
   "source": [
    "## Task 5\n",
    "\n",
    "Let the user define the name of the start and the target city instead of coordinates.  \n",
    "The Hungarian cities and their location is given in the `hungary_cities.shp` Shapefile. (These locations marks the centorid of the cities are not necessarily on any of the roads.)\n",
    "\n",
    "Validate the user input whether the given cities exist. Show an error message if not."
   ]
  },
  {
   "cell_type": "code",
   "execution_count": null,
   "metadata": {},
   "outputs": [],
   "source": [
    "# Set index in cities GeoDataFrame\n",
    "cities.set_index('City', inplace=True)\n",
    "display(cities)"
   ]
  },
  {
   "cell_type": "code",
   "execution_count": null,
   "metadata": {},
   "outputs": [],
   "source": [
    "# Read user input\n",
    "from_city = input('Start city: ')\n",
    "to_city = input('Target city: ')\n",
    "\n",
    "# Check whether the given cities exist in the dataset\n",
    "if from_city in cities.index and to_city in cities.index:\n",
    "    # Find coordinates for cities\n",
    "    from_x = cities.loc[from_city].geometry.y\n",
    "    from_y = cities.loc[from_city].geometry.x\n",
    "    to_x = cities.loc[to_city].geometry.y\n",
    "    to_y = cities.loc[to_city].geometry.x\n",
    "    \n",
    "    # Find closest points in road network\n",
    "    from_point = closest_point((from_y, from_x))\n",
    "    to_point = closest_point((to_y, to_x))\n",
    "    \n",
    "    # Calculate the shortest distance between the given cities\n",
    "    path = nx.shortest_path(graph, from_point, to_point, weight = 'distance')\n",
    "    \n",
    "    # Draw roads\n",
    "    roads.plot(figsize=[20, 10], color='black')\n",
    "\n",
    "    # Draw path\n",
    "    draw_path(path)\n",
    "\n",
    "    # Display plot\n",
    "    plt.show()\n",
    "else:\n",
    "    print('Start or target city not found!')"
   ]
  },
  {
   "cell_type": "markdown",
   "metadata": {},
   "source": [
    "## Task 6\n",
    "\n",
    "Instead of calculating the shortest path based on geographical distance between two user given cities, calculate the shorthest path based on the travel time!\n",
    "Let's define the following speed limits for the various classes of roads:\n",
    " - motorway: 130 km/h\n",
    " - primary road: 90 km/h\n",
    " - secondary road: 70 km/h (since their condition is degraded)\n",
    " - tertiary road: 50 km/h\n",
    "\n",
    "We assume the that user an drive with the speed limit on all roads.\n",
    "\n",
    "Test data: the Budapest - Békéscsaba path should be different when the shortest path based on geographical distance between and shortest path based on travel time is calculated."
   ]
  },
  {
   "cell_type": "code",
   "execution_count": null,
   "metadata": {},
   "outputs": [],
   "source": [
    "def custom_distance(from_node, to_node, edge_attr):\n",
    "    speed_limit = 50\n",
    "    if edge_attr['road_class'] in ['motorway', 'motorway_link']:\n",
    "        speed_limit = 130\n",
    "    if edge_attr['road_class'] in ['primary', 'primary_link']:\n",
    "        speed_limit = 90\n",
    "    if edge_attr['road_class'] in ['secondary', 'secondary_link']:\n",
    "        speed_limit = 70\n",
    "    return edge_attr['distance'] / speed_limit\n",
    "\n",
    "# Read user input\n",
    "from_city = input('Start city: ')\n",
    "to_city = input('Target city: ')\n",
    "\n",
    "# Check whether the given cities exist in the dataset\n",
    "if from_city in cities.index and to_city in cities.index:\n",
    "    # Find coordinates for cities\n",
    "    from_x = cities.loc[from_city].geometry.y\n",
    "    from_y = cities.loc[from_city].geometry.x\n",
    "    to_x = cities.loc[to_city].geometry.y\n",
    "    to_y = cities.loc[to_city].geometry.x\n",
    "    \n",
    "    # Find closest points in road network\n",
    "    from_point = closest_point((from_y, from_x))\n",
    "    to_point = closest_point((to_y, to_x))\n",
    "    \n",
    "    # Calculate the shortest distance  between the given cities\n",
    "    path = nx.shortest_path(graph, from_point, to_point, weight = custom_distance)\n",
    "    \n",
    "    # Draw roads\n",
    "    roads.plot(figsize=[20, 10], color='black')\n",
    "\n",
    "    # Draw path\n",
    "    draw_path(path)\n",
    "\n",
    "    # Display plot\n",
    "    plt.show()\n",
    "else:\n",
    "    print('Start or target city not found!')"
   ]
  }
 ],
 "metadata": {
  "kernelspec": {
   "display_name": "Python 3",
   "language": "python",
   "name": "python3"
  },
  "language_info": {
   "codemirror_mode": {
    "name": "ipython",
    "version": 3
   },
   "file_extension": ".py",
   "mimetype": "text/x-python",
   "name": "python",
   "nbconvert_exporter": "python",
   "pygments_lexer": "ipython3",
   "version": "3.8.10"
  }
 },
 "nbformat": 4,
 "nbformat_minor": 4
}
