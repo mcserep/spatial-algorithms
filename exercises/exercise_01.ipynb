{
 "cells": [
  {
   "cell_type": "markdown",
   "metadata": {},
   "source": [
    "# Exercise Book 1\n",
    "\n",
    "**Covering the materials of Chapters 1-4.**  \n",
    "Topics: control structures, user input, exception handling, random generation, lists, function definition"
   ]
  },
  {
   "cell_type": "markdown",
   "metadata": {},
   "source": [
    "## Task 1: Armstrong numbers"
   ]
  },
  {
   "cell_type": "markdown",
   "metadata": {},
   "source": [
    "Produce all *Armstrong numbers* smaller than $N$. The value of $N$ is given by the user. Validate the user input!\n",
    "\n",
    "A number is an [*Armstrong number*](https://en.wikipedia.org/wiki/Narcissistic_number), if it is the sum of its own digits, each raised to the power of the number of digits. For example 153 is an *Armstrong number*, because $1^3+5^3+3^3=153$. The first few *Armstrong numbers* are: 0, 1, 2, 3, 4, 5, 6, 7, 8, 9, 153, 370, 371, 407, 1634, etc."
   ]
  },
  {
   "cell_type": "code",
   "execution_count": null,
   "metadata": {},
   "outputs": [],
   "source": []
  },
  {
   "cell_type": "markdown",
   "metadata": {},
   "source": [
    "## Task 2: Perfect numbers"
   ]
  },
  {
   "cell_type": "markdown",
   "metadata": {
    "pycharm": {
     "name": "#%% md\n"
    }
   },
   "source": [
    "Produce the first $N$ *Perfect numbers*. The value of $N$ is given by the user. Validate the user input!\n",
    "\n",
    "In number theory, a [*perfect number*](https://en.wikipedia.org/wiki/Perfect_number) is a positive integer that is equal to the sum of its positive divisors, excluding the number itself. For instance, 6 has divisors 1, 2 and 3 (excluding itself), and $1 + 2 + 3 = 6$, so 6 is a *perfect number*. The first few *perfect numbers* are: 6, 28, 496, etc."
   ]
  },
  {
   "cell_type": "code",
   "execution_count": null,
   "metadata": {
    "pycharm": {
     "name": "#%%\n"
    }
   },
   "outputs": [],
   "source": []
  },
  {
   "cell_type": "markdown",
   "metadata": {},
   "source": [
    "## Task 3: Greatest common divisor"
   ]
  },
  {
   "cell_type": "markdown",
   "metadata": {
    "pycharm": {
     "name": "#%% md\n"
    }
   },
   "source": [
    "Calculate the *greatest common divisor* of 2 numbers!\n",
    "\n",
    "Request 2 integer numbers from the user and calculate their greatest common divisor.\n",
    "E.g. for 30 and 105 their greatest common divisor is 15.\n",
    "Do not use the `math.gcd()` built-in function to solve the task.\n",
    "\n",
    "*Hint: use the [Euclidean algorithm](https://en.wikipedia.org/wiki/Euclidean_algorithm)*"
   ]
  },
  {
   "cell_type": "code",
   "execution_count": null,
   "metadata": {
    "pycharm": {
     "name": "#%%\n"
    }
   },
   "outputs": [],
   "source": []
  },
  {
   "cell_type": "markdown",
   "metadata": {},
   "source": [
    "## Task 4: Rock–paper–scissors"
   ]
  },
  {
   "cell_type": "markdown",
   "metadata": {
    "pycharm": {
     "name": "#%% md\n"
    }
   },
   "source": [
    "Implement the popular [*rock–paper–scissors*](https://en.wikipedia.org/wiki/Rock%E2%80%93paper%E2%80%93scissors) game, where the user can play against the computer!\n",
    "The human player can type in *rock*, *paper* or *scissors*. Handle incorrect input and request the input again if it does not match one of the three previous options. The computer player randomly chooses one of the options.\n",
    "The game finishes when one of the players won. (It continues with another round upon a draw.)"
   ]
  },
  {
   "cell_type": "code",
   "execution_count": null,
   "metadata": {
    "pycharm": {
     "name": "#%%\n"
    }
   },
   "outputs": [],
   "source": []
  },
  {
   "cell_type": "markdown",
   "metadata": {},
   "source": [
    "## Task 5: Guess a number"
   ]
  },
  {
   "cell_type": "markdown",
   "metadata": {},
   "source": [
    "Write a program which can think a of number between 1 and 100, randomly.\n",
    "The task of the user is to guess that number. In each round the user can make a guess, and the program replies whether the guess is correct or it was too small or too large.\n",
    "The game ends when the user succefully guesses the number."
   ]
  },
  {
   "cell_type": "code",
   "execution_count": null,
   "metadata": {},
   "outputs": [],
   "source": []
  },
  {
   "cell_type": "markdown",
   "metadata": {},
   "source": [
    "*Question: if the human player is smart, what is the minimum number of guesses, which is always enough?*"
   ]
  },
  {
   "cell_type": "markdown",
   "metadata": {
    "pycharm": {
     "name": "#%% md\n"
    }
   },
   "source": [
    "## Task 6: Separation by parity"
   ]
  },
  {
   "cell_type": "markdown",
   "metadata": {},
   "source": [
    "Given a *list* of numbers, write a program, which separates the odd and even integers in separate lists. E.g.:\n",
    "\n",
    "```\n",
    "Input: [45, 83, 90, 11, 24, 98, 87, 39, 9, 6]\n",
    "Even numbers: [90, 24, 98, 6]\n",
    "Odd numbers: [45, 83, 11, 87, 39, 9]\n",
    "```"
   ]
  },
  {
   "cell_type": "markdown",
   "metadata": {
    "pycharm": {
     "name": "#%% md\n"
    }
   },
   "source": [
    "Here is a list of 20 random numbers between 1 and 100:"
   ]
  },
  {
   "cell_type": "code",
   "execution_count": null,
   "metadata": {
    "collapsed": false,
    "jupyter": {
     "outputs_hidden": false
    },
    "pycharm": {
     "name": "#%%\n"
    }
   },
   "outputs": [],
   "source": [
    "import random\n",
    "\n",
    "numbers = []\n",
    "for i in range(20):\n",
    "    numbers.append(random.randint(1, 100))\n",
    "print(numbers)"
   ]
  },
  {
   "cell_type": "markdown",
   "metadata": {},
   "source": [
    "Now write a program which separates them:"
   ]
  },
  {
   "cell_type": "code",
   "execution_count": null,
   "metadata": {
    "collapsed": false,
    "jupyter": {
     "outputs_hidden": false
    },
    "pycharm": {
     "name": "#%%\n"
    }
   },
   "outputs": [],
   "source": []
  },
  {
   "cell_type": "markdown",
   "metadata": {},
   "source": [
    "## Task 7: Pyramid"
   ]
  },
  {
   "cell_type": "markdown",
   "metadata": {},
   "source": [
    "Write the `pyramid(height)` function, which displays a pattern like a pyramid with an asterisk. The height of the pyramid can be defined by the user.\n",
    "\n",
    "E.g. for $height = 4$, the pyramid would look like:\n",
    "```\n",
    "   *\n",
    "  ***\n",
    " *****\n",
    "*******\n",
    "```"
   ]
  },
  {
   "cell_type": "code",
   "execution_count": null,
   "metadata": {
    "collapsed": false,
    "jupyter": {
     "outputs_hidden": false
    },
    "pycharm": {
     "name": "#%%\n"
    }
   },
   "outputs": [],
   "source": []
  },
  {
   "cell_type": "markdown",
   "metadata": {},
   "source": [
    "## Task 8: Collatz sequence"
   ]
  },
  {
   "cell_type": "markdown",
   "metadata": {},
   "source": [
    "Write a function which produces the *Collatz sequence* and returns it as a list. The function receives the starting value for the sequence. Request the starting value from the user, call the function and display the generated *Collatz sequence*.\n",
    "\n",
    "The [*Collatz sequence*](https://en.wikipedia.org/wiki/Collatz_conjecture) has a starting value and the next item of the sequence is always calculated from the previous one, defined as follows:\n",
    " * if the number is even, divide it by two;\n",
    " * if the number is odd, triple it and add one.\n",
    "\n",
    "More formally:\n",
    "$f(n) = \\left\\{\n",
    "\\begin{array}{ll}\n",
    "      n/2 & n \\equiv 0\\ (\\textrm{mod}\\ 2) \\\\\n",
    "      3n + 1 & n \\equiv 1\\ (\\textrm{mod}\\ 2) \\\\\n",
    "\\end{array}\n",
    "\\right.$\n",
    "\n",
    "The sequence stops upon reaching 1.\n",
    "For instance, starting with $n = 12$, one gets the sequence 12, 6, 3, 10, 5, 16, 8, 4, 2, 1."
   ]
  },
  {
   "cell_type": "code",
   "execution_count": null,
   "metadata": {
    "collapsed": false,
    "jupyter": {
     "outputs_hidden": false
    },
    "pycharm": {
     "name": "#%%\n"
    }
   },
   "outputs": [],
   "source": []
  },
  {
   "cell_type": "markdown",
   "metadata": {},
   "source": [
    "## Task 9: Anagram"
   ]
  },
  {
   "cell_type": "markdown",
   "metadata": {},
   "source": [
    "An anagram is a word or phrase formed by rearranging the letters of a different word or phrase.\n",
    "For example the words *spear* and *pears* are anagrams.\n",
    "Write a function, which decides whether two words are anagrams or not and returns a boolean value accordingly (*True* or *False*).\n",
    "\n",
    "*Hint: pay attention that a single letter may accour multiple times in a word.*"
   ]
  },
  {
   "cell_type": "code",
   "execution_count": null,
   "metadata": {
    "collapsed": false,
    "jupyter": {
     "outputs_hidden": false
    },
    "pycharm": {
     "name": "#%%\n"
    }
   },
   "outputs": [],
   "source": []
  },
  {
   "cell_type": "markdown",
   "metadata": {},
   "source": [
    "## Task 10: Circularly identical lists"
   ]
  },
  {
   "cell_type": "markdown",
   "metadata": {},
   "source": [
    "A list is called *circular* if we consider the first element as next of the last element. *Circularly identical* lists contain the same elements in the same order, given that two lists that can be obtained from each other if one or more of the elements in one of the lists are rotated/displaced from their original index and placed at the beginning.\n",
    "E.g. the lists `[10, 20, 30, 40, 50]` and `[40, 50, 10, 20, 30]` are *circularly identical*, but not with `[50, 40, 10, 20, 30]`.\n",
    "\n",
    "Write a function which decides whether the given 2 parameter lists are circularly identical or not and returns a boolean value accordingly (*True* or *False*)."
   ]
  },
  {
   "cell_type": "code",
   "execution_count": null,
   "metadata": {
    "collapsed": false,
    "jupyter": {
     "outputs_hidden": false
    },
    "pycharm": {
     "name": "#%%\n"
    }
   },
   "outputs": [],
   "source": []
  }
 ],
 "metadata": {
  "kernelspec": {
   "display_name": "Python 3",
   "language": "python",
   "name": "python3"
  },
  "language_info": {
   "codemirror_mode": {
    "name": "ipython",
    "version": 3
   },
   "file_extension": ".py",
   "mimetype": "text/x-python",
   "name": "python",
   "nbconvert_exporter": "python",
   "pygments_lexer": "ipython3",
   "version": "3.8.5"
  }
 },
 "nbformat": 4,
 "nbformat_minor": 4
}