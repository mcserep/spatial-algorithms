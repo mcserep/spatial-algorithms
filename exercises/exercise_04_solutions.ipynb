{
 "cells": [
  {
   "cell_type": "markdown",
   "metadata": {},
   "source": [
    "# Exercise Book 4\n",
    "\n",
    "**Covering the materials of Chapter 11.**  \n",
    "Topics: vector spatial data management with geopandas"
   ]
  },
  {
   "cell_type": "markdown",
   "metadata": {},
   "source": [
    "In the attached `data` folder the following attached datasets are given for this assignment:\n",
    " - `hungary_admin_8.shp`, containing the city level administrative boundaries of Hungary. (Data source: [*OpenStreetMap*](https://data2.openstreetmap.hu/hatarok/))\n",
    " - `hungary_population_2020.csv`, containing the population of Hungarian cities on 2020 January 1. (Data source: [*Hungarian Government*](https://www.nyilvantarto.hu/hu/statisztikak))\n",
    " - `hungary_population_2011.csv`, containing the population of Hungarian cities on 2011 January 1. (Data source: [*Hungarian Government*](https://www.nyilvantarto.hu/hu/statisztikak))"
   ]
  },
  {
   "cell_type": "markdown",
   "metadata": {},
   "source": [
    "*Note:* in the CSV files the columns are delimited with `;` characters (instead of the default `,`)."
   ]
  },
  {
   "cell_type": "markdown",
   "metadata": {},
   "source": [
    "---"
   ]
  },
  {
   "cell_type": "markdown",
   "metadata": {},
   "source": [
    "## Task 1"
   ]
  },
  {
   "cell_type": "markdown",
   "metadata": {},
   "source": [
    "Write a program that creates a thematic map for Hungary based on the adminstrative boundaries of the cities and their population in 2020.  \n",
    "(Use the *All population* field from the CSV file.)"
   ]
  },
  {
   "cell_type": "code",
   "execution_count": null,
   "metadata": {},
   "outputs": [],
   "source": [
    "import pandas as pd\n",
    "import geopandas as gpd\n",
    "\n",
    "# Read the datasets\n",
    "cities = gpd.read_file('../data/hungary_admin_8.shp')\n",
    "cities = cities[['NAME', 'geometry']]\n",
    "cities.set_index('NAME', inplace=True)\n",
    "\n",
    "population_2020 = pd.read_csv('../data/hungary_population_2020.csv', delimiter = ';')\n",
    "population_2020.set_index('City', inplace=True)"
   ]
  },
  {
   "cell_type": "code",
   "execution_count": null,
   "metadata": {},
   "outputs": [],
   "source": [
    "# Add the population DataSeries to the cities \"manually\"\n",
    "df = cities.copy()\n",
    "df['All population'] = [None] * len(cities)\n",
    "\n",
    "# Get the indexes which are present in both DataFrames\n",
    "indexes = set(cities.index) & set(population_2020.index)\n",
    "for index in indexes:\n",
    "    df.loc[index, 'All population'] = population_2020.loc[index]['All population']\n",
    "\n",
    "display(df)"
   ]
  },
  {
   "cell_type": "code",
   "execution_count": null,
   "metadata": {},
   "outputs": [],
   "source": [
    "# This can be done in an easier and more efficient way with pandas' merge() function\n",
    "df = cities.merge(population_2020, left_index=True, right_index=True)\n",
    "display(df)"
   ]
  },
  {
   "cell_type": "code",
   "execution_count": null,
   "metadata": {},
   "outputs": [],
   "source": [
    "import matplotlib.pyplot as plt\n",
    "%matplotlib inline\n",
    "\n",
    "# Create the plot\n",
    "df.plot(column='All population', figsize=[20,10], legend=True, cmap='YlOrRd', scheme='quantiles', k=7)\n",
    "plt.show()"
   ]
  },
  {
   "cell_type": "markdown",
   "metadata": {},
   "source": [
    "## Task 2"
   ]
  },
  {
   "cell_type": "markdown",
   "metadata": {},
   "source": [
    "Write a program that adds the population data for 2011 and 2020 to the Shapefile as new scalar fields to each city; and save it as a new Shapefile."
   ]
  },
  {
   "cell_type": "code",
   "execution_count": null,
   "metadata": {},
   "outputs": [],
   "source": [
    "population_2011 = pd.read_csv('../data/hungary_population_2011.csv', delimiter = ';')\n",
    "population_2011.set_index('City', inplace=True)\n",
    "\n",
    "df = df.merge(population_2011, left_index=True, right_index=True, suffixes=[' 2020', ' 2011'])\n",
    "df.rename(columns={'County 2020':'County'}, inplace=True)\n",
    "del df['County 2011']\n",
    "display(df)"
   ]
  },
  {
   "cell_type": "code",
   "execution_count": null,
   "metadata": {},
   "outputs": [],
   "source": [
    "# Save it to file\n",
    "df.to_file('hungary_population.shp')"
   ]
  },
  {
   "cell_type": "markdown",
   "metadata": {},
   "source": [
    "## Task 3"
   ]
  },
  {
   "cell_type": "markdown",
   "metadata": {},
   "source": [
    "Write a program that creates a thematic map for Hungary based on the adminstrative boundaries of the cities and their population change between 2011 and 2020."
   ]
  },
  {
   "cell_type": "code",
   "execution_count": null,
   "metadata": {},
   "outputs": [],
   "source": [
    "df['Population difference'] = df['All population 2020'] - df['All population 2011']\n",
    "\n",
    "ax = df.plot(column='Population difference', figsize=[20,10], legend=True, cmap='bwr', vmin=-5000, vmax=5000)\n",
    "ax.set_facecolor(\"lightgray\") # background color\n",
    "plt.show()"
   ]
  },
  {
   "cell_type": "markdown",
   "metadata": {},
   "source": [
    "**Optional:** add a raster basemap with *contextily*."
   ]
  },
  {
   "cell_type": "code",
   "execution_count": null,
   "metadata": {},
   "outputs": [],
   "source": [
    "# How to install: conda install -c conda-forge contextily\n",
    "# How to use: https://contextily.readthedocs.io/en/latest/\n",
    "import contextily as ctx\n",
    "\n",
    "# Verify CRS, must be Web Mercator (EPSG:3857) to add a base map with the contextily module.\n",
    "print(df.crs)\n",
    "if df.crs == 'epsg:3857':\n",
    "    ax = df.plot(column='Population difference', figsize=[20,10], legend=True, cmap='bwr', vmin=-5000, vmax=5000, alpha=0.85)\n",
    "    ctx.add_basemap(ax)\n",
    "    ax.set_axis_off()\n",
    "    plt.show()\n",
    "else:\n",
    "    print('CRS must be EPSG:3857, instead {0} was given'.format(df.crs))"
   ]
  },
  {
   "cell_type": "markdown",
   "metadata": {},
   "source": [
    "## Task 4"
   ]
  },
  {
   "cell_type": "markdown",
   "metadata": {},
   "source": [
    "Write a program that creates a thematic map for Hungary based on the adminstrative boundaries of the cities and their population density in 2020."
   ]
  },
  {
   "cell_type": "code",
   "execution_count": null,
   "metadata": {},
   "outputs": [],
   "source": [
    "df_eov = df.to_crs('EPSG:23700') # EOV is EPSG:23700 \n",
    "df['Area'] = df_eov.area / 10**6\n",
    "df['Density 2020'] = df['All population 2020'] / df['Area'] \n",
    "display(df)"
   ]
  },
  {
   "cell_type": "code",
   "execution_count": null,
   "metadata": {},
   "outputs": [],
   "source": [
    "df.plot(column='Density 2020', figsize=[20,10], legend=True, cmap='YlOrRd', scheme='quantiles', k=7)\n",
    "plt.show()"
   ]
  }
 ],
 "metadata": {
  "kernelspec": {
   "display_name": "Python 3",
   "language": "python",
   "name": "python3"
  },
  "language_info": {
   "codemirror_mode": {
    "name": "ipython",
    "version": 3
   },
   "file_extension": ".py",
   "mimetype": "text/x-python",
   "name": "python",
   "nbconvert_exporter": "python",
   "pygments_lexer": "ipython3",
   "version": "3.8.5"
  }
 },
 "nbformat": 4,
 "nbformat_minor": 4
}
