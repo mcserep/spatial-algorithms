{
 "cells": [
  {
   "cell_type": "markdown",
   "metadata": {},
   "source": [
    "# Exercise Book 4\n",
    "\n",
    "**Covering the materials of Chapter 11.**\n",
    "Topics: vector spatial data management with geopandas"
   ]
  },
  {
   "cell_type": "markdown",
   "metadata": {},
   "source": [
    "In the attached `data` folder the following attached datasets are given for this assignment:\n",
    " - `hungary_admin_8.shp`, containing the city level administrative boundaries of Hungary. (Data source: [*OpenStreetMap*](https://data2.openstreetmap.hu/hatarok/))\n",
    " - `hungary_population_2020.csv`, containing the population of Hungarian cities on 2020 January 1. (Data source: [*Hungarian Government*](https://www.nyilvantarto.hu/hu/statisztikak))\n",
    " - `hungary_population_2011.csv`, containing the population of Hungarian cities on 2011 January 1. (Data source: [*Hungarian Government*](https://www.nyilvantarto.hu/hu/statisztikak))"
   ]
  },
  {
   "cell_type": "markdown",
   "metadata": {},
   "source": [
    "*Note:* in the CSV files the columns are delimited with `;` characters (instead of the default `,`)."
   ]
  },
  {
   "cell_type": "markdown",
   "metadata": {},
   "source": [
    "---"
   ]
  },
  {
   "cell_type": "markdown",
   "metadata": {},
   "source": [
    "## Task 1"
   ]
  },
  {
   "cell_type": "markdown",
   "metadata": {},
   "source": [
    "Write a program that creates a thematic map for Hungary based on the adminstrative boundaries of the cities and their population in 2020.  \n",
    "(Use the *All population* field from the CSV file.)"
   ]
  },
  {
   "cell_type": "code",
   "execution_count": 5,
   "metadata": {},
   "outputs": [],
   "source": [
    "import pandas as pd\n",
    "import geopandas as gpd\n",
    "\n",
    "# Read the datasets\n",
    "cities = gpd.read_file('../data/hungary_admin_8.shp')\n",
    "cities = cities[['NAME', 'geometry']]\n",
    "cities.set_index('NAME', inplace=True)\n",
    "\n",
    "population_2020 = pd.read_csv('../data/hungary_population_2020.csv', delimiter = ';')\n",
    "population_2020.set_index('City', inplace=True)"
   ]
  },
  {
   "cell_type": "code",
   "execution_count": 3,
   "metadata": {},
   "outputs": [
    {
     "data": {
      "text/plain": "                                                        geometry  \\\nNAME                                                               \nMurakeresztúr  POLYGON ((1875811.200 5837364.810, 1875829.320...   \nTótszerdahely  POLYGON ((1865447.010 5842664.860, 1865626.780...   \nMolnári        POLYGON ((1871422.780 5840886.420, 1871468.690...   \nSemjénháza     POLYGON ((1874690.000 5845206.400, 1874749.090...   \nFelsőszölnök   POLYGON ((1793789.650 5920727.330, 1793969.030...   \n...                                                          ...   \nMilota         POLYGON ((2530430.020 6120050.180, 2530441.900...   \nTiszabecs      POLYGON ((2535824.870 6121698.150, 2535957.370...   \nGarbolc        POLYGON ((2543379.140 6098625.170, 2543444.730...   \nMagosliget     POLYGON ((2540997.680 6116051.390, 2541064.470...   \nBeregdaróc     POLYGON ((2502185.370 6141427.990, 2502438.910...   \n\n              All population  \nNAME                          \nMurakeresztúr           1712  \nTótszerdahely           1081  \nMolnári                  689  \nSemjénháza               566  \nFelsőszölnök             578  \n...                      ...  \nMilota                   998  \nTiszabecs               1550  \nGarbolc                  150  \nMagosliget               332  \nBeregdaróc              1038  \n\n[3174 rows x 2 columns]",
      "text/html": "<div>\n<style scoped>\n    .dataframe tbody tr th:only-of-type {\n        vertical-align: middle;\n    }\n\n    .dataframe tbody tr th {\n        vertical-align: top;\n    }\n\n    .dataframe thead th {\n        text-align: right;\n    }\n</style>\n<table border=\"1\" class=\"dataframe\">\n  <thead>\n    <tr style=\"text-align: right;\">\n      <th></th>\n      <th>geometry</th>\n      <th>All population</th>\n    </tr>\n    <tr>\n      <th>NAME</th>\n      <th></th>\n      <th></th>\n    </tr>\n  </thead>\n  <tbody>\n    <tr>\n      <th>Murakeresztúr</th>\n      <td>POLYGON ((1875811.200 5837364.810, 1875829.320...</td>\n      <td>1712</td>\n    </tr>\n    <tr>\n      <th>Tótszerdahely</th>\n      <td>POLYGON ((1865447.010 5842664.860, 1865626.780...</td>\n      <td>1081</td>\n    </tr>\n    <tr>\n      <th>Molnári</th>\n      <td>POLYGON ((1871422.780 5840886.420, 1871468.690...</td>\n      <td>689</td>\n    </tr>\n    <tr>\n      <th>Semjénháza</th>\n      <td>POLYGON ((1874690.000 5845206.400, 1874749.090...</td>\n      <td>566</td>\n    </tr>\n    <tr>\n      <th>Felsőszölnök</th>\n      <td>POLYGON ((1793789.650 5920727.330, 1793969.030...</td>\n      <td>578</td>\n    </tr>\n    <tr>\n      <th>...</th>\n      <td>...</td>\n      <td>...</td>\n    </tr>\n    <tr>\n      <th>Milota</th>\n      <td>POLYGON ((2530430.020 6120050.180, 2530441.900...</td>\n      <td>998</td>\n    </tr>\n    <tr>\n      <th>Tiszabecs</th>\n      <td>POLYGON ((2535824.870 6121698.150, 2535957.370...</td>\n      <td>1550</td>\n    </tr>\n    <tr>\n      <th>Garbolc</th>\n      <td>POLYGON ((2543379.140 6098625.170, 2543444.730...</td>\n      <td>150</td>\n    </tr>\n    <tr>\n      <th>Magosliget</th>\n      <td>POLYGON ((2540997.680 6116051.390, 2541064.470...</td>\n      <td>332</td>\n    </tr>\n    <tr>\n      <th>Beregdaróc</th>\n      <td>POLYGON ((2502185.370 6141427.990, 2502438.910...</td>\n      <td>1038</td>\n    </tr>\n  </tbody>\n</table>\n<p>3174 rows × 2 columns</p>\n</div>"
     },
     "metadata": {},
     "output_type": "display_data"
    }
   ],
   "source": [
    "# Add the population DataSeries to the cities \"manually\"\n",
    "df = cities.copy()\n",
    "df['All population'] = [None] * len(cities)\n",
    "\n",
    "# Get the indexes which are present in both DataFrames\n",
    "indexes = set(cities.index) & set(population_2020.index)\n",
    "for index in indexes:\n",
    "    df.loc[index, 'All population'] = population_2020.loc[index]['All population']\n",
    "\n",
    "display(df)"
   ]
  },
  {
   "cell_type": "code",
   "execution_count": null,
   "metadata": {},
   "outputs": [],
   "source": [
    "# This can be done in an easier and more efficient way with pandas' merge() function\n",
    "df = cities.merge(population_2020, left_index=True, right_index=True)\n",
    "display(df)"
   ]
  },
  {
   "cell_type": "code",
   "execution_count": null,
   "metadata": {},
   "outputs": [],
   "source": [
    "import matplotlib.pyplot as plt\n",
    "%matplotlib inline\n",
    "\n",
    "# Create the plot\n",
    "df.plot(column='All population', figsize=[20,10], legend=True, cmap='YlOrRd', scheme='quantiles', k=10)\n",
    "plt.show()"
   ]
  },
  {
   "cell_type": "markdown",
   "metadata": {},
   "source": [
    "## Task 2"
   ]
  },
  {
   "cell_type": "markdown",
   "metadata": {},
   "source": [
    "Write a program that adds the population data for 2011 and 2020 to the Shapefile as new scalar fields to each city; and save it as a new Shapefile."
   ]
  },
  {
   "cell_type": "code",
   "execution_count": null,
   "metadata": {},
   "outputs": [],
   "source": [
    "population_2011 = pd.read_csv('../data/hungary_population_2011.csv', delimiter = ';')\n",
    "population_2011.set_index('City', inplace=True)\n",
    "\n",
    "df = df.merge(population_2011, left_index=True, right_index=True, suffixes=[' 2020', ' 2011'])\n",
    "df.rename(columns={'County 2020':'County'}, inplace=True)\n",
    "del df['County 2011']\n",
    "display(df)"
   ]
  },
  {
   "cell_type": "code",
   "execution_count": null,
   "metadata": {},
   "outputs": [],
   "source": [
    "# Save it to file\n",
    "df.to_file('hungary_population.shp')"
   ]
  },
  {
   "cell_type": "markdown",
   "metadata": {},
   "source": [
    "## Task 3"
   ]
  },
  {
   "cell_type": "markdown",
   "metadata": {},
   "source": [
    "Write a program that creates a thematic map for Hungary based on the adminstrative boundaries of the cities and their population change between 2011 and 2020."
   ]
  },
  {
   "cell_type": "code",
   "execution_count": null,
   "metadata": {},
   "outputs": [],
   "source": [
    "df['Population difference'] = df['All population 2020'] - df['All population 2011']\n",
    "\n",
    "ax = df.plot(column='Population difference', figsize=[20,10], legend=True, cmap='bwr', vmin=-5000, vmax=5000)\n",
    "ax.set_facecolor(\"lightgray\") # background color\n",
    "plt.show()"
   ]
  },
  {
   "cell_type": "markdown",
   "metadata": {},
   "source": [
    "**Optional:** add a raster basemap with *contextily*."
   ]
  },
  {
   "cell_type": "code",
   "execution_count": null,
   "metadata": {},
   "outputs": [],
   "source": [
    "# How to install: conda install -c conda-forge contextily\n",
    "# How to use: https://contextily.readthedocs.io/en/latest/\n",
    "import contextily as ctx\n",
    "\n",
    "# Verify CRS, must be Web Mercator (EPSG:3857) to add a base map with the contextily module.\n",
    "print(df.crs)\n",
    "if df.crs == 'epsg:3857':\n",
    "    ax = df.plot(column='Population difference', figsize=[20,10], legend=True, cmap='bwr', vmin=-5000, vmax=5000, alpha=0.85)\n",
    "    ctx.add_basemap(ax)\n",
    "    ax.set_axis_off()\n",
    "    plt.show()\n",
    "else:\n",
    "    print('CRS must be EPSG:3857, instead {0} was given'.format(df.crs))"
   ]
  },
  {
   "cell_type": "markdown",
   "metadata": {},
   "source": [
    "## Task 4"
   ]
  },
  {
   "cell_type": "markdown",
   "metadata": {},
   "source": [
    "Write a program that creates a thematic map for Hungary based on the adminstrative boundaries of the cities and their population density in 2020."
   ]
  },
  {
   "cell_type": "code",
   "execution_count": null,
   "metadata": {},
   "outputs": [],
   "source": [
    "df_eov = df.to_crs('EPSG:23700') # EOV is EPSG:23700 \n",
    "df['Area'] = df_eov.area / 10**6\n",
    "df['Density 2020'] = df['All population 2020'] / df['Area'] \n",
    "display(df)"
   ]
  },
  {
   "cell_type": "code",
   "execution_count": null,
   "metadata": {},
   "outputs": [],
   "source": [
    "df.plot(column='Density 2020', figsize=[20,10], legend=True, cmap='YlOrRd', scheme='quantiles', k=10)\n",
    "plt.show()"
   ]
  }
 ],
 "metadata": {
  "kernelspec": {
   "display_name": "Python 3",
   "language": "python",
   "name": "python3"
  },
  "language_info": {
   "codemirror_mode": {
    "name": "ipython",
    "version": 3
   },
   "file_extension": ".py",
   "mimetype": "text/x-python",
   "name": "python",
   "nbconvert_exporter": "python",
   "pygments_lexer": "ipython3",
   "version": "3.9.2"
  }
 },
 "nbformat": 4,
 "nbformat_minor": 4
}