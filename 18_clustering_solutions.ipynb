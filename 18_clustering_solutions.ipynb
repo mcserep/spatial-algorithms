{
 "cells": [
  {
   "cell_type": "markdown",
   "metadata": {},
   "source": [
    "# Chapter 18: Clustering and segmentation"
   ]
  },
  {
   "cell_type": "code",
   "execution_count": null,
   "metadata": {},
   "outputs": [],
   "source": [
    "import geopandas as gpd\n",
    "from sklearn.cluster import KMeans # pip3 install scikit-learn\n",
    "\n",
    "cities_gdf = gpd.read_file('data/hungary_cities.shp')\n",
    "display(cities_gdf)"
   ]
  },
  {
   "cell_type": "markdown",
   "metadata": {},
   "source": [
    "Fetch points for cities:"
   ]
  },
  {
   "cell_type": "code",
   "execution_count": null,
   "metadata": {},
   "outputs": [],
   "source": [
    "points = [(geom.x, geom.y) for geom in cities_gdf.geometry]\n",
    "print(\"Number of points: {0}\".format(len(points)))"
   ]
  },
  {
   "cell_type": "markdown",
   "metadata": {},
   "source": [
    "Cluster the points using the *K-Means algorithm*:"
   ]
  },
  {
   "cell_type": "code",
   "execution_count": null,
   "metadata": {},
   "outputs": [],
   "source": [
    "pred = KMeans(n_clusters=19).fit_predict(points)\n",
    "print(pred)\n",
    "print(len(pred))"
   ]
  },
  {
   "cell_type": "markdown",
   "metadata": {},
   "source": [
    "Plot figure:"
   ]
  },
  {
   "cell_type": "code",
   "execution_count": null,
   "metadata": {},
   "outputs": [],
   "source": [
    "import matplotlib.pyplot as plt\n",
    "%matplotlib inline\n",
    "\n",
    "plt.figure(figsize=(12, 8))\n",
    "\n",
    "# Fetch list of X and Y coordinates\n",
    "xs = [point[0] for point in points]\n",
    "ys = [point[1] for point in points]\n",
    "\n",
    "# Put the cluster points on the plot\n",
    "plt.scatter(xs, ys, c=pred)\n",
    "\n",
    "# Display plot\n",
    "plt.title(\"Cluster map of the Hungarian cities\")\n",
    "plt.show()"
   ]
  },
  {
   "cell_type": "markdown",
   "metadata": {},
   "source": [
    "---"
   ]
  },
  {
   "cell_type": "markdown",
   "metadata": {},
   "source": [
    "## Clustering raster images"
   ]
  },
  {
   "cell_type": "markdown",
   "metadata": {},
   "source": [
    "### Read the dataset\n",
    "\n",
    "The `LC08_L1TP_188027_20200420_20200508_01_T1.tif` file is a Landsat 8 satellite image from Budapest and parts of Western-Hungary, acquired on 2020 April 20. It should be familiar from [Chapter 10](10_spatial_raster_solutions.ipynb).\n",
    "\n",
    "Download: https://gis.inf.elte.hu/files/public/landsat-budapest-2020 (1.4 GB)"
   ]
  },
  {
   "cell_type": "code",
   "execution_count": null,
   "metadata": {},
   "outputs": [],
   "source": [
    "import rasterio\n",
    "budapest_2020 = rasterio.open('LC08_L1TP_188027_20200420_20200508_01_T1.tif')\n",
    "print(budapest_2020.count) # band count\n",
    "print(budapest_2020.width) # dimensions\n",
    "print(budapest_2020.height)"
   ]
  },
  {
   "cell_type": "markdown",
   "metadata": {},
   "source": [
    "Define resampling function:"
   ]
  },
  {
   "cell_type": "code",
   "execution_count": null,
   "metadata": {},
   "outputs": [],
   "source": [
    "from rasterio.enums import Resampling\n",
    "\n",
    "def read_resampled_band(dataset, band, resample_factor):   \n",
    "    data = dataset.read(band,\n",
    "        out_shape=(\n",
    "            1,\n",
    "            int(dataset.height * resample_factor),\n",
    "            int(dataset.width * resample_factor)\n",
    "        ),\n",
    "        resampling=Resampling.bilinear\n",
    "    )\n",
    "    return data"
   ]
  },
  {
   "cell_type": "markdown",
   "metadata": {},
   "source": [
    "Read the blue, green, read and near-infrared bands into *Numpy* arrays. Resample them to a smaller size to make further processing (clustering especially) faster."
   ]
  },
  {
   "cell_type": "code",
   "execution_count": null,
   "metadata": {},
   "outputs": [],
   "source": [
    "blue = read_resampled_band(budapest_2020, 2, 1/4)\n",
    "green = read_resampled_band(budapest_2020, 3, 1/4)\n",
    "red = read_resampled_band(budapest_2020, 4, 1/4)\n",
    "nir = read_resampled_band(budapest_2020, 5, 1/4)\n",
    "\n",
    "print(red.shape)"
   ]
  },
  {
   "cell_type": "markdown",
   "metadata": {},
   "source": [
    "Display the near-infrared band for verification:"
   ]
  },
  {
   "cell_type": "code",
   "execution_count": null,
   "metadata": {},
   "outputs": [],
   "source": [
    "plt.figure(figsize=[10,10])\n",
    "plt.imshow(nir, cmap='Reds')\n",
    "plt.axis('off')\n",
    "plt.colorbar()\n",
    "plt.show()"
   ]
  },
  {
   "cell_type": "markdown",
   "metadata": {},
   "source": [
    "Display the RGB image for verification:"
   ]
  },
  {
   "cell_type": "code",
   "execution_count": null,
   "metadata": {},
   "outputs": [],
   "source": [
    "from rasterio.plot import show\n",
    "import numpy as np\n",
    "\n",
    "red_max = np.percentile(red, 99.99)\n",
    "blue_max = np.percentile(blue, 99.99)\n",
    "green_max = np.percentile(green, 99.99)\n",
    "\n",
    "# astype('f4') is a numpy function to convert to float (4 byte)\n",
    "redf = red.astype('f4') / red_max\n",
    "bluef = blue.astype('f4') / blue_max\n",
    "greenf = green.astype('f4') / green_max\n",
    "rgb = [redf, greenf, bluef]\n",
    "\n",
    "plt.figure(figsize=[10,10])\n",
    "show(rgb)\n",
    "plt.show()"
   ]
  },
  {
   "cell_type": "markdown",
   "metadata": {},
   "source": [
    "---"
   ]
  },
  {
   "cell_type": "markdown",
   "metadata": {},
   "source": [
    "### Single-band clustering"
   ]
  },
  {
   "cell_type": "markdown",
   "metadata": {},
   "source": [
    "Cluster the satellite image based on the near-infrared band."
   ]
  },
  {
   "cell_type": "code",
   "execution_count": null,
   "metadata": {},
   "outputs": [],
   "source": [
    "nir_1d = nir.reshape(nir.shape[0] * nir.shape[1], 1)\n",
    "print(nir_1d.shape)"
   ]
  },
  {
   "cell_type": "code",
   "execution_count": null,
   "metadata": {},
   "outputs": [],
   "source": [
    "pred = KMeans(n_clusters=6).fit_predict(nir_1d)\n",
    "img_clusters = pred.reshape(nir.shape)"
   ]
  },
  {
   "cell_type": "code",
   "execution_count": null,
   "metadata": {},
   "outputs": [],
   "source": [
    "import matplotlib.colors as mc\n",
    "cmap = mc.LinearSegmentedColormap.from_list('', ['red', 'black', 'gray', 'green', 'white', 'blue'])\n",
    "\n",
    "plt.figure(figsize=[12,12])\n",
    "plt.imshow(img_clusters, cmap=cmap)\n",
    "plt.axis('off')\n",
    "plt.show()"
   ]
  },
  {
   "cell_type": "markdown",
   "metadata": {},
   "source": [
    "---"
   ]
  },
  {
   "cell_type": "markdown",
   "metadata": {},
   "source": [
    "### Multi-band clustering"
   ]
  },
  {
   "cell_type": "markdown",
   "metadata": {},
   "source": [
    "Cluster the satellite image based on the RGB bands."
   ]
  },
  {
   "cell_type": "code",
   "execution_count": null,
   "metadata": {},
   "outputs": [],
   "source": [
    "red_1d   = red.reshape(red.shape[0] * red.shape[1], 1)\n",
    "green_1d = green.reshape(green.shape[0] * green.shape[1], 1)\n",
    "blue_1d  = blue.reshape(blue.shape[0] * blue.shape[1], 1)\n",
    "\n",
    "rgb_1d = [(0, 0, 0)] * (red.shape[0] * red.shape[1])\n",
    "for i in range(red.shape[0] * red.shape[1]):\n",
    "    rgb_1d[i] = (red_1d[i, 0], green_1d[i, 0], blue_1d[i, 0])\n",
    "print(rgb_1d[200000])"
   ]
  },
  {
   "cell_type": "code",
   "execution_count": null,
   "metadata": {},
   "outputs": [],
   "source": [
    "pred = KMeans(n_clusters=8).fit_predict(rgb_1d)\n",
    "img_clusters = pred.reshape(red.shape)"
   ]
  },
  {
   "cell_type": "code",
   "execution_count": null,
   "metadata": {},
   "outputs": [],
   "source": [
    "cmap = mc.LinearSegmentedColormap.from_list('', ['red', 'black', 'gray', 'green', 'white', 'yellow', 'blue', 'purple'])\n",
    "\n",
    "plt.figure(figsize=[15,15])\n",
    "plt.imshow(img_clusters, cmap=cmap)\n",
    "plt.axis('off')\n",
    "plt.show()"
   ]
  }
 ],
 "metadata": {
  "kernelspec": {
   "display_name": "Python 3",
   "language": "python",
   "name": "python3"
  },
  "language_info": {
   "codemirror_mode": {
    "name": "ipython",
    "version": 3
   },
   "file_extension": ".py",
   "mimetype": "text/x-python",
   "name": "python",
   "nbconvert_exporter": "python",
   "pygments_lexer": "ipython3",
   "version": "3.8.5"
  }
 },
 "nbformat": 4,
 "nbformat_minor": 4
}
