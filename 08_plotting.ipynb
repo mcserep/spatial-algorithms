{
 "cells": [
  {
   "cell_type": "markdown",
   "metadata": {},
   "source": [
    "# Chapter 8: Plotting and diagram visualization"
   ]
  },
  {
   "cell_type": "markdown",
   "metadata": {},
   "source": [
    "*Matplotlib* is the most popular 2D plotting library in Python. Using matplotlib, you can create pretty much any type of plot.\n",
    "\n",
    "*Pandas* has **tight integration** with *matplotlib*."
   ]
  },
  {
   "cell_type": "markdown",
   "metadata": {},
   "source": [
    "## How to install matplotlib?"
   ]
  },
  {
   "cell_type": "markdown",
   "metadata": {},
   "source": [
    "If you have Anaconda installed, then matplotlib was already installed together with it.\n",
    "\n",
    "If you have a standalone Python3 and Jupyter Notebook installation, open a command prompt / terminal and type in:\n",
    "```\n",
    "pip3 install matplotlib\n",
    "```"
   ]
  },
  {
   "cell_type": "markdown",
   "metadata": {},
   "source": [
    "## How to use matplotlib?"
   ]
  },
  {
   "cell_type": "markdown",
   "metadata": {},
   "source": [
    "We will use the *pyplot module* inside the matlplotlib package for plotting. You can simply import this module as usual. It is usually aliased with the `plt` abbreviation:\n",
    "```python\n",
    "import matplotlib.pyplot as plt\n",
    "```"
   ]
  },
  {
   "cell_type": "markdown",
   "metadata": {},
   "source": [
    "---"
   ]
  },
  {
   "cell_type": "markdown",
   "metadata": {},
   "source": [
    "## The dataset"
   ]
  },
  {
   "cell_type": "markdown",
   "metadata": {},
   "source": [
    "Let's use the *World Countries datatset*. For each country the following information is given:\n",
    " 1. country name,\n",
    " 2. region name, \n",
    " 3. population,\n",
    " 4. area (in mi<sup>2</sup>),\n",
    " 5. GDP (\\$ per capita),\n",
    " 6. Literacy (%)\n",
    "\n",
    "The dataset is given in the `data/countries_world.csv` file. The used delimiter is the semicolon (`;`) character."
   ]
  },
  {
   "cell_type": "code",
   "execution_count": null,
   "metadata": {},
   "outputs": [],
   "source": [
    "import pandas as pd\n",
    "import matplotlib.pyplot as plt\n",
    "\n",
    "# Special Jupyter Notebook command, so the plots by matplotlib will be display inside the Jupyter Notebook\n",
    "%matplotlib inline\n",
    "\n",
    "countries = pd.read_csv('data/countries_world.csv', delimiter = ';')\n",
    "countries.columns = ['country', 'region', 'population', 'area', 'gdp', 'literacy']\n",
    "display(countries)"
   ]
  },
  {
   "cell_type": "markdown",
   "metadata": {},
   "source": [
    "*Data source: [US Government](https://gsociology.icaap.org/dataupload.html)*"
   ]
  },
  {
   "cell_type": "markdown",
   "metadata": {},
   "source": [
    "Lets take just the top 50 countries by area, so visualization will be easier to overview in the following tasks:"
   ]
  },
  {
   "cell_type": "code",
   "execution_count": null,
   "metadata": {},
   "outputs": [],
   "source": [
    "countries50 = countries.sort_values(by = 'area', ascending = False).head(50)\n",
    "display(countries50)"
   ]
  },
  {
   "cell_type": "markdown",
   "metadata": {},
   "source": [
    "---"
   ]
  },
  {
   "cell_type": "markdown",
   "metadata": {},
   "source": [
    "## Plotting"
   ]
  },
  {
   "cell_type": "markdown",
   "metadata": {},
   "source": [
    "Plots can be generated with the `plot()` function of a Pandas *DataFrame* (table) or *Series* (column). The most important parameter of the function is the `kind` parameter, which defines the type of plot to be generated. Supported kinds are (non-exhaustive list):\n",
    "* `line`\n",
    "* `bar` (vertical bar)\n",
    "* `barh` (horizontal bar)\n",
    "* `scatter`\n",
    "* `hist` (histogram)\n",
    "* `box` (boxplot\n",
    "* `pie`\n",
    "\n",
    "After a plot is generated, it can be displayed by the `show()` function of the `matplotlib.pyplot` module."
   ]
  },
  {
   "cell_type": "markdown",
   "metadata": {},
   "source": [
    "### Vertical bar plot"
   ]
  },
  {
   "cell_type": "markdown",
   "metadata": {},
   "source": [
    "Display a bar plot on the area of the selected 50 largest countries."
   ]
  },
  {
   "cell_type": "code",
   "execution_count": null,
   "metadata": {},
   "outputs": [],
   "source": [
    "countries50.plot(kind='bar', x='country', y='area', figsize = [15, 3])\n",
    "plt.show() # matplotlib.pyplot was imported as plt"
   ]
  },
  {
   "cell_type": "markdown",
   "metadata": {},
   "source": [
    "The size of the diagram can be configured with the `figsize` parameter. The size is given in inches (1 inch = 2.54 centimeters).  \n",
    "The default size is `[6.4, 4.8]`."
   ]
  },
  {
   "cell_type": "markdown",
   "metadata": {},
   "source": [
    "The bar diagram can be created directly on the selected *Series* (column of data). In this case the Series will be placed along axis Y, while the horizontal axis X will become the index of the *DataFrame*."
   ]
  },
  {
   "cell_type": "code",
   "execution_count": null,
   "metadata": {},
   "outputs": [],
   "source": [
    "countries50['area'].plot(kind='bar', figsize = [15, 3])\n",
    "plt.show()"
   ]
  },
  {
   "cell_type": "markdown",
   "metadata": {},
   "source": [
    "The index column can be modified through the `set_index` function (see Chapter 7 for more details) of the *DataFrame* and a **new** *DataFrame* is created so:"
   ]
  },
  {
   "cell_type": "code",
   "execution_count": null,
   "metadata": {},
   "outputs": [],
   "source": [
    "countries50_indexed = countries50.set_index('country')\n",
    "display(countries50_indexed)"
   ]
  },
  {
   "cell_type": "markdown",
   "metadata": {},
   "source": [
    "Creating the bar plot from the `countries50_indexed` *DataFrame* will display the country names as labels correctly."
   ]
  },
  {
   "cell_type": "code",
   "execution_count": null,
   "metadata": {},
   "outputs": [],
   "source": [
    "countries50_indexed['area'].plot(kind='bar', figsize = [15, 3])\n",
    "plt.show()"
   ]
  },
  {
   "cell_type": "markdown",
   "metadata": {},
   "source": [
    "#### Visual tuning"
   ]
  },
  {
   "cell_type": "markdown",
   "metadata": {},
   "source": [
    "The color of the bars can be defined with the `color` parameter.\n",
    "The width of the bars is set by the `width` parameter, 1.0 meaning *100%*."
   ]
  },
  {
   "cell_type": "code",
   "execution_count": null,
   "metadata": {},
   "outputs": [],
   "source": [
    "countries50_indexed['area'].plot(kind='bar', figsize = [15, 3], color = 'red', width = 1.0)\n",
    "plt.show()"
   ]
  },
  {
   "cell_type": "markdown",
   "metadata": {},
   "source": [
    "Multiple colors can be passed in a list."
   ]
  },
  {
   "cell_type": "code",
   "execution_count": null,
   "metadata": {},
   "outputs": [],
   "source": [
    "countries50_indexed['area'].plot(kind='bar', figsize = [15, 3], color = ['red', 'green', 'yellow'], width = 1.0)\n",
    "plt.show()"
   ]
  },
  {
   "cell_type": "markdown",
   "metadata": {},
   "source": [
    "### Horizontal bar plot"
   ]
  },
  {
   "cell_type": "markdown",
   "metadata": {},
   "source": [
    "Display a horizontal bar plot on the population of the selected 50 largest countries."
   ]
  },
  {
   "cell_type": "code",
   "execution_count": null,
   "metadata": {},
   "outputs": [],
   "source": [
    "countries50.plot(kind='barh', x='country', y='population', figsize = [10, 10])\n",
    "plt.show()"
   ]
  },
  {
   "cell_type": "markdown",
   "metadata": {},
   "source": [
    "Note that for the horizontal bar plot, the *axis X* is the vertical axis, and *axis Y* is the horizontal axis. It is defined by this was, so only the `kind` parameter of the `plot()` function has to be changed when switching to a different type of diagram."
   ]
  },
  {
   "cell_type": "markdown",
   "metadata": {},
   "source": [
    "Before visualizing the data, sort it by the column population, instead of the default area."
   ]
  },
  {
   "cell_type": "code",
   "execution_count": null,
   "metadata": {},
   "outputs": [],
   "source": [
    "countries50.sort_values(by = 'population').plot(kind='barh', x='country', y='population', figsize = [10, 10])\n",
    "plt.show()"
   ]
  },
  {
   "cell_type": "markdown",
   "metadata": {},
   "source": [
    "### Scatter plot"
   ]
  },
  {
   "cell_type": "markdown",
   "metadata": {},
   "source": [
    "Display a scatter plot on the correlation of the area and the population columns of the selected 50 largest countries.\n",
    "\n",
    "**Question:** What correlation can be expected between these 2 attributes of countries?"
   ]
  },
  {
   "cell_type": "code",
   "execution_count": null,
   "metadata": {},
   "outputs": [],
   "source": [
    "countries50.plot(kind='scatter', x='area', y='population', title='Area vs. Population of Top 50 Largest Countries')\n",
    "plt.show()"
   ]
  },
  {
   "cell_type": "markdown",
   "metadata": {},
   "source": [
    "A title can be given to be displayed above the generated diagram with the `title` parameter."
   ]
  },
  {
   "cell_type": "markdown",
   "metadata": {},
   "source": [
    "Extend the scatter plot for all countries in the dataset."
   ]
  },
  {
   "cell_type": "code",
   "execution_count": null,
   "metadata": {},
   "outputs": [],
   "source": [
    "countries.plot(kind='scatter', x='area', y='population', title='Area vs. Population correlation')\n",
    "plt.show()"
   ]
  },
  {
   "cell_type": "markdown",
   "metadata": {},
   "source": [
    "As we can observer there is a moderatly strong correlation between area and population, which matches our expectation."
   ]
  },
  {
   "cell_type": "markdown",
   "metadata": {},
   "source": [
    "The limits of the X and Y axes can be configured with the `xlim` and `ylim` parameters, so the *outliers* can be excluded from the visualization. Both a minimum and a maximum biundary can be given, as a tuple."
   ]
  },
  {
   "cell_type": "code",
   "execution_count": null,
   "metadata": {},
   "outputs": [],
   "source": [
    "countries.plot(kind='scatter', x='area', y='population', title='Area vs. Population correlation', xlim=(0, 1e6), ylim=(0, 1e8))\n",
    "plt.show()"
   ]
  },
  {
   "cell_type": "markdown",
   "metadata": {},
   "source": [
    "#### Short outlook on correlation (optional)"
   ]
  },
  {
   "cell_type": "markdown",
   "metadata": {},
   "source": [
    "The correlation matrix between *Series* of a *Pandas DataFrame* can be generated with the `corr()` function:"
   ]
  },
  {
   "cell_type": "code",
   "execution_count": null,
   "metadata": {},
   "outputs": [],
   "source": [
    "display(countries.corr())"
   ]
  },
  {
   "cell_type": "markdown",
   "metadata": {},
   "source": [
    "Or just for 2 selected Series:"
   ]
  },
  {
   "cell_type": "code",
   "execution_count": null,
   "metadata": {},
   "outputs": [],
   "source": [
    "print(countries['area'].corr(countries['population']))"
   ]
  },
  {
   "cell_type": "markdown",
   "metadata": {},
   "source": [
    "Every correlation has two qualities: *strength* and *direction*. The direction of a correlation is either positive or negative. When two variables have a positive correlation, it means the variables move in the same direction. This means that as one variable increases, so does the other one. In a negative correlation, the variables move in inverse, or opposite, directions. In other words, as one variable increases, the other variable decreases.\n",
    "\n",
    "We determine the strength of a relationship between two correlated variables by looking at the numbers. A correlation of 0 means that no relationship exists between the two variables, whereas a correlation of 1 indicates a perfect positive relationship. It is uncommon to find a perfect positive relationship in the real world.\n",
    "\n",
    "The further away from 1 that a positive correlation lies, the weaker the correlation. Similarly, the further a negative correlation lies from -1, the weaker the correlation.\n",
    "The following guidelines are useful when determining the strength of a positive correlation:\n",
    "* 1: perfect positive correlation\n",
    "* .70 to .99: very strong positive relationship\n",
    "* .40 to .69: strong positive relationship\n",
    "* .30 to .39: moderate positive relationship\n",
    "* .20 to .29: weak positive relationship\n",
    "* .01 to .19: no or negligible relationship\n",
    "* 0: no relationship exists\n",
    "\n"
   ]
  },
  {
   "cell_type": "markdown",
   "metadata": {},
   "source": [
    "**Question:** which series of the dataframe show strong correlation?"
   ]
  },
  {
   "cell_type": "markdown",
   "metadata": {},
   "source": [
    "### Histogram"
   ]
  },
  {
   "cell_type": "markdown",
   "metadata": {},
   "source": [
    "A histogram is an accurate representation of the distribution of numerical data. It differs from a bar graph, in the sense that a bar graph relates two variables, but a histogram relates only one."
   ]
  },
  {
   "cell_type": "markdown",
   "metadata": {},
   "source": [
    "Display a histogram on the area of the selected 50  countries."
   ]
  },
  {
   "cell_type": "code",
   "execution_count": null,
   "metadata": {},
   "outputs": [],
   "source": [
    "countries['area'].plot(kind='hist')\n",
    "plt.show()"
   ]
  },
  {
   "cell_type": "markdown",
   "metadata": {},
   "source": [
    "The number of columns (called *bins* or *buckets*) in the histrogram can be configured with the `bins` parameter."
   ]
  },
  {
   "cell_type": "code",
   "execution_count": null,
   "metadata": {},
   "outputs": [],
   "source": [
    "countries['area'].plot(kind='hist', bins=20)\n",
    "plt.show()"
   ]
  },
  {
   "cell_type": "markdown",
   "metadata": {},
   "source": [
    "Extend the histogram to cover all countries in the dataset. Apply a logarithmic scale with the `logx` / `logy` parameter."
   ]
  },
  {
   "cell_type": "code",
   "execution_count": null,
   "metadata": {},
   "outputs": [],
   "source": [
    "countries['area'].plot(kind='hist', bins=20, logy=True)\n",
    "plt.show()"
   ]
  },
  {
   "cell_type": "markdown",
   "metadata": {},
   "source": [
    "### Boxplot"
   ]
  },
  {
   "cell_type": "markdown",
   "metadata": {},
   "source": [
    "In descriptive statistics, a *boxplot* is a method for graphically depicting groups of numerical data through their quartiles. "
   ]
  },
  {
   "cell_type": "markdown",
   "metadata": {},
   "source": [
    "Display a boxplot on the GDP of the selected 50 largest countries."
   ]
  },
  {
   "cell_type": "code",
   "execution_count": null,
   "metadata": {},
   "outputs": [],
   "source": [
    "countries50['gdp'].plot(kind='box')\n",
    "plt.show()"
   ]
  },
  {
   "cell_type": "markdown",
   "metadata": {},
   "source": [
    "Explaining the graphical visualization of a boxplot:\n",
    "\n",
    "![Explaining a boxplot](images/08_boxplot.png \"Source: https://www.learndatasci.com/\")"
   ]
  },
  {
   "cell_type": "markdown",
   "metadata": {},
   "source": [
    "**Task:** Display a boxplot on the literacy of all countries! What can we state based on the diagram?"
   ]
  },
  {
   "cell_type": "code",
   "execution_count": null,
   "metadata": {},
   "outputs": [],
   "source": []
  },
  {
   "cell_type": "markdown",
   "metadata": {},
   "source": [
    "### Pie chart"
   ]
  },
  {
   "cell_type": "markdown",
   "metadata": {},
   "source": [
    "Display a pie chart on the area share of the selected 50 largest countries. Since we are creating this plot on the `area` *Series*, we use the `countries50_indexed` DataFrame, which was indexed with the country names, so the labels will contain them instead of numerical indices."
   ]
  },
  {
   "cell_type": "code",
   "execution_count": null,
   "metadata": {},
   "outputs": [],
   "source": [
    "countries50_indexed['area'].plot(kind='pie', figsize=[10,10], label=\"\", title=\"Area share of the top 50 largest countries\")\n",
    "plt.show()"
   ]
  },
  {
   "cell_type": "markdown",
   "metadata": {},
   "source": [
    "Percentages for each slice can be displayed with the `autopct` parameter:"
   ]
  },
  {
   "cell_type": "code",
   "execution_count": null,
   "metadata": {},
   "outputs": [],
   "source": [
    "countries50_indexed['area'].plot(kind='pie', figsize=[10,10], autopct='%.1f%%', label=\"\", title=\"Area share of the top 50 largest countries\")\n",
    "plt.show()"
   ]
  },
  {
   "cell_type": "markdown",
   "metadata": {},
   "source": [
    "### Saving a plot to file"
   ]
  },
  {
   "cell_type": "markdown",
   "metadata": {},
   "source": [
    "Intead of using the `show()` function of the `matplotlib.pyplot` module, the `savefig()` function can also be used to export and save a created plot to an external file."
   ]
  },
  {
   "cell_type": "code",
   "execution_count": null,
   "metadata": {},
   "outputs": [],
   "source": [
    "countries50.plot(kind='bar', x='country', y='area', figsize = [15, 3])\n",
    "plt.savefig('08_country_area.png')"
   ]
  },
  {
   "cell_type": "markdown",
   "metadata": {},
   "source": [
    "Hint: look for the created file right next this Jupyter Notebook file on your computer."
   ]
  },
  {
   "cell_type": "markdown",
   "metadata": {},
   "source": [
    "---"
   ]
  },
  {
   "cell_type": "markdown",
   "metadata": {},
   "source": [
    "## Time Series Analyis"
   ]
  },
  {
   "cell_type": "markdown",
   "metadata": {},
   "source": [
    "Read the *Population History dataset* from the `data/population_world.csv` file, which contains the population data for all countries between the years 1950 and 2019.\n",
    "All together the dataset contains 239 countries (or territories), 70 years of data, so all together 16,730 rows of data.\n",
    "\n",
    "Each row stores the following data:\n",
    " 1. location (country or region),\n",
    " 2. year,\n",
    " 3. male population,\n",
    " 4. female population,\n",
    " 5. total population,\n",
    " 6. population density.\n",
    "\n",
    "The used delimiter is the semicolon (`;`) character."
   ]
  },
  {
   "cell_type": "code",
   "execution_count": null,
   "metadata": {},
   "outputs": [],
   "source": [
    "population_history = pd.read_csv('data/population_history.csv', delimiter = ';')\n",
    "display(population_history)"
   ]
  },
  {
   "cell_type": "markdown",
   "metadata": {},
   "source": [
    "*Data source: [United Nations](https://www.un.org/development/desa/pd/)*"
   ]
  },
  {
   "cell_type": "markdown",
   "metadata": {},
   "source": [
    "Display the countries in the dataset:"
   ]
  },
  {
   "cell_type": "code",
   "execution_count": null,
   "metadata": {},
   "outputs": [],
   "source": [
    "print(population_history['Country'].unique())"
   ]
  },
  {
   "cell_type": "markdown",
   "metadata": {},
   "source": [
    "---"
   ]
  },
  {
   "cell_type": "markdown",
   "metadata": {},
   "source": [
    "### Line plot"
   ]
  },
  {
   "cell_type": "markdown",
   "metadata": {},
   "source": [
    "Line diagrams works best with a series of data, assuming continuous change between the known discrete values.  \n",
    "Let's visualize the total and male population of *Hungary* between the years 1950 an 2019."
   ]
  },
  {
   "cell_type": "markdown",
   "metadata": {},
   "source": [
    "First filter the rows based on the country for *Hungary* and set the year as the index column."
   ]
  },
  {
   "cell_type": "code",
   "execution_count": null,
   "metadata": {},
   "outputs": [],
   "source": [
    "hungary = population_history[population_history['Country'] == 'Hungary']\n",
    "hungary.set_index('Year', drop=False, inplace=True)\n",
    "display(hungary)"
   ]
  },
  {
   "cell_type": "markdown",
   "metadata": {},
   "source": [
    "Now a line plot on the total population change of Hungary between 1950 and 2019 can be displayed."
   ]
  },
  {
   "cell_type": "code",
   "execution_count": null,
   "metadata": {},
   "outputs": [],
   "source": [
    "hungary['PopTotal'].plot(kind='line')\n",
    "plt.show()\n",
    "\n",
    "# same:\n",
    "#hungary.plot(kind='line', x='Year', y='PopTotal')\n",
    "#plt.show()"
   ]
  },
  {
   "cell_type": "markdown",
   "metadata": {},
   "source": [
    "### Multiple column diagrams"
   ]
  },
  {
   "cell_type": "markdown",
   "metadata": {},
   "source": [
    "Let's use multiple columns in the previous line plot, and add the male population to the diagram as a second line.\n",
    "\n",
    "Multiple plot data can be generated with the `plot()` method of Pandas *Series*. Calling the `show()` function of the `matplotlib.pyplot` module will visualize them on a single diagram."
   ]
  },
  {
   "cell_type": "code",
   "execution_count": null,
   "metadata": {},
   "outputs": [],
   "source": [
    "hungary['PopTotal'].plot(kind='line')\n",
    "hungary['PopMale'].plot(kind='line')\n",
    "plt.show()"
   ]
  },
  {
   "cell_type": "markdown",
   "metadata": {},
   "source": [
    "Add legend to the diagram:"
   ]
  },
  {
   "cell_type": "code",
   "execution_count": null,
   "metadata": {},
   "outputs": [],
   "source": [
    "hungary['PopTotal'].plot(kind='line', legend=True)\n",
    "hungary['PopMale'].plot(kind='line', legend=True)\n",
    "plt.show()"
   ]
  },
  {
   "cell_type": "markdown",
   "metadata": {},
   "source": [
    "The same can be done by calling the `plot()` method of a *Pandas DataFrame*. Be aware though, that in this case each plot will be displayed in an individual diagram:"
   ]
  },
  {
   "cell_type": "code",
   "execution_count": null,
   "metadata": {},
   "outputs": [],
   "source": [
    "hungary.plot(kind='line', x='Year', y='PopTotal', legend=True)\n",
    "hungary.plot(kind='line', x='Year', y='PopMale', legend=True)\n",
    "plt.show()"
   ]
  },
  {
   "cell_type": "markdown",
   "metadata": {},
   "source": [
    "This can be fixed by explicitly configuring matplotlib to use the same *axis object* for visualization for both diagrams:"
   ]
  },
  {
   "cell_type": "code",
   "execution_count": null,
   "metadata": {},
   "outputs": [],
   "source": [
    "ca = plt.gca() # gca = get current axis configuration object\n",
    "hungary.plot(kind='line', x='Year', y='PopTotal', ax=ca, legend=True) # use the ca axis configuration object\n",
    "hungary.plot(kind='line', x='Year', y='PopMale', ax=ca, legend=True) # use the ca axis configuration object\n",
    "plt.show()"
   ]
  },
  {
   "cell_type": "markdown",
   "metadata": {},
   "source": [
    "Use a different, secondary scale for the male population."
   ]
  },
  {
   "cell_type": "code",
   "execution_count": null,
   "metadata": {},
   "outputs": [],
   "source": [
    "hungary['PopTotal'].plot(kind='line', legend=True)\n",
    "hungary['PopMale'].plot(kind='line', secondary_y=True, legend=True)\n",
    "plt.show()"
   ]
  },
  {
   "cell_type": "markdown",
   "metadata": {},
   "source": [
    "---"
   ]
  },
  {
   "cell_type": "markdown",
   "metadata": {},
   "source": [
    "### Data groupping"
   ]
  },
  {
   "cell_type": "markdown",
   "metadata": {},
   "source": [
    "*Pandas* supports the groupping of data by the given column(s), which then can be used also for visualization."
   ]
  },
  {
   "cell_type": "markdown",
   "metadata": {},
   "source": [
    "Select 10 countries by your choice."
   ]
  },
  {
   "cell_type": "code",
   "execution_count": null,
   "metadata": {},
   "outputs": [],
   "source": [
    "selected_countries = pd.Series(['Hungary', 'Germany', 'France', 'United Kingdom', 'Romania', 'Oman', 'Libya', 'Turkey', 'Chile', 'Viet Nam'])\n",
    "display(selected_countries)"
   ]
  },
  {
   "cell_type": "markdown",
   "metadata": {},
   "source": [
    "Select the rows of the original DataFrame for these selected countries. Set the year column as an index for this filtered DataFrame."
   ]
  },
  {
   "cell_type": "code",
   "execution_count": null,
   "metadata": {},
   "outputs": [],
   "source": [
    "selected_history = population_history[population_history['Country'].isin(selected_countries)]\n",
    "selected_history.set_index('Year', inplace=True, drop=False)\n",
    "display(selected_history)"
   ]
  },
  {
   "cell_type": "markdown",
   "metadata": {},
   "source": [
    "The `selected_history` *DataFrame* now contains all historical data for the selected 10 countries."
   ]
  },
  {
   "cell_type": "markdown",
   "metadata": {},
   "source": [
    "Visualize the population change of the selected 10 countries for the time period 1950-2019 in a line diagram.  \n",
    "To achieve this, we first group the `selected_history` *DataFrame* by the `Country` *Series*:"
   ]
  },
  {
   "cell_type": "code",
   "execution_count": null,
   "metadata": {},
   "outputs": [],
   "source": [
    "selected_history.groupby('Country')"
   ]
  },
  {
   "cell_type": "markdown",
   "metadata": {},
   "source": [
    "We have got a `DataFrameGroupBy` object, which can be converted to a list:"
   ]
  },
  {
   "cell_type": "code",
   "execution_count": null,
   "metadata": {},
   "outputs": [],
   "source": [
    "grouped_history = list(selected_history.groupby('Country'))\n",
    "print(\"Length: {0}\".format(len(grouped_history)))"
   ]
  },
  {
   "cell_type": "markdown",
   "metadata": {},
   "source": [
    "Each item of the list contains all records for a given *country* (the column used for groupping):"
   ]
  },
  {
   "cell_type": "code",
   "execution_count": null,
   "metadata": {},
   "outputs": [],
   "source": [
    "print(grouped_history[0])"
   ]
  },
  {
   "cell_type": "markdown",
   "metadata": {},
   "source": [
    "**Question:** what happens if we group by the year column?"
   ]
  },
  {
   "cell_type": "markdown",
   "metadata": {},
   "source": [
    "Based on the groupped *DataFrame*, we select the `PopTotal` *Series* and create a line plot.  \n",
    "First the `Year` column is set as an index to be used for the X axis."
   ]
  },
  {
   "cell_type": "code",
   "execution_count": null,
   "metadata": {},
   "outputs": [],
   "source": [
    "selected_history.set_index('Year', inplace=True, drop=False)\n",
    "selected_history.groupby('Country')['PopTotal'].plot(\n",
    "    kind='line', logy=True, \n",
    "    figsize=[15, 6], legend=True,\n",
    "    title='Population history of 10 selected countries 1950-2019')\n",
    "plt.show()"
   ]
  },
  {
   "cell_type": "markdown",
   "metadata": {},
   "source": [
    "---"
   ]
  },
  {
   "cell_type": "markdown",
   "metadata": {},
   "source": [
    "### Aggregate functions"
   ]
  },
  {
   "cell_type": "markdown",
   "metadata": {},
   "source": [
    "Aggregate functions (`min`, `max`, `mean`, `median`, `sum`, etc.) transforms a group of values to a single value. By calling on aggregate function on a grouped *DataFrame*, the aggregated value of each group is calculated."
   ]
  },
  {
   "cell_type": "markdown",
   "metadata": {},
   "source": [
    "Let's calculate the largest population for each country they ever had between 1950 and 2019."
   ]
  },
  {
   "cell_type": "code",
   "execution_count": null,
   "metadata": {},
   "outputs": [],
   "source": [
    "population_history.groupby('Country').max()"
   ]
  },
  {
   "cell_type": "markdown",
   "metadata": {},
   "source": [
    "Sort the result by the `PopTotal` and only display the `PopTotal`:"
   ]
  },
  {
   "cell_type": "code",
   "execution_count": null,
   "metadata": {},
   "outputs": [],
   "source": [
    "largest_pop = population_history.groupby('Country').max().sort_values(by = 'PopTotal')['PopTotal']\n",
    "display(largest_pop)"
   ]
  },
  {
   "cell_type": "markdown",
   "metadata": {},
   "source": [
    "---"
   ]
  },
  {
   "cell_type": "markdown",
   "metadata": {},
   "source": [
    "## Summary exercises on plotting"
   ]
  },
  {
   "cell_type": "markdown",
   "metadata": {},
   "source": [
    "### Exercise 1"
   ]
  },
  {
   "cell_type": "markdown",
   "metadata": {},
   "source": [
    "**Task:** Use the *World Countries dataset* defined in the `countries` variable. That dataset contained the *region* for each country. Compute for each regio how many countries belong to them. Visualize the results in a pie a chart.\n",
    "\n",
    "*Hint:* use groupping."
   ]
  },
  {
   "cell_type": "code",
   "execution_count": null,
   "metadata": {},
   "outputs": [],
   "source": []
  },
  {
   "cell_type": "markdown",
   "metadata": {},
   "source": [
    "### Exercise 2"
   ]
  },
  {
   "cell_type": "markdown",
   "metadata": {},
   "source": [
    "**Task:** Calculate the accumulated population of the world for each year between 1950 and 2019 based on the *Population History dataset* stored in the `population_history` variable.  \n",
    "Create a bar diagram visualizing how the aggregated population changed over the years."
   ]
  },
  {
   "cell_type": "code",
   "execution_count": null,
   "metadata": {},
   "outputs": [],
   "source": []
  }
 ],
 "metadata": {
  "kernelspec": {
   "display_name": "Python 3",
   "language": "python",
   "name": "python3"
  },
  "language_info": {
   "codemirror_mode": {
    "name": "ipython",
    "version": 3
   },
   "file_extension": ".py",
   "mimetype": "text/x-python",
   "name": "python",
   "nbconvert_exporter": "python",
   "pygments_lexer": "ipython3",
   "version": "3.9.2"
  }
 },
 "nbformat": 4,
 "nbformat_minor": 4
}
