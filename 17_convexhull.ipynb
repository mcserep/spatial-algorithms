{
 "cells": [
  {
   "cell_type": "markdown",
   "metadata": {},
   "source": [
    "# Chapter 17: Geometric algorithms - Convex Hull"
   ]
  },
  {
   "cell_type": "markdown",
   "metadata": {},
   "source": [
    "## Jarvis march\n",
    "\n",
    "![Jarvis march](images/17_jarvis_march.gif \"Source: Wikipedia\")"
   ]
  },
  {
   "cell_type": "markdown",
   "metadata": {},
   "source": [
    "### Orientation\n",
    "\n",
    "Given line *(A, B)* and point *M*, check whether M is left or right from the line, \n",
    "more precisely  whether *A -> B -> M* is a closckwise or counter-clockwise turn?\n",
    "\n",
    "$$det := (Bx - Ax) * (My - Ay) - (By - Ay) * (Mx - Ax)$$\n",
    "\n",
    "- if $det >  0$: counter-clockwise\n",
    "- if $det <  0$: clockwise\n",
    "- if $det = 0$: collinear"
   ]
  },
  {
   "cell_type": "markdown",
   "metadata": {},
   "source": [
    "---"
   ]
  },
  {
   "cell_type": "markdown",
   "metadata": {},
   "source": [
    "## Graham's scan\n",
    "\n",
    "![Graham's scan](images/17_graham_scan.gif \"Source: Wikipedia\")"
   ]
  },
  {
   "cell_type": "markdown",
   "metadata": {},
   "source": [
    "---"
   ]
  },
  {
   "cell_type": "markdown",
   "metadata": {},
   "source": [
    "## Quickhull\n",
    "\n",
    "![Quickhull](images/17_quickhull.gif \"Source: Wikipedia\")"
   ]
  },
  {
   "cell_type": "markdown",
   "metadata": {},
   "source": [
    "---"
   ]
  },
  {
   "cell_type": "markdown",
   "metadata": {},
   "source": [
    "## Chan's algorithm\n",
    "\n",
    "![Chan's algorithm](images/17_chan_algorithm.gif \"Source: Wikipedia\")"
   ]
  },
  {
   "cell_type": "markdown",
   "metadata": {},
   "source": [
    "---"
   ]
  },
  {
   "cell_type": "markdown",
   "metadata": {},
   "source": [
    "## Quickhull with Python"
   ]
  },
  {
   "cell_type": "code",
   "execution_count": null,
   "metadata": {},
   "outputs": [],
   "source": [
    "import geopandas as gpd\n",
    "from scipy.spatial import ConvexHull\n",
    "\n",
    "cities_gdf = gpd.read_file('data/hungary_cities.shp')\n",
    "display(cities_gdf)"
   ]
  },
  {
   "cell_type": "markdown",
   "metadata": {},
   "source": [
    "Fetch points for cities:"
   ]
  },
  {
   "cell_type": "code",
   "execution_count": null,
   "metadata": {},
   "outputs": [],
   "source": [
    "points = [(geom.x, geom.y) for geom in cities_gdf.geometry]\n",
    "print(\"Number of points: {0}\".format(len(points)))"
   ]
  },
  {
   "cell_type": "markdown",
   "metadata": {},
   "source": [
    "Calculate convex hull:"
   ]
  },
  {
   "cell_type": "code",
   "execution_count": null,
   "metadata": {},
   "outputs": [],
   "source": [
    "hull = ConvexHull(points)\n",
    "print(\"Number of vertices on hull: {0}\".format(len(hull.vertices)))\n",
    "print(\"Hull vertices: {0}\".format(hull.vertices))"
   ]
  },
  {
   "cell_type": "markdown",
   "metadata": {},
   "source": [
    "Plot figure:"
   ]
  },
  {
   "cell_type": "code",
   "execution_count": null,
   "metadata": {},
   "outputs": [],
   "source": [
    "import matplotlib.pyplot as plt\n",
    "%matplotlib inline\n",
    "\n",
    "plt.figure(figsize=[15, 10])\n",
    "\n",
    "# Add all points to plot\n",
    "for point in points:\n",
    "    plt.plot(point[0], point[1], color='black', marker='o', markersize=1)\n",
    "\n",
    "# Calculate convex hull linestring\n",
    "line_x = [points[idx][0] for idx in hull.vertices]\n",
    "line_y = [points[idx][1] for idx in hull.vertices]\n",
    "# Add first point of hull to the end, so the linestring will be closed.\n",
    "line_x.append(points[hull.vertices[0]][0]) \n",
    "line_y.append(points[hull.vertices[0]][1]) \n",
    "# Plot linestring\n",
    "plt.plot(line_x, line_y, color='red')\n",
    "  \n",
    "# Display plot\n",
    "plt.show()"
   ]
  }
 ],
 "metadata": {
  "kernelspec": {
   "display_name": "Python 3",
   "language": "python",
   "name": "python3"
  },
  "language_info": {
   "codemirror_mode": {
    "name": "ipython",
    "version": 3
   },
   "file_extension": ".py",
   "mimetype": "text/x-python",
   "name": "python",
   "nbconvert_exporter": "python",
   "pygments_lexer": "ipython3",
   "version": "3.6.9"
  }
 },
 "nbformat": 4,
 "nbformat_minor": 4
}
